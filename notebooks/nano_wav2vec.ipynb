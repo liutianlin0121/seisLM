{
 "cells": [
  {
   "cell_type": "code",
   "execution_count": 1,
   "metadata": {},
   "outputs": [
    {
     "name": "stderr",
     "output_type": "stream",
     "text": [
      "/home/liu0003/miniconda3/envs/seisbench/lib/python3.9/site-packages/tqdm/auto.py:21: TqdmWarning: IProgress not found. Please update jupyter and ipywidgets. See https://ipywidgets.readthedocs.io/en/stable/user_install.html\n",
      "  from .autonotebook import tqdm as notebook_tqdm\n"
     ]
    }
   ],
   "source": [
    "import torch\n",
    "import numpy as np\n",
    "\n",
    "from transformers.models.wav2vec2.modeling_wav2vec2 import _compute_mask_indices, _sample_negative_indices\n",
    "# from datasets import load_dataset\n",
    "from lightning.pytorch import seed_everything\n",
    "from transformers import Wav2Vec2Config\n",
    "import seisbench.data as sbd\n",
    "\n",
    "# from transformers import AutoFeatureExtractor, Wav2Vec2ForPreTraining\n",
    "from transformers import Wav2Vec2ForPreTraining as RefWav2Vec2ForPreTraining\n",
    "from seisLM.model.nano_wav2vec2 import Wav2Vec2ForPreTraining\n",
    "from seisLM.configs.pretrain import pretrain_config\n",
    "\n"
   ]
  },
  {
   "cell_type": "code",
   "execution_count": 2,
   "metadata": {},
   "outputs": [],
   "source": [
    "batch_size = 1\n",
    "sequence_length = 5998\n",
    "G = 2\n",
    "V = 320"
   ]
  },
  {
   "cell_type": "code",
   "execution_count": 8,
   "metadata": {},
   "outputs": [],
   "source": [
    "hidden_states = torch.randn(batch_size, sequence_length * G, V)\n",
    "hidden_states = hidden_states.view(\n",
    "  batch_size * sequence_length * G, -1\n",
    ")"
   ]
  },
  {
   "cell_type": "code",
   "execution_count": 20,
   "metadata": {},
   "outputs": [
    {
     "data": {
      "text/plain": [
       "torch.Size([11996, 1])"
      ]
     },
     "execution_count": 20,
     "metadata": {},
     "output_type": "execute_result"
    }
   ],
   "source": [
    "hidden_states.argmax(dim=-1, keepdim=True).shape"
   ]
  },
  {
   "cell_type": "code",
   "execution_count": 27,
   "metadata": {},
   "outputs": [
    {
     "data": {
      "text/plain": [
       "torch.Size([5998, 640])"
      ]
     },
     "execution_count": 27,
     "metadata": {},
     "output_type": "execute_result"
    }
   ],
   "source": [
    "import einops\n",
    "\n",
    "codevector_idx = hidden_states.argmax(dim=-1)\n",
    "\n",
    "# codevector_probs: [batch_size * sequence_length * G, V]\n",
    "\n",
    "# hidden_states: [batch_size * sequence_length * G, V]\n",
    "\n",
    "codevector_probs = hidden_states.new_zeros(hidden_states.shape).scatter_(\n",
    "  -1, codevector_idx.view(-1, 1), 1.0\n",
    ")\n",
    "\n",
    "codevector_probs = einops.rearrange(\n",
    "  codevector_probs, '(b l g) v -> (b l) g v',\n",
    "  b=batch_size,\n",
    "  l=sequence_length,\n",
    "  g=G\n",
    ")\n",
    "\n",
    "\n",
    "\n",
    "codevector_probs = codevector_probs.view(batch_size * sequence_length, -1)\n",
    "codevector_probs.shape"
   ]
  },
  {
   "cell_type": "code",
   "execution_count": 33,
   "metadata": {},
   "outputs": [],
   "source": [
    "codevector_dim = 240\n",
    "\n",
    "codevectors = torch.rand((1, G * V,\n",
    "  codevector_dim // G)\n",
    ")"
   ]
  },
  {
   "cell_type": "code",
   "execution_count": 22,
   "metadata": {},
   "outputs": [
    {
     "data": {
      "text/plain": [
       "torch.Size([11996, 320])"
      ]
     },
     "execution_count": 22,
     "metadata": {},
     "output_type": "execute_result"
    }
   ],
   "source": [
    "codevector_probs.unsqueeze(-1) * self.codevectors"
   ]
  },
  {
   "cell_type": "code",
   "execution_count": 14,
   "metadata": {},
   "outputs": [
    {
     "data": {
      "text/plain": [
       "torch.Size([11996, 320])"
      ]
     },
     "execution_count": 14,
     "metadata": {},
     "output_type": "execute_result"
    }
   ],
   "source": [
    "codevector_probs.shape"
   ]
  },
  {
   "cell_type": "code",
   "execution_count": null,
   "metadata": {},
   "outputs": [],
   "source": []
  },
  {
   "cell_type": "code",
   "execution_count": 5,
   "metadata": {},
   "outputs": [
    {
     "name": "stderr",
     "output_type": "stream",
     "text": [
      "2024-06-13 13:41:25,698 | seisbench | WARNING | Component order not specified, defaulting to 'ZNE'.\n"
     ]
    }
   ],
   "source": [
    "data = sbd.STEAD()\n",
    "waveforms = data.get_waveforms(1265656)\n",
    "input_values = torch.Tensor(waveforms[0]).unsqueeze(0)\n",
    "batch_size, raw_sequence_length = input_values.shape"
   ]
  },
  {
   "cell_type": "code",
   "execution_count": 9,
   "metadata": {},
   "outputs": [
    {
     "data": {
      "text/plain": [
       "False"
      ]
     },
     "execution_count": 9,
     "metadata": {},
     "output_type": "execute_result"
    }
   ],
   "source": [
    "# config = pretrain_config.get_model_config()\n",
    "\n",
    "# import ml_collections\n",
    "# from typing import Any, List\n",
    "\n",
    "# isinstance(config, List)\n",
    "\n",
    "# isinstance(config, ml_collections.ConfigDict)"
   ]
  },
  {
   "cell_type": "code",
   "execution_count": 10,
   "metadata": {},
   "outputs": [
    {
     "name": "stderr",
     "output_type": "stream",
     "text": [
      "Seed set to 0\n",
      "Seed set to 0\n"
     ]
    }
   ],
   "source": [
    "\n",
    "ref_model = RefWav2Vec2ForPreTraining(config)\n",
    "nano_model = Wav2Vec2ForPreTraining(config)\n",
    "nano_model.load_state_dict(ref_model.state_dict())\n",
    "\n",
    "model_dict = {'ref_model': ref_model, 'nano_model': nano_model}\n",
    "output_dict = {}\n",
    "for model_name, model in model_dict.items():\n",
    "  sequence_length = model._get_feat_extract_output_lengths(raw_sequence_length).item()\n",
    "\n",
    "  seed_everything(0)\n",
    "  mask_time_indices = _compute_mask_indices(\n",
    "      shape=(batch_size, sequence_length), mask_prob=0.2, mask_length=2\n",
    "  )\n",
    "  sampled_negative_indices = _sample_negative_indices(\n",
    "      features_shape=(batch_size, sequence_length),\n",
    "      num_negatives=model.config.num_negatives,\n",
    "      mask_time_indices=mask_time_indices,\n",
    "  )\n",
    "  mask_time_indices = torch.tensor(data=mask_time_indices, device=input_values.device, dtype=torch.long)\n",
    "  sampled_negative_indices = torch.tensor(\n",
    "      data=sampled_negative_indices, device=input_values.device, dtype=torch.long\n",
    "  )\n",
    "\n",
    "  with torch.no_grad():\n",
    "    outputs = model(input_values, mask_time_indices=mask_time_indices,\n",
    "                    sampled_negative_indices=sampled_negative_indices)\n",
    "  output_dict[model_name] = outputs\n"
   ]
  },
  {
   "cell_type": "code",
   "execution_count": 2,
   "metadata": {},
   "outputs": [
    {
     "ename": "NameError",
     "evalue": "name 'config' is not defined",
     "output_type": "error",
     "traceback": [
      "\u001b[0;31m---------------------------------------------------------------------------\u001b[0m",
      "\u001b[0;31mNameError\u001b[0m                                 Traceback (most recent call last)",
      "Cell \u001b[0;32mIn[2], line 3\u001b[0m\n\u001b[1;32m      1\u001b[0m \u001b[38;5;28;01mimport\u001b[39;00m \u001b[38;5;21;01mml_collections\u001b[39;00m\n\u001b[0;32m----> 3\u001b[0m \u001b[38;5;28misinstance\u001b[39m(\u001b[43mconfig\u001b[49m, ml_collections\u001b[38;5;241m.\u001b[39mConfigDict) \n",
      "\u001b[0;31mNameError\u001b[0m: name 'config' is not defined"
     ]
    }
   ],
   "source": []
  },
  {
   "cell_type": "code",
   "execution_count": 12,
   "metadata": {},
   "outputs": [
    {
     "name": "stdout",
     "output_type": "stream",
     "text": [
      "loss\n",
      "projected_states\n",
      "projected_quantized_states\n",
      "codevector_perplexity\n",
      "contrastive_loss\n",
      "diversity_loss\n"
     ]
    }
   ],
   "source": [
    "for field in output_dict['ref_model']:\n",
    "  print(field)\n",
    "  value1 = getattr(output_dict['ref_model'], field)\n",
    "  value2 = getattr(output_dict['nano_model'], field)\n",
    "  assert np.allclose(value1.cpu().numpy(), value2.cpu().numpy())"
   ]
  }
 ],
 "metadata": {
  "kernelspec": {
   "display_name": "seisbench",
   "language": "python",
   "name": "python3"
  },
  "language_info": {
   "codemirror_mode": {
    "name": "ipython",
    "version": 3
   },
   "file_extension": ".py",
   "mimetype": "text/x-python",
   "name": "python",
   "nbconvert_exporter": "python",
   "pygments_lexer": "ipython3",
   "version": "3.9.19"
  }
 },
 "nbformat": 4,
 "nbformat_minor": 2
}
