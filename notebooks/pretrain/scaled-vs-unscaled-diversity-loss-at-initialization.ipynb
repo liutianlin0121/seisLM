{
 "cells": [
  {
   "cell_type": "code",
   "execution_count": 1,
   "metadata": {},
   "outputs": [],
   "source": [
    "import json\n",
    "import os\n",
    "import ml_collections\n",
    "import torch\n",
    "import numpy as np\n",
    "from lightning.pytorch import seed_everything\n",
    "from seisLM.model.foundation.pretrained_models import LitMultiDimWav2Vec2\n",
    "from seisLM.data_pipeline import collator\n",
    "from seisLM.data_pipeline import pretrain_dataloaders as dataloaders\n",
    "import matplotlib.pyplot as plt\n",
    "import tqdm\n",
    "from collections import defaultdict\n",
    "\n",
    "DEFAULT_NUM_WORKERS = 4\n",
    "\n",
    "config_path = '/scicore/home/dokman0000/liu0003/projects/seisLM/seisLM/configs/pretrain/pretrain_config_layernorm_std_small_batch_6_datasets.json'\n",
    "\n",
    "def get_loaders(config_path):\n",
    "\n",
    "  with open(config_path, \"r\", encoding=\"utf-8\") as f:\n",
    "    config = json.load(f)\n",
    "  config = ml_collections.ConfigDict(config)\n",
    "  config.data_config.local_batch_size = 16\n",
    "\n",
    "  seed_everything(config.seed)\n",
    "  model = LitMultiDimWav2Vec2(config)\n",
    "\n",
    "\n",
    "  data_collator = \\\n",
    "    collator.DataCollatorForWav2Vec2PretrainingConcatChannelsNoPadding(\n",
    "        config=config.model_config,\n",
    "        mask_time_prob=config.training_config.mask_time_prob,\n",
    "        mask_time_length=config.training_config.mask_time_length,\n",
    "  )\n",
    "\n",
    "  config.data_config.num_workers = int(\n",
    "      os.environ.get('SLURM_CPUS_PER_TASK', DEFAULT_NUM_WORKERS)\n",
    "  )\n",
    "\n",
    "  seed_everything(42)\n",
    "  train_loader, dev_loader = dataloaders.prepare_pretrain_dataloaders(\n",
    "    model=model,\n",
    "    training_fraction=config.data_config.training_fraction,\n",
    "    data_names=['ETHZ'],\n",
    "    missing_components='copy',\n",
    "    batch_size=config.data_config.local_batch_size,\n",
    "    num_workers=config.data_config.num_workers,\n",
    "    prefetch_factor=config.data_config.prefetch_factor,\n",
    "    collator=data_collator,\n",
    "    cache=config.data_config.cache_dataset,\n",
    "  )\n",
    "  return train_loader, dev_loader['ETHZ']"
   ]
  },
  {
   "cell_type": "code",
   "execution_count": 2,
   "metadata": {},
   "outputs": [
    {
     "name": "stderr",
     "output_type": "stream",
     "text": [
      "Seed set to 42\n",
      "Seed set to 42\n",
      "Seed set to 42\n",
      "Seed set to 42\n",
      "2024-08-23 00:37:42,718 | seisbench | WARNING | Check available storage and memory before downloading and general use of ETHZ dataset. Dataset size: waveforms.hdf5 ~22Gb, metadata.csv ~13Mb\n",
      "WARNING:seisbench:Check available storage and memory before downloading and general use of ETHZ dataset. Dataset size: waveforms.hdf5 ~22Gb, metadata.csv ~13Mb\n"
     ]
    }
   ],
   "source": [
    "train_loader, dev_loader = get_loaders(config_path)"
   ]
  },
  {
   "cell_type": "code",
   "execution_count": 3,
   "metadata": {},
   "outputs": [],
   "source": [
    "with open(config_path, \"r\", encoding=\"utf-8\") as f:\n",
    "  config = json.load(f)\n",
    "\n",
    "config = ml_collections.ConfigDict(config)\n",
    "config.data_config.local_batch_size = 16\n"
   ]
  },
  {
   "cell_type": "code",
   "execution_count": 12,
   "metadata": {},
   "outputs": [
    {
     "name": "stderr",
     "output_type": "stream",
     "text": [
      "Seed set to 42\n"
     ]
    },
    {
     "name": "stdout",
     "output_type": "stream",
     "text": [
      "Scale logits: True\n",
      "model.model.quantizer False\n"
     ]
    },
    {
     "name": "stderr",
     "output_type": "stream",
     "text": [
      "Processing:  19%|█▉        | 44/227 [00:06<00:28,  6.45it/s, div_loss=3.21e-5]\n"
     ]
    },
    {
     "ename": "KeyboardInterrupt",
     "evalue": "",
     "output_type": "error",
     "traceback": [
      "\u001b[0;31m---------------------------------------------------------------------------\u001b[0m",
      "\u001b[0;31mKeyboardInterrupt\u001b[0m                         Traceback (most recent call last)",
      "Cell \u001b[0;32mIn[12], line 34\u001b[0m\n\u001b[1;32m     32\u001b[0m \u001b[38;5;28;01mwith\u001b[39;00m torch\u001b[38;5;241m.\u001b[39mno_grad():\n\u001b[1;32m     33\u001b[0m   num_losses \u001b[38;5;241m=\u001b[39m batch[\u001b[38;5;124m\"\u001b[39m\u001b[38;5;124mmask_time_indices\u001b[39m\u001b[38;5;124m\"\u001b[39m]\u001b[38;5;241m.\u001b[39msum()\u001b[38;5;241m.\u001b[39mfloat()\n\u001b[0;32m---> 34\u001b[0m   output \u001b[38;5;241m=\u001b[39m \u001b[43mmodel\u001b[49m\u001b[38;5;241;43m.\u001b[39;49m\u001b[43mmodel\u001b[49m\u001b[43m(\u001b[49m\u001b[38;5;241;43m*\u001b[39;49m\u001b[38;5;241;43m*\u001b[39;49m\u001b[43mbatch\u001b[49m\u001b[43m)\u001b[49m\n\u001b[1;32m     35\u001b[0m   total_diversity_loss \u001b[38;5;241m+\u001b[39m\u001b[38;5;241m=\u001b[39m output\u001b[38;5;241m.\u001b[39mdiversity_loss\n\u001b[1;32m     36\u001b[0m   total_num_losses \u001b[38;5;241m+\u001b[39m\u001b[38;5;241m=\u001b[39m num_losses\n",
      "File \u001b[0;32m~/anaconda3/envs/seisbench/lib/python3.9/site-packages/torch/nn/modules/module.py:1532\u001b[0m, in \u001b[0;36mModule._wrapped_call_impl\u001b[0;34m(self, *args, **kwargs)\u001b[0m\n\u001b[1;32m   1530\u001b[0m     \u001b[38;5;28;01mreturn\u001b[39;00m \u001b[38;5;28mself\u001b[39m\u001b[38;5;241m.\u001b[39m_compiled_call_impl(\u001b[38;5;241m*\u001b[39margs, \u001b[38;5;241m*\u001b[39m\u001b[38;5;241m*\u001b[39mkwargs)  \u001b[38;5;66;03m# type: ignore[misc]\u001b[39;00m\n\u001b[1;32m   1531\u001b[0m \u001b[38;5;28;01melse\u001b[39;00m:\n\u001b[0;32m-> 1532\u001b[0m     \u001b[38;5;28;01mreturn\u001b[39;00m \u001b[38;5;28;43mself\u001b[39;49m\u001b[38;5;241;43m.\u001b[39;49m\u001b[43m_call_impl\u001b[49m\u001b[43m(\u001b[49m\u001b[38;5;241;43m*\u001b[39;49m\u001b[43margs\u001b[49m\u001b[43m,\u001b[49m\u001b[43m \u001b[49m\u001b[38;5;241;43m*\u001b[39;49m\u001b[38;5;241;43m*\u001b[39;49m\u001b[43mkwargs\u001b[49m\u001b[43m)\u001b[49m\n",
      "File \u001b[0;32m~/anaconda3/envs/seisbench/lib/python3.9/site-packages/torch/nn/modules/module.py:1541\u001b[0m, in \u001b[0;36mModule._call_impl\u001b[0;34m(self, *args, **kwargs)\u001b[0m\n\u001b[1;32m   1536\u001b[0m \u001b[38;5;66;03m# If we don't have any hooks, we want to skip the rest of the logic in\u001b[39;00m\n\u001b[1;32m   1537\u001b[0m \u001b[38;5;66;03m# this function, and just call forward.\u001b[39;00m\n\u001b[1;32m   1538\u001b[0m \u001b[38;5;28;01mif\u001b[39;00m \u001b[38;5;129;01mnot\u001b[39;00m (\u001b[38;5;28mself\u001b[39m\u001b[38;5;241m.\u001b[39m_backward_hooks \u001b[38;5;129;01mor\u001b[39;00m \u001b[38;5;28mself\u001b[39m\u001b[38;5;241m.\u001b[39m_backward_pre_hooks \u001b[38;5;129;01mor\u001b[39;00m \u001b[38;5;28mself\u001b[39m\u001b[38;5;241m.\u001b[39m_forward_hooks \u001b[38;5;129;01mor\u001b[39;00m \u001b[38;5;28mself\u001b[39m\u001b[38;5;241m.\u001b[39m_forward_pre_hooks\n\u001b[1;32m   1539\u001b[0m         \u001b[38;5;129;01mor\u001b[39;00m _global_backward_pre_hooks \u001b[38;5;129;01mor\u001b[39;00m _global_backward_hooks\n\u001b[1;32m   1540\u001b[0m         \u001b[38;5;129;01mor\u001b[39;00m _global_forward_hooks \u001b[38;5;129;01mor\u001b[39;00m _global_forward_pre_hooks):\n\u001b[0;32m-> 1541\u001b[0m     \u001b[38;5;28;01mreturn\u001b[39;00m \u001b[43mforward_call\u001b[49m\u001b[43m(\u001b[49m\u001b[38;5;241;43m*\u001b[39;49m\u001b[43margs\u001b[49m\u001b[43m,\u001b[49m\u001b[43m \u001b[49m\u001b[38;5;241;43m*\u001b[39;49m\u001b[38;5;241;43m*\u001b[39;49m\u001b[43mkwargs\u001b[49m\u001b[43m)\u001b[49m\n\u001b[1;32m   1543\u001b[0m \u001b[38;5;28;01mtry\u001b[39;00m:\n\u001b[1;32m   1544\u001b[0m     result \u001b[38;5;241m=\u001b[39m \u001b[38;5;28;01mNone\u001b[39;00m\n",
      "File \u001b[0;32m~/projects/seisLM/seisLM/model/foundation/multidim_wav2vec2.py:304\u001b[0m, in \u001b[0;36mMultiDimWav2Vec2ForPreTraining.forward\u001b[0;34m(self, input_values, attention_mask, mask_time_indices, sampled_negative_indices, output_attentions, output_hidden_states)\u001b[0m\n\u001b[1;32m    299\u001b[0m \u001b[38;5;66;03m# 5. if a negative vector is identical to the positive\u001b[39;00m\n\u001b[1;32m    300\u001b[0m \u001b[38;5;66;03m# (i.e. when codebook utilization is low),\u001b[39;00m\n\u001b[1;32m    301\u001b[0m \u001b[38;5;66;03m# its cosine similarity will be masked\u001b[39;00m\n\u001b[1;32m    302\u001b[0m neg_is_pos \u001b[38;5;241m=\u001b[39m (quantized_features \u001b[38;5;241m==\u001b[39m negative_quantized_features)\u001b[38;5;241m.\u001b[39mall(\u001b[38;5;241m-\u001b[39m\u001b[38;5;241m1\u001b[39m)\n\u001b[0;32m--> 304\u001b[0m \u001b[38;5;28;01mif\u001b[39;00m neg_is_pos\u001b[38;5;241m.\u001b[39many():\n\u001b[1;32m    305\u001b[0m     logits[\u001b[38;5;241m1\u001b[39m:][neg_is_pos] \u001b[38;5;241m=\u001b[39m \u001b[38;5;28mfloat\u001b[39m(\u001b[38;5;124m\"\u001b[39m\u001b[38;5;124m-inf\u001b[39m\u001b[38;5;124m\"\u001b[39m)\n\u001b[1;32m    307\u001b[0m \u001b[38;5;66;03m# 6. compute contrastive loss \\mathbf{L}_m = cross_entropy(logs) =\u001b[39;00m\n\u001b[1;32m    308\u001b[0m \u001b[38;5;66;03m# -log(exp(sim(c_t, q_t)/\\kappa) / \\sum_{\\sim{q}} exp(sim(c_t, \\sim{q})/\\kappa))\u001b[39;00m\n",
      "\u001b[0;31mKeyboardInterrupt\u001b[0m: "
     ]
    }
   ],
   "source": [
    "div_loss_unscaled = {}\n",
    "div_loss_scaled = {}\n",
    "\n",
    "for scale_logits in [True, False]:\n",
    "\n",
    "  print(f\"Scale logits: {scale_logits}\")\n",
    "  config.model_config.scale_logits_in_quantization = scale_logits\n",
    "\n",
    "  for last_conv_dim in [1, 2, 4, 8, 16, 32, 64, 128]:\n",
    "    config.model_config.conv_dim[-1] = last_conv_dim\n",
    "    seed_everything(config.seed)\n",
    "    model = LitMultiDimWav2Vec2(config)\n",
    "    model = model.train()\n",
    "    model.to('cuda');\n",
    "\n",
    "    # if scale_logits:\n",
    "    #   model.model.set_gumbel_temperature(2 / last_conv_dim)\n",
    "    # else:\n",
    "    #   model.model.set_gumbel_temperature(2)\n",
    "\n",
    "    print('model.model.quantizer', model.model.quantizer.scale_logits_in_quantization)\n",
    "\n",
    "    total_diversity_loss = 0\n",
    "    total_num_losses = 0\n",
    "\n",
    "    # Initialize the tqdm progress bar\n",
    "    progress_bar = tqdm.tqdm(dev_loader, desc=\"Processing\", postfix={'div_loss': 0.0})\n",
    "\n",
    "    for batch in progress_bar:\n",
    "      batch = {k: v.to(model.device) for k, v in batch.items()}\n",
    "      with torch.no_grad():\n",
    "        num_losses = batch[\"mask_time_indices\"].sum().float()\n",
    "        output = model.model(**batch)\n",
    "        total_diversity_loss += output.diversity_loss\n",
    "        total_num_losses += num_losses\n",
    "\n",
    "        # Calculate the current average diversity loss\n",
    "        diversity_loss = total_diversity_loss / total_num_losses\n",
    "\n",
    "        # Update the progress bar with the current diversity loss\n",
    "        progress_bar.set_postfix({'div_loss': diversity_loss.item()})\n",
    "\n",
    "    # Final diversity loss\n",
    "    diversity_loss = total_diversity_loss / total_num_losses\n",
    "    if scale_logits:\n",
    "      div_loss_scaled[last_conv_dim] = diversity_loss.item()\n",
    "    else:\n",
    "      div_loss_unscaled[last_conv_dim] = diversity_loss.item()\n",
    "    print(f\"Final diversity_loss: {diversity_loss}\")"
   ]
  },
  {
   "cell_type": "code",
   "execution_count": null,
   "metadata": {},
   "outputs": [],
   "source": []
  },
  {
   "cell_type": "code",
   "execution_count": null,
   "metadata": {},
   "outputs": [],
   "source": []
  },
  {
   "cell_type": "code",
   "execution_count": null,
   "metadata": {},
   "outputs": [],
   "source": []
  },
  {
   "cell_type": "code",
   "execution_count": null,
   "metadata": {},
   "outputs": [],
   "source": []
  },
  {
   "cell_type": "code",
   "execution_count": null,
   "metadata": {},
   "outputs": [],
   "source": []
  },
  {
   "cell_type": "code",
   "execution_count": null,
   "metadata": {},
   "outputs": [],
   "source": []
  },
  {
   "cell_type": "code",
   "execution_count": null,
   "metadata": {},
   "outputs": [],
   "source": []
  },
  {
   "cell_type": "code",
   "execution_count": null,
   "metadata": {},
   "outputs": [],
   "source": []
  },
  {
   "cell_type": "code",
   "execution_count": null,
   "metadata": {},
   "outputs": [],
   "source": []
  }
 ],
 "metadata": {
  "kernelspec": {
   "display_name": "seisbench",
   "language": "python",
   "name": "python3"
  },
  "language_info": {
   "codemirror_mode": {
    "name": "ipython",
    "version": 3
   },
   "file_extension": ".py",
   "mimetype": "text/x-python",
   "name": "python",
   "nbconvert_exporter": "python",
   "pygments_lexer": "ipython3",
   "version": "3.9.19"
  }
 },
 "nbformat": 4,
 "nbformat_minor": 2
}
