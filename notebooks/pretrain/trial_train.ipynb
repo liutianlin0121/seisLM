{
 "cells": [
  {
   "cell_type": "code",
   "execution_count": 1,
   "metadata": {},
   "outputs": [],
   "source": [
    "import traceback\n",
    "import os\n",
    "import json\n",
    "import time\n",
    "import ml_collections\n",
    "import lightning as L\n",
    "import torch\n",
    "from lightning.pytorch.callbacks import ModelCheckpoint, LearningRateMonitor\n",
    "from lightning.pytorch import seed_everything\n",
    "from lightning.pytorch.loggers import WandbLogger\n",
    "from seisLM.model.foundation.pretrained_models import LitMultiDimWav2Vec2\n",
    "from seisLM.data_pipeline import collator\n",
    "from seisLM.data_pipeline import seisbench_dataloaders as dataloaders\n",
    "from seisLM.utils import project_path\n",
    "from seisLM.utils.wandb_utils import shutdown_cleanup_thread\n",
    "from seisLM.utils.config_utils import TrackedConfig"
   ]
  },
  {
   "cell_type": "code",
   "execution_count": null,
   "metadata": {},
   "outputs": [
    {
     "name": "stdout",
     "output_type": "stream",
     "text": [
      "Running in test mode\n"
     ]
    }
   ],
   "source": [
    "config_path = '/scicore/home/dokman0000/liu0003/projects/seisLM/seisLM/configs/pretrain/pretrain_config.json'\n",
    "\n",
    "with open(config_path, \"r\", encoding=\"utf-8\") as f:\n",
    "  config = json.load(f)\n",
    "config = ml_collections.ConfigDict(config)\n",
    "config = TrackedConfig(config)\n",
    "\n",
    "DEFAULT_NUM_WORKERS = 8\n",
    "\n",
    "print(\"Running in test mode\")\n",
    "config.training_config.max_epochs = 1\n",
    "config.data_config.data_name = ['ETHZ']\n",
    "config.data_config.local_batch_size = 8\n",
    "project_name = \"test_pretrained_seisLM\"\n",
    "\n"
   ]
  },
  {
   "cell_type": "code",
   "execution_count": null,
   "metadata": {},
   "outputs": [
    {
     "data": {
      "text/plain": [
       "{'data_config', 'training_config'}"
      ]
     },
     "execution_count": 6,
     "metadata": {},
     "output_type": "execute_result"
    }
   ],
   "source": [
    "config.get_accessed_keys()"
   ]
  },
  {
   "cell_type": "code",
   "execution_count": 6,
   "metadata": {},
   "outputs": [
    {
     "name": "stdout",
     "output_type": "stream",
     "text": [
      "None\n"
     ]
    },
    {
     "ename": "AttributeError",
     "evalue": "'NoneType' object has no attribute 'string_field'",
     "output_type": "error",
     "traceback": [
      "\u001b[0;31m---------------------------------------------------------------------------\u001b[0m",
      "\u001b[0;31mAttributeError\u001b[0m                            Traceback (most recent call last)",
      "Cell \u001b[0;32mIn[6], line 57\u001b[0m\n\u001b[1;32m     55\u001b[0m tracking_cfg \u001b[38;5;241m=\u001b[39m TrackedConfig(cfg)\n\u001b[1;32m     56\u001b[0m \u001b[38;5;28mprint\u001b[39m(tracking_cfg\u001b[38;5;241m.\u001b[39mfloat_field)  \u001b[38;5;66;03m# Access float_field\u001b[39;00m\n\u001b[0;32m---> 57\u001b[0m \u001b[38;5;28mprint\u001b[39m(\u001b[43mtracking_cfg\u001b[49m\u001b[38;5;241;43m.\u001b[39;49m\u001b[43mnested\u001b[49m\u001b[38;5;241;43m.\u001b[39;49m\u001b[43mstring_field\u001b[49m)  \u001b[38;5;66;03m# Access nested.string_field\u001b[39;00m\n\u001b[1;32m     59\u001b[0m \u001b[38;5;66;03m# the output here should be cfg.integer_field, cfg.another_integer_field, and cfg.nested.string_field2.\u001b[39;00m\n\u001b[1;32m     60\u001b[0m \u001b[38;5;28mprint\u001b[39m(\u001b[38;5;124m'\u001b[39m\u001b[38;5;124munaccessed\u001b[39m\u001b[38;5;124m'\u001b[39m, tracking_cfg\u001b[38;5;241m.\u001b[39mget_unaccessed_keys())\n",
      "\u001b[0;31mAttributeError\u001b[0m: 'NoneType' object has no attribute 'string_field'"
     ]
    }
   ],
   "source": [
    "from ml_collections import config_dict\n",
    "\n",
    "# class TrackedConfig:\n",
    "#     def __init__(self, config):\n",
    "#         self.config = config\n",
    "#         self.accessed_keys = set()\n",
    "\n",
    "#     def __getattr__(self, key):\n",
    "#         if key in self.config:\n",
    "#             self.accessed_keys.add(key)\n",
    "#             return self.config[key]\n",
    "#         else:\n",
    "#             raise AttributeError(f\"Config has no attribute '{key}'\")\n",
    "\n",
    "#     def get_accessed_fields(self):\n",
    "#         return self.accessed_keys\n",
    "\n",
    "#     def get_unaccessed_fields(self):\n",
    "#         return set(self.config.keys()) - self.accessed_keys\n",
    "\n",
    "import copy\n",
    "from ml_collections import config_dict\n",
    "\n",
    "\n",
    "class TrackedConfig:\n",
    "    def __init__(self, config):\n",
    "        self.config = config\n",
    "        self.unaccessed = copy.deepcopy(config)\n",
    "\n",
    "    def __getattr__(self, key):\n",
    "      self.config.__getattr__(key)\n",
    "      self.unaccessed.__delattr__(key)\n",
    "        # if key in self.config:\n",
    "            # self.accessed_keys.add(key)\n",
    "            # return self.config[key]\n",
    "        # else:\n",
    "            # raise AttributeError(f\"Config has no attribute '{key}'\")\n",
    "    # def get_accessed_keys(self):\n",
    "    #     return self.accessed_keys\n",
    "\n",
    "    def get_unaccessed_keys(self):\n",
    "        return self.unaccessed #set(self.config.keys()) - self.accessed_keys\n",
    "\n",
    "\n",
    "\n",
    "# Example usage\n",
    "cfg = config_dict.ConfigDict()\n",
    "cfg.float_field = 12.6\n",
    "cfg.integer_field = 123\n",
    "cfg.another_integer_field = 234\n",
    "cfg.nested = config_dict.ConfigDict()\n",
    "cfg.nested.string_field = 'tom'\n",
    "cfg.nested.string_field2 = 'jerry'\n",
    "\n",
    "tracking_cfg = TrackedConfig(cfg)\n",
    "print(tracking_cfg.float_field)  # Access float_field\n",
    "print(tracking_cfg.nested.string_field)  # Access nested.string_field\n",
    "\n",
    "# the output here should be cfg.integer_field, cfg.another_integer_field, and cfg.nested.string_field2.\n",
    "print('unaccessed', tracking_cfg.get_unaccessed_keys())\n"
   ]
  },
  {
   "cell_type": "code",
   "execution_count": 10,
   "metadata": {},
   "outputs": [
    {
     "data": {
      "text/plain": [
       "<__main__.TrackedConfig at 0x7ff706ba1580>"
      ]
     },
     "execution_count": 10,
     "metadata": {},
     "output_type": "execute_result"
    }
   ],
   "source": [
    "tracking_cfg"
   ]
  },
  {
   "cell_type": "code",
   "execution_count": 7,
   "metadata": {},
   "outputs": [
    {
     "ename": "AttributeError",
     "evalue": "\"'nested'\"",
     "output_type": "error",
     "traceback": [
      "\u001b[0;31m---------------------------------------------------------------------------\u001b[0m",
      "\u001b[0;31mKeyError\u001b[0m                                  Traceback (most recent call last)",
      "File \u001b[0;32m~/anaconda3/envs/seisbench/lib/python3.9/site-packages/ml_collections/config_dict/config_dict.py:891\u001b[0m, in \u001b[0;36mConfigDict.__delitem__\u001b[0;34m(self, key)\u001b[0m\n\u001b[1;32m    890\u001b[0m \u001b[38;5;28;01mtry\u001b[39;00m:\n\u001b[0;32m--> 891\u001b[0m   \u001b[38;5;28;01mdel\u001b[39;00m \u001b[38;5;28mself\u001b[39m\u001b[38;5;241m.\u001b[39m_fields[key]\n\u001b[1;32m    892\u001b[0m \u001b[38;5;28;01mexcept\u001b[39;00m \u001b[38;5;167;01mKeyError\u001b[39;00m \u001b[38;5;28;01mas\u001b[39;00m e:\n",
      "\u001b[0;31mKeyError\u001b[0m: 'nested'",
      "\nDuring handling of the above exception, another exception occurred:\n",
      "\u001b[0;31mKeyError\u001b[0m                                  Traceback (most recent call last)",
      "File \u001b[0;32m~/anaconda3/envs/seisbench/lib/python3.9/site-packages/ml_collections/config_dict/config_dict.py:821\u001b[0m, in \u001b[0;36mConfigDict.__delattr__\u001b[0;34m(self, attribute)\u001b[0m\n\u001b[1;32m    820\u001b[0m   \u001b[38;5;28mself\u001b[39m\u001b[38;5;241m.\u001b[39m_ensure_mutability(attribute)\n\u001b[0;32m--> 821\u001b[0m   \u001b[38;5;28;01mdel\u001b[39;00m \u001b[38;5;28mself\u001b[39m[attribute]\n\u001b[1;32m    822\u001b[0m \u001b[38;5;28;01mexcept\u001b[39;00m \u001b[38;5;167;01mKeyError\u001b[39;00m \u001b[38;5;28;01mas\u001b[39;00m e:\n",
      "File \u001b[0;32m~/anaconda3/envs/seisbench/lib/python3.9/site-packages/ml_collections/config_dict/config_dict.py:893\u001b[0m, in \u001b[0;36mConfigDict.__delitem__\u001b[0;34m(self, key)\u001b[0m\n\u001b[1;32m    892\u001b[0m \u001b[38;5;28;01mexcept\u001b[39;00m \u001b[38;5;167;01mKeyError\u001b[39;00m \u001b[38;5;28;01mas\u001b[39;00m e:\n\u001b[0;32m--> 893\u001b[0m   \u001b[38;5;28;01mraise\u001b[39;00m \u001b[38;5;167;01mKeyError\u001b[39;00m(\u001b[38;5;28mself\u001b[39m\u001b[38;5;241m.\u001b[39m_generate_did_you_mean_message(key, \u001b[38;5;28mstr\u001b[39m(e)))\n",
      "\u001b[0;31mKeyError\u001b[0m: \"'nested'\"",
      "\nDuring handling of the above exception, another exception occurred:\n",
      "\u001b[0;31mAttributeError\u001b[0m                            Traceback (most recent call last)",
      "Cell \u001b[0;32mIn[7], line 1\u001b[0m\n\u001b[0;32m----> 1\u001b[0m \u001b[43mtracking_cfg\u001b[49m\u001b[38;5;241;43m.\u001b[39;49m\u001b[43mnested\u001b[49m\n",
      "Cell \u001b[0;32mIn[6], line 32\u001b[0m, in \u001b[0;36mTrackedConfig.__getattr__\u001b[0;34m(self, key)\u001b[0m\n\u001b[1;32m     30\u001b[0m \u001b[38;5;28;01mdef\u001b[39;00m \u001b[38;5;21m__getattr__\u001b[39m(\u001b[38;5;28mself\u001b[39m, key):\n\u001b[1;32m     31\u001b[0m   \u001b[38;5;28mself\u001b[39m\u001b[38;5;241m.\u001b[39mconfig\u001b[38;5;241m.\u001b[39m\u001b[38;5;21m__getattr__\u001b[39m(key)\n\u001b[0;32m---> 32\u001b[0m   \u001b[38;5;28;43mself\u001b[39;49m\u001b[38;5;241;43m.\u001b[39;49m\u001b[43munaccessed\u001b[49m\u001b[38;5;241;43m.\u001b[39;49m\u001b[38;5;21;43m__delattr__\u001b[39;49m\u001b[43m(\u001b[49m\u001b[43mkey\u001b[49m\u001b[43m)\u001b[49m\n",
      "File \u001b[0;32m~/anaconda3/envs/seisbench/lib/python3.9/site-packages/ml_collections/config_dict/config_dict.py:823\u001b[0m, in \u001b[0;36mConfigDict.__delattr__\u001b[0;34m(self, attribute)\u001b[0m\n\u001b[1;32m    821\u001b[0m   \u001b[38;5;28;01mdel\u001b[39;00m \u001b[38;5;28mself\u001b[39m[attribute]\n\u001b[1;32m    822\u001b[0m \u001b[38;5;28;01mexcept\u001b[39;00m \u001b[38;5;167;01mKeyError\u001b[39;00m \u001b[38;5;28;01mas\u001b[39;00m e:\n\u001b[0;32m--> 823\u001b[0m   \u001b[38;5;28;01mraise\u001b[39;00m \u001b[38;5;167;01mAttributeError\u001b[39;00m(e)\n",
      "\u001b[0;31mAttributeError\u001b[0m: \"'nested'\""
     ]
    }
   ],
   "source": [
    "tracking_cfg.nested"
   ]
  },
  {
   "cell_type": "code",
   "execution_count": null,
   "metadata": {},
   "outputs": [],
   "source": []
  }
 ],
 "metadata": {
  "kernelspec": {
   "display_name": "seisbench",
   "language": "python",
   "name": "python3"
  },
  "language_info": {
   "codemirror_mode": {
    "name": "ipython",
    "version": 3
   },
   "file_extension": ".py",
   "mimetype": "text/x-python",
   "name": "python",
   "nbconvert_exporter": "python",
   "pygments_lexer": "ipython3",
   "version": "3.9.19"
  }
 },
 "nbformat": 4,
 "nbformat_minor": 2
}
