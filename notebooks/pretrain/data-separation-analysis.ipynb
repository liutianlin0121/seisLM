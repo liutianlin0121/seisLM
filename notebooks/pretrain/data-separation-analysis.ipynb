{
 "cells": [
  {
   "cell_type": "code",
   "execution_count": 1,
   "metadata": {},
   "outputs": [
    {
     "name": "stderr",
     "output_type": "stream",
     "text": [
      "/home/liu0003/miniconda3/envs/seisbench/lib/python3.9/site-packages/tqdm/auto.py:21: TqdmWarning: IProgress not found. Please update jupyter and ipywidgets. See https://ipywidgets.readthedocs.io/en/stable/user_install.html\n",
      "  from .autonotebook import tqdm as notebook_tqdm\n"
     ]
    }
   ],
   "source": [
    "from collections import defaultdict\n",
    "\n",
    "import seisbench.data as sbd\n",
    "import seisbench.generate as sbg\n",
    "import numpy as np\n",
    "import matplotlib.pyplot as plt\n",
    "from seisbench.util import worker_seeding\n",
    "from torch.utils.data import DataLoader\n",
    "import torch\n",
    "import torch.nn.functional as F\n",
    "import einops\n",
    "import tqdm\n",
    "from sklearn.manifold import TSNE\n",
    "from sklearn.preprocessing import MinMaxScaler\n",
    "import pandas as pd\n",
    "from collections import defaultdict\n",
    "from sklearn.decomposition import PCA\n",
    "from seisLM.utils import project_path\n",
    "from seisLM.data_pipeline.augmentations import FillMissingComponents\n",
    "\n",
    "from seisLM.model.foundation.pretrained_models import LitMultiDimWav2Vec2, MultiDimWav2Vec2ForPreTraining\n",
    "from seisLM.evaluation.analysis import compute_separation_fuzziness"
   ]
  },
  {
   "cell_type": "markdown",
   "metadata": {},
   "source": [
    "## Model"
   ]
  },
  {
   "cell_type": "markdown",
   "metadata": {},
   "source": [
    "Dataloader\n",
    "\n",
    "1. only extract 1000 samples for each class (earthquake vs noise)\n",
    "2. return meta data for each sample"
   ]
  },
  {
   "cell_type": "code",
   "execution_count": 2,
   "metadata": {},
   "outputs": [],
   "source": [
    "class MetaDataKeepingSteeredGenerator(sbg.SteeredGenerator):\n",
    "  def _clean_state_dict(self, state_dict):\n",
    "    # Remove control information\n",
    "    trace_type = state_dict[\"_control_\"][\"trace_type\"]\n",
    "\n",
    "    X, meta = state_dict[\"X\"]\n",
    "    # path_ep_distance_km = meta.get(\"path_ep_distance_km\", np.inf)\n",
    "    # path_hyp_distance_km = meta.get(\"path_hyp_distance_km\", np.inf)\n",
    "\n",
    "    state_dict = {\n",
    "      \"X\": X,\n",
    "      'trace_type': trace_type,\n",
    "      # \"path_ep_distance_km\": path_ep_distance_km,\n",
    "      # \"path_hyp_distance_km\": path_hyp_distance_km,\n",
    "    }\n",
    "    return state_dict\n",
    "\n",
    "def get_loader():\n",
    "  dataset_name = 'InstanceCountsCombined'\n",
    "  task = '1'\n",
    "  num_samples_per_trace_type = 200\n",
    "\n",
    "  dataset = sbd.__getattribute__(dataset_name)(\n",
    "    sampling_rate=100,\n",
    "    component_order=\"ZNE\",\n",
    "    dimension_order=\"NCW\",\n",
    "    missing_component=\"copy\",\n",
    "    cache=None\n",
    "  )\n",
    "  metadata_df = dataset.metadata\n",
    "\n",
    "  eval_set = 'dev'\n",
    "  split = dataset.get_split(eval_set)\n",
    "\n",
    "  task_csv = project_path.gitdir() + f'/data/targets/{dataset_name}/task{task}.csv'\n",
    "  task_targets = pd.read_csv(task_csv)\n",
    "  task_targets = task_targets[task_targets[\"trace_split\"] == eval_set]\n",
    "\n",
    "\n",
    "  eq_targets = task_targets[task_targets['trace_type'] == 'earthquake'].head(num_samples_per_trace_type)\n",
    "  noise_targets = task_targets[task_targets['trace_type'] == 'noise'].head(num_samples_per_trace_type)\n",
    "\n",
    "  task_targets = pd.concat([eq_targets, noise_targets])\n",
    "\n",
    "  generator = MetaDataKeepingSteeredGenerator(split, task_targets)\n",
    "  generator.add_augmentations(\n",
    "    [\n",
    "      sbg.SteeredWindow(windowlen=3001, strategy=\"pad\"),\n",
    "      sbg.ChangeDtype(np.float32),\n",
    "      FillMissingComponents(),\n",
    "      sbg.Normalize(demean_axis=-1, amp_norm_axis=-1, amp_norm_type=\"std\"),\n",
    "    ]\n",
    "  )\n",
    "  batch_size  = 10\n",
    "  num_workers = 2\n",
    "  loader = DataLoader(\n",
    "    generator, batch_size=batch_size, shuffle=False, num_workers=num_workers,\n",
    "  )\n",
    "  return loader\n",
    "\n",
    "\n",
    "loader = get_loader()"
   ]
  },
  {
   "cell_type": "code",
   "execution_count": 3,
   "metadata": {},
   "outputs": [],
   "source": [
    "device = \"cuda\" if torch.cuda.is_available() else \"cpu\"\n",
    "\n",
    "model_collections = {}\n",
    "\n",
    "for model_type in ['pretrained', 'random_init']:\n",
    "\n",
    "  model = LitMultiDimWav2Vec2.load_from_checkpoint(\n",
    "    project_path.gitdir() + \\\n",
    "      # '/results/models/pretrained_seisLM/pretrain_config_layernorm_std_small_batch_6_datasets_42__2024-08-14-09h-06m-17s/checkpoints/epoch=33-step=893792.ckpt',\n",
    "      '/results/models/pretrained_seisLM/pretrain_config_std_norm_single_ax_8_datasets_sample_pick_false_42__2024-08-31-18h-41m-44s/checkpoints/epoch=35-step=1082700.ckpt',\n",
    "  ).model\n",
    "\n",
    "  if model_type == 'random_init':\n",
    "    model = MultiDimWav2Vec2ForPreTraining(model.config)\n",
    "\n",
    "  model = model.to(device)\n",
    "  model = model.eval()\n",
    "  model_collections[model_type] = model\n",
    "  del model"
   ]
  },
  {
   "cell_type": "code",
   "execution_count": 4,
   "metadata": {},
   "outputs": [
    {
     "name": "stderr",
     "output_type": "stream",
     "text": [
      "  0%|          | 0/40 [00:00<?, ?it/s]2024-09-05 14:50:15,114 | seisbench | WARNING | Traces can not uniformly be identified using name. \"get_idx_from_trace_name\" will return only one possible matching trace.\n",
      "WARNING:seisbench:Traces can not uniformly be identified using name. \"get_idx_from_trace_name\" will return only one possible matching trace.\n",
      "2024-09-05 14:50:15,157 | seisbench | WARNING | Traces can not uniformly be identified using name. \"get_idx_from_trace_name\" will return only one possible matching trace.\n",
      "WARNING:seisbench:Traces can not uniformly be identified using name. \"get_idx_from_trace_name\" will return only one possible matching trace.\n",
      "100%|██████████| 40/40 [00:01<00:00, 21.39it/s]\n",
      "  0%|          | 0/40 [00:00<?, ?it/s]2024-09-05 14:50:17,013 | seisbench | WARNING | Traces can not uniformly be identified using name. \"get_idx_from_trace_name\" will return only one possible matching trace.\n",
      "WARNING:seisbench:Traces can not uniformly be identified using name. \"get_idx_from_trace_name\" will return only one possible matching trace.\n",
      "2024-09-05 14:50:17,058 | seisbench | WARNING | Traces can not uniformly be identified using name. \"get_idx_from_trace_name\" will return only one possible matching trace.\n",
      "WARNING:seisbench:Traces can not uniformly be identified using name. \"get_idx_from_trace_name\" will return only one possible matching trace.\n",
      "100%|██████████| 40/40 [00:01<00:00, 23.56it/s]\n"
     ]
    }
   ],
   "source": [
    "features_of_models = {}\n",
    "\n",
    "for model_type, model in model_collections.items():\n",
    "  batch_input_dict = defaultdict(list)\n",
    "  batch_features_dict = defaultdict(list)\n",
    "\n",
    "  for batch in tqdm.tqdm(loader):\n",
    "    for key, value in batch.items():\n",
    "      batch_input_dict[key].append(value)\n",
    "\n",
    "    with torch.no_grad():\n",
    "      input_values = batch['X']\n",
    "      wav2vec2_output = model.wav2vec2(\n",
    "        input_values=input_values.cuda(),\n",
    "        output_hidden_states=True,\n",
    "      )\n",
    "\n",
    "    batch_features_dict['conv_features'].append(\n",
    "      wav2vec2_output.extract_features.mean(axis=1)\n",
    "    )\n",
    "\n",
    "    for hidden_states_layer_idx, hidden_states in enumerate(wav2vec2_output.hidden_states):\n",
    "      batch_features_dict[f'hidden_states_{hidden_states_layer_idx}'].append(\n",
    "        hidden_states.mean(axis=1)\n",
    "      )\n",
    "\n",
    "  all_features_dict = defaultdict(list)\n",
    "  all_input_values = defaultdict(list)\n",
    "\n",
    "  for key, value in batch_features_dict.items():\n",
    "    concat_features = torch.concatenate(value, axis=0).cpu().numpy()\n",
    "    all_features_dict[key] = concat_features\n",
    "\n",
    "  for key, value in batch_input_dict.items():\n",
    "    if isinstance(value[0], torch.Tensor):\n",
    "      concat_values = torch.cat(value, axis=0).cpu().numpy()\n",
    "    elif isinstance(value[0], np.ndarray) or isinstance(value[0], list):\n",
    "      concat_values = np.concatenate(value, axis=0)\n",
    "    else:\n",
    "      raise ValueError\n",
    "    all_input_values[key] = concat_values\n",
    "\n",
    "\n",
    "  features_of_models[model_type] = all_features_dict"
   ]
  },
  {
   "cell_type": "code",
   "execution_count": 5,
   "metadata": {},
   "outputs": [
    {
     "name": "stdout",
     "output_type": "stream",
     "text": [
      "pretrained conv_features 5.443969938997373\n",
      "pretrained hidden_states_0 4.993164373941769\n",
      "pretrained hidden_states_1 4.686409472110414\n",
      "pretrained hidden_states_2 4.62316958926026\n",
      "pretrained hidden_states_3 4.533290763893183\n",
      "pretrained hidden_states_4 4.23039007504858\n",
      "pretrained hidden_states_5 4.982527919863316\n",
      "pretrained hidden_states_6 4.109693666888676\n",
      "random_init conv_features 8.217727836062094\n",
      "random_init hidden_states_0 8.810511191041046\n",
      "random_init hidden_states_1 8.875625873898276\n",
      "random_init hidden_states_2 8.830365562704731\n",
      "random_init hidden_states_3 8.715975306251432\n",
      "random_init hidden_states_4 9.084017526522077\n",
      "random_init hidden_states_5 9.35859250559354\n",
      "random_init hidden_states_6 9.09950649052411\n"
     ]
    }
   ],
   "source": [
    "all_trace_types = all_input_values['trace_type']\n",
    "\n",
    "fuzziness_dict = defaultdict(list)\n",
    "for model_type, _ in model_collections.items():\n",
    "  for key, feature in features_of_models[model_type].items():\n",
    "\n",
    "    fuzziness = compute_separation_fuzziness(feature, all_trace_types, use_log_scale=False)\n",
    "    print(model_type, key, fuzziness)\n",
    "    fuzziness_dict[model_type].append(fuzziness)\n"
   ]
  },
  {
   "cell_type": "code",
   "execution_count": 6,
   "metadata": {},
   "outputs": [],
   "source": [
    "layer_labels = list(features_of_models[model_type].keys())"
   ]
  },
  {
   "cell_type": "code",
   "execution_count": 7,
   "metadata": {},
   "outputs": [],
   "source": [
    "for i, layer_label in enumerate(layer_labels):\n",
    "  if layer_label.startswith('conv_features'):\n",
    "     layer_labels[i] = layer_label.replace('conv_features', 'conv layer')\n",
    "  elif layer_label.startswith('hidden_states'):\n",
    "    layer_labels[i] = layer_label.replace('hidden_states_', 'transf. layer ')"
   ]
  },
  {
   "cell_type": "code",
   "execution_count": 8,
   "metadata": {},
   "outputs": [],
   "source": [
    "seislm_kwargs = {\n",
    "  'color': '#1b7837',\n",
    "  'linestyle': '-',\n",
    "  'lw': 2,\n",
    "  'marker': 'o',\n",
    "}\n",
    "\n",
    "random_init_seislm_kwargs = {\n",
    "  'color': 'gray',\n",
    "  'linestyle': '--',\n",
    "  'lw': 2,\n",
    "  'marker': 's'\n",
    "}\n",
    "\n",
    "\n",
    "model_kwargs = {}\n",
    "# model_kwargs['PhaseNet'] = phasenet_kwargs\n",
    "# model_kwargs['EQTransformer'] = eqtransformer_kwargs\n",
    "model_kwargs['pretrained'] = seislm_kwargs\n",
    "model_kwargs['random_init'] = random_init_seislm_kwargs\n"
   ]
  },
  {
   "cell_type": "code",
   "execution_count": 9,
   "metadata": {},
   "outputs": [
    {
     "data": {
      "image/png": "[encoded data removed]",
      "text/plain": [
       "<Figure size 413.5x383.344 with 1 Axes>"
      ]
     },
     "metadata": {},
     "output_type": "display_data"
    }
   ],
   "source": [
    "a4_width = 8.27\n",
    "fig_width = a4_width / 2\n",
    "fig_height = 1.5 * fig_width / 1.618\n",
    "\n",
    "fig, ax = plt.subplots(\n",
    "  1, 1, figsize=(fig_width, fig_height), sharey=True\n",
    ")\n",
    "\n",
    "ax.plot(fuzziness_dict['random_init'], label='random_init', **random_init_seislm_kwargs)\n",
    "ax.plot(fuzziness_dict['pretrained'], label='pretrained', **seislm_kwargs)\n",
    "\n",
    "ax.grid()\n",
    "ax.set_ylabel('Separation fuzziness')\n",
    "ax.set_xlabel('Layer index')\n",
    "ax.set_xticks(range(len(layer_labels)))\n",
    "ax.set_xticklabels(layer_labels, rotation=70)\n",
    "ax.legend()\n",
    "plt.tight_layout()\n",
    "# plt.subplots_adjust(left=0.1, bottom=0.5)\n",
    "# fig.savefig(project_path.FIGURE_DIR + f'/separation_fuzziness.pdf')\n",
    "fig.savefig(project_path.FIGURE_DIR + f'/separation_fuzziness.png')\n",
    "\n"
   ]
  },
  {
   "cell_type": "code",
   "execution_count": 10,
   "metadata": {},
   "outputs": [
    {
     "data": {
      "text/plain": [
       "[8.217727836062094,\n",
       " 8.810511191041046,\n",
       " 8.875625873898276,\n",
       " 8.830365562704731,\n",
       " 8.715975306251432,\n",
       " 9.084017526522077,\n",
       " 9.35859250559354,\n",
       " 9.09950649052411]"
      ]
     },
     "execution_count": 10,
     "metadata": {},
     "output_type": "execute_result"
    }
   ],
   "source": [
    "fuzziness_dict['random_init']"
   ]
  }
 ],
 "metadata": {
  "kernelspec": {
   "display_name": "seisbench",
   "language": "python",
   "name": "python3"
  },
  "language_info": {
   "codemirror_mode": {
    "name": "ipython",
    "version": 3
   },
   "file_extension": ".py",
   "mimetype": "text/x-python",
   "name": "python",
   "nbconvert_exporter": "python",
   "pygments_lexer": "ipython3",
   "version": "3.9.19"
  }
 },
 "nbformat": 4,
 "nbformat_minor": 2
}
