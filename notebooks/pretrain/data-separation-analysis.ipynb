{
 "cells": [
  {
   "cell_type": "code",
   "execution_count": 1,
   "metadata": {},
   "outputs": [
    {
     "name": "stderr",
     "output_type": "stream",
     "text": [
      "/home/liu0003/miniconda3/envs/seisbench/lib/python3.9/site-packages/tqdm/auto.py:21: TqdmWarning: IProgress not found. Please update jupyter and ipywidgets. See https://ipywidgets.readthedocs.io/en/stable/user_install.html\n",
      "  from .autonotebook import tqdm as notebook_tqdm\n"
     ]
    }
   ],
   "source": [
    "from collections import defaultdict\n",
    "\n",
    "import seisbench.data as sbd\n",
    "import seisbench.generate as sbg\n",
    "import numpy as np\n",
    "import matplotlib.pyplot as plt\n",
    "from seisbench.util import worker_seeding\n",
    "from torch.utils.data import DataLoader\n",
    "import torch\n",
    "import torch.nn.functional as F\n",
    "import einops\n",
    "import tqdm\n",
    "from sklearn.manifold import TSNE\n",
    "from sklearn.preprocessing import MinMaxScaler\n",
    "import pandas as pd\n",
    "from collections import defaultdict\n",
    "from sklearn.decomposition import PCA\n",
    "from seisLM.utils import project_path\n",
    "from seisLM.data_pipeline.augmentations import FillMissingComponents\n",
    "\n",
    "from seisLM.model.foundation.pretrained_models import LitMultiDimWav2Vec2, MultiDimWav2Vec2ForPreTraining\n",
    "from seisLM.evaluation.analysis import compute_separation_fuzziness"
   ]
  },
  {
   "cell_type": "markdown",
   "metadata": {},
   "source": [
    "## Model"
   ]
  },
  {
   "cell_type": "markdown",
   "metadata": {},
   "source": [
    "Dataloader\n",
    "\n",
    "1. only extract 1000 samples for each class (earthquake vs noise)\n",
    "2. return meta data for each sample"
   ]
  },
  {
   "cell_type": "code",
   "execution_count": 2,
   "metadata": {},
   "outputs": [],
   "source": [
    "class MetaDataKeepingSteeredGenerator(sbg.SteeredGenerator):\n",
    "  def _clean_state_dict(self, state_dict):\n",
    "    # Remove control information\n",
    "    trace_type = state_dict[\"_control_\"][\"trace_type\"]\n",
    "\n",
    "    X, meta = state_dict[\"X\"]\n",
    "    # path_ep_distance_km = meta.get(\"path_ep_distance_km\", np.inf)\n",
    "    # path_hyp_distance_km = meta.get(\"path_hyp_distance_km\", np.inf)\n",
    "\n",
    "    state_dict = {\n",
    "      \"X\": X,\n",
    "      'trace_type': trace_type,\n",
    "      # \"path_ep_distance_km\": path_ep_distance_km,\n",
    "      # \"path_hyp_distance_km\": path_hyp_distance_km,\n",
    "    }\n",
    "    return state_dict\n",
    "\n",
    "def get_loader():\n",
    "  dataset_name = 'InstanceCountsCombined'\n",
    "  task = '1'\n",
    "  num_samples_per_trace_type = 200\n",
    "\n",
    "  dataset = sbd.__getattribute__(dataset_name)(\n",
    "    sampling_rate=100,\n",
    "    component_order=\"ZNE\",\n",
    "    dimension_order=\"NCW\",\n",
    "    missing_component=\"copy\",\n",
    "    cache=None\n",
    "  )\n",
    "  metadata_df = dataset.metadata\n",
    "\n",
    "  eval_set = 'dev'\n",
    "  split = dataset.get_split(eval_set)\n",
    "\n",
    "  task_csv = project_path.gitdir() + f'/data/targets/{dataset_name}/task{task}.csv'\n",
    "  task_targets = pd.read_csv(task_csv)\n",
    "  task_targets = task_targets[task_targets[\"trace_split\"] == eval_set]\n",
    "\n",
    "\n",
    "  eq_targets = task_targets[task_targets['trace_type'] == 'earthquake'].head(num_samples_per_trace_type)\n",
    "  noise_targets = task_targets[task_targets['trace_type'] == 'noise'].head(num_samples_per_trace_type)\n",
    "\n",
    "  task_targets = pd.concat([eq_targets, noise_targets])\n",
    "\n",
    "  generator = MetaDataKeepingSteeredGenerator(split, task_targets)\n",
    "  generator.add_augmentations(\n",
    "    [\n",
    "      sbg.SteeredWindow(windowlen=3001, strategy=\"pad\"),\n",
    "      sbg.ChangeDtype(np.float32),\n",
    "      FillMissingComponents(),\n",
    "      sbg.Normalize(demean_axis=-1, amp_norm_axis=-1, amp_norm_type=\"std\"),\n",
    "    ]\n",
    "  )\n",
    "  batch_size  = 10\n",
    "  num_workers = 2\n",
    "  loader = DataLoader(\n",
    "    generator, batch_size=batch_size, shuffle=False, num_workers=num_workers,\n",
    "  )\n",
    "  return loader\n",
    "\n",
    "\n",
    "loader = get_loader()"
   ]
  },
  {
   "cell_type": "code",
   "execution_count": 3,
   "metadata": {},
   "outputs": [
    {
     "name": "stderr",
     "output_type": "stream",
     "text": [
      "/home/liu0003/miniconda3/envs/seisbench/lib/python3.9/site-packages/lightning/pytorch/utilities/migration/utils.py:56: The loaded checkpoint was produced with Lightning v2.4.0, which is newer than your current Lightning version: v2.2.5\n",
      "/home/liu0003/miniconda3/envs/seisbench/lib/python3.9/site-packages/lightning/pytorch/utilities/migration/utils.py:56: The loaded checkpoint was produced with Lightning v2.4.0, which is newer than your current Lightning version: v2.2.5\n"
     ]
    }
   ],
   "source": [
    "device = \"cuda\" if torch.cuda.is_available() else \"cpu\"\n",
    "\n",
    "model_collections = {}\n",
    "\n",
    "for model_type in ['pretrained', 'random_init']:\n",
    "\n",
    "  model = LitMultiDimWav2Vec2.load_from_checkpoint(\n",
    "    project_path.gitdir() + \\\n",
    "      # '/results/models/pretrained_seisLM/pretrain_config_layernorm_std_small_batch_6_datasets_42__2024-08-14-09h-06m-17s/checkpoints/epoch=33-step=893792.ckpt',\n",
    "      # '/results/models/pretrained_seisLM/pretrain_config_std_norm_single_ax_8_datasets_sample_pick_false_42__2024-08-31-18h-41m-44s/checkpoints/epoch=35-step=1082700.ckpt',\n",
    "      \"/results/models/pretrained_seisLM/pretrain_config_std_norm_single_ax_8_datasets_32bit_scaleup_samp_false_42__2024-09-01-23h-26m-07s/checkpoints/epoch=36-step=649091.ckpt\"\n",
    "  ).model\n",
    "\n",
    "  if model_type == 'random_init':\n",
    "    model = MultiDimWav2Vec2ForPreTraining(model.config)\n",
    "\n",
    "  model = model.to(device)\n",
    "  model = model.eval()\n",
    "  model_collections[model_type] = model\n",
    "  del model"
   ]
  },
  {
   "cell_type": "code",
   "execution_count": 4,
   "metadata": {},
   "outputs": [
    {
     "name": "stderr",
     "output_type": "stream",
     "text": [
      "  0%|          | 0/40 [00:00<?, ?it/s]2024-09-09 13:16:09,660 | seisbench | WARNING | Traces can not uniformly be identified using name. \"get_idx_from_trace_name\" will return only one possible matching trace.\n",
      "WARNING:seisbench:Traces can not uniformly be identified using name. \"get_idx_from_trace_name\" will return only one possible matching trace.\n",
      "2024-09-09 13:16:09,694 | seisbench | WARNING | Traces can not uniformly be identified using name. \"get_idx_from_trace_name\" will return only one possible matching trace.\n",
      "WARNING:seisbench:Traces can not uniformly be identified using name. \"get_idx_from_trace_name\" will return only one possible matching trace.\n",
      "100%|██████████| 40/40 [00:07<00:00,  5.55it/s]\n",
      "  0%|          | 0/40 [00:00<?, ?it/s]2024-09-09 13:16:17,005 | seisbench | WARNING | Traces can not uniformly be identified using name. \"get_idx_from_trace_name\" will return only one possible matching trace.\n",
      "WARNING:seisbench:Traces can not uniformly be identified using name. \"get_idx_from_trace_name\" will return only one possible matching trace.\n",
      "2024-09-09 13:16:17,042 | seisbench | WARNING | Traces can not uniformly be identified using name. \"get_idx_from_trace_name\" will return only one possible matching trace.\n",
      "WARNING:seisbench:Traces can not uniformly be identified using name. \"get_idx_from_trace_name\" will return only one possible matching trace.\n",
      "100%|██████████| 40/40 [00:07<00:00,  5.62it/s]\n"
     ]
    }
   ],
   "source": [
    "features_of_models = {}\n",
    "\n",
    "for model_type, model in model_collections.items():\n",
    "  batch_input_dict = defaultdict(list)\n",
    "  batch_features_dict = defaultdict(list)\n",
    "\n",
    "  for batch in tqdm.tqdm(loader):\n",
    "    for key, value in batch.items():\n",
    "      batch_input_dict[key].append(value)\n",
    "\n",
    "    with torch.no_grad():\n",
    "      input_values = batch['X']\n",
    "      wav2vec2_output = model.wav2vec2(\n",
    "        input_values=input_values.cuda(),\n",
    "        output_hidden_states=True,\n",
    "      )\n",
    "\n",
    "    batch_features_dict['conv_features'].append(\n",
    "      wav2vec2_output.extract_features.mean(axis=1)\n",
    "    )\n",
    "\n",
    "    for hidden_states_layer_idx, hidden_states in enumerate(wav2vec2_output.hidden_states):\n",
    "      batch_features_dict[f'hidden_states_{hidden_states_layer_idx}'].append(\n",
    "        hidden_states.mean(axis=1)\n",
    "      )\n",
    "\n",
    "  all_features_dict = defaultdict(list)\n",
    "  all_input_values = defaultdict(list)\n",
    "\n",
    "  for key, value in batch_features_dict.items():\n",
    "    concat_features = torch.concatenate(value, axis=0).cpu().numpy()\n",
    "    all_features_dict[key] = concat_features\n",
    "\n",
    "  for key, value in batch_input_dict.items():\n",
    "    if isinstance(value[0], torch.Tensor):\n",
    "      concat_values = torch.cat(value, axis=0).cpu().numpy()\n",
    "    elif isinstance(value[0], np.ndarray) or isinstance(value[0], list):\n",
    "      concat_values = np.concatenate(value, axis=0)\n",
    "    else:\n",
    "      raise ValueError\n",
    "    all_input_values[key] = concat_values\n",
    "\n",
    "\n",
    "  features_of_models[model_type] = all_features_dict"
   ]
  },
  {
   "cell_type": "code",
   "execution_count": 5,
   "metadata": {},
   "outputs": [],
   "source": [
    "seislm_kwargs = {\n",
    "  'color': '#1b7837',\n",
    "  'linestyle': '-',\n",
    "  'lw': 2,\n",
    "  'marker': 'o',\n",
    "}\n",
    "\n",
    "random_init_seislm_kwargs = {\n",
    "  'color': 'gray',\n",
    "  'linestyle': '--',\n",
    "  'lw': 2,\n",
    "  'marker': 's'\n",
    "}\n",
    "\n",
    "\n",
    "model_kwargs = {}\n",
    "model_kwargs['pretrained'] = seislm_kwargs\n",
    "model_kwargs['random_init'] = random_init_seislm_kwargs"
   ]
  },
  {
   "cell_type": "code",
   "execution_count": 6,
   "metadata": {},
   "outputs": [
    {
     "data": {
      "text/plain": [
       "(400, 256)"
      ]
     },
     "execution_count": 6,
     "metadata": {},
     "output_type": "execute_result"
    }
   ],
   "source": [
    "features_of_models[model_type]['conv_features'].shape"
   ]
  },
  {
   "cell_type": "code",
   "execution_count": 7,
   "metadata": {},
   "outputs": [
    {
     "name": "stdout",
     "output_type": "stream",
     "text": [
      "Trace of SSW:  764.26, Trace of SSB:  161.25\n",
      "pretrained conv_features 4.7394312635141\n",
      "Trace of SSW:  213436.77, Trace of SSB:  67527.83\n",
      "pretrained hidden_states_0 3.160723148149773\n",
      "Trace of SSW:  193947.04, Trace of SSB:  62732.89\n",
      "pretrained hidden_states_1 3.091632287141498\n",
      "Trace of SSW:  221622.17, Trace of SSB:  63953.49\n",
      "pretrained hidden_states_2 3.465364577899749\n",
      "Trace of SSW:  248881.99, Trace of SSB:  66750.68\n",
      "pretrained hidden_states_3 3.7285312770540897\n",
      "Trace of SSW:  291588.62, Trace of SSB:  86134.79\n",
      "pretrained hidden_states_4 3.3852597054118596\n",
      "Trace of SSW:  332786.81, Trace of SSB:  98941.95\n",
      "pretrained hidden_states_5 3.363455150129919\n",
      "Trace of SSW:  363669.02, Trace of SSB:  89595.75\n",
      "pretrained hidden_states_6 4.058998699799419\n",
      "Trace of SSW:  383877.72, Trace of SSB:  89187.31\n",
      "pretrained hidden_states_7 4.304174360276255\n",
      "Trace of SSW:  421290.76, Trace of SSB:  90472.99\n",
      "pretrained hidden_states_8 4.6565361252761575\n",
      "Trace of SSW:  520597.00, Trace of SSB:  91425.87\n",
      "pretrained hidden_states_9 5.694197738007919\n",
      "Trace of SSW:  917714.12, Trace of SSB:  117656.21\n",
      "pretrained hidden_states_10 7.7999632804032135\n",
      "Trace of SSW:  979023.91, Trace of SSB:  141188.89\n",
      "pretrained hidden_states_11 6.934142697939426\n",
      "Trace of SSW:  25.19, Trace of SSB:  2.41\n",
      "pretrained hidden_states_12 10.460113550435867\n",
      "Trace of SSW:  7.71, Trace of SSB:  1.05\n",
      "random_init conv_features 7.317941141732252\n",
      "Trace of SSW:  8.57, Trace of SSB:  1.20\n",
      "random_init hidden_states_0 7.142933066790257\n",
      "Trace of SSW:  13.50, Trace of SSB:  1.91\n",
      "random_init hidden_states_1 7.075953335612563\n",
      "Trace of SSW:  20.02, Trace of SSB:  2.88\n",
      "random_init hidden_states_2 6.9431068660597655\n",
      "Trace of SSW:  26.10, Trace of SSB:  3.63\n",
      "random_init hidden_states_3 7.197923841422604\n",
      "Trace of SSW:  31.64, Trace of SSB:  4.30\n",
      "random_init hidden_states_4 7.359085102560924\n",
      "Trace of SSW:  37.25, Trace of SSB:  5.04\n",
      "random_init hidden_states_5 7.393429261251252\n",
      "Trace of SSW:  43.59, Trace of SSB:  5.91\n",
      "random_init hidden_states_6 7.37781070494521\n",
      "Trace of SSW:  49.67, Trace of SSB:  6.54\n",
      "random_init hidden_states_7 7.595109797442545\n",
      "Trace of SSW:  55.73, Trace of SSB:  7.40\n",
      "random_init hidden_states_8 7.533648239917273\n",
      "Trace of SSW:  62.04, Trace of SSB:  8.26\n",
      "random_init hidden_states_9 7.51052607689256\n",
      "Trace of SSW:  69.11, Trace of SSB:  9.36\n",
      "random_init hidden_states_10 7.384113944458541\n",
      "Trace of SSW:  78.99, Trace of SSB:  10.56\n",
      "random_init hidden_states_11 7.480647705029122\n",
      "Trace of SSW:  33.87, Trace of SSB:  4.54\n",
      "random_init hidden_states_12 7.455820003294689\n"
     ]
    }
   ],
   "source": [
    "all_trace_types = all_input_values['trace_type']\n",
    "\n",
    "fuzziness_dict = defaultdict(list)\n",
    "for model_type, _ in model_collections.items():\n",
    "  for key, feature in features_of_models[model_type].items():\n",
    "\n",
    "    # feature = scaler.fit_transform(feature)\n",
    "    fuzziness = compute_separation_fuzziness(\n",
    "      feature,\n",
    "      all_trace_types,\n",
    "      use_log_scale=False\n",
    "      )\n",
    "    print(model_type, key, fuzziness)\n",
    "    fuzziness_dict[model_type].append(fuzziness)\n"
   ]
  },
  {
   "cell_type": "code",
   "execution_count": 8,
   "metadata": {},
   "outputs": [
    {
     "data": {
      "image/png": "[encoded data removed]",
      "text/plain": [
       "<Figure size 413.5x383.344 with 1 Axes>"
      ]
     },
     "metadata": {},
     "output_type": "display_data"
    }
   ],
   "source": [
    "layer_labels = list(features_of_models[model_type].keys())\n",
    "\n",
    "for i, layer_label in enumerate(layer_labels):\n",
    "  if layer_label.startswith('conv_features'):\n",
    "     layer_labels[i] = layer_label.replace('conv_features', 'conv layer')\n",
    "  elif layer_label.startswith('hidden_states'):\n",
    "    layer_labels[i] = layer_label.replace('hidden_states_', 'transf. layer ')\n",
    "\n",
    "\n",
    "a4_width = 8.27\n",
    "fig_width = a4_width / 2\n",
    "fig_height = 1.5 * fig_width / 1.618\n",
    "\n",
    "fig, ax = plt.subplots(\n",
    "  1, 1, figsize=(fig_width, fig_height), sharey=True\n",
    ")\n",
    "\n",
    "ax.plot(fuzziness_dict['random_init'], label='random_init', **random_init_seislm_kwargs)\n",
    "ax.plot(fuzziness_dict['pretrained'], label='pretrained', **seislm_kwargs)\n",
    "\n",
    "ax.grid()\n",
    "ax.set_ylabel('Separation fuzziness')\n",
    "ax.set_xlabel('Layer index')\n",
    "ax.set_xticks(range(len(layer_labels)))\n",
    "ax.set_xticklabels(layer_labels, rotation=70)\n",
    "ax.legend()\n",
    "plt.tight_layout()\n",
    "# plt.subplots_adjust(left=0.1, bottom=0.5)\n",
    "# fig.savefig(project_path.FIGURE_DIR + f'/separation_fuzziness.pdf')\n",
    "fig.savefig(project_path.FIGURE_DIR + f'/separation_fuzziness.png')\n",
    "\n"
   ]
  },
  {
   "cell_type": "code",
   "execution_count": 9,
   "metadata": {},
   "outputs": [
    {
     "data": {
      "text/plain": [
       "[7.317941141732252,\n",
       " 7.142933066790257,\n",
       " 7.075953335612563,\n",
       " 6.9431068660597655,\n",
       " 7.197923841422604,\n",
       " 7.359085102560924,\n",
       " 7.393429261251252,\n",
       " 7.37781070494521,\n",
       " 7.595109797442545,\n",
       " 7.533648239917273,\n",
       " 7.51052607689256,\n",
       " 7.384113944458541,\n",
       " 7.480647705029122,\n",
       " 7.455820003294689]"
      ]
     },
     "execution_count": 9,
     "metadata": {},
     "output_type": "execute_result"
    }
   ],
   "source": [
    "fuzziness_dict['random_init']"
   ]
  }
 ],
 "metadata": {
  "kernelspec": {
   "display_name": "seisbench",
   "language": "python",
   "name": "python3"
  },
  "language_info": {
   "codemirror_mode": {
    "name": "ipython",
    "version": 3
   },
   "file_extension": ".py",
   "mimetype": "text/x-python",
   "name": "python",
   "nbconvert_exporter": "python",
   "pygments_lexer": "ipython3",
   "version": "3.9.19"
  }
 },
 "nbformat": 4,
 "nbformat_minor": 2
}
