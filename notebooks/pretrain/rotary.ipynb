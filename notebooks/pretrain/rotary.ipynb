{
 "cells": [
  {
   "cell_type": "code",
   "execution_count": 1,
   "metadata": {},
   "outputs": [],
   "source": [
    "from typing import Tuple\n",
    "import torch\n",
    "import json\n",
    "import ml_collections\n",
    "from seisLM.model.foundation import position_embedding\n",
    "\n",
    "config_path = '/scicore/home/dokman0000/liu0003/projects/seisLM/seisLM/configs/pretrain/pretrain_config_layernorm_peak.json'\n",
    "\n",
    "with open(config_path, \"r\", encoding=\"utf-8\") as f:\n",
    "  config = json.load(f)\n",
    "config = ml_collections.ConfigDict(config)\n",
    "\n",
    "\n",
    "config.model_config.hidden_size\n",
    "max_seq_len = 1000\n"
   ]
  },
  {
   "cell_type": "code",
   "execution_count": 2,
   "metadata": {},
   "outputs": [],
   "source": [
    "freqs_cis = position_embedding.precompute_freqs_cis(\n",
    "    # Note that self.params.max_seq_len is multiplied by 2 because the token limit for the Llama 2 generation of models is 4096. \n",
    "    # Adding this multiplier instead of using 4096 directly allows for dynamism of token lengths while training or fine-tuning.\n",
    "    config.model_config.hidden_size // config.model_config.num_attention_heads,\n",
    "    max_seq_len\n",
    ")\n"
   ]
  },
  {
   "cell_type": "code",
   "execution_count": 3,
   "metadata": {},
   "outputs": [
    {
     "name": "stdout",
     "output_type": "stream",
     "text": [
      "torch.Size([1000, 10])\n",
      "torch.Size([1, 1000, 12, 10])\n"
     ]
    }
   ],
   "source": [
    "# a single head\n",
    "xq = torch.randn(\n",
    "  1, 1000,\n",
    "  config.model_config.num_attention_heads,\n",
    "  config.model_config.hidden_size // config.model_config.num_attention_heads\n",
    ")\n",
    "\n",
    "xk = xq\n",
    "\n",
    "xq, xk = position_embedding.apply_rotary_emb(xq, xk, freqs_cis=freqs_cis)\n"
   ]
  },
  {
   "cell_type": "code",
   "execution_count": 4,
   "metadata": {},
   "outputs": [
    {
     "data": {
      "text/plain": [
       "torch.Size([1, 1000, 12, 20])"
      ]
     },
     "execution_count": 4,
     "metadata": {},
     "output_type": "execute_result"
    }
   ],
   "source": [
    "xq.shape"
   ]
  },
  {
   "cell_type": "code",
   "execution_count": null,
   "metadata": {},
   "outputs": [],
   "source": []
  }
 ],
 "metadata": {
  "kernelspec": {
   "display_name": "seisbench",
   "language": "python",
   "name": "python3"
  },
  "language_info": {
   "codemirror_mode": {
    "name": "ipython",
    "version": 3
   },
   "file_extension": ".py",
   "mimetype": "text/x-python",
   "name": "python",
   "nbconvert_exporter": "python",
   "pygments_lexer": "ipython3",
   "version": "3.9.19"
  }
 },
 "nbformat": 4,
 "nbformat_minor": 2
}
