{
 "cells": [
  {
   "cell_type": "code",
   "execution_count": 1,
   "metadata": {},
   "outputs": [],
   "source": [
    "import json\n",
    "import os\n",
    "import ml_collections\n",
    "from lightning.pytorch import seed_everything\n",
    "from seisLM.model.foundation.pretrained_models import LitMultiDimWav2Vec2\n",
    "from seisLM.data_pipeline import collator\n",
    "from seisLM.data_pipeline import seisbench_dataloaders as dataloaders\n",
    "import matplotlib.pyplot as plt\n",
    "import tqdm\n",
    "\n",
    "config_path = '/scicore/home/dokman0000/liu0003/projects/seisLM/seisLM/configs/pretrain/pretrain_config_rmsnorm_std_nomean_reduce_codevectors_rope.json'\n",
    "with open(config_path, \"r\", encoding=\"utf-8\") as f:\n",
    "  config = json.load(f)\n",
    "config = ml_collections.ConfigDict(config)\n",
    "config.data_config.local_batch_size = 128\n",
    "\n",
    "#### Override config\n",
    "config.data_config.amp_norm_type = 'std'"
   ]
  },
  {
   "cell_type": "code",
   "execution_count": null,
   "metadata": {},
   "outputs": [
    {
     "name": "stderr",
     "output_type": "stream",
     "text": [
      "Seed set to 42\n"
     ]
    }
   ],
   "source": [
    "seed_everything(config.seed)\n",
    "model = LitMultiDimWav2Vec2(config)\n",
    "\n",
    "DEFAULT_NUM_WORKERS = 4\n",
    "\n",
    "data_collator = \\\n",
    "  collator.DataCollatorForWav2Vec2PretrainingConcatChannelsNoPadding(\n",
    "      config=config.model_config,\n",
    "      mask_time_prob=config.training_config.mask_time_prob,\n",
    "      mask_time_length=config.training_config.mask_time_length,\n",
    "  )\n",
    "\n",
    "config.data_config.num_workers = int(\n",
    "    os.environ.get('SLURM_CPUS_PER_TASK', DEFAULT_NUM_WORKERS))\n"
   ]
  },
  {
   "cell_type": "code",
   "execution_count": null,
   "metadata": {},
   "outputs": [
    {
     "name": "stdout",
     "output_type": "stream",
     "text": [
      "Processing GEOFON\n"
     ]
    },
    {
     "name": "stderr",
     "output_type": "stream",
     "text": [
      " 50%|█████     | 109/217 [01:12<01:13,  1.46it/s]"
     ]
    },
    {
     "name": "stdout",
     "output_type": "stream",
     "text": [
      "dataset GEOFON abnormal max_input_values: 1042.52587890625 > 100 at idx 110; break \n",
      "\n"
     ]
    },
    {
     "name": "stderr",
     "output_type": "stream",
     "text": [
      " 51%|█████     | 110/217 [01:14<01:12,  1.47it/s]"
     ]
    },
    {
     "name": "stdout",
     "output_type": "stream",
     "text": [
      "dataset GEOFON max_input_values: 1042.52587890625 \n",
      "\n"
     ]
    },
    {
     "name": "stderr",
     "output_type": "stream",
     "text": [
      "\n"
     ]
    }
   ],
   "source": [
    "all_data_name = [\n",
    "      # \"ETHZ\",\n",
    "      \"GEOFON\",\n",
    "      # \"STEAD\",\n",
    "      # \"NEIC\",\n",
    "      # \"InstanceCounts\",\n",
    "      # \"Iquique\"\n",
    "    ][::-1] # 'ETHZ', 'GEOFON'\n",
    "\n",
    "\n",
    "for data_name in all_data_name:\n",
    "  print(f'Processing {data_name}')\n",
    "  train_loader, dev_loader = dataloaders.prepare_seisbench_dataloaders(\n",
    "    model=model,\n",
    "    training_fraction=config.data_config.training_fraction,\n",
    "    data_names=[data_name],\n",
    "    batch_size=config.data_config.local_batch_size,\n",
    "    num_workers=config.data_config.num_workers,\n",
    "    prefetch_factor=config.data_config.prefetch_factor,\n",
    "    collator=data_collator,\n",
    "    cache=config.data_config.cache_dataset,\n",
    "  )\n",
    "\n",
    "  loader = dev_loader\n",
    "  max_input_values = 0.0\n",
    "  idx = 0\n",
    "  for batch in tqdm.tqdm(dev_loader):\n",
    "    input_values = batch['input_values']\n",
    "    curr_max = input_values.abs().max().item()\n",
    "    if curr_max > max_input_values:\n",
    "      max_input_values = curr_max\n",
    "\n",
    "    if max_input_values > 100:\n",
    "      print(f'dataset {data_name} abnormal max_input_values: {max_input_values} > 100 at idx {idx}; break \\n')\n",
    "      break\n",
    "    idx += 1\n",
    "  print(f'dataset {data_name} max_input_values: {max_input_values} \\n')"
   ]
  },
  {
   "cell_type": "code",
   "execution_count": 16,
   "metadata": {},
   "outputs": [
    {
     "name": "stdout",
     "output_type": "stream",
     "text": [
      "abnormal sample\n"
     ]
    },
    {
     "data": {
      "image/png": "[encoded data removed]",
      "text/plain": [
       "<Figure size 640x480 with 1 Axes>"
      ]
     },
     "metadata": {},
     "output_type": "display_data"
    }
   ],
   "source": [
    "for sample in batch['input_values']:\n",
    "  if sample.abs().max().item() > 100:\n",
    "    plt.figure()\n",
    "    print('abnormal sample')\n",
    "    plt.plot(sample)\n",
    "    plt.show()\n",
    "    break\n",
    "\n"
   ]
  },
  {
   "cell_type": "code",
   "execution_count": null,
   "metadata": {},
   "outputs": [],
   "source": []
  },
  {
   "cell_type": "code",
   "execution_count": null,
   "metadata": {},
   "outputs": [],
   "source": []
  },
  {
   "cell_type": "code",
   "execution_count": null,
   "metadata": {},
   "outputs": [],
   "source": []
  },
  {
   "cell_type": "code",
   "execution_count": 12,
   "metadata": {},
   "outputs": [
    {
     "data": {
      "text/plain": [
       "{'input_values': tensor([[[ 6.7002e-02,  6.7829e-02,  6.8975e-02,  ..., -1.1455e+00,\n",
       "           -1.1448e+00, -1.1438e+00],\n",
       "          [ 1.6438e-01,  1.6150e-01,  1.5802e-01,  ..., -1.2395e-02,\n",
       "            2.5864e-04,  1.2147e-02],\n",
       "          [-3.3487e-01, -3.4436e-01, -3.5398e-01,  ...,  8.2582e-01,\n",
       "            8.2110e-01,  8.1694e-01]],\n",
       " \n",
       "         [[ 1.4283e+00,  1.4318e+00,  1.4364e+00,  ...,  1.6336e+00,\n",
       "            1.6297e+00,  1.6261e+00],\n",
       "          [ 2.1940e+00,  2.2124e+00,  2.2310e+00,  ..., -5.8896e-01,\n",
       "           -5.7984e-01, -5.7481e-01],\n",
       "          [-2.4888e+00, -2.4883e+00, -2.4870e+00,  ...,  7.1613e-01,\n",
       "            7.1228e-01,  7.0911e-01]],\n",
       " \n",
       "         [[ 3.5435e-01,  3.5242e-01,  3.5049e-01,  ..., -1.6011e+00,\n",
       "           -1.5972e+00, -1.5932e+00],\n",
       "          [ 1.2996e+00,  1.3062e+00,  1.3118e+00,  ..., -9.2367e-01,\n",
       "           -9.4390e-01, -9.6175e-01],\n",
       "          [ 8.3960e-01,  8.4357e-01,  8.4762e-01,  ..., -1.7635e+00,\n",
       "           -1.7582e+00, -1.7535e+00]],\n",
       " \n",
       "         ...,\n",
       " \n",
       "         [[-2.2996e-01, -2.3903e-01, -2.4712e-01,  ..., -3.1449e+00,\n",
       "           -3.1874e+00, -3.2255e+00],\n",
       "          [ 8.5685e-01,  8.9119e-01,  9.3374e-01,  ..., -2.4721e+00,\n",
       "           -2.4755e+00, -2.4651e+00],\n",
       "          [-2.3606e-01, -2.1256e-01, -2.0062e-01,  ...,  1.4142e+00,\n",
       "            1.4259e+00,  1.4431e+00]],\n",
       " \n",
       "         [[ 3.8569e-01,  3.8176e-01,  3.7779e-01,  ...,  5.7710e-01,\n",
       "            5.8026e-01,  5.8368e-01],\n",
       "          [ 4.1042e-01,  4.1025e-01,  4.1038e-01,  ...,  5.6348e-01,\n",
       "            5.6767e-01,  5.7169e-01],\n",
       "          [-3.1957e-01, -3.2017e-01, -3.2033e-01,  ...,  1.7260e+00,\n",
       "            1.7361e+00,  1.7455e+00]],\n",
       " \n",
       "         [[-2.8639e-01, -2.8911e-01, -2.9288e-01,  ...,  1.7865e+00,\n",
       "            1.7906e+00,  1.7946e+00],\n",
       "          [-6.5223e-02, -5.7132e-02, -4.8772e-02,  ..., -4.3738e+00,\n",
       "           -4.3848e+00, -4.3964e+00],\n",
       "          [-3.3010e-01, -3.3544e-01, -3.4026e-01,  ..., -3.5843e+00,\n",
       "           -3.5846e+00, -3.5855e+00]]]),\n",
       " 'attention_mask': tensor([[1., 1., 1.,  ..., 1., 1., 1.],\n",
       "         [1., 1., 1.,  ..., 1., 1., 1.],\n",
       "         [1., 1., 1.,  ..., 1., 1., 1.],\n",
       "         ...,\n",
       "         [1., 1., 1.,  ..., 1., 1., 1.],\n",
       "         [1., 1., 1.,  ..., 1., 1., 1.],\n",
       "         [1., 1., 1.,  ..., 1., 1., 1.]]),\n",
       " 'mask_time_indices': tensor([[1, 1, 1,  ..., 0, 0, 0],\n",
       "         [0, 0, 0,  ..., 0, 0, 0],\n",
       "         [0, 0, 0,  ..., 0, 0, 0],\n",
       "         ...,\n",
       "         [0, 0, 0,  ..., 1, 0, 0],\n",
       "         [0, 0, 0,  ..., 0, 0, 0],\n",
       "         [0, 1, 1,  ..., 0, 0, 0]]),\n",
       " 'sampled_negative_indices': tensor([[[  413,   332,    78,  ...,   505,   169,   238],\n",
       "          [  566,    75,   126,  ...,   282,   524,    32],\n",
       "          [    6,   701,   518,  ...,   423,    68,   194],\n",
       "          ...,\n",
       "          [    0,     0,     0,  ...,     0,     0,     0],\n",
       "          [    0,     0,     0,  ...,     0,     0,     0],\n",
       "          [    0,     0,     0,  ...,     0,     0,     0]],\n",
       " \n",
       "         [[  749,   749,   749,  ...,   749,   749,   749],\n",
       "          [  749,   749,   749,  ...,   749,   749,   749],\n",
       "          [  749,   749,   749,  ...,   749,   749,   749],\n",
       "          ...,\n",
       "          [  749,   749,   749,  ...,   749,   749,   749],\n",
       "          [  749,   749,   749,  ...,   749,   749,   749],\n",
       "          [  749,   749,   749,  ...,   749,   749,   749]],\n",
       " \n",
       "         [[ 1498,  1498,  1498,  ...,  1498,  1498,  1498],\n",
       "          [ 1498,  1498,  1498,  ...,  1498,  1498,  1498],\n",
       "          [ 1498,  1498,  1498,  ...,  1498,  1498,  1498],\n",
       "          ...,\n",
       "          [ 1498,  1498,  1498,  ...,  1498,  1498,  1498],\n",
       "          [ 1498,  1498,  1498,  ...,  1498,  1498,  1498],\n",
       "          [ 1498,  1498,  1498,  ...,  1498,  1498,  1498]],\n",
       " \n",
       "         ...,\n",
       " \n",
       "         [[93625, 93625, 93625,  ..., 93625, 93625, 93625],\n",
       "          [93625, 93625, 93625,  ..., 93625, 93625, 93625],\n",
       "          [93625, 93625, 93625,  ..., 93625, 93625, 93625],\n",
       "          ...,\n",
       "          [94013, 93938, 94365,  ..., 93797, 93924, 93733],\n",
       "          [93625, 93625, 93625,  ..., 93625, 93625, 93625],\n",
       "          [93625, 93625, 93625,  ..., 93625, 93625, 93625]],\n",
       " \n",
       "         [[94374, 94374, 94374,  ..., 94374, 94374, 94374],\n",
       "          [94374, 94374, 94374,  ..., 94374, 94374, 94374],\n",
       "          [94374, 94374, 94374,  ..., 94374, 94374, 94374],\n",
       "          ...,\n",
       "          [94374, 94374, 94374,  ..., 94374, 94374, 94374],\n",
       "          [94374, 94374, 94374,  ..., 94374, 94374, 94374],\n",
       "          [94374, 94374, 94374,  ..., 94374, 94374, 94374]],\n",
       " \n",
       "         [[95123, 95123, 95123,  ..., 95123, 95123, 95123],\n",
       "          [95126, 95137, 95357,  ..., 95554, 95773, 95335],\n",
       "          [95143, 95143, 95648,  ..., 95336, 95369, 95594],\n",
       "          ...,\n",
       "          [95123, 95123, 95123,  ..., 95123, 95123, 95123],\n",
       "          [95123, 95123, 95123,  ..., 95123, 95123, 95123],\n",
       "          [95123, 95123, 95123,  ..., 95123, 95123, 95123]]])}"
      ]
     },
     "execution_count": 12,
     "metadata": {},
     "output_type": "execute_result"
    }
   ],
   "source": [
    "batch"
   ]
  },
  {
   "cell_type": "code",
   "execution_count": null,
   "metadata": {},
   "outputs": [],
   "source": []
  },
  {
   "cell_type": "code",
   "execution_count": null,
   "metadata": {},
   "outputs": [],
   "source": []
  },
  {
   "cell_type": "code",
   "execution_count": null,
   "metadata": {},
   "outputs": [
    {
     "ename": "NameError",
     "evalue": "name 'idx' is not defined",
     "output_type": "error",
     "traceback": [
      "\u001b[0;31m---------------------------------------------------------------------------\u001b[0m",
      "\u001b[0;31mNameError\u001b[0m                                 Traceback (most recent call last)",
      "Cell \u001b[0;32mIn[5], line 1\u001b[0m\n\u001b[0;32m----> 1\u001b[0m plt\u001b[38;5;241m.\u001b[39mplot( (input_values[\u001b[43midx\u001b[49m] \u001b[38;5;241m/\u001b[39m input_values[idx]\u001b[38;5;241m.\u001b[39mstd())\u001b[38;5;241m.\u001b[39mT)\n",
      "\u001b[0;31mNameError\u001b[0m: name 'idx' is not defined"
     ]
    }
   ],
   "source": [
    "plt.plot( (input_values[idx] / input_values[idx].std()).T)"
   ]
  },
  {
   "cell_type": "code",
   "execution_count": null,
   "metadata": {},
   "outputs": [],
   "source": []
  },
  {
   "cell_type": "code",
   "execution_count": null,
   "metadata": {},
   "outputs": [],
   "source": []
  },
  {
   "cell_type": "code",
   "execution_count": null,
   "metadata": {},
   "outputs": [],
   "source": []
  },
  {
   "cell_type": "code",
   "execution_count": null,
   "metadata": {},
   "outputs": [],
   "source": []
  },
  {
   "cell_type": "code",
   "execution_count": null,
   "metadata": {},
   "outputs": [],
   "source": []
  },
  {
   "cell_type": "code",
   "execution_count": null,
   "metadata": {},
   "outputs": [],
   "source": []
  },
  {
   "cell_type": "code",
   "execution_count": null,
   "metadata": {},
   "outputs": [
    {
     "data": {
      "text/plain": [
       "tensor(14.9579)"
      ]
     },
     "execution_count": 36,
     "metadata": {},
     "output_type": "execute_result"
    }
   ],
   "source": [
    "batch['input_values'].abs().max()"
   ]
  },
  {
   "cell_type": "code",
   "execution_count": null,
   "metadata": {},
   "outputs": [],
   "source": []
  },
  {
   "cell_type": "code",
   "execution_count": null,
   "metadata": {},
   "outputs": [],
   "source": []
  },
  {
   "cell_type": "code",
   "execution_count": null,
   "metadata": {},
   "outputs": [],
   "source": []
  },
  {
   "cell_type": "code",
   "execution_count": null,
   "metadata": {},
   "outputs": [
    {
     "data": {
      "text/plain": [
       "[<matplotlib.lines.Line2D at 0x7fb263bb97f0>]"
      ]
     },
     "execution_count": 35,
     "metadata": {},
     "output_type": "execute_result"
    },
    {
     "data": {
      "image/png": "[encoded data removed]",
      "text/plain": [
       "<Figure size 640x480 with 1 Axes>"
      ]
     },
     "metadata": {},
     "output_type": "display_data"
    }
   ],
   "source": [
    "plt.plot(\n",
    "  batch['input_values'][idx][0].abs().sort().values\n",
    ")"
   ]
  },
  {
   "cell_type": "code",
   "execution_count": null,
   "metadata": {},
   "outputs": [],
   "source": []
  },
  {
   "cell_type": "code",
   "execution_count": null,
   "metadata": {},
   "outputs": [
    {
     "data": {
      "text/plain": [
       "tensor(4.8406)"
      ]
     },
     "execution_count": 33,
     "metadata": {},
     "output_type": "execute_result"
    }
   ],
   "source": []
  },
  {
   "cell_type": "code",
   "execution_count": null,
   "metadata": {},
   "outputs": [],
   "source": []
  },
  {
   "cell_type": "code",
   "execution_count": null,
   "metadata": {},
   "outputs": [],
   "source": []
  },
  {
   "cell_type": "code",
   "execution_count": null,
   "metadata": {},
   "outputs": [],
   "source": []
  },
  {
   "cell_type": "code",
   "execution_count": null,
   "metadata": {},
   "outputs": [],
   "source": []
  },
  {
   "cell_type": "code",
   "execution_count": null,
   "metadata": {},
   "outputs": [],
   "source": []
  },
  {
   "cell_type": "code",
   "execution_count": null,
   "metadata": {},
   "outputs": [],
   "source": []
  },
  {
   "cell_type": "code",
   "execution_count": null,
   "metadata": {},
   "outputs": [],
   "source": []
  },
  {
   "cell_type": "code",
   "execution_count": null,
   "metadata": {},
   "outputs": [],
   "source": []
  },
  {
   "cell_type": "code",
   "execution_count": null,
   "metadata": {},
   "outputs": [],
   "source": []
  },
  {
   "cell_type": "code",
   "execution_count": null,
   "metadata": {},
   "outputs": [],
   "source": []
  },
  {
   "cell_type": "code",
   "execution_count": null,
   "metadata": {},
   "outputs": [],
   "source": []
  },
  {
   "cell_type": "code",
   "execution_count": null,
   "metadata": {},
   "outputs": [],
   "source": []
  },
  {
   "cell_type": "code",
   "execution_count": null,
   "metadata": {},
   "outputs": [],
   "source": []
  },
  {
   "cell_type": "code",
   "execution_count": null,
   "metadata": {},
   "outputs": [
    {
     "data": {
      "text/plain": [
       "tensor([[-1.4039e-01, -1.5827e-01, -1.6510e-01,  ..., -1.8055e+00,\n",
       "         -3.7110e+00, -5.1438e+00],\n",
       "        [-1.0000e+10, -1.0000e+10, -1.0000e+10,  ..., -1.0000e+10,\n",
       "         -1.0000e+10, -1.0000e+10],\n",
       "        [ 1.3505e-01,  1.5540e-01,  1.6325e-01,  ...,  1.7892e+00,\n",
       "          3.6996e+00,  5.1421e+00]])"
      ]
     },
     "execution_count": 16,
     "metadata": {},
     "output_type": "execute_result"
    }
   ],
   "source": [
    "input_values[idx]"
   ]
  },
  {
   "cell_type": "code",
   "execution_count": null,
   "metadata": {},
   "outputs": [],
   "source": []
  },
  {
   "cell_type": "code",
   "execution_count": null,
   "metadata": {},
   "outputs": [],
   "source": []
  },
  {
   "cell_type": "code",
   "execution_count": null,
   "metadata": {},
   "outputs": [],
   "source": []
  },
  {
   "cell_type": "code",
   "execution_count": null,
   "metadata": {},
   "outputs": [],
   "source": []
  },
  {
   "cell_type": "code",
   "execution_count": null,
   "metadata": {},
   "outputs": [],
   "source": []
  },
  {
   "cell_type": "code",
   "execution_count": null,
   "metadata": {},
   "outputs": [
    {
     "data": {
      "text/plain": [
       "105152"
      ]
     },
     "execution_count": 7,
     "metadata": {},
     "output_type": "execute_result"
    }
   ],
   "source": [
    "len(train_loader)"
   ]
  }
 ],
 "metadata": {
  "kernelspec": {
   "display_name": "seisbench",
   "language": "python",
   "name": "python3"
  },
  "language_info": {
   "codemirror_mode": {
    "name": "ipython",
    "version": 3
   },
   "file_extension": ".py",
   "mimetype": "text/x-python",
   "name": "python",
   "nbconvert_exporter": "python",
   "pygments_lexer": "ipython3",
   "version": "3.9.19"
  }
 },
 "nbformat": 4,
 "nbformat_minor": 2
}
