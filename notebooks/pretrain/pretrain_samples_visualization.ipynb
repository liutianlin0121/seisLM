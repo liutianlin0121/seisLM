{
 "cells": [
  {
   "cell_type": "code",
   "execution_count": 1,
   "metadata": {},
   "outputs": [
    {
     "name": "stderr",
     "output_type": "stream",
     "text": [
      "/home/liu0003/miniconda3/envs/seisbench/lib/python3.9/site-packages/tqdm/auto.py:21: TqdmWarning: IProgress not found. Please update jupyter and ipywidgets. See https://ipywidgets.readthedocs.io/en/stable/user_install.html\n",
      "  from .autonotebook import tqdm as notebook_tqdm\n"
     ]
    },
    {
     "name": "stdout",
     "output_type": "stream",
     "text": [
      "data_config:\n",
      "  amp_norm: true\n",
      "  amp_norm_type: std\n",
      "  cache_dataset: null\n",
      "  data_name:\n",
      "  - ETHZ\n",
      "  - GEOFON\n",
      "  - STEAD\n",
      "  - NEIC\n",
      "  - InstanceCounts\n",
      "  - Iquique\n",
      "  demean: true\n",
      "  local_batch_size: 128\n",
      "  prefetch_factor: 2\n",
      "  training_fraction: 1.0\n",
      "model_config:\n",
      "  activation_dropout: 0.0\n",
      "  apply_spec_augment: true\n",
      "  attention_dropout: 0.0\n",
      "  codevector_dim: 256\n",
      "  contrastive_logits_temperature: 0.1\n",
      "  conv_bias: true\n",
      "  conv_dim:\n",
      "  - 256\n",
      "  - 256\n",
      "  conv_embed: true\n",
      "  conv_kernel:\n",
      "  - 3\n",
      "  - 3\n",
      "  conv_stride:\n",
      "  - 2\n",
      "  - 2\n",
      "  diversity_loss_weight: 0.1\n",
      "  do_stable_layer_norm: true\n",
      "  feat_extract_norm: layer\n",
      "  feat_proj_dropout: 0.0\n",
      "  feat_quantizer_dropout: 0.0\n",
      "  hidden_dropout: 0.0\n",
      "  hidden_size: 240\n",
      "  initializer_range: 0.02\n",
      "  input_dim: 3\n",
      "  intermediate_size: 3072\n",
      "  layer_norm_eps: 1.0e-05\n",
      "  layerdrop: 0.0\n",
      "  mask_feature_length: 10\n",
      "  mask_feature_min_masks: 0\n",
      "  mask_feature_prob: 0.0\n",
      "  mask_time_length: 10\n",
      "  mask_time_min_masks: 2\n",
      "  mask_time_prob: 0.65\n",
      "  num_attention_heads: 12\n",
      "  num_codevector_groups: 2\n",
      "  num_codevectors_per_group: 320\n",
      "  num_conv_pos_embedding_groups: 16\n",
      "  num_conv_pos_embeddings: 128\n",
      "  num_feat_extract_layers: 2\n",
      "  num_hidden_layers: 6\n",
      "  num_negatives: 100\n",
      "  output_attentions: false\n",
      "  output_hidden_size: 768\n",
      "  output_hidden_states: false\n",
      "  pad_token_id: 0\n",
      "  proj_codevector_dim: 256\n",
      "  rotary_pos_embed: false\n",
      "  scale_logits_in_quantization: true\n",
      "  use_rms_norm: false\n",
      "seed: 42\n",
      "training_config:\n",
      "  accelerator: ddp\n",
      "  adam_beta1: 0.9\n",
      "  adam_beta2: 0.999\n",
      "  adam_epsilon: 1.0e-08\n",
      "  devices: 4\n",
      "  learning_rate: 0.0005\n",
      "  log_every_n_steps: 100\n",
      "  mask_time_length: 10\n",
      "  mask_time_prob: 0.65\n",
      "  max_epochs: 40\n",
      "  max_gumbel_temperature: 2.0\n",
      "  min_gumbel_temperature: 0.5\n",
      "  precision: 16-mixed\n",
      "  warmup_frac_step: 0.2\n",
      "  weight_decay: 0.0\n",
      "\n"
     ]
    }
   ],
   "source": [
    "import json\n",
    "import os\n",
    "import ml_collections\n",
    "from lightning.pytorch import seed_everything\n",
    "from seisLM.model.foundation.pretrained_models import LitMultiDimWav2Vec2\n",
    "from seisLM.data_pipeline import collator\n",
    "from seisLM.data_pipeline import seisbench_dataloaders as dataloaders\n",
    "import matplotlib.pyplot as plt\n",
    "import tqdm\n",
    "\n",
    "# config_path = '/scicore/home/dokman0000/liu0003/projects/seisLM/seisLM/configs/pretrain/pretrain_config_rmsnorm_std_nomean_reduce_codevectors_rope.json'\n",
    "config_path = '/home/liu0003/Desktop/projects/seisLM/seisLM/configs/pretrain/pretrain_config_layernorm_peak_small_batch_6_datasets.json'\n",
    "with open(config_path, \"r\", encoding=\"utf-8\") as f:\n",
    "  config = json.load(f)\n",
    "config = ml_collections.ConfigDict(config)\n",
    "config.data_config.local_batch_size = 128\n",
    "\n",
    "#### Override config\n",
    "config.data_config.amp_norm_type = 'std'\n",
    "print(config)"
   ]
  },
  {
   "cell_type": "code",
   "execution_count": 2,
   "metadata": {},
   "outputs": [
    {
     "name": "stderr",
     "output_type": "stream",
     "text": [
      "Seed set to 42\n"
     ]
    }
   ],
   "source": [
    "seed_everything(config.seed)\n",
    "model = LitMultiDimWav2Vec2(config)\n",
    "\n",
    "DEFAULT_NUM_WORKERS = 4\n",
    "\n",
    "data_collator = \\\n",
    "  collator.DataCollatorForWav2Vec2PretrainingConcatChannelsNoPadding(\n",
    "      config=config.model_config,\n",
    "      mask_time_prob=config.training_config.mask_time_prob,\n",
    "      mask_time_length=config.training_config.mask_time_length,\n",
    "  )\n",
    "\n",
    "config.data_config.num_workers = int(\n",
    "    os.environ.get('SLURM_CPUS_PER_TASK', DEFAULT_NUM_WORKERS))\n"
   ]
  },
  {
   "cell_type": "code",
   "execution_count": 3,
   "metadata": {},
   "outputs": [
    {
     "name": "stderr",
     "output_type": "stream",
     "text": [
      "2024-08-07 18:50:13,604 | seisbench | WARNING | Check available storage and memory before downloading and general use of Iquique dataset. Dataset size: waveforms.hdf5 ~5Gb, metadata.csv ~2.6Mb\n",
      "WARNING:seisbench:Check available storage and memory before downloading and general use of Iquique dataset. Dataset size: waveforms.hdf5 ~5Gb, metadata.csv ~2.6Mb\n"
     ]
    },
    {
     "name": "stdout",
     "output_type": "stream",
     "text": [
      "Processing Iquique\n"
     ]
    },
    {
     "name": "stderr",
     "output_type": "stream",
     "text": [
      "  5%|▍         | 3/62 [00:01<00:25,  2.31it/s]"
     ]
    },
    {
     "name": "stdout",
     "output_type": "stream",
     "text": [
      "train dataset Iquique abnormal max_input_values: 915527.3125 > 100 at idx 3; break \n",
      "\n"
     ]
    },
    {
     "name": "stderr",
     "output_type": "stream",
     "text": [
      "\n"
     ]
    },
    {
     "name": "stdout",
     "output_type": "stream",
     "text": [
      "train dataset Iquique max_input_values: 915527.3125 \n",
      "\n"
     ]
    },
    {
     "name": "stderr",
     "output_type": "stream",
     "text": [
      "100%|██████████| 11/11 [00:01<00:00,  6.08it/s]\n"
     ]
    },
    {
     "name": "stdout",
     "output_type": "stream",
     "text": [
      "dev dataset Iquique max_input_values: 22.22224998474121 \n",
      "\n",
      "Processing InstanceCounts\n"
     ]
    },
    {
     "name": "stderr",
     "output_type": "stream",
     "text": [
      "100%|██████████| 5468/5468 [09:38<00:00,  9.45it/s]\n"
     ]
    },
    {
     "name": "stdout",
     "output_type": "stream",
     "text": [
      "train dataset InstanceCounts max_input_values: 54.605037689208984 \n",
      "\n"
     ]
    },
    {
     "name": "stderr",
     "output_type": "stream",
     "text": [
      "100%|██████████| 899/899 [01:20<00:00, 11.16it/s]\n"
     ]
    },
    {
     "name": "stdout",
     "output_type": "stream",
     "text": [
      "dev dataset InstanceCounts max_input_values: 54.76649856567383 \n",
      "\n",
      "Processing NEIC\n"
     ]
    },
    {
     "name": "stderr",
     "output_type": "stream",
     "text": [
      "  0%|          | 5/7628 [00:01<27:08,  4.68it/s]  "
     ]
    },
    {
     "name": "stdout",
     "output_type": "stream",
     "text": [
      "train dataset NEIC abnormal max_input_values: 10000000000.0 > 100 at idx 5; break \n",
      "\n"
     ]
    },
    {
     "name": "stderr",
     "output_type": "stream",
     "text": [
      "  0%|          | 5/7628 [00:01<42:52,  2.96it/s]\n"
     ]
    },
    {
     "name": "stdout",
     "output_type": "stream",
     "text": [
      "train dataset NEIC max_input_values: 10000000000.0 \n",
      "\n"
     ]
    },
    {
     "name": "stderr",
     "output_type": "stream",
     "text": [
      "  0%|          | 0/959 [00:00<?, ?it/s]"
     ]
    },
    {
     "name": "stdout",
     "output_type": "stream",
     "text": [
      "dev dataset NEIC abnormal max_input_values: 14999999488.0 > 100 at idx 0; break \n",
      "\n"
     ]
    },
    {
     "name": "stderr",
     "output_type": "stream",
     "text": [
      "  0%|          | 0/959 [00:01<?, ?it/s]\n"
     ]
    },
    {
     "name": "stdout",
     "output_type": "stream",
     "text": [
      "dev dataset NEIC max_input_values: 14999999488.0 \n",
      "\n",
      "Processing STEAD\n"
     ]
    },
    {
     "name": "stderr",
     "output_type": "stream",
     "text": [
      "100%|██████████| 8404/8404 [12:15<00:00, 11.43it/s]\n"
     ]
    },
    {
     "name": "stdout",
     "output_type": "stream",
     "text": [
      "train dataset STEAD max_input_values: 52.01957702636719 \n",
      "\n"
     ]
    },
    {
     "name": "stderr",
     "output_type": "stream",
     "text": [
      "100%|██████████| 495/495 [00:38<00:00, 12.92it/s]\n"
     ]
    },
    {
     "name": "stdout",
     "output_type": "stream",
     "text": [
      "dev dataset STEAD max_input_values: 38.62377166748047 \n",
      "\n",
      "Processing GEOFON\n"
     ]
    },
    {
     "name": "stderr",
     "output_type": "stream",
     "text": [
      "100%|██████████| 1260/1260 [02:44<00:00,  7.65it/s]\n"
     ]
    },
    {
     "name": "stdout",
     "output_type": "stream",
     "text": [
      "train dataset GEOFON max_input_values: 52.710594177246094 \n",
      "\n"
     ]
    },
    {
     "name": "stderr",
     "output_type": "stream",
     "text": [
      "100%|██████████| 217/217 [00:26<00:00,  8.06it/s]\n",
      "2024-08-07 19:18:38,215 | seisbench | WARNING | Check available storage and memory before downloading and general use of ETHZ dataset. Dataset size: waveforms.hdf5 ~22Gb, metadata.csv ~13Mb\n",
      "WARNING:seisbench:Check available storage and memory before downloading and general use of ETHZ dataset. Dataset size: waveforms.hdf5 ~22Gb, metadata.csv ~13Mb\n"
     ]
    },
    {
     "name": "stdout",
     "output_type": "stream",
     "text": [
      "dev dataset GEOFON max_input_values: 23.173402786254883 \n",
      "\n",
      "Processing ETHZ\n"
     ]
    },
    {
     "name": "stderr",
     "output_type": "stream",
     "text": [
      "100%|██████████| 176/176 [00:49<00:00,  3.55it/s]\n"
     ]
    },
    {
     "name": "stdout",
     "output_type": "stream",
     "text": [
      "train dataset ETHZ max_input_values: 45.547367095947266 \n",
      "\n"
     ]
    },
    {
     "name": "stderr",
     "output_type": "stream",
     "text": [
      "100%|██████████| 29/29 [00:08<00:00,  3.44it/s]"
     ]
    },
    {
     "name": "stdout",
     "output_type": "stream",
     "text": [
      "dev dataset ETHZ max_input_values: 35.200225830078125 \n",
      "\n"
     ]
    },
    {
     "name": "stderr",
     "output_type": "stream",
     "text": [
      "\n"
     ]
    }
   ],
   "source": [
    "all_data_name = [\n",
    "      \"ETHZ\",\n",
    "      \"GEOFON\",\n",
    "      \"STEAD\",\n",
    "      \"NEIC\",\n",
    "      \"InstanceCounts\",\n",
    "      \"Iquique\"\n",
    "    ][::-1] # 'ETHZ', 'GEOFON'\n",
    "\n",
    "\n",
    "for data_name in all_data_name:\n",
    "  print(f'Processing {data_name}')\n",
    "  train_loader, dev_loader = dataloaders.prepare_seisbench_dataloaders(\n",
    "    model=model,\n",
    "    training_fraction=config.data_config.training_fraction,\n",
    "    data_names=[data_name],\n",
    "    batch_size=config.data_config.local_batch_size,\n",
    "    num_workers=config.data_config.num_workers,\n",
    "    prefetch_factor=config.data_config.prefetch_factor,\n",
    "    collator=data_collator,\n",
    "    cache=config.data_config.cache_dataset,\n",
    "  )\n",
    "\n",
    "  for (loader_type, loader) in [('train', train_loader), ('dev', dev_loader)]:\n",
    "    max_input_values = 0.0\n",
    "    idx = 0\n",
    "    for batch in tqdm.tqdm(loader):\n",
    "      input_values = batch['input_values']\n",
    "      curr_max = input_values.abs().max().item()\n",
    "      if curr_max > max_input_values:\n",
    "        max_input_values = curr_max\n",
    "\n",
    "      if max_input_values > 100:\n",
    "        print(f'{loader_type} dataset {data_name} abnormal max_input_values: {max_input_values} > 100 at idx {idx}; break \\n')\n",
    "        break\n",
    "      idx += 1\n",
    "    print(f'{loader_type} dataset {data_name} max_input_values: {max_input_values} \\n')"
   ]
  },
  {
   "cell_type": "code",
   "execution_count": 4,
   "metadata": {},
   "outputs": [],
   "source": [
    "for sample in batch['input_values']:\n",
    "  if sample.abs().max().item() > 100:\n",
    "    plt.figure()\n",
    "    print('abnormal sample')\n",
    "    plt.plot(sample)\n",
    "    plt.show()\n",
    "    break\n",
    "\n"
   ]
  },
  {
   "cell_type": "code",
   "execution_count": null,
   "metadata": {},
   "outputs": [],
   "source": []
  },
  {
   "cell_type": "code",
   "execution_count": null,
   "metadata": {},
   "outputs": [],
   "source": []
  },
  {
   "cell_type": "code",
   "execution_count": null,
   "metadata": {},
   "outputs": [],
   "source": []
  },
  {
   "cell_type": "code",
   "execution_count": 5,
   "metadata": {},
   "outputs": [
    {
     "data": {
      "text/plain": [
       "{'input_values': tensor([[[ 4.8626e-01,  5.0358e-01,  5.1130e-01,  ...,  1.0715e+00,\n",
       "            1.0630e+00,  1.0245e+00],\n",
       "          [ 2.3758e-01,  2.8032e-01,  2.8769e-01,  ...,  1.0617e+00,\n",
       "            1.0440e+00,  1.0466e+00],\n",
       "          [-4.8485e-02, -4.4222e-02, -2.1283e-02,  ..., -9.8278e-01,\n",
       "           -9.3778e-01, -9.4973e-01]],\n",
       " \n",
       "         [[-1.8520e+00, -1.8456e+00, -1.8547e+00,  ..., -9.1664e-02,\n",
       "           -1.3488e-01, -1.1084e-01],\n",
       "          [ 6.7902e-03, -1.2862e-02, -1.5356e-02,  ...,  1.1553e+00,\n",
       "            1.0962e+00,  1.1067e+00],\n",
       "          [ 4.7106e-01,  4.3281e-01,  4.3183e-01,  ...,  1.0677e+00,\n",
       "            1.3699e+00,  1.3674e+00]],\n",
       " \n",
       "         [[ 3.4515e-01,  3.3220e-01,  3.3345e-01,  ...,  8.6793e-02,\n",
       "            4.8681e-02,  3.0364e-02],\n",
       "          [ 2.4288e+00,  2.4106e+00,  2.4099e+00,  ...,  4.2559e-01,\n",
       "            3.8112e-01,  3.7793e-01],\n",
       "          [ 8.2110e-01,  8.3672e-01,  8.3413e-01,  ...,  1.5074e+00,\n",
       "            1.5336e+00,  1.5539e+00]],\n",
       " \n",
       "         ...,\n",
       " \n",
       "         [[ 1.0529e+00,  1.0582e+00,  1.0741e+00,  ..., -3.3306e+00,\n",
       "           -6.0189e+00, -5.4048e+00],\n",
       "          [-8.4552e-01, -8.4219e-01, -8.3932e-01,  ..., -1.5579e+00,\n",
       "            4.9754e+00,  4.9634e+00],\n",
       "          [ 7.1789e-01,  7.0967e-01,  7.1093e-01,  ...,  5.0223e+00,\n",
       "            3.5443e+00, -6.0212e+00]],\n",
       " \n",
       "         [[ 1.5278e+00, -1.5496e+00,  1.1320e+00,  ...,  8.8996e-01,\n",
       "           -2.1049e+00,  1.5564e+00],\n",
       "          [ 4.7540e-01, -2.4202e-01,  3.8197e-01,  ...,  1.9922e+00,\n",
       "           -9.4238e-01, -8.1384e-01],\n",
       "          [-2.1190e-01, -2.4336e-01,  9.2888e-02,  ...,  1.3546e-01,\n",
       "            5.2085e+00,  2.1162e+00]],\n",
       " \n",
       "         [[-4.5180e-02,  4.6787e-02, -2.0429e-02,  ...,  1.3862e+00,\n",
       "            4.8729e-01,  3.3167e-01],\n",
       "          [-4.3777e-02,  3.7182e-03, -2.8696e-02,  ...,  3.4413e+00,\n",
       "            2.4169e-01, -1.0119e+00],\n",
       "          [-3.8755e-02,  1.2505e-01, -1.3438e-01,  ..., -1.7634e-01,\n",
       "            1.0330e+00, -1.2920e+00]]]),\n",
       " 'attention_mask': tensor([[1., 1., 1.,  ..., 1., 1., 1.],\n",
       "         [1., 1., 1.,  ..., 1., 1., 1.],\n",
       "         [1., 1., 1.,  ..., 1., 1., 1.],\n",
       "         ...,\n",
       "         [1., 1., 1.,  ..., 1., 1., 1.],\n",
       "         [1., 1., 1.,  ..., 1., 1., 1.],\n",
       "         [1., 1., 1.,  ..., 1., 1., 1.]]),\n",
       " 'mask_time_indices': tensor([[0, 0, 0,  ..., 0, 0, 0],\n",
       "         [0, 0, 0,  ..., 0, 0, 0],\n",
       "         [0, 0, 0,  ..., 1, 0, 0],\n",
       "         ...,\n",
       "         [0, 0, 0,  ..., 0, 0, 0],\n",
       "         [0, 0, 0,  ..., 0, 0, 0],\n",
       "         [0, 0, 0,  ..., 0, 0, 0]]),\n",
       " 'sampled_negative_indices': tensor([[[    0,     0,     0,  ...,     0,     0,     0],\n",
       "          [    0,     0,     0,  ...,     0,     0,     0],\n",
       "          [    0,     0,     0,  ...,     0,     0,     0],\n",
       "          ...,\n",
       "          [    0,     0,     0,  ...,     0,     0,     0],\n",
       "          [    0,     0,     0,  ...,     0,     0,     0],\n",
       "          [    0,     0,     0,  ...,     0,     0,     0]],\n",
       " \n",
       "         [[  749,   749,   749,  ...,   749,   749,   749],\n",
       "          [  749,   749,   749,  ...,   749,   749,   749],\n",
       "          [  749,   749,   749,  ...,   749,   749,   749],\n",
       "          ...,\n",
       "          [  749,   749,   749,  ...,   749,   749,   749],\n",
       "          [  749,   749,   749,  ...,   749,   749,   749],\n",
       "          [  749,   749,   749,  ...,   749,   749,   749]],\n",
       " \n",
       "         [[ 1498,  1498,  1498,  ...,  1498,  1498,  1498],\n",
       "          [ 1498,  1498,  1498,  ...,  1498,  1498,  1498],\n",
       "          [ 1498,  1498,  1498,  ...,  1498,  1498,  1498],\n",
       "          ...,\n",
       "          [ 1759,  1855,  1682,  ...,  2118,  1754,  1767],\n",
       "          [ 1498,  1498,  1498,  ...,  1498,  1498,  1498],\n",
       "          [ 1498,  1498,  1498,  ...,  1498,  1498,  1498]],\n",
       " \n",
       "         ...,\n",
       " \n",
       "         [[33705, 33705, 33705,  ..., 33705, 33705, 33705],\n",
       "          [33705, 33705, 33705,  ..., 33705, 33705, 33705],\n",
       "          [33705, 33705, 33705,  ..., 33705, 33705, 33705],\n",
       "          ...,\n",
       "          [33705, 33705, 33705,  ..., 33705, 33705, 33705],\n",
       "          [33705, 33705, 33705,  ..., 33705, 33705, 33705],\n",
       "          [33705, 33705, 33705,  ..., 33705, 33705, 33705]],\n",
       " \n",
       "         [[34454, 34454, 34454,  ..., 34454, 34454, 34454],\n",
       "          [34454, 34454, 34454,  ..., 34454, 34454, 34454],\n",
       "          [34454, 34454, 34454,  ..., 34454, 34454, 34454],\n",
       "          ...,\n",
       "          [34454, 34454, 34454,  ..., 34454, 34454, 34454],\n",
       "          [34454, 34454, 34454,  ..., 34454, 34454, 34454],\n",
       "          [34454, 34454, 34454,  ..., 34454, 34454, 34454]],\n",
       " \n",
       "         [[35203, 35203, 35203,  ..., 35203, 35203, 35203],\n",
       "          [35203, 35203, 35203,  ..., 35203, 35203, 35203],\n",
       "          [35203, 35203, 35203,  ..., 35203, 35203, 35203],\n",
       "          ...,\n",
       "          [35203, 35203, 35203,  ..., 35203, 35203, 35203],\n",
       "          [35203, 35203, 35203,  ..., 35203, 35203, 35203],\n",
       "          [35203, 35203, 35203,  ..., 35203, 35203, 35203]]])}"
      ]
     },
     "execution_count": 5,
     "metadata": {},
     "output_type": "execute_result"
    }
   ],
   "source": [
    "batch"
   ]
  },
  {
   "cell_type": "code",
   "execution_count": null,
   "metadata": {},
   "outputs": [],
   "source": []
  },
  {
   "cell_type": "code",
   "execution_count": null,
   "metadata": {},
   "outputs": [],
   "source": []
  },
  {
   "cell_type": "code",
   "execution_count": 6,
   "metadata": {},
   "outputs": [
    {
     "data": {
      "text/plain": [
       "[<matplotlib.lines.Line2D at 0x7f2b305138b0>,\n",
       " <matplotlib.lines.Line2D at 0x7f2b30513dc0>,\n",
       " <matplotlib.lines.Line2D at 0x7f2b30513730>]"
      ]
     },
     "execution_count": 6,
     "metadata": {},
     "output_type": "execute_result"
    },
    {
     "data": {
      "image/png": "[encoded data removed]",
      "text/plain": [
       "<Figure size 640x480 with 1 Axes>"
      ]
     },
     "metadata": {},
     "output_type": "display_data"
    }
   ],
   "source": [
    "plt.plot( (input_values[idx] / input_values[idx].std()).T)"
   ]
  },
  {
   "cell_type": "code",
   "execution_count": null,
   "metadata": {},
   "outputs": [],
   "source": []
  },
  {
   "cell_type": "code",
   "execution_count": null,
   "metadata": {},
   "outputs": [],
   "source": []
  },
  {
   "cell_type": "code",
   "execution_count": null,
   "metadata": {},
   "outputs": [],
   "source": []
  },
  {
   "cell_type": "code",
   "execution_count": null,
   "metadata": {},
   "outputs": [],
   "source": []
  },
  {
   "cell_type": "code",
   "execution_count": null,
   "metadata": {},
   "outputs": [],
   "source": []
  },
  {
   "cell_type": "code",
   "execution_count": null,
   "metadata": {},
   "outputs": [],
   "source": []
  },
  {
   "cell_type": "code",
   "execution_count": 7,
   "metadata": {},
   "outputs": [
    {
     "data": {
      "text/plain": [
       "tensor(26.7097)"
      ]
     },
     "execution_count": 7,
     "metadata": {},
     "output_type": "execute_result"
    }
   ],
   "source": [
    "batch['input_values'].abs().max()"
   ]
  },
  {
   "cell_type": "code",
   "execution_count": null,
   "metadata": {},
   "outputs": [],
   "source": []
  },
  {
   "cell_type": "code",
   "execution_count": null,
   "metadata": {},
   "outputs": [],
   "source": []
  },
  {
   "cell_type": "code",
   "execution_count": null,
   "metadata": {},
   "outputs": [],
   "source": []
  },
  {
   "cell_type": "code",
   "execution_count": 8,
   "metadata": {},
   "outputs": [
    {
     "data": {
      "text/plain": [
       "[<matplotlib.lines.Line2D at 0x7f2ade013340>]"
      ]
     },
     "execution_count": 8,
     "metadata": {},
     "output_type": "execute_result"
    },
    {
     "data": {
      "image/png": "[encoded data removed]",
      "text/plain": [
       "<Figure size 640x480 with 1 Axes>"
      ]
     },
     "metadata": {},
     "output_type": "display_data"
    }
   ],
   "source": [
    "plt.plot(\n",
    "  batch['input_values'][idx][0].abs().sort().values\n",
    ")"
   ]
  },
  {
   "cell_type": "code",
   "execution_count": null,
   "metadata": {},
   "outputs": [],
   "source": []
  },
  {
   "cell_type": "code",
   "execution_count": null,
   "metadata": {},
   "outputs": [],
   "source": []
  },
  {
   "cell_type": "code",
   "execution_count": null,
   "metadata": {},
   "outputs": [],
   "source": []
  },
  {
   "cell_type": "code",
   "execution_count": null,
   "metadata": {},
   "outputs": [],
   "source": []
  },
  {
   "cell_type": "code",
   "execution_count": null,
   "metadata": {},
   "outputs": [],
   "source": []
  },
  {
   "cell_type": "code",
   "execution_count": null,
   "metadata": {},
   "outputs": [],
   "source": []
  },
  {
   "cell_type": "code",
   "execution_count": null,
   "metadata": {},
   "outputs": [],
   "source": []
  },
  {
   "cell_type": "code",
   "execution_count": null,
   "metadata": {},
   "outputs": [],
   "source": []
  },
  {
   "cell_type": "code",
   "execution_count": null,
   "metadata": {},
   "outputs": [],
   "source": []
  },
  {
   "cell_type": "code",
   "execution_count": null,
   "metadata": {},
   "outputs": [],
   "source": []
  },
  {
   "cell_type": "code",
   "execution_count": null,
   "metadata": {},
   "outputs": [],
   "source": []
  },
  {
   "cell_type": "code",
   "execution_count": null,
   "metadata": {},
   "outputs": [],
   "source": []
  },
  {
   "cell_type": "code",
   "execution_count": null,
   "metadata": {},
   "outputs": [],
   "source": []
  },
  {
   "cell_type": "code",
   "execution_count": null,
   "metadata": {},
   "outputs": [],
   "source": []
  },
  {
   "cell_type": "code",
   "execution_count": null,
   "metadata": {},
   "outputs": [],
   "source": []
  },
  {
   "cell_type": "code",
   "execution_count": 9,
   "metadata": {},
   "outputs": [
    {
     "data": {
      "text/plain": [
       "tensor([[-0.4459, -0.5001, -0.1178,  ..., -0.4447, -0.1230,  0.3742],\n",
       "        [ 0.4502,  0.3516,  0.1287,  ...,  0.3854,  0.0774, -0.2390],\n",
       "        [-0.3462,  0.2704,  0.4458,  ..., -0.1405,  0.8924,  0.3545]])"
      ]
     },
     "execution_count": 9,
     "metadata": {},
     "output_type": "execute_result"
    }
   ],
   "source": [
    "input_values[idx]"
   ]
  },
  {
   "cell_type": "code",
   "execution_count": null,
   "metadata": {},
   "outputs": [],
   "source": []
  },
  {
   "cell_type": "code",
   "execution_count": null,
   "metadata": {},
   "outputs": [],
   "source": []
  },
  {
   "cell_type": "code",
   "execution_count": null,
   "metadata": {},
   "outputs": [],
   "source": []
  },
  {
   "cell_type": "code",
   "execution_count": null,
   "metadata": {},
   "outputs": [],
   "source": []
  },
  {
   "cell_type": "code",
   "execution_count": null,
   "metadata": {},
   "outputs": [],
   "source": []
  },
  {
   "cell_type": "code",
   "execution_count": 10,
   "metadata": {},
   "outputs": [
    {
     "data": {
      "text/plain": [
       "176"
      ]
     },
     "execution_count": 10,
     "metadata": {},
     "output_type": "execute_result"
    }
   ],
   "source": [
    "len(train_loader)"
   ]
  }
 ],
 "metadata": {
  "kernelspec": {
   "display_name": "seisbench",
   "language": "python",
   "name": "python3"
  },
  "language_info": {
   "codemirror_mode": {
    "name": "ipython",
    "version": 3
   },
   "file_extension": ".py",
   "mimetype": "text/x-python",
   "name": "python",
   "nbconvert_exporter": "python",
   "pygments_lexer": "ipython3",
   "version": "3.9.19"
  }
 },
 "nbformat": 4,
 "nbformat_minor": 2
}
