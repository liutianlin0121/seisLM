{
 "cells": [
  {
   "cell_type": "code",
   "execution_count": 1,
   "metadata": {},
   "outputs": [
    {
     "name": "stderr",
     "output_type": "stream",
     "text": [
      "/home/liu0003/miniconda3/envs/seisbench/lib/python3.9/site-packages/tqdm/auto.py:21: TqdmWarning: IProgress not found. Please update jupyter and ipywidgets. See https://ipywidgets.readthedocs.io/en/stable/user_install.html\n",
      "  from .autonotebook import tqdm as notebook_tqdm\n"
     ]
    },
    {
     "name": "stdout",
     "output_type": "stream",
     "text": [
      "data_config:\n",
      "  amp_norm: true\n",
      "  amp_norm_type: std\n",
      "  cache_dataset: null\n",
      "  data_name:\n",
      "  - ETHZ\n",
      "  - GEOFON\n",
      "  - STEAD\n",
      "  - NEIC\n",
      "  - InstanceCounts\n",
      "  - Iquique\n",
      "  demean: true\n",
      "  local_batch_size: 128\n",
      "  prefetch_factor: 2\n",
      "  training_fraction: 1.0\n",
      "model_config:\n",
      "  activation_dropout: 0.0\n",
      "  apply_spec_augment: true\n",
      "  attention_dropout: 0.0\n",
      "  codevector_dim: 256\n",
      "  contrastive_logits_temperature: 0.1\n",
      "  conv_bias: true\n",
      "  conv_dim:\n",
      "  - 256\n",
      "  - 256\n",
      "  conv_embed: true\n",
      "  conv_kernel:\n",
      "  - 3\n",
      "  - 3\n",
      "  conv_stride:\n",
      "  - 2\n",
      "  - 2\n",
      "  diversity_loss_weight: 0.1\n",
      "  do_stable_layer_norm: true\n",
      "  feat_extract_norm: layer\n",
      "  feat_proj_dropout: 0.0\n",
      "  feat_quantizer_dropout: 0.0\n",
      "  hidden_dropout: 0.0\n",
      "  hidden_size: 240\n",
      "  initializer_range: 0.02\n",
      "  input_dim: 3\n",
      "  intermediate_size: 3072\n",
      "  layer_norm_eps: 1.0e-05\n",
      "  layerdrop: 0.0\n",
      "  mask_feature_length: 10\n",
      "  mask_feature_min_masks: 0\n",
      "  mask_feature_prob: 0.0\n",
      "  mask_time_length: 10\n",
      "  mask_time_min_masks: 2\n",
      "  mask_time_prob: 0.65\n",
      "  num_attention_heads: 12\n",
      "  num_codevector_groups: 2\n",
      "  num_codevectors_per_group: 320\n",
      "  num_conv_pos_embedding_groups: 16\n",
      "  num_conv_pos_embeddings: 128\n",
      "  num_feat_extract_layers: 2\n",
      "  num_hidden_layers: 6\n",
      "  num_negatives: 100\n",
      "  output_attentions: false\n",
      "  output_hidden_size: 768\n",
      "  output_hidden_states: false\n",
      "  pad_token_id: 0\n",
      "  proj_codevector_dim: 256\n",
      "  rotary_pos_embed: false\n",
      "  scale_logits_in_quantization: true\n",
      "  use_rms_norm: false\n",
      "seed: 42\n",
      "training_config:\n",
      "  accelerator: ddp\n",
      "  adam_beta1: 0.9\n",
      "  adam_beta2: 0.999\n",
      "  adam_epsilon: 1.0e-08\n",
      "  devices: 4\n",
      "  learning_rate: 0.0005\n",
      "  log_every_n_steps: 100\n",
      "  mask_time_length: 10\n",
      "  mask_time_prob: 0.65\n",
      "  max_epochs: 40\n",
      "  max_gumbel_temperature: 2.0\n",
      "  min_gumbel_temperature: 0.5\n",
      "  precision: 16-mixed\n",
      "  warmup_frac_step: 0.2\n",
      "  weight_decay: 0.0\n",
      "\n"
     ]
    }
   ],
   "source": [
    "import json\n",
    "import os\n",
    "import ml_collections\n",
    "from lightning.pytorch import seed_everything\n",
    "from seisLM.model.foundation.pretrained_models import LitMultiDimWav2Vec2\n",
    "from seisLM.data_pipeline import collator\n",
    "from seisLM.data_pipeline import seisbench_dataloaders as dataloaders\n",
    "import matplotlib.pyplot as plt\n",
    "import tqdm\n",
    "\n",
    "# config_path = '/scicore/home/dokman0000/liu0003/projects/seisLM/seisLM/configs/pretrain/pretrain_config_rmsnorm_std_nomean_reduce_codevectors_rope.json'\n",
    "config_path = '/home/liu0003/Desktop/projects/seisLM/seisLM/configs/pretrain/pretrain_config_layernorm_peak_small_batch_6_datasets.json'\n",
    "with open(config_path, \"r\", encoding=\"utf-8\") as f:\n",
    "  config = json.load(f)\n",
    "config = ml_collections.ConfigDict(config)\n",
    "config.data_config.local_batch_size = 128\n",
    "\n",
    "#### Override config\n",
    "config.data_config.amp_norm_type = 'std'\n",
    "print(config)"
   ]
  },
  {
   "cell_type": "code",
   "execution_count": 2,
   "metadata": {},
   "outputs": [
    {
     "name": "stderr",
     "output_type": "stream",
     "text": [
      "Seed set to 42\n"
     ]
    }
   ],
   "source": [
    "seed_everything(config.seed)\n",
    "model = LitMultiDimWav2Vec2(config)\n",
    "\n",
    "DEFAULT_NUM_WORKERS = 4\n",
    "\n",
    "data_collator = \\\n",
    "  collator.DataCollatorForWav2Vec2PretrainingConcatChannelsNoPadding(\n",
    "      config=config.model_config,\n",
    "      mask_time_prob=config.training_config.mask_time_prob,\n",
    "      mask_time_length=config.training_config.mask_time_length,\n",
    "  )\n",
    "\n",
    "config.data_config.num_workers = int(\n",
    "    os.environ.get('SLURM_CPUS_PER_TASK', DEFAULT_NUM_WORKERS))\n"
   ]
  },
  {
   "cell_type": "code",
   "execution_count": 3,
   "metadata": {},
   "outputs": [
    {
     "name": "stderr",
     "output_type": "stream",
     "text": [
      "2024-08-07 18:50:13,604 | seisbench | WARNING | Check available storage and memory before downloading and general use of Iquique dataset. Dataset size: waveforms.hdf5 ~5Gb, metadata.csv ~2.6Mb\n",
      "WARNING:seisbench:Check available storage and memory before downloading and general use of Iquique dataset. Dataset size: waveforms.hdf5 ~5Gb, metadata.csv ~2.6Mb\n"
     ]
    },
    {
     "name": "stdout",
     "output_type": "stream",
     "text": [
      "Processing Iquique\n"
     ]
    },
    {
     "name": "stderr",
     "output_type": "stream",
     "text": [
      "  5%|▍         | 3/62 [00:01<00:25,  2.31it/s]"
     ]
    },
    {
     "name": "stdout",
     "output_type": "stream",
     "text": [
      "train dataset Iquique abnormal max_input_values: 915527.3125 > 100 at idx 3; break \n",
      "\n"
     ]
    },
    {
     "name": "stderr",
     "output_type": "stream",
     "text": [
      "\n"
     ]
    },
    {
     "name": "stdout",
     "output_type": "stream",
     "text": [
      "train dataset Iquique max_input_values: 915527.3125 \n",
      "\n"
     ]
    },
    {
     "name": "stderr",
     "output_type": "stream",
     "text": [
      "100%|██████████| 11/11 [00:01<00:00,  6.08it/s]\n"
     ]
    },
    {
     "name": "stdout",
     "output_type": "stream",
     "text": [
      "dev dataset Iquique max_input_values: 22.22224998474121 \n",
      "\n",
      "Processing InstanceCounts\n"
     ]
    }
   ],
   "source": [
    "all_data_name = [\n",
    "      \"ETHZ\",\n",
    "      \"GEOFON\",\n",
    "      \"STEAD\",\n",
    "      \"NEIC\",\n",
    "      \"InstanceCounts\",\n",
    "      \"Iquique\"\n",
    "    ][::-1] # 'ETHZ', 'GEOFON'\n",
    "\n",
    "\n",
    "for data_name in all_data_name:\n",
    "  print(f'Processing {data_name}')\n",
    "  train_loader, dev_loader = dataloaders.prepare_seisbench_dataloaders(\n",
    "    model=model,\n",
    "    training_fraction=config.data_config.training_fraction,\n",
    "    data_names=[data_name],\n",
    "    batch_size=config.data_config.local_batch_size,\n",
    "    num_workers=config.data_config.num_workers,\n",
    "    prefetch_factor=config.data_config.prefetch_factor,\n",
    "    collator=data_collator,\n",
    "    cache=config.data_config.cache_dataset,\n",
    "  )\n",
    "\n",
    "  for (loader_type, loader) in [('train', train_loader), ('dev', dev_loader)]:\n",
    "    max_input_values = 0.0\n",
    "    idx = 0\n",
    "    for batch in tqdm.tqdm(loader):\n",
    "      input_values = batch['input_values']\n",
    "      curr_max = input_values.abs().max().item()\n",
    "      if curr_max > max_input_values:\n",
    "        max_input_values = curr_max\n",
    "\n",
    "      if max_input_values > 100:\n",
    "        print(f'{loader_type} dataset {data_name} abnormal max_input_values: {max_input_values} > 100 at idx {idx}; break \\n')\n",
    "        break\n",
    "      idx += 1\n",
    "    print(f'{loader_type} dataset {data_name} max_input_values: {max_input_values} \\n')"
   ]
  },
  {
   "cell_type": "code",
   "execution_count": null,
   "metadata": {},
   "outputs": [],
   "source": [
    "for sample in batch['input_values']:\n",
    "  if sample.abs().max().item() > 100:\n",
    "    plt.figure()\n",
    "    print('abnormal sample')\n",
    "    plt.plot(sample)\n",
    "    plt.show()\n",
    "    break\n",
    "\n"
   ]
  },
  {
   "cell_type": "code",
   "execution_count": null,
   "metadata": {},
   "outputs": [],
   "source": []
  },
  {
   "cell_type": "code",
   "execution_count": null,
   "metadata": {},
   "outputs": [],
   "source": []
  },
  {
   "cell_type": "code",
   "execution_count": null,
   "metadata": {},
   "outputs": [],
   "source": []
  },
  {
   "cell_type": "code",
   "execution_count": null,
   "metadata": {},
   "outputs": [
    {
     "data": {
      "text/plain": [
       "{'input_values': tensor([[[-1.1175e+00, -1.1119e+00, -1.1071e+00,  ..., -1.1940e+00,\n",
       "           -1.1826e+00, -1.1812e+00],\n",
       "          [-1.3297e+00, -1.3305e+00, -1.3496e+00,  ..., -8.7952e-01,\n",
       "           -8.6932e-01, -8.7770e-01],\n",
       "          [ 4.2838e-01,  3.9289e-01,  3.5089e-01,  ...,  4.4056e-02,\n",
       "            5.0940e-02,  3.5437e-02]],\n",
       " \n",
       "         [[ 9.4907e-01,  1.2515e+00,  1.1884e+00,  ..., -6.1390e-01,\n",
       "           -6.0757e-01, -5.9697e-01],\n",
       "          [ 7.7131e-01,  4.7331e-01,  4.3946e-01,  ..., -1.7774e-02,\n",
       "           -3.1697e-02, -3.3050e-02],\n",
       "          [ 3.1224e-01,  3.6238e-01,  1.4467e-01,  ...,  9.9785e-01,\n",
       "            1.0061e+00,  9.9733e-01]],\n",
       " \n",
       "         [[-1.0220e+00, -1.0045e+00, -9.8815e-01,  ...,  1.0621e-01,\n",
       "            1.0824e-01,  1.1573e-01],\n",
       "          [-1.4961e-01, -1.5218e-01, -1.7604e-01,  ...,  7.3500e-01,\n",
       "            7.2723e-01,  7.3460e-01],\n",
       "          [ 8.1299e-01,  8.0549e-01,  7.9224e-01,  ...,  1.0644e+00,\n",
       "            1.0767e+00,  1.0957e+00]],\n",
       " \n",
       "         ...,\n",
       " \n",
       "         [[-1.7258e+00, -1.9020e+00, -2.0662e+00,  ...,  9.0102e-01,\n",
       "            8.9248e-01,  8.6458e-01],\n",
       "          [-6.2439e-01, -4.1387e-01, -1.7137e-01,  ...,  9.7523e-01,\n",
       "            9.5918e-01,  9.6411e-01],\n",
       "          [-9.9441e-01, -9.7098e-01, -9.0621e-01,  ...,  4.3249e-01,\n",
       "            4.5386e-01,  4.4721e-01]],\n",
       " \n",
       "         [[-1.4566e-01,  2.4608e-01,  6.1561e-03,  ...,  3.6306e-01,\n",
       "           -9.9247e-02,  3.5934e-02],\n",
       "          [-7.5422e-01,  7.1060e-01, -5.5889e-01,  ...,  4.2354e-01,\n",
       "           -3.4446e-01,  4.7215e-01],\n",
       "          [-8.3859e-01,  4.6644e-01, -8.5010e-01,  ..., -3.0345e-01,\n",
       "            1.3050e-02,  3.9571e-02]],\n",
       " \n",
       "         [[ 2.9047e-02, -3.2352e-03, -5.9486e-02,  ..., -1.8548e+00,\n",
       "            1.5192e+00, -4.3030e-01],\n",
       "          [ 5.2989e-02, -2.8267e-02, -1.3308e-01,  ..., -4.4308e+00,\n",
       "           -2.5159e+00,  4.7107e+00],\n",
       "          [ 3.8773e-02, -3.1842e-02,  5.2013e-02,  ...,  1.5387e+00,\n",
       "           -4.0763e-01, -2.2439e+00]]]),\n",
       " 'attention_mask': tensor([[1., 1., 1.,  ..., 1., 1., 1.],\n",
       "         [1., 1., 1.,  ..., 1., 1., 1.],\n",
       "         [1., 1., 1.,  ..., 1., 1., 1.],\n",
       "         ...,\n",
       "         [1., 1., 1.,  ..., 1., 1., 1.],\n",
       "         [1., 1., 1.,  ..., 1., 1., 1.],\n",
       "         [1., 1., 1.,  ..., 1., 1., 1.]]),\n",
       " 'mask_time_indices': tensor([[0, 0, 1,  ..., 0, 0, 0],\n",
       "         [0, 0, 0,  ..., 0, 0, 0],\n",
       "         [0, 1, 1,  ..., 0, 0, 0],\n",
       "         ...,\n",
       "         [0, 0, 0,  ..., 0, 0, 0],\n",
       "         [0, 0, 1,  ..., 0, 0, 0],\n",
       "         [0, 0, 0,  ..., 1, 1, 1]]),\n",
       " 'sampled_negative_indices': tensor([[[    0,     0,     0,  ...,     0,     0,     0],\n",
       "          [    0,     0,     0,  ...,     0,     0,     0],\n",
       "          [  233,   538,   553,  ...,   726,   565,   409],\n",
       "          ...,\n",
       "          [    0,     0,     0,  ...,     0,     0,     0],\n",
       "          [    0,     0,     0,  ...,     0,     0,     0],\n",
       "          [    0,     0,     0,  ...,     0,     0,     0]],\n",
       " \n",
       "         [[  749,   749,   749,  ...,   749,   749,   749],\n",
       "          [  749,   749,   749,  ...,   749,   749,   749],\n",
       "          [  749,   749,   749,  ...,   749,   749,   749],\n",
       "          ...,\n",
       "          [  749,   749,   749,  ...,   749,   749,   749],\n",
       "          [  749,   749,   749,  ...,   749,   749,   749],\n",
       "          [  749,   749,   749,  ...,   749,   749,   749]],\n",
       " \n",
       "         [[ 1498,  1498,  1498,  ...,  1498,  1498,  1498],\n",
       "          [ 2016,  1939,  2171,  ...,  1542,  2055,  1810],\n",
       "          [ 1855,  2000,  2161,  ...,  2163,  1565,  2161],\n",
       "          ...,\n",
       "          [ 1498,  1498,  1498,  ...,  1498,  1498,  1498],\n",
       "          [ 1498,  1498,  1498,  ...,  1498,  1498,  1498],\n",
       "          [ 1498,  1498,  1498,  ...,  1498,  1498,  1498]],\n",
       " \n",
       "         ...,\n",
       " \n",
       "         [[33705, 33705, 33705,  ..., 33705, 33705, 33705],\n",
       "          [33705, 33705, 33705,  ..., 33705, 33705, 33705],\n",
       "          [33705, 33705, 33705,  ..., 33705, 33705, 33705],\n",
       "          ...,\n",
       "          [33705, 33705, 33705,  ..., 33705, 33705, 33705],\n",
       "          [33705, 33705, 33705,  ..., 33705, 33705, 33705],\n",
       "          [33705, 33705, 33705,  ..., 33705, 33705, 33705]],\n",
       " \n",
       "         [[34454, 34454, 34454,  ..., 34454, 34454, 34454],\n",
       "          [34454, 34454, 34454,  ..., 34454, 34454, 34454],\n",
       "          [34695, 34828, 34894,  ..., 34856, 34736, 34875],\n",
       "          ...,\n",
       "          [34454, 34454, 34454,  ..., 34454, 34454, 34454],\n",
       "          [34454, 34454, 34454,  ..., 34454, 34454, 34454],\n",
       "          [34454, 34454, 34454,  ..., 34454, 34454, 34454]],\n",
       " \n",
       "         [[35203, 35203, 35203,  ..., 35203, 35203, 35203],\n",
       "          [35203, 35203, 35203,  ..., 35203, 35203, 35203],\n",
       "          [35203, 35203, 35203,  ..., 35203, 35203, 35203],\n",
       "          ...,\n",
       "          [35255, 35657, 35565,  ..., 35372, 35796, 35586],\n",
       "          [35212, 35404, 35646,  ..., 35545, 35936, 35574],\n",
       "          [35889, 35585, 35723,  ..., 35870, 35513, 35246]]])}"
      ]
     },
     "execution_count": 5,
     "metadata": {},
     "output_type": "execute_result"
    }
   ],
   "source": [
    "batch"
   ]
  },
  {
   "cell_type": "code",
   "execution_count": null,
   "metadata": {},
   "outputs": [],
   "source": []
  },
  {
   "cell_type": "code",
   "execution_count": null,
   "metadata": {},
   "outputs": [],
   "source": []
  },
  {
   "cell_type": "code",
   "execution_count": null,
   "metadata": {},
   "outputs": [
    {
     "data": {
      "text/plain": [
       "[<matplotlib.lines.Line2D at 0x7ff2f05ad460>,\n",
       " <matplotlib.lines.Line2D at 0x7ff2f05ada00>,\n",
       " <matplotlib.lines.Line2D at 0x7ff2f05ad0a0>]"
      ]
     },
     "execution_count": 6,
     "metadata": {},
     "output_type": "execute_result"
    },
    {
     "data": {
      "image/png": "[encoded data removed]",
      "text/plain": [
       "<Figure size 640x480 with 1 Axes>"
      ]
     },
     "metadata": {},
     "output_type": "display_data"
    }
   ],
   "source": [
    "plt.plot( (input_values[idx] / input_values[idx].std()).T)"
   ]
  },
  {
   "cell_type": "code",
   "execution_count": null,
   "metadata": {},
   "outputs": [],
   "source": []
  },
  {
   "cell_type": "code",
   "execution_count": null,
   "metadata": {},
   "outputs": [],
   "source": []
  },
  {
   "cell_type": "code",
   "execution_count": null,
   "metadata": {},
   "outputs": [],
   "source": []
  },
  {
   "cell_type": "code",
   "execution_count": null,
   "metadata": {},
   "outputs": [],
   "source": []
  },
  {
   "cell_type": "code",
   "execution_count": null,
   "metadata": {},
   "outputs": [],
   "source": []
  },
  {
   "cell_type": "code",
   "execution_count": null,
   "metadata": {},
   "outputs": [],
   "source": []
  },
  {
   "cell_type": "code",
   "execution_count": null,
   "metadata": {},
   "outputs": [
    {
     "data": {
      "text/plain": [
       "tensor(30.2395)"
      ]
     },
     "execution_count": 7,
     "metadata": {},
     "output_type": "execute_result"
    }
   ],
   "source": [
    "batch['input_values'].abs().max()"
   ]
  },
  {
   "cell_type": "code",
   "execution_count": null,
   "metadata": {},
   "outputs": [],
   "source": []
  },
  {
   "cell_type": "code",
   "execution_count": null,
   "metadata": {},
   "outputs": [],
   "source": []
  },
  {
   "cell_type": "code",
   "execution_count": null,
   "metadata": {},
   "outputs": [],
   "source": []
  },
  {
   "cell_type": "code",
   "execution_count": null,
   "metadata": {},
   "outputs": [
    {
     "data": {
      "text/plain": [
       "[<matplotlib.lines.Line2D at 0x7ff1f4c07e20>]"
      ]
     },
     "execution_count": 8,
     "metadata": {},
     "output_type": "execute_result"
    },
    {
     "data": {
      "image/png": "[encoded data removed]",
      "text/plain": [
       "<Figure size 640x480 with 1 Axes>"
      ]
     },
     "metadata": {},
     "output_type": "display_data"
    }
   ],
   "source": [
    "plt.plot(\n",
    "  batch['input_values'][idx][0].abs().sort().values\n",
    ")"
   ]
  },
  {
   "cell_type": "code",
   "execution_count": null,
   "metadata": {},
   "outputs": [],
   "source": []
  },
  {
   "cell_type": "code",
   "execution_count": null,
   "metadata": {},
   "outputs": [],
   "source": []
  },
  {
   "cell_type": "code",
   "execution_count": null,
   "metadata": {},
   "outputs": [],
   "source": []
  },
  {
   "cell_type": "code",
   "execution_count": null,
   "metadata": {},
   "outputs": [],
   "source": []
  },
  {
   "cell_type": "code",
   "execution_count": null,
   "metadata": {},
   "outputs": [],
   "source": []
  },
  {
   "cell_type": "code",
   "execution_count": null,
   "metadata": {},
   "outputs": [],
   "source": []
  },
  {
   "cell_type": "code",
   "execution_count": null,
   "metadata": {},
   "outputs": [],
   "source": []
  },
  {
   "cell_type": "code",
   "execution_count": null,
   "metadata": {},
   "outputs": [],
   "source": []
  },
  {
   "cell_type": "code",
   "execution_count": null,
   "metadata": {},
   "outputs": [],
   "source": []
  },
  {
   "cell_type": "code",
   "execution_count": null,
   "metadata": {},
   "outputs": [],
   "source": []
  },
  {
   "cell_type": "code",
   "execution_count": null,
   "metadata": {},
   "outputs": [],
   "source": []
  },
  {
   "cell_type": "code",
   "execution_count": null,
   "metadata": {},
   "outputs": [],
   "source": []
  },
  {
   "cell_type": "code",
   "execution_count": null,
   "metadata": {},
   "outputs": [],
   "source": []
  },
  {
   "cell_type": "code",
   "execution_count": null,
   "metadata": {},
   "outputs": [],
   "source": []
  },
  {
   "cell_type": "code",
   "execution_count": null,
   "metadata": {},
   "outputs": [],
   "source": []
  },
  {
   "cell_type": "code",
   "execution_count": null,
   "metadata": {},
   "outputs": [
    {
     "data": {
      "text/plain": [
       "tensor([[ 1.2963,  1.5747,  0.4143,  ..., -0.6574, -1.5620, -0.4392],\n",
       "        [ 0.4769,  0.9572,  1.8635,  ...,  0.6104, -0.3456,  0.4496],\n",
       "        [ 1.2794,  1.3666,  0.7759,  ...,  1.3190,  1.3465,  0.6936]])"
      ]
     },
     "execution_count": 9,
     "metadata": {},
     "output_type": "execute_result"
    }
   ],
   "source": [
    "input_values[idx]"
   ]
  },
  {
   "cell_type": "code",
   "execution_count": null,
   "metadata": {},
   "outputs": [],
   "source": []
  },
  {
   "cell_type": "code",
   "execution_count": null,
   "metadata": {},
   "outputs": [],
   "source": []
  },
  {
   "cell_type": "code",
   "execution_count": null,
   "metadata": {},
   "outputs": [],
   "source": []
  },
  {
   "cell_type": "code",
   "execution_count": null,
   "metadata": {},
   "outputs": [],
   "source": []
  },
  {
   "cell_type": "code",
   "execution_count": null,
   "metadata": {},
   "outputs": [],
   "source": []
  },
  {
   "cell_type": "code",
   "execution_count": null,
   "metadata": {},
   "outputs": [
    {
     "data": {
      "text/plain": [
       "176"
      ]
     },
     "execution_count": 10,
     "metadata": {},
     "output_type": "execute_result"
    }
   ],
   "source": [
    "len(train_loader)"
   ]
  }
 ],
 "metadata": {
  "kernelspec": {
   "display_name": "seisbench",
   "language": "python",
   "name": "python3"
  },
  "language_info": {
   "codemirror_mode": {
    "name": "ipython",
    "version": 3
   },
   "file_extension": ".py",
   "mimetype": "text/x-python",
   "name": "python",
   "nbconvert_exporter": "python",
   "pygments_lexer": "ipython3",
   "version": "3.9.19"
  }
 },
 "nbformat": 4,
 "nbformat_minor": 2
}
