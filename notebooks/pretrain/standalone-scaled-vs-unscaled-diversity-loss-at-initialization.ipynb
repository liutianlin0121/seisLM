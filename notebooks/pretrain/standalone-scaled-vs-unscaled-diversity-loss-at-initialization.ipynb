{
 "cells": [
  {
   "cell_type": "code",
   "execution_count": 1,
   "metadata": {},
   "outputs": [],
   "source": [
    "import ml_collections\n",
    "import torch\n",
    "import torch.nn as nn\n",
    "from lightning.pytorch import seed_everything\n",
    "\n",
    "from seisLM.model.foundation.quantizer import Wav2Vec2GumbelVectorQuantizer"
   ]
  },
  {
   "cell_type": "code",
   "execution_count": 2,
   "metadata": {},
   "outputs": [
    {
     "name": "stdout",
     "output_type": "stream",
     "text": [
      "[8, 16, 32, 64, 128, 256, 512]\n"
     ]
    }
   ],
   "source": [
    "def get_base_config():\n",
    "  config = ml_collections.ConfigDict()\n",
    "  config.num_codevector_groups = 2\n",
    "  config.num_codevectors_per_group = 320\n",
    "  config.codevector_dim = 256\n",
    "  return config\n",
    "\n",
    "\n",
    "def get_initialized_quantizer(config):\n",
    "  seed_everything(42)\n",
    "  quantizer = Wav2Vec2GumbelVectorQuantizer(config)\n",
    "  quantizer.weight_proj.weight.data.normal_(mean=0.0, std=1)\n",
    "  quantizer.weight_proj.bias.data.zero_()\n",
    "  nn.init.uniform_(quantizer.codevectors)\n",
    "  return quantizer\n",
    "\n",
    "\n",
    "BATCH_SIZE = 1\n",
    "SEQ_LEN = 100\n",
    "FEATURE_DIMS = [2**i for i in range(3, 10)]\n",
    "print(FEATURE_DIMS)"
   ]
  },
  {
   "cell_type": "code",
   "execution_count": 3,
   "metadata": {},
   "outputs": [
    {
     "name": "stderr",
     "output_type": "stream",
     "text": [
      "Seed set to 42\n",
      "Seed set to 42\n",
      "Seed set to 42\n",
      "Seed set to 42\n",
      "Seed set to 42\n",
      "Seed set to 42\n",
      "Seed set to 42\n"
     ]
    },
    {
     "name": "stdout",
     "output_type": "stream",
     "text": [
      "8 tensor(370.2291) tensor(0.4215)\n",
      "16 tensor(314.6315) tensor(0.5084)\n",
      "32 tensor(283.1690) tensor(0.5575)\n",
      "64 tensor(247.8835) tensor(0.6127)\n",
      "128 tensor(243.3735) tensor(0.6197)\n",
      "256 tensor(208.4332) tensor(0.6743)\n",
      "512 tensor(185.7116) tensor(0.7098)\n"
     ]
    }
   ],
   "source": [
    "scale_logits_in_quantization = False\n",
    "\n",
    "perplexities_no_scale = []\n",
    "for feature_dim in FEATURE_DIMS:\n",
    "  config = get_base_config()\n",
    "  config.scale_logits_in_quantization = scale_logits_in_quantization\n",
    "  config.conv_dim = [feature_dim]\n",
    "  quantizer = get_initialized_quantizer(config)\n",
    "\n",
    "  hidden_states = torch.randn(BATCH_SIZE, SEQ_LEN, feature_dim)\n",
    "  mask_time_indices = torch.ones(BATCH_SIZE, SEQ_LEN).bool()\n",
    "\n",
    "  with torch.no_grad():\n",
    "    codevectors, codevector_perplexity = quantizer(\n",
    "      hidden_states, mask_time_indices\n",
    "    )\n",
    "\n",
    "  num_codevectors = (\n",
    "    config.num_codevectors_per_group * config.num_codevector_groups\n",
    "  )\n",
    "\n",
    "  diversity_loss = (num_codevectors - codevector_perplexity) / num_codevectors\n",
    "\n",
    "  print(feature_dim, codevector_perplexity, diversity_loss)\n",
    "  perplexities_no_scale.append(codevector_perplexity)"
   ]
  },
  {
   "cell_type": "code",
   "execution_count": 4,
   "metadata": {},
   "outputs": [
    {
     "name": "stderr",
     "output_type": "stream",
     "text": [
      "Seed set to 42\n",
      "Seed set to 42\n",
      "Seed set to 42\n",
      "Seed set to 42\n",
      "Seed set to 42\n",
      "Seed set to 42\n",
      "Seed set to 42\n"
     ]
    },
    {
     "name": "stdout",
     "output_type": "stream",
     "text": [
      "8 tensor(620.1626) tensor(0.0310)\n",
      "16 tensor(627.4341) tensor(0.0196)\n",
      "32 tensor(629.5909) tensor(0.0163)\n",
      "64 tensor(632.7233) tensor(0.0114)\n",
      "128 tensor(634.9413) tensor(0.0079)\n",
      "256 tensor(634.3645) tensor(0.0088)\n",
      "512 tensor(634.1373) tensor(0.0092)\n"
     ]
    }
   ],
   "source": [
    "scale_logits_in_quantization = True\n",
    "perplexities_scale = []\n",
    "\n",
    "for feature_dim in FEATURE_DIMS:\n",
    "  config = get_base_config()\n",
    "  config.scale_logits_in_quantization = scale_logits_in_quantization\n",
    "  config.conv_dim = [feature_dim]\n",
    "  quantizer = get_initialized_quantizer(config)\n",
    "\n",
    "  hidden_states = torch.randn(BATCH_SIZE, SEQ_LEN, feature_dim)\n",
    "  mask_time_indices = torch.ones(BATCH_SIZE, SEQ_LEN).bool()\n",
    "\n",
    "  with torch.no_grad():\n",
    "    codevectors, codevector_perplexity = quantizer(\n",
    "      hidden_states, mask_time_indices\n",
    "    )\n",
    "\n",
    "  num_codevectors = (\n",
    "    config.num_codevectors_per_group * config.num_codevector_groups\n",
    "  )\n",
    "\n",
    "  diversity_loss = (\n",
    "    num_codevectors - codevector_perplexity\n",
    "  ) / num_codevectors  # * mask_time_indices.sum() #\n",
    "\n",
    "  perplexities_scale.append(codevector_perplexity)\n",
    "  print(feature_dim, codevector_perplexity, diversity_loss)"
   ]
  },
  {
   "cell_type": "code",
   "execution_count": 5,
   "metadata": {},
   "outputs": [],
   "source": [
    "def simpleaxis(ax):\n",
    "  ax.spines[\"top\"].set_visible(False)\n",
    "  ax.spines[\"right\"].set_visible(False)\n",
    "  ax.get_xaxis().tick_bottom()\n",
    "  ax.get_yaxis().tick_left()\n"
   ]
  },
  {
   "cell_type": "code",
   "execution_count": 9,
   "metadata": {},
   "outputs": [
    {
     "data": {
      "image/png": "[encoded data removed]",
      "text/plain": [
       "<Figure size 400x300 with 1 Axes>"
      ]
     },
     "metadata": {},
     "output_type": "display_data"
    }
   ],
   "source": [
    "import matplotlib.pyplot as plt\n",
    "\n",
    "from seisLM.utils import project_path\n",
    "\n",
    "# matplotlib.font_manager._rebuild()\n",
    "# plt.rcParams[\"font.family\"] = \"Times New Roman\"\n",
    "\n",
    "\n",
    "fig, ax = plt.subplots(figsize=(4, 3))\n",
    "\n",
    "ax.plot(\n",
    "  FEATURE_DIMS,\n",
    "  perplexities_no_scale,\n",
    "  label=\"orig. temp.\",\n",
    "  color=\"#999999\",\n",
    "  ls=\"--\",\n",
    "  lw=2,\n",
    ")\n",
    "ax.plot(\n",
    "  FEATURE_DIMS,\n",
    "  perplexities_scale,\n",
    "  label=\"dimension-decoupled temp.\",\n",
    "  color=\"#31a354\",\n",
    "  lw=2,\n",
    ")\n",
    "ax.set_xlabel(\"Convolutional waveform feature dimension\")\n",
    "ax.set_ylabel(\"Perplexity of codevector usage\")\n",
    "ax.legend()\n",
    "simpleaxis(ax)\n",
    "\n",
    "fig.savefig(project_path.FIGURE_DIR + \"/dimension_decoupled_temp.pdf\")\n"
   ]
  },
  {
   "cell_type": "code",
   "execution_count": null,
   "metadata": {},
   "outputs": [],
   "source": []
  }
 ],
 "metadata": {
  "kernelspec": {
   "display_name": "seisbench",
   "language": "python",
   "name": "python3"
  },
  "language_info": {
   "codemirror_mode": {
    "name": "ipython",
    "version": 3
   },
   "file_extension": ".py",
   "mimetype": "text/x-python",
   "name": "python",
   "nbconvert_exporter": "python",
   "pygments_lexer": "ipython3",
   "version": "3.9.19"
  }
 },
 "nbformat": 4,
 "nbformat_minor": 2
}
