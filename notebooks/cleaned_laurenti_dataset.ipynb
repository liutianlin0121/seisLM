{
 "cells": [
  {
   "cell_type": "code",
   "execution_count": 1,
   "metadata": {},
   "outputs": [],
   "source": [
    "import pandas as pd\n",
    "import h5py\n",
    "import numpy as np\n",
    "from sklearn.metrics import confusion_matrix\n",
    "import seaborn as sns\n",
    "import gc\n",
    "import random\n",
    "from datetime import datetime\n",
    "import torch\n",
    "import torch.nn as nn\n",
    "from torch.utils.data import TensorDataset, DataLoader\n",
    "from tqdm.auto import tqdm\n",
    "import matplotlib.pyplot as plt\n",
    "import scipy\n",
    "import os\n",
    "from scipy import signal as sp\n",
    "import torch.nn.functional as F\n",
    "from lightning import seed_everything\n",
    "\n",
    "import my_utils_pre_post as myu\n",
    "import utils_pre_post as u\n",
    "\n",
    "\n",
    "dataToProcess = \"NRCA\" #sys.argv[1]\n",
    "num_classes = 9 #int(sys.argv[2])\n",
    "seed = 42 #int(sys.argv[3])\n",
    "path = '/scicore/home/dokman0000/liu0003/projects/seisLM/data/wetransfer_classify_generic_norcia-py_2024-06-24_1530/'\n",
    "trValTest_split_rnd = False\n",
    "force_traces_in_test=[]"
   ]
  },
  {
   "cell_type": "code",
   "execution_count": 2,
   "metadata": {},
   "outputs": [],
   "source": [
    "def my_preprocess():\n",
    "  df_pre = pd.read_pickle(path+'dataframe_pre_'+dataToProcess+'.csv')\n",
    "  df_post = pd.read_pickle(path+'dataframe_post_'+dataToProcess+'.csv')\n",
    "\n",
    "  if num_classes % 2 == 1:\n",
    "    df_visso = pd.read_pickle(path+'dataframe_visso_'+dataToProcess+'.csv')\n",
    "  else:\n",
    "    df_visso = None\n",
    "\n",
    "\n",
    "  df_pre, df_visso, df_post = myu.equallize_dataset_length(\n",
    "    df_pre, df_visso, df_post, num_classes, seed=seed\n",
    "  )\n",
    "\n",
    "\n",
    "  df_pre['trace_start_time'] = df_pre['trace_start_time'].apply(\n",
    "    lambda x: datetime.strptime(x, '%Y-%m-%dT%H:%M:%S.%fZ'))\n",
    "\n",
    "  if isinstance(df_visso, pd.DataFrame):\n",
    "    df_visso['trace_start_time'] = df_visso['trace_start_time'].apply(\n",
    "      lambda x: datetime.strptime(x, '%Y-%m-%dT%H:%M:%S.%fZ')\n",
    "  )\n",
    "\n",
    "  df_post['trace_start_time'] = df_post['trace_start_time'].apply(\n",
    "    lambda x: datetime.strptime(x, '%Y-%m-%dT%H:%M:%S.%fZ'))\n",
    "\n",
    "  if num_classes==2:\n",
    "    df = pd.concat([df_pre, df_post], ignore_index=True)\n",
    "  else:\n",
    "    frames_pre = myu.split_df_into_class_dependent_frames(df_pre, num_classes, pre_or_post=\"pre\")\n",
    "    frames_post = myu.split_df_into_class_dependent_frames(df_post, num_classes, pre_or_post=\"post\")\n",
    "    if isinstance(df_visso, pd.DataFrame):\n",
    "      frames_visso = myu.split_df_into_class_dependent_frames(df_visso, num_classes, pre_or_post=\"visso\")\n",
    "      df=pd.concat(\n",
    "        [pd.concat(frames_pre),pd.concat(frames_visso),pd.concat(frames_post)],\n",
    "        ignore_index=True\n",
    "      )\n",
    "    else:\n",
    "      df=pd.concat(\n",
    "        [pd.concat(frames_pre),pd.concat(frames_post)], ignore_index=True\n",
    "      )\n",
    "\n",
    "  df['source_origin_time'] = df['source_origin_time'].apply(\n",
    "    lambda x: datetime.strptime(x, '%Y-%m-%dT%H:%M:%S'))\n",
    "  df['TTF'] = df.apply(lambda row: myu.compute_norcia_ttf(row), axis=1)\n",
    "  return df\n",
    "\n",
    "\n",
    "def laurenti_preprocess():\n",
    "  seed_everything(seed)\n",
    "  df_empty = pd.DataFrame(columns = ['E_channel', 'N_channel', 'Z_channel', 'trace_name', 'label',\n",
    "      'trace_start_time', 'network_code', 'receiver_name', 'receiver_type',\n",
    "      'receiver_elevation_m', 'receiver_latitude', 'receiver_longitude',\n",
    "      'source_id', 'source_depth_km', 'source_latitude', 'source_longitude',\n",
    "      'source_magnitude_type', 'source_magnitude', 'source_origin_time', 'p_travel_sec'])\n",
    "  df_pre = df_empty.copy()\n",
    "  df_visso = df_empty.copy() # if num_classes!=9 this df will remain empty\n",
    "  df_post = df_empty.copy()\n",
    "\n",
    "  df_pre = pd.read_pickle(path+'dataframe_pre_'+dataToProcess+'.csv')\n",
    "  df_post = pd.read_pickle(path+'dataframe_post_'+dataToProcess+'.csv')\n",
    "  if num_classes==9:\n",
    "      df_visso = pd.read_pickle(path+'dataframe_visso_'+dataToProcess+'.csv')\n",
    "\n",
    "  df_pre, df_visso, df_post=u.pre_post_equal_length(df_pre, df_visso, df_post,force_traces_in_test, num_classes)\n",
    "\n",
    "  for i in force_traces_in_test:\n",
    "      if (i not in df_pre['trace_name'].values) and (i not in df_visso['trace_name'].values) and (i not in df_post['trace_name'].values):\n",
    "          print(\"WARNING: \", i,\" not in df_pre and df_post. This will cause an error.\")\n",
    "\n",
    "  df_pre['trace_start_time'] = df_pre['trace_start_time'].apply(lambda x: datetime.strptime(x, '%Y-%m-%dT%H:%M:%S.%fZ'))\n",
    "  df_visso['trace_start_time'] = df_visso['trace_start_time'].apply(lambda x: datetime.strptime(x, '%Y-%m-%dT%H:%M:%S.%fZ'))\n",
    "  df_post['trace_start_time'] = df_post['trace_start_time'].apply(lambda x: datetime.strptime(x, '%Y-%m-%dT%H:%M:%S.%fZ'))\n",
    "\n",
    "\n",
    "  if num_classes==2:\n",
    "      df=pd.concat([df_pre, df_post], ignore_index=True)\n",
    "  else:\n",
    "      frames_pre = u.frames_N_classes(df_pre,num_classes, pre_or_post=\"pre\")\n",
    "      frames_post = u.frames_N_classes(df_post,num_classes, pre_or_post=\"post\")\n",
    "      if num_classes==9:\n",
    "          frames_visso = u.frames_N_classes(df_visso,num_classes, pre_or_post=\"visso\")\n",
    "          df=pd.concat([pd.concat(frames_pre),pd.concat(frames_visso),pd.concat(frames_post)], ignore_index=True)\n",
    "      else:\n",
    "          df=pd.concat([pd.concat(frames_pre),pd.concat(frames_post)], ignore_index=True)\n",
    "\n",
    "  df['source_origin_time'] = df['source_origin_time'].apply(lambda x: datetime.strptime(x, '%Y-%m-%dT%H:%M:%S'))\n",
    "  df['TTF'] = df.apply (lambda row: u.add_TTF_in_sec(row), axis=1)\n",
    "  return df\n"
   ]
  },
  {
   "cell_type": "code",
   "execution_count": 5,
   "metadata": {},
   "outputs": [
    {
     "name": "stderr",
     "output_type": "stream",
     "text": [
      "Seed set to 42\n"
     ]
    },
    {
     "name": "stdout",
     "output_type": "stream",
     "text": [
      "len(df_pre): 4595 len(df_visso): 886 len(df_post): 3628\n",
      "len(df_pre): 3544 len(df_visso): 886 len(df_post): 3544\n"
     ]
    },
    {
     "name": "stderr",
     "output_type": "stream",
     "text": [
      "Seed set to 42\n"
     ]
    },
    {
     "name": "stdout",
     "output_type": "stream",
     "text": [
      "len(df_pre): 4595 len(df_visso): 886 len(df_post): 3628\n",
      "len(df_pre): 3544 len(df_visso): 886 len(df_post): 3544\n"
     ]
    },
    {
     "data": {
      "text/plain": [
       "True"
      ]
     },
     "execution_count": 5,
     "metadata": {},
     "output_type": "execute_result"
    }
   ],
   "source": [
    "df1 = my_preprocess()\n",
    "df2 = laurenti_preprocess()\n",
    "\n",
    "df1.equals(df2)\n",
    "\n"
   ]
  },
  {
   "cell_type": "code",
   "execution_count": null,
   "metadata": {},
   "outputs": [],
   "source": []
  },
  {
   "cell_type": "code",
   "execution_count": null,
   "metadata": {},
   "outputs": [],
   "source": []
  },
  {
   "cell_type": "code",
   "execution_count": null,
   "metadata": {},
   "outputs": [],
   "source": []
  },
  {
   "cell_type": "code",
   "execution_count": null,
   "metadata": {},
   "outputs": [],
   "source": []
  },
  {
   "cell_type": "code",
   "execution_count": null,
   "metadata": {},
   "outputs": [],
   "source": []
  },
  {
   "cell_type": "code",
   "execution_count": null,
   "metadata": {},
   "outputs": [
    {
     "data": {
      "text/plain": [
       "3544"
      ]
     },
     "execution_count": 5,
     "metadata": {},
     "output_type": "execute_result"
    }
   ],
   "source": [
    "len(df1[0])"
   ]
  },
  {
   "cell_type": "code",
   "execution_count": null,
   "metadata": {},
   "outputs": [
    {
     "data": {
      "text/plain": [
       "3544"
      ]
     },
     "execution_count": 6,
     "metadata": {},
     "output_type": "execute_result"
    }
   ],
   "source": [
    "len(df2[0])"
   ]
  },
  {
   "cell_type": "code",
   "execution_count": null,
   "metadata": {},
   "outputs": [],
   "source": []
  },
  {
   "cell_type": "code",
   "execution_count": null,
   "metadata": {},
   "outputs": [],
   "source": []
  },
  {
   "cell_type": "code",
   "execution_count": null,
   "metadata": {},
   "outputs": [],
   "source": []
  },
  {
   "cell_type": "code",
   "execution_count": null,
   "metadata": {},
   "outputs": [],
   "source": []
  },
  {
   "cell_type": "code",
   "execution_count": null,
   "metadata": {},
   "outputs": [
    {
     "data": {
      "text/plain": [
       "3"
      ]
     },
     "execution_count": 7,
     "metadata": {},
     "output_type": "execute_result"
    }
   ],
   "source": [
    "len(df1)"
   ]
  },
  {
   "cell_type": "code",
   "execution_count": null,
   "metadata": {},
   "outputs": [
    {
     "data": {
      "text/plain": [
       "3"
      ]
     },
     "execution_count": 8,
     "metadata": {},
     "output_type": "execute_result"
    }
   ],
   "source": [
    "len(df2)"
   ]
  },
  {
   "cell_type": "code",
   "execution_count": null,
   "metadata": {},
   "outputs": [],
   "source": []
  },
  {
   "cell_type": "code",
   "execution_count": null,
   "metadata": {},
   "outputs": [
    {
     "data": {
      "text/plain": [
       "(                                              E_channel  \\\n",
       " 0     [-5488.498688773891, 3555.492691384645, 7863.4...   \n",
       " 1     [-14.764081897217693, -234.4251182926355, -234...   \n",
       " 2     [-67.77683746645266, -235.56564294569966, -267...   \n",
       " 3     [94.19324644243034, 10.191393004812653, -7.810...   \n",
       " 4     [8.327841045835612, 90.45252623401439, 75.5772...   \n",
       " ...                                                 ...   \n",
       " 3539  [147.44815550997782, 152.47687975246322, 116.5...   \n",
       " 3540  [13.268149814414983, -13.66365878780357, 33.40...   \n",
       " 3541  [435.27932903577175, 394.2184383194443, 336.15...   \n",
       " 3542  [-531.7565098660771, 863.2471203718039, 395.25...   \n",
       " 3543  [-124.99925209772232, -132.89439224022635, -14...   \n",
       " \n",
       "                                               N_channel  \\\n",
       " 0     [8442.890139867315, -9601.09437584314, -2554.0...   \n",
       " 1     [332.7531817009409, -31.09784131623121, -415.9...   \n",
       " 2     [244.167194513082, 166.32038054955467, 130.473...   \n",
       " 3     [65.76865560730138, 37.82220237813743, 22.8757...   \n",
       " 4     [95.86138590127507, 104.76252518119861, 114.66...   \n",
       " ...                                                 ...   \n",
       " 3539  [-153.65638396919417, -150.65192827425392, -15...   \n",
       " 3540  [180.04430266262807, 162.94038205456445, 122.8...   \n",
       " 3541  [-98.68930029906494, -22.703231385814888, -15....   \n",
       " 3542  [-659.9714742400403, 19.906075750227444, -114....   \n",
       " 3543  [-45.41367625611633, -63.383327242340556, -62....   \n",
       " \n",
       "                                               Z_channel            trace_name  \\\n",
       " 0     [9581.089618828739, -2968.957603925899, -12494...  NRCA.IV.100754794_EV   \n",
       " 1     [57.73985945190361, 30.751566644708873, 133.76...  NRCA.IV.100727820_EV   \n",
       " 2     [157.9421382526125, 131.88792624532653, 132.83...  NRCA.IV.100784509_EV   \n",
       " 3     [-165.27283666868607, -119.24471020262718, -13...  NRCA.IV.100721685_EV   \n",
       " 4     [-349.5878439024382, -359.6330054519349, -330....  NRCA.IV.100115503_EV   \n",
       " ...                                                 ...                   ...   \n",
       " 3539  [-235.54239119699923, -98.55483853154328, -64....  NRCA.IV.100690863_EV   \n",
       " 3540  [-13.6902294238389, 40.31596306357824, 49.3221...  NRCA.IV.100660957_EV   \n",
       " 3541  [65.04585312158451, 61.03222603524864, 91.0185...  NRCA.IV.100006171_EV   \n",
       " 3542  [610.8940462184437, -458.06526254112396, -54.0...  NRCA.IV.100637287_EV   \n",
       " 3543  [-83.28580222587698, -76.31854119705167, -62.3...  NRCA.IV.100000170_EV   \n",
       " \n",
       "        label        trace_start_time network_code receiver_name receiver_type  \\\n",
       " 0     [1, 0] 2016-09-30 09:14:08.450           IV          NRCA            HH   \n",
       " 1     [1, 0] 2016-09-25 04:54:01.180           IV          NRCA            HH   \n",
       " 2     [1, 0] 2016-09-08 23:18:00.710           IV          NRCA            HH   \n",
       " 3     [1, 0] 2016-09-23 19:30:17.180           IV          NRCA            HH   \n",
       " 4     [1, 0] 2016-10-05 03:42:04.130           IV          NRCA            HH   \n",
       " ...      ...                     ...          ...           ...           ...   \n",
       " 3539  [1, 0] 2016-09-18 07:45:57.250           IV          NRCA            HH   \n",
       " 3540  [1, 0] 2016-09-12 14:35:03.720           IV          NRCA            HH   \n",
       " 3541  [1, 0] 2016-10-10 16:58:57.540           IV          NRCA            HH   \n",
       " 3542  [1, 0] 2016-08-31 13:54:06.780           IV          NRCA            HH   \n",
       " 3543  [1, 0] 2016-10-01 00:55:24.830           IV          NRCA            HH   \n",
       " \n",
       "       receiver_elevation_m  receiver_latitude  receiver_longitude  source_id  \\\n",
       " 0                      927           42.83355            13.11427  100754794   \n",
       " 1                      927           42.83355            13.11427  100727820   \n",
       " 2                      927           42.83355            13.11427  100784509   \n",
       " 3                      927           42.83355            13.11427  100721685   \n",
       " 4                      927           42.83355            13.11427  100115503   \n",
       " ...                    ...                ...                 ...        ...   \n",
       " 3539                   927           42.83355            13.11427  100690863   \n",
       " 3540                   927           42.83355            13.11427  100660957   \n",
       " 3541                   927           42.83355            13.11427  100006171   \n",
       " 3542                   927           42.83355            13.11427  100637287   \n",
       " 3543                   927           42.83355            13.11427  100000170   \n",
       " \n",
       "       source_depth_km  source_latitude  source_longitude  \\\n",
       " 0               5.652         42.81187          13.15046   \n",
       " 1               4.372         42.83092          13.15590   \n",
       " 2               6.306         42.81532          13.17013   \n",
       " 3               2.926         42.86523          13.15296   \n",
       " 4               4.836         42.82705          13.14039   \n",
       " ...               ...              ...               ...   \n",
       " 3539            2.146         42.87665          13.14719   \n",
       " 3540            5.524         42.82074          13.18434   \n",
       " 3541            6.260         42.83140          13.15928   \n",
       " 3542            5.538         42.83371          13.19121   \n",
       " 3543            7.037         42.82341          13.17374   \n",
       " \n",
       "      source_magnitude_type  source_magnitude   source_origin_time  \\\n",
       " 0                       Mw              0.90  2016-09-30T09:14:12   \n",
       " 1                       Mw              0.61  2016-09-25T04:54:05   \n",
       " 2                       Mw              0.92  2016-09-08T23:18:04   \n",
       " 3                       Mw              0.53  2016-09-23T19:30:21   \n",
       " 4                       Mw              0.56  2016-10-05T03:42:08   \n",
       " ...                    ...               ...                  ...   \n",
       " 3539                    Mw              1.02  2016-09-18T07:46:01   \n",
       " 3540                    Mw              0.70  2016-09-12T14:35:07   \n",
       " 3541                    Mw              0.68  2016-10-10T16:59:01   \n",
       " 3542                    Mw              0.79  2016-08-31T13:54:10   \n",
       " 3543                    Mw              0.77  2016-10-01T00:55:28   \n",
       " \n",
       "       p_travel_sec  \n",
       " 0             1.45  \n",
       " 1             1.18  \n",
       " 2             1.71  \n",
       " 3             1.18  \n",
       " 4             1.13  \n",
       " ...            ...  \n",
       " 3539          1.25  \n",
       " 3540          1.72  \n",
       " 3541          1.54  \n",
       " 3542          1.78  \n",
       " 3543          1.83  \n",
       " \n",
       " [3544 rows x 20 columns],\n",
       "                                              E_channel  \\\n",
       " 0    [-4262.709950072729, -1523.9320140199077, 3353...   \n",
       " 1    [-6308.838300650962, -2444.880583069218, 4902....   \n",
       " 2    [3618.6757891567613, -7718.312459751253, -1655...   \n",
       " 3    [-3802.0187176927802, -5122.369232586679, -575...   \n",
       " 4    [-471.98307823153743, -290.9991998857055, -463...   \n",
       " ..                                                 ...   \n",
       " 881  [38.62628377905344, -427.36576270978503, -592....   \n",
       " 882  [338.60675010571265, 414.564364665644, 513.521...   \n",
       " 883  [155.58291407657543, -1.2883213870327381, -477...   \n",
       " 884  [264.79689658908717, 2455.905710971056, 2974.0...   \n",
       " 885  [1270.0082106246227, 1709.7373511172987, 1085....   \n",
       " \n",
       "                                              N_channel  \\\n",
       " 0    [-641.4594056861665, -453.63538810164164, -180...   \n",
       " 1    [1950.8297774415412, -2392.208998815438, 321.7...   \n",
       " 2    [914.8775846975373, 7309.229919654968, 4022.58...   \n",
       " 3    [-5957.483852502165, -3070.3635428291996, -110...   \n",
       " 4    [-38.27931465303561, -434.2414720089902, 270.7...   \n",
       " ..                                                 ...   \n",
       " 881  [-388.67546890117103, -420.6006516767899, -238...   \n",
       " 882  [-889.1962620227682, 212.6103621599808, 378.41...   \n",
       " 883  [136.951050754758, -28.012770941503504, 56.023...   \n",
       " 884  [-702.7430006414701, -1918.557894125803, 229.6...   \n",
       " 885  [496.8241096846631, 434.77067502706336, 914.71...   \n",
       " \n",
       "                                              Z_channel            trace_name  \\\n",
       " 0    [1647.6262502193367, 1083.6389445810164, 357.6...  NRCA.IV.100079734_EV   \n",
       " 1    [-901.9914624078465, -755.9881908692678, -3765...  NRCA.IV.100058368_EV   \n",
       " 2    [4292.571931419276, 85.4873552016088, -1564.59...  NRCA.IV.100058236_EV   \n",
       " 3    [-1266.7063706891367, 262.27799576687175, 580....  NRCA.IV.100070720_EV   \n",
       " 4    [-346.40534385766296, -253.4067676833365, 352....  NRCA.IV.100084684_EV   \n",
       " ..                                                 ...                   ...   \n",
       " 881  [-515.0517807265569, -364.02933834235955, -3.0...  NRCA.IV.100084886_EV   \n",
       " 882  [84.92421832227046, -586.1050133354729, -674.1...  NRCA.IV.100069731_EV   \n",
       " 883  [166.14675568618986, 178.12504691818685, 28.10...  NRCA.IV.100083969_EV   \n",
       " 884  [2305.147202509899, 2337.2597052996716, -659.6...  NRCA.IV.100082207_EV   \n",
       " 885  [-42.5726342556336, -58.614506096251716, 179.3...  NRCA.IV.100072801_EV   \n",
       " \n",
       "       label        trace_start_time network_code receiver_name receiver_type  \\\n",
       " 0    [0, 0] 2016-10-29 06:37:56.180           IV          NRCA            HH   \n",
       " 1    [0, 0] 2016-10-26 17:45:19.340           IV          NRCA            HH   \n",
       " 2    [0, 0] 2016-10-26 17:23:48.250           IV          NRCA            HH   \n",
       " 3    [0, 0] 2016-10-28 03:00:51.720           IV          NRCA            HH   \n",
       " 4    [0, 0] 2016-10-29 21:25:46.280           IV          NRCA            HH   \n",
       " ..      ...                     ...          ...           ...           ...   \n",
       " 881  [0, 0] 2016-10-29 21:59:53.830           IV          NRCA            HH   \n",
       " 882  [0, 0] 2016-10-27 23:57:23.400           IV          NRCA            HH   \n",
       " 883  [0, 0] 2016-10-29 19:28:01.270           IV          NRCA            HH   \n",
       " 884  [0, 0] 2016-10-29 14:28:24.320           IV          NRCA            HH   \n",
       " 885  [0, 0] 2016-10-28 09:48:00.060           IV          NRCA            HH   \n",
       " \n",
       "      receiver_elevation_m  receiver_latitude  receiver_longitude  source_id  \\\n",
       " 0                     927           42.83355            13.11427  100079734   \n",
       " 1                     927           42.83355            13.11427  100058368   \n",
       " 2                     927           42.83355            13.11427  100058236   \n",
       " 3                     927           42.83355            13.11427  100070720   \n",
       " 4                     927           42.83355            13.11427  100084684   \n",
       " ..                    ...                ...                 ...        ...   \n",
       " 881                   927           42.83355            13.11427  100084886   \n",
       " 882                   927           42.83355            13.11427  100069731   \n",
       " 883                   927           42.83355            13.11427  100083969   \n",
       " 884                   927           42.83355            13.11427  100082207   \n",
       " 885                   927           42.83355            13.11427  100072801   \n",
       " \n",
       "      source_depth_km  source_latitude  source_longitude  source_magnitude_ml  \\\n",
       " 0              2.982         42.85069          13.16683                -0.01   \n",
       " 1              3.546         42.87994          13.12101                 0.78   \n",
       " 2              5.462         42.85229          13.10481                 1.72   \n",
       " 3              5.925         42.93128          13.07459                 2.36   \n",
       " 4              2.952         42.96927          13.12771                 1.41   \n",
       " ..               ...              ...               ...                  ...   \n",
       " 881            2.839         42.85443          13.13004                 1.67   \n",
       " 882            4.562         42.92559          13.09899                 2.15   \n",
       " 883            4.785         42.84471          13.15496                 0.01   \n",
       " 884            5.030         42.80879          13.14354                 1.24   \n",
       " 885            3.105         42.85259          13.15403                 0.30   \n",
       " \n",
       "      source_magnitude_mw   source_origin_time  p_travel_sec  \n",
       " 0                   0.81  2016-10-29T06:38:00          1.18  \n",
       " 1                   1.35  2016-10-26T17:45:23          1.34  \n",
       " 2                   2.04  2016-10-26T17:23:52          1.25  \n",
       " 3                   2.55  2016-10-28T03:00:54          2.72  \n",
       " 4                   1.80  2016-10-29T21:25:48          3.28  \n",
       " ..                   ...                  ...           ...  \n",
       " 881                 2.00  2016-10-29T21:59:58          0.83  \n",
       " 882                 2.38  2016-10-27T23:57:26          2.40  \n",
       " 883                 0.82  2016-10-29T19:28:05          1.27  \n",
       " 884                 1.68  2016-10-29T14:28:28          1.32  \n",
       " 885                 1.01  2016-10-28T09:48:04          1.06  \n",
       " \n",
       " [886 rows x 20 columns],\n",
       "                                               E_channel  \\\n",
       " 0     [-6859.898343779994, -7100.96712530489, -7360....   \n",
       " 1     [-124.95594567928265, -115.96922106668148, -22...   \n",
       " 2     [103.46707360221421, 184.48289058707496, 11.49...   \n",
       " 3     [5382.187392668832, 11004.686308408436, 8538.1...   \n",
       " 4     [16.485541994232563, 31.52121305683886, -65.44...   \n",
       " ...                                                 ...   \n",
       " 3539  [996.797724075837, -5571.215583915498, -5535.2...   \n",
       " 3540  [-24.777314014441913, -79.87995517802437, -62....   \n",
       " 3541  [167.3700236931611, 210.37235222438653, 210.37...   \n",
       " 3542  [2564.5511800076124, 2502.6277530580087, 2505....   \n",
       " 3543  [-131.19210061778608, 2196.787889288218, 427.7...   \n",
       " \n",
       "                                               N_channel  \\\n",
       " 0     [380.2463666811418, 565.3314362811197, 1114.41...   \n",
       " 1     [28.824393503989086, -80.24313878170574, -14.3...   \n",
       " 2     [182.77536467427456, 280.84596965242724, 311.9...   \n",
       " 3     [-4320.732275914574, -2617.732293372531, -2306...   \n",
       " 4     [15.878083299054083, 94.83548591038357, 107.79...   \n",
       " ...                                                 ...   \n",
       " 3539  [1145.2619777029236, -3214.692121363445, -1266...   \n",
       " 3540  [-40.0582635051494, -107.06707255208221, -19.0...   \n",
       " 3541  [-122.01995077268884, -74.99274952618498, -51....   \n",
       " 3542  [-2046.8898675541775, -2020.1956960839648, -20...   \n",
       " 3543  [-679.691797142054, -392.6896424248522, -775.6...   \n",
       " \n",
       "                                               Z_channel            trace_name  \\\n",
       " 0     [16269.316173770305, 16243.854835505423, 16307...  NRCA.IV.100174734_EV   \n",
       " 1     [-152.33629521812054, -159.3655324594356, -141...  NRCA.IV.100442012_EV   \n",
       " 2     [458.23519896597554, 271.2409588275941, 129.24...  NRCA.IV.100212157_EV   \n",
       " 3     [28.930369339079334, -3764.0721671994943, -186...  NRCA.IV.100217760_EV   \n",
       " 4     [-87.84102186463547, -160.84488035462076, -172...  NRCA.IV.100576386_EV   \n",
       " ...                                                 ...                   ...   \n",
       " 3539  [-6465.886688969487, -2363.89794795098, -2061....  NRCA.IV.100101007_EV   \n",
       " 3540  [395.2248376428761, 402.23212198707733, 472.23...  NRCA.IV.100441012_EV   \n",
       " 3541  [-120.20526849212729, -153.17485077873243, -18...  NRCA.IV.100530792_EV   \n",
       " 3542  [-7553.617808512085, -7543.316304429209, -7496...  NRCA.IV.100447942_EV   \n",
       " 3543  [379.8671188598905, -402.11310910149086, 433.9...  NRCA.IV.100210333_EV   \n",
       " \n",
       "        label        trace_start_time network_code receiver_name receiver_type  \\\n",
       " 0     [0, 1] 2016-11-13 13:08:30.460           IV          NRCA            HH   \n",
       " 1     [0, 1] 2016-12-16 06:59:43.790           IV          NRCA            HH   \n",
       " 2     [0, 1] 2016-11-17 23:50:29.220           IV          NRCA            HH   \n",
       " 3     [0, 1] 2016-11-18 16:38:16.280           IV          NRCA            HH   \n",
       " 4     [0, 1] 2016-12-08 08:24:51.480           IV          NRCA            HH   \n",
       " ...      ...                     ...          ...           ...           ...   \n",
       " 3539  [0, 1] 2016-10-31 02:12:59.790           IV          NRCA            HH   \n",
       " 3540  [0, 1] 2016-12-16 03:02:16.220           IV          NRCA            HH   \n",
       " 3541  [0, 1] 2016-12-03 14:43:31.210           IV          NRCA            HH   \n",
       " 3542  [0, 1] 2016-12-17 11:37:42.210           IV          NRCA            HH   \n",
       " 3543  [0, 1] 2016-11-17 18:54:09.160           IV          NRCA            HH   \n",
       " \n",
       "       receiver_elevation_m  receiver_latitude  receiver_longitude  source_id  \\\n",
       " 0                      927           42.83355            13.11427  100174734   \n",
       " 1                      927           42.83355            13.11427  100442012   \n",
       " 2                      927           42.83355            13.11427  100212157   \n",
       " 3                      927           42.83355            13.11427  100217760   \n",
       " 4                      927           42.83355            13.11427  100576386   \n",
       " ...                    ...                ...                 ...        ...   \n",
       " 3539                   927           42.83355            13.11427  100101007   \n",
       " 3540                   927           42.83355            13.11427  100441012   \n",
       " 3541                   927           42.83355            13.11427  100530792   \n",
       " 3542                   927           42.83355            13.11427  100447942   \n",
       " 3543                   927           42.83355            13.11427  100210333   \n",
       " \n",
       "       source_depth_km  source_latitude  source_longitude  \\\n",
       " 0               5.184         42.92513          13.13692   \n",
       " 1               7.177         42.80906          13.15581   \n",
       " 2               3.756         42.85837          13.15530   \n",
       " 3               7.663         42.90045          13.10135   \n",
       " 4               4.131         42.92955          13.14209   \n",
       " ...               ...              ...               ...   \n",
       " 3539            7.295         42.83530          13.16524   \n",
       " 3540            5.115         42.81777          13.13808   \n",
       " 3541            5.359         42.83340          13.13729   \n",
       " 3542            5.547         42.83437          13.12944   \n",
       " 3543            4.247         42.83026          13.15613   \n",
       " \n",
       "      source_magnitude_type  source_magnitude   source_origin_time  \\\n",
       " 0                       Mw              1.87  2016-11-13T13:08:33   \n",
       " 1                       Mw              0.64  2016-12-16T06:59:47   \n",
       " 2                       Mw              1.22  2016-11-17T23:50:33   \n",
       " 3                       Mw              1.40  2016-11-18T16:38:19   \n",
       " 4                       Mw              0.80  2016-12-08T08:24:54   \n",
       " ...                    ...               ...                  ...   \n",
       " 3539                    Mw              1.85  2016-10-31T02:13:03   \n",
       " 3540                    Mw              0.79  2016-12-16T03:02:20   \n",
       " 3541                    Mw              0.89  2016-12-03T14:43:35   \n",
       " 3542                    Mw              0.67  2016-12-17T11:37:46   \n",
       " 3543                    Mw              1.06  2016-11-17T18:54:13   \n",
       " \n",
       "       p_travel_sec  \n",
       " 0             2.46  \n",
       " 1             1.79  \n",
       " 2             1.22  \n",
       " 3             2.28  \n",
       " 4             2.48  \n",
       " ...            ...  \n",
       " 3539          1.79  \n",
       " 3540          1.22  \n",
       " 3541          1.21  \n",
       " 3542          1.21  \n",
       " 3543          1.16  \n",
       " \n",
       " [3544 rows x 20 columns])"
      ]
     },
     "execution_count": 9,
     "metadata": {},
     "output_type": "execute_result"
    }
   ],
   "source": [
    "df2"
   ]
  },
  {
   "cell_type": "code",
   "execution_count": null,
   "metadata": {},
   "outputs": [],
   "source": []
  },
  {
   "cell_type": "code",
   "execution_count": null,
   "metadata": {},
   "outputs": [],
   "source": []
  },
  {
   "cell_type": "code",
   "execution_count": null,
   "metadata": {},
   "outputs": [],
   "source": []
  },
  {
   "cell_type": "code",
   "execution_count": null,
   "metadata": {},
   "outputs": [],
   "source": []
  },
  {
   "cell_type": "code",
   "execution_count": null,
   "metadata": {},
   "outputs": [],
   "source": []
  },
  {
   "cell_type": "code",
   "execution_count": null,
   "metadata": {},
   "outputs": [],
   "source": []
  },
  {
   "cell_type": "code",
   "execution_count": null,
   "metadata": {},
   "outputs": [],
   "source": []
  },
  {
   "cell_type": "code",
   "execution_count": null,
   "metadata": {},
   "outputs": [],
   "source": []
  },
  {
   "cell_type": "code",
   "execution_count": null,
   "metadata": {},
   "outputs": [],
   "source": []
  },
  {
   "cell_type": "code",
   "execution_count": null,
   "metadata": {},
   "outputs": [],
   "source": [
    "# frames_pre = frames_N_classes(df_pre, num_classes, pre_or_post=\"pre\")\n",
    "# frames_post = frames_N_classes(df_post, num_classes, pre_or_post=\"post\")\n"
   ]
  },
  {
   "cell_type": "code",
   "execution_count": null,
   "metadata": {},
   "outputs": [],
   "source": []
  },
  {
   "cell_type": "code",
   "execution_count": null,
   "metadata": {},
   "outputs": [],
   "source": []
  },
  {
   "cell_type": "code",
   "execution_count": null,
   "metadata": {},
   "outputs": [
    {
     "ename": "NameError",
     "evalue": "name 'df' is not defined",
     "output_type": "error",
     "traceback": [
      "\u001b[0;31m---------------------------------------------------------------------------\u001b[0m",
      "\u001b[0;31mNameError\u001b[0m                                 Traceback (most recent call last)",
      "Cell \u001b[0;32mIn[11], line 1\u001b[0m\n\u001b[0;32m----> 1\u001b[0m df, X_train, y_train, index_train, X_val, y_val, index_val, X_test, y_test, index_test\u001b[38;5;241m=\u001b[39mu\u001b[38;5;241m.\u001b[39mtrain_val_test_split(\u001b[43mdf\u001b[49m, train_percentage\u001b[38;5;241m=\u001b[39m\u001b[38;5;241m0.70\u001b[39m, val_percentage\u001b[38;5;241m=\u001b[39m\u001b[38;5;241m0.10\u001b[39m, test_percentage\u001b[38;5;241m=\u001b[39m\u001b[38;5;241m0.20\u001b[39m,force_in_test\u001b[38;5;241m=\u001b[39mforce_traces_in_test, split_random\u001b[38;5;241m=\u001b[39mtrValTest_split_rnd)\n\u001b[1;32m      2\u001b[0m batch_size \u001b[38;5;241m=\u001b[39m \u001b[38;5;241m32\u001b[39m\n\u001b[1;32m      3\u001b[0m tr_dl \u001b[38;5;241m=\u001b[39m u\u001b[38;5;241m.\u001b[39mcreate_dataloader(X\u001b[38;5;241m=\u001b[39mX_train, y\u001b[38;5;241m=\u001b[39my_train, index\u001b[38;5;241m=\u001b[39mindex_train,target_dataset\u001b[38;5;241m=\u001b[39m\u001b[38;5;124m\"\u001b[39m\u001b[38;5;124mtrain_dataset\u001b[39m\u001b[38;5;124m\"\u001b[39m, batch_size\u001b[38;5;241m=\u001b[39mbatch_size)\n",
      "\u001b[0;31mNameError\u001b[0m: name 'df' is not defined"
     ]
    }
   ],
   "source": [
    "\n",
    "\n",
    "df, X_train, y_train, index_train, X_val, y_val, index_val, X_test, y_test, index_test=u.train_val_test_split(df, train_percentage=0.70, val_percentage=0.10, test_percentage=0.20,force_in_test=force_traces_in_test, split_random=trValTest_split_rnd)\n",
    "batch_size = 32\n",
    "tr_dl = u.create_dataloader(X=X_train, y=y_train, index=index_train,target_dataset=\"train_dataset\", batch_size=batch_size)\n",
    "val_dl = u.create_dataloader(X=X_val, y=y_val, index=index_val,target_dataset=\"val_dataset\", batch_size=batch_size)\n",
    "test_dl = u.create_dataloader(X=X_test, y=y_test, index=index_test,target_dataset=\"test_dataset\", batch_size=batch_size)\n"
   ]
  }
 ],
 "metadata": {
  "kernelspec": {
   "display_name": "seisbench",
   "language": "python",
   "name": "python3"
  },
  "language_info": {
   "codemirror_mode": {
    "name": "ipython",
    "version": 3
   },
   "file_extension": ".py",
   "mimetype": "text/x-python",
   "name": "python",
   "nbconvert_exporter": "python",
   "pygments_lexer": "ipython3",
   "version": "3.9.19"
  }
 },
 "nbformat": 4,
 "nbformat_minor": 2
}
