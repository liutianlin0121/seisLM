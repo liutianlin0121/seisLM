{
 "cells": [
  {
   "cell_type": "code",
   "execution_count": 1,
   "metadata": {},
   "outputs": [
    {
     "name": "stderr",
     "output_type": "stream",
     "text": [
      "Seed set to 42\n",
      "Seed set to 42\n"
     ]
    }
   ],
   "source": [
    "import torch\n",
    "import torch.nn as nn\n",
    "\n",
    "from seisLM.data_pipeline import foreshock_aftershock_dataloaders as loaders\n",
    "from seisLM.model.task_specific import foreshock_aftershock_models as models\n",
    "\n",
    "dataloaders = loaders.prepare_foreshock_aftershock_dataloaders(\n",
    "  num_classes=2,\n",
    "  batch_size=32,\n",
    "  event_split_method='temporal'\n",
    ")"
   ]
  },
  {
   "cell_type": "code",
   "execution_count": 2,
   "metadata": {},
   "outputs": [],
   "source": [
    "# Example usage\n",
    "# Input shape: (batch_size, 3, 2500) where 3 is the number of channels\n",
    "# and 2500 is the time length\n",
    "# model = models.Conv1DShockClassifier(\n",
    "#   in_channels=3,\n",
    "#   num_classes=2,\n",
    "#   num_layers=7,\n",
    "#   initial_filters=32,\n",
    "#   kernel_size=3,\n",
    "# )\n",
    "\n",
    "\n",
    "import torch\n",
    "import torch.nn as nn\n",
    "import torch.nn.functional as F\n",
    "\n",
    "class BasicBlock1D(nn.Module):\n",
    "    def __init__(self, in_channels, out_channels, stride=1, downsample=None):\n",
    "        super(BasicBlock1D, self).__init__()\n",
    "        self.conv1 = nn.Conv1d(in_channels, out_channels, kernel_size=3, stride=stride, padding=1, bias=False)\n",
    "        self.bn1 = nn.BatchNorm1d(out_channels)\n",
    "        self.relu = nn.ReLU(inplace=True)\n",
    "        self.conv2 = nn.Conv1d(out_channels, out_channels, kernel_size=3, stride=1, padding=1, bias=False)\n",
    "        self.bn2 = nn.BatchNorm1d(out_channels)\n",
    "        self.downsample = downsample\n",
    "\n",
    "    def forward(self, x):\n",
    "        identity = x\n",
    "        if self.downsample is not None:\n",
    "            identity = self.downsample(x)\n",
    "\n",
    "        out = self.conv1(x)\n",
    "        out = self.bn1(out)\n",
    "        out = self.relu(out)\n",
    "        out = self.conv2(out)\n",
    "        out = self.bn2(out)\n",
    "\n",
    "        out += identity\n",
    "        out = self.relu(out)\n",
    "\n",
    "        return out\n",
    "\n",
    "class ResNet1D(nn.Module):\n",
    "    def __init__(self, block, layers, num_classes=1000):\n",
    "        super(ResNet1D, self).__init__()\n",
    "        self.in_channels = 64\n",
    "        self.conv1 = nn.Conv1d(3, 64, kernel_size=7, stride=2, padding=3, bias=False)\n",
    "        self.bn1 = nn.BatchNorm1d(64)\n",
    "        self.relu = nn.ReLU(inplace=True)\n",
    "        self.maxpool = nn.MaxPool1d(kernel_size=3, stride=2, padding=1)\n",
    "        self.layer1 = self._make_layer(block, 64, layers[0])\n",
    "        self.layer2 = self._make_layer(block, 128, layers[1], stride=2)\n",
    "        self.layer3 = self._make_layer(block, 256, layers[2], stride=2)\n",
    "        self.layer4 = self._make_layer(block, 512, layers[3], stride=2)\n",
    "        self.avgpool = nn.AdaptiveAvgPool1d(1)\n",
    "        self.fc = nn.Linear(512, num_classes)\n",
    "\n",
    "    def _make_layer(self, block, out_channels, blocks, stride=1):\n",
    "        downsample = None\n",
    "        if stride != 1 or self.in_channels != out_channels:\n",
    "            downsample = nn.Sequential(\n",
    "                nn.Conv1d(self.in_channels, out_channels, kernel_size=1, stride=stride, bias=False),\n",
    "                nn.BatchNorm1d(out_channels),\n",
    "            )\n",
    "\n",
    "        layers = []\n",
    "        layers.append(block(self.in_channels, out_channels, stride, downsample))\n",
    "        self.in_channels = out_channels\n",
    "        for _ in range(1, blocks):\n",
    "            layers.append(block(self.in_channels, out_channels))\n",
    "\n",
    "        return nn.Sequential(*layers)\n",
    "\n",
    "    def forward(self, x):\n",
    "        x = self.conv1(x)\n",
    "        x = self.bn1(x)\n",
    "        x = self.relu(x)\n",
    "        x = self.maxpool(x)\n",
    "\n",
    "        x = self.layer1(x)\n",
    "        x = self.layer2(x)\n",
    "        x = self.layer3(x)\n",
    "        x = self.layer4(x)\n",
    "\n",
    "        x = self.avgpool(x)\n",
    "        x = torch.flatten(x, 1)\n",
    "        x = self.fc(x)\n",
    "\n",
    "        return x\n",
    "\n",
    "def resnet18_1d(num_classes):\n",
    "    return ResNet1D(BasicBlock1D, [2, 2, 2, 2], num_classes)\n",
    "\n",
    "# Example usage\n",
    "model = resnet18_1d(num_classes=10)  # For 10 classes\n",
    "print(model)\n",
    "\n"
   ]
  },
  {
   "cell_type": "code",
   "execution_count": 3,
   "metadata": {},
   "outputs": [
    {
     "data": {
      "text/plain": [
       "==========================================================================================\n",
       "Layer (type:depth-idx)                   Output Shape              Param #\n",
       "==========================================================================================\n",
       "Conv1DShockClassifier                    [32, 2]                   --\n",
       "├─Sequential: 1-1                        [32, 2048, 16]            --\n",
       "│    └─DoubleConvBlock: 2-1              [32, 32, 1248]            --\n",
       "│    │    └─Sequential: 3-1              [32, 32, 1248]            3,488\n",
       "│    └─DoubleConvBlock: 2-2              [32, 64, 622]             --\n",
       "│    │    └─Sequential: 3-2              [32, 64, 622]             18,688\n",
       "│    └─DoubleConvBlock: 2-3              [32, 128, 309]            --\n",
       "│    │    └─Sequential: 3-3              [32, 128, 309]            74,240\n",
       "│    └─DoubleConvBlock: 2-4              [32, 256, 153]            --\n",
       "│    │    └─Sequential: 3-4              [32, 256, 153]            295,936\n",
       "│    └─DoubleConvBlock: 2-5              [32, 512, 75]             --\n",
       "│    │    └─Sequential: 3-5              [32, 512, 75]             1,181,696\n",
       "│    └─DoubleConvBlock: 2-6              [32, 1024, 36]            --\n",
       "│    │    └─Sequential: 3-6              [32, 1024, 36]            4,722,688\n",
       "│    └─DoubleConvBlock: 2-7              [32, 2048, 16]            --\n",
       "│    │    └─Sequential: 3-7              [32, 2048, 16]            18,882,560\n",
       "├─AdaptiveAvgPool1d: 1-2                 [32, 2048, 1]             --\n",
       "├─Sequential: 1-3                        [32, 2048]                --\n",
       "│    └─Linear: 2-8                       [32, 2048]                4,196,352\n",
       "│    └─BatchNorm1d: 2-9                  [32, 2048]                4,096\n",
       "│    └─GELU: 2-10                        [32, 2048]                --\n",
       "│    └─Dropout: 2-11                     [32, 2048]                --\n",
       "├─Sequential: 1-4                        [32, 2048]                --\n",
       "│    └─Linear: 2-12                      [32, 2048]                4,196,352\n",
       "│    └─BatchNorm1d: 2-13                 [32, 2048]                4,096\n",
       "│    └─GELU: 2-14                        [32, 2048]                --\n",
       "│    └─Dropout: 2-15                     [32, 2048]                --\n",
       "├─Linear: 1-5                            [32, 2]                   4,098\n",
       "==========================================================================================\n",
       "Total params: 33,584,290\n",
       "Trainable params: 33,584,290\n",
       "Non-trainable params: 0\n",
       "Total mult-adds (G): 28.18\n",
       "==========================================================================================\n",
       "Input size (MB): 0.96\n",
       "Forward/backward pass size (MB): 414.68\n",
       "Params size (MB): 134.34\n",
       "Estimated Total Size (MB): 549.98\n",
       "=========================================================================================="
      ]
     },
     "execution_count": 3,
     "metadata": {},
     "output_type": "execute_result"
    }
   ],
   "source": [
    "from torchinfo import summary\n",
    "\n",
    "summary(model, input_size=(32, 3, 2500))"
   ]
  },
  {
   "cell_type": "code",
   "execution_count": null,
   "metadata": {},
   "outputs": [],
   "source": []
  },
  {
   "cell_type": "code",
   "execution_count": 4,
   "metadata": {},
   "outputs": [],
   "source": [
    "train_loader = dataloaders['train']\n",
    "\n",
    "batch = next(iter(train_loader))"
   ]
  },
  {
   "cell_type": "code",
   "execution_count": 5,
   "metadata": {},
   "outputs": [],
   "source": [
    "out = model(batch[0].cuda())"
   ]
  }
 ],
 "metadata": {
  "kernelspec": {
   "display_name": "seisbench",
   "language": "python",
   "name": "python3"
  },
  "language_info": {
   "codemirror_mode": {
    "name": "ipython",
    "version": 3
   },
   "file_extension": ".py",
   "mimetype": "text/x-python",
   "name": "python",
   "nbconvert_exporter": "python",
   "pygments_lexer": "ipython3",
   "version": "3.9.19"
  }
 },
 "nbformat": 4,
 "nbformat_minor": 2
}
