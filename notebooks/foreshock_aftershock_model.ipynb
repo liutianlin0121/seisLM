{
 "cells": [
  {
   "cell_type": "code",
   "execution_count": 8,
   "metadata": {},
   "outputs": [
    {
     "name": "stderr",
     "output_type": "stream",
     "text": [
      "Seed set to 42\n",
      "Seed set to 42\n"
     ]
    }
   ],
   "source": [
    "import torch\n",
    "import torch.nn as nn\n",
    "\n",
    "from seisLM.data_pipeline import foreshock_aftershock_dataloaders as loaders\n",
    "from seisLM.model.task_specific import foreshock_aftershock_models as models\n",
    "\n",
    "dataloaders = loaders.prepare_foreshock_aftershock_dataloaders(\n",
    "  num_classes=2,\n",
    "  batch_size=32,\n",
    "  event_split_method='temporal'\n",
    ")"
   ]
  },
  {
   "cell_type": "code",
   "execution_count": 10,
   "metadata": {},
   "outputs": [],
   "source": [
    "# Example usage\n",
    "# Input shape: (batch_size, 3, 2500) where 3 is the number of channels and 2500 is the time length\n",
    "model = models.SeqClassifier(\n",
    "  in_channels=3,\n",
    "  num_classes=2,\n",
    "  num_layers=5,\n",
    "  initial_filters=32,\n",
    "  kernel_size=3,\n",
    ")\n"
   ]
  },
  {
   "cell_type": "code",
   "execution_count": 11,
   "metadata": {},
   "outputs": [
    {
     "data": {
      "text/plain": [
       "==========================================================================================\n",
       "Layer (type:depth-idx)                   Output Shape              Param #\n",
       "==========================================================================================\n",
       "SeqClassifier                            [32, 2]                   --\n",
       "├─Sequential: 1-1                        [32, 512, 73]             --\n",
       "│    └─DoubleConvBlock: 2-1              [32, 32, 1247]            --\n",
       "│    │    └─Sequential: 3-1              [32, 32, 1247]            3,488\n",
       "│    └─DoubleConvBlock: 2-2              [32, 64, 621]             --\n",
       "│    │    └─Sequential: 3-2              [32, 64, 621]             18,688\n",
       "│    └─DoubleConvBlock: 2-3              [32, 128, 308]            --\n",
       "│    │    └─Sequential: 3-3              [32, 128, 308]            74,240\n",
       "│    └─DoubleConvBlock: 2-4              [32, 256, 151]            --\n",
       "│    │    └─Sequential: 3-4              [32, 256, 151]            295,936\n",
       "│    └─DoubleConvBlock: 2-5              [32, 512, 73]             --\n",
       "│    │    └─Sequential: 3-5              [32, 512, 73]             1,181,696\n",
       "├─AdaptiveAvgPool1d: 1-2                 [32, 512, 1]              --\n",
       "├─Linear: 1-3                            [32, 2]                   1,026\n",
       "├─Softmax: 1-4                           [32, 2]                   --\n",
       "==========================================================================================\n",
       "Total params: 1,575,074\n",
       "Trainable params: 1,575,074\n",
       "Non-trainable params: 0\n",
       "Total mult-adds (G): 5.44\n",
       "==========================================================================================\n",
       "Input size (MB): 0.96\n",
       "Forward/backward pass size (MB): 200.80\n",
       "Params size (MB): 6.30\n",
       "Estimated Total Size (MB): 208.06\n",
       "=========================================================================================="
      ]
     },
     "execution_count": 11,
     "metadata": {},
     "output_type": "execute_result"
    }
   ],
   "source": [
    "from torchinfo import summary\n",
    "\n",
    "summary(model, input_size=(32, 3, 2500))"
   ]
  },
  {
   "cell_type": "code",
   "execution_count": null,
   "metadata": {},
   "outputs": [],
   "source": []
  },
  {
   "cell_type": "code",
   "execution_count": 12,
   "metadata": {},
   "outputs": [],
   "source": [
    "train_loader = dataloaders['train']\n",
    "\n",
    "batch = next(iter(train_loader))"
   ]
  },
  {
   "cell_type": "code",
   "execution_count": 13,
   "metadata": {},
   "outputs": [],
   "source": [
    "out = model(batch[0].cuda())"
   ]
  },
  {
   "cell_type": "code",
   "execution_count": 14,
   "metadata": {},
   "outputs": [
    {
     "data": {
      "text/plain": [
       "tensor([[0.5096, 0.4904],\n",
       "        [0.4979, 0.5021],\n",
       "        [0.4948, 0.5052],\n",
       "        [0.5014, 0.4986],\n",
       "        [0.5055, 0.4945],\n",
       "        [0.4850, 0.5150],\n",
       "        [0.4887, 0.5113],\n",
       "        [0.4988, 0.5012],\n",
       "        [0.5091, 0.4909],\n",
       "        [0.4763, 0.5237],\n",
       "        [0.4789, 0.5211],\n",
       "        [0.4312, 0.5688],\n",
       "        [0.5077, 0.4923],\n",
       "        [0.5020, 0.4980],\n",
       "        [0.4998, 0.5002],\n",
       "        [0.4959, 0.5041],\n",
       "        [0.5066, 0.4934],\n",
       "        [0.5067, 0.4933],\n",
       "        [0.5066, 0.4934],\n",
       "        [0.4810, 0.5190],\n",
       "        [0.5058, 0.4942],\n",
       "        [0.5080, 0.4920],\n",
       "        [0.4698, 0.5302],\n",
       "        [0.0680, 0.9320],\n",
       "        [0.5030, 0.4970],\n",
       "        [0.4990, 0.5010],\n",
       "        [0.5033, 0.4967],\n",
       "        [0.5069, 0.4931],\n",
       "        [0.4539, 0.5461],\n",
       "        [0.4796, 0.5204],\n",
       "        [0.5051, 0.4949],\n",
       "        [0.4948, 0.5052]], device='cuda:0', grad_fn=<SoftmaxBackward0>)"
      ]
     },
     "execution_count": 14,
     "metadata": {},
     "output_type": "execute_result"
    }
   ],
   "source": [
    "out\n"
   ]
  },
  {
   "cell_type": "code",
   "execution_count": null,
   "metadata": {},
   "outputs": [],
   "source": []
  },
  {
   "cell_type": "code",
   "execution_count": null,
   "metadata": {},
   "outputs": [],
   "source": []
  },
  {
   "cell_type": "code",
   "execution_count": null,
   "metadata": {},
   "outputs": [],
   "source": []
  },
  {
   "cell_type": "code",
   "execution_count": null,
   "metadata": {},
   "outputs": [],
   "source": []
  },
  {
   "cell_type": "code",
   "execution_count": 7,
   "metadata": {},
   "outputs": [
    {
     "data": {
      "text/plain": [
       "[tensor([[[ 3.5783e-03,  2.8276e-03,  3.9459e-03,  ...,  2.5031e-03,\n",
       "            1.2685e-03,  2.6371e-03],\n",
       "          [ 1.2586e-03,  2.5097e-03,  7.2960e-05,  ...,  1.9011e-03,\n",
       "           -9.5287e-04, -2.1381e-03],\n",
       "          [ 3.8037e-03,  3.8702e-03,  3.7532e-03,  ..., -8.2044e-04,\n",
       "           -1.3648e-04, -7.3744e-04]],\n",
       " \n",
       "         [[-6.6013e-03,  4.2305e-03,  7.7532e-03,  ...,  3.4833e-03,\n",
       "            2.5506e-03,  2.4355e-03],\n",
       "          [-3.2707e-03,  8.8590e-04,  3.0234e-03,  ...,  1.5748e-03,\n",
       "            1.2092e-03,  7.9352e-04],\n",
       "          [ 3.4617e-05, -3.3228e-04, -3.1695e-05,  ...,  6.4607e-04,\n",
       "            1.6141e-03,  1.6144e-03]],\n",
       " \n",
       "         [[ 8.2136e-03, -1.4681e-02, -6.9038e-03,  ...,  3.2647e-02,\n",
       "            6.5421e-02, -2.5690e-02],\n",
       "          [ 1.2605e-02,  5.3952e-03,  1.0567e-02,  ..., -3.8728e-02,\n",
       "            4.0352e-02,  1.4936e-02],\n",
       "          [-1.5980e-02, -8.4214e-03, -5.6518e-03,  ...,  2.7679e-02,\n",
       "            1.3561e-02,  5.2242e-02]],\n",
       " \n",
       "         ...,\n",
       " \n",
       "         [[ 3.1278e-03,  2.0907e-03,  5.5091e-03,  ...,  6.3052e-03,\n",
       "            4.5005e-03,  2.9294e-03],\n",
       "          [ 1.0579e-04, -2.4653e-03, -2.6835e-03,  ...,  1.0166e-03,\n",
       "            6.3148e-04, -1.0552e-03],\n",
       "          [-8.7081e-04, -1.0047e-03, -1.0552e-03,  ..., -2.9382e-03,\n",
       "           -2.2378e-03, -9.3657e-04]],\n",
       " \n",
       "         [[ 7.3382e-03,  7.2875e-03,  1.3294e-03,  ..., -5.8339e-03,\n",
       "            5.8798e-03, -5.2876e-04],\n",
       "          [ 3.9019e-03,  2.8849e-03,  3.8536e-03,  ...,  7.4818e-03,\n",
       "            1.4024e-02,  5.0472e-03],\n",
       "          [ 2.7110e-04,  1.3748e-03,  3.1292e-03,  ...,  1.0128e-02,\n",
       "           -4.4540e-03, -3.5840e-03]],\n",
       " \n",
       "         [[-1.9766e-03,  8.3337e-03,  1.0223e-03,  ...,  4.8060e-03,\n",
       "           -3.9906e-03, -6.4460e-03],\n",
       "          [ 1.0367e-03, -6.4239e-03, -3.4716e-03,  ...,  6.3339e-03,\n",
       "           -3.6798e-03,  3.4944e-03],\n",
       "          [-2.4641e-03,  4.4012e-04,  5.0752e-04,  ..., -1.5524e-03,\n",
       "            2.5867e-03, -7.8422e-03]]]),\n",
       " tensor([[1., 0.],\n",
       "         [1., 0.],\n",
       "         [0., 1.],\n",
       "         [0., 1.],\n",
       "         [0., 1.],\n",
       "         [0., 1.],\n",
       "         [1., 0.],\n",
       "         [1., 0.],\n",
       "         [0., 1.],\n",
       "         [0., 1.],\n",
       "         [0., 1.],\n",
       "         [1., 0.],\n",
       "         [1., 0.],\n",
       "         [1., 0.],\n",
       "         [1., 0.],\n",
       "         [0., 1.],\n",
       "         [1., 0.],\n",
       "         [1., 0.],\n",
       "         [1., 0.],\n",
       "         [1., 0.],\n",
       "         [0., 1.],\n",
       "         [1., 0.],\n",
       "         [1., 0.],\n",
       "         [1., 0.],\n",
       "         [1., 0.],\n",
       "         [1., 0.],\n",
       "         [0., 1.],\n",
       "         [0., 1.],\n",
       "         [1., 0.],\n",
       "         [1., 0.],\n",
       "         [1., 0.],\n",
       "         [0., 1.]])]"
      ]
     },
     "execution_count": 7,
     "metadata": {},
     "output_type": "execute_result"
    }
   ],
   "source": [
    "batch"
   ]
  },
  {
   "cell_type": "code",
   "execution_count": null,
   "metadata": {},
   "outputs": [],
   "source": []
  },
  {
   "cell_type": "code",
   "execution_count": null,
   "metadata": {},
   "outputs": [],
   "source": []
  },
  {
   "cell_type": "code",
   "execution_count": null,
   "metadata": {},
   "outputs": [],
   "source": []
  }
 ],
 "metadata": {
  "kernelspec": {
   "display_name": "seisbench",
   "language": "python",
   "name": "python3"
  },
  "language_info": {
   "codemirror_mode": {
    "name": "ipython",
    "version": 3
   },
   "file_extension": ".py",
   "mimetype": "text/x-python",
   "name": "python",
   "nbconvert_exporter": "python",
   "pygments_lexer": "ipython3",
   "version": "3.9.19"
  }
 },
 "nbformat": 4,
 "nbformat_minor": 2
}
