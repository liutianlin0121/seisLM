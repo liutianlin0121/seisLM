{
 "cells": [
  {
   "cell_type": "code",
   "execution_count": null,
   "metadata": {},
   "outputs": [
    {
     "name": "stdout",
     "output_type": "stream",
     "text": [
      "loading idx 2 from worker 1 loading idx 6 from worker 3 loading idx 8 from worker 4 loading idx 10 from worker 5 loading idx 0 from worker 0 \n",
      "\n",
      "loading idx 12 from worker 6 \n",
      "\n",
      "loading idx 7 from worker 3 \n",
      "loading idx 9 from worker 4 \n",
      "loading idx 1 from worker 0 \n",
      "loading idx 3 from worker 1 loading idx 13 from worker 6 \n",
      "\n",
      "\n",
      "\n",
      "loading idx 22 from worker 3 loading idx 18 from worker 1 loading idx 11 from worker 5 loading idx 16 from worker 0 loading idx 28 from worker 6 \n",
      "\n",
      "loading idx 24 from worker 4 \n",
      "loading idx 23 from worker 3 \n",
      "\n",
      "\n",
      "loading idx 17 from worker 0 loading idx 29 from worker 6 \n",
      "loading idx 14 from worker 7 loading idx 25 from worker 4 \n",
      "\n",
      "loading idx 19 from worker 1 loading idx 26 from worker 5 \n",
      "\n",
      "loading idx 15 from worker 7 \n",
      "\n",
      "\n",
      "loading idx 27 from worker 5 \n",
      "loading idx 30 from worker 7 \n",
      "loading idx 31 from worker 7 \n"
     ]
    },
    {
     "name": "stdout",
     "output_type": "stream",
     "text": [
      "loading idx 4 from worker 2 \n",
      "loading idx 5 from worker 2 \n",
      "loading idx 20 from worker 2 \n",
      "loading idx 21 from worker 2 \n",
      "loading idx 32 from worker 0 \n",
      "loading idx 33 from worker 0 \n",
      "loading idx 34 from worker 1 \n",
      "loading idx 35 from worker 1 \n",
      "loading idx 36 from worker 2 \n",
      "loading idx 37 from worker 2 \n",
      "loading idx 38 from worker 3 \n",
      "loading idx 39 from worker 3 \n"
     ]
    }
   ],
   "source": [
    "import torch\n",
    "from torch.utils.data import Dataset, DataLoader\n",
    "\n",
    "\n",
    "class MyDataset(Dataset):\n",
    "    def __init__(self):\n",
    "        self.data = torch.randn(512, 1)\n",
    "        \n",
    "    def __getitem__(self, idx):\n",
    "        worker_info = torch.utils.data.get_worker_info()\n",
    "        print(\"loading idx {} from worker {} \".format(\n",
    "            idx, worker_info.id))\n",
    "        x = self.data[idx]\n",
    "        return x\n",
    "    \n",
    "    def __len__(self):\n",
    "        return len(self.data)\n",
    "\n",
    "\n",
    "dataset = MyDataset()\n",
    "loader = DataLoader(dataset, num_workers=8, batch_size=2)\n",
    "loader_iter = iter(loader) # preloading starts here\n",
    "# with the default prefetch_factor of 2, 2*num_workers=16 batches will be preloaded\n",
    "# the max index printed by __getitem__ is thus 31 (16*batch_size=32 samples loaded)\n",
    "\n",
    "# data = next(loader_iter) # this will consume a batch and preload the next one from a single worker to fill the queue\n",
    "# batch_size=2 new samples should be loaded\n"
   ]
  },
  {
   "cell_type": "code",
   "execution_count": 9,
   "metadata": {},
   "outputs": [],
   "source": [
    "data = next(loader_iter) # this will consume a batch and preload the next one from a single worker to fill the queue\n",
    "# batch_size=2 new samples should be loaded\n"
   ]
  },
  {
   "cell_type": "code",
   "execution_count": null,
   "metadata": {},
   "outputs": [],
   "source": []
  }
 ],
 "metadata": {
  "kernelspec": {
   "display_name": "seisbench",
   "language": "python",
   "name": "python3"
  },
  "language_info": {
   "codemirror_mode": {
    "name": "ipython",
    "version": 3
   },
   "file_extension": ".py",
   "mimetype": "text/x-python",
   "name": "python",
   "nbconvert_exporter": "python",
   "pygments_lexer": "ipython3",
   "version": "3.9.19"
  }
 },
 "nbformat": 4,
 "nbformat_minor": 2
}
