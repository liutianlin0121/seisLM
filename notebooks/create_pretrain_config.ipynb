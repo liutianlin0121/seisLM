{
 "cells": [
  {
   "cell_type": "code",
   "execution_count": 1,
   "metadata": {},
   "outputs": [],
   "source": [
    "from ml_collections import config_dict\n",
    "from seisLM.utils import project_path\n",
    "from transformers import Wav2Vec2Config\n",
    "\n",
    "def get_training_config():\n",
    "    config = config_dict.ConfigDict()\n",
    "    config.data_name = ['ETHZ', 'GEOFON', 'STEAD', 'NEIC']\n",
    "    config.mask_time_prob = 0.65\n",
    "    config.mask_time_length = 10\n",
    "    config.global_batch_size = 4 #16\n",
    "    config.seed = 42\n",
    "    config.warmup_frac_step = 0.2\n",
    "    config.learning_rate = 1e-4\n",
    "    config.weight_decay = 1e-4\n",
    "    config.num_train_epochs = 20\n",
    "    config.adam_beta1 = 0.9\n",
    "    config.adam_beta2 = 0.999\n",
    "    config.adam_epsilon = 1e-8\n",
    "    config.max_gumbel_temperature = 2.0\n",
    "    config.min_gumbel_temperature = 0.5\n",
    "    config.log_every_n_steps = 100\n",
    "    config.num_workers = 8\n",
    "    config.precision = \"32\"\n",
    "    config.devices = 4\n",
    "    # project_path.create_folder_if_not_exists(config.model_save_dir)\n",
    "    return config"
   ]
  },
  {
   "cell_type": "code",
   "execution_count": null,
   "metadata": {},
   "outputs": [],
   "source": []
  },
  {
   "cell_type": "code",
   "execution_count": 2,
   "metadata": {},
   "outputs": [],
   "source": [
    "import json\n",
    "config = get_training_config()\n",
    "train_config_dict = config.to_dict()\n",
    "\n",
    "with open('training_config.json', 'w') as json_file:\n",
    "    json.dump(train_config_dict, json_file, indent=2)"
   ]
  },
  {
   "cell_type": "code",
   "execution_count": 5,
   "metadata": {},
   "outputs": [
    {
     "data": {
      "text/plain": [
       "adam_beta1: 0.9\n",
       "adam_beta2: 0.999\n",
       "adam_epsilon: 1.0e-08\n",
       "data_name:\n",
       "- ETHZ\n",
       "- GEOFON\n",
       "- STEAD\n",
       "- NEIC\n",
       "devices: 4\n",
       "global_batch_size: 4\n",
       "learning_rate: 0.0001\n",
       "log_every_n_steps: 100\n",
       "mask_time_length: 10\n",
       "mask_time_prob: 0.65\n",
       "max_gumbel_temperature: 2.0\n",
       "min_gumbel_temperature: 0.5\n",
       "num_train_epochs: 20\n",
       "num_workers: 8\n",
       "precision: '32'\n",
       "seed: 42\n",
       "warmup_frac_step: 0.2\n",
       "weight_decay: 0.0001"
      ]
     },
     "execution_count": 5,
     "metadata": {},
     "output_type": "execute_result"
    }
   ],
   "source": [
    "config"
   ]
  },
  {
   "cell_type": "code",
   "execution_count": 11,
   "metadata": {},
   "outputs": [],
   "source": [
    "from transformers import Wav2Vec2Config\n",
    "import os\n",
    "\n",
    "training_config_path = '/scicore/home/dokman0000/liu0003/projects/seisLM/seisLM/configs/pretrain/training_config.json'\n",
    "model_config_path = '/scicore/home/dokman0000/liu0003/projects/seisLM/seisLM/configs/pretrain/model_config_4xdownsample_sinkhorn.json'\n",
    "\n",
    "\n",
    "model_config = Wav2Vec2Config.from_pretrained(model_config_path)\n",
    "\n",
    "with open(training_config_path, \"r\", encoding=\"utf-8\") as f:\n",
    "  training_config = json.load(f)\n",
    "training_config = config_dict.ConfigDict(training_config)\n",
    "\n",
    "\n",
    "experiment_name = os.path.basename(model_config_path)[:-5]"
   ]
  },
  {
   "cell_type": "code",
   "execution_count": 12,
   "metadata": {},
   "outputs": [
    {
     "data": {
      "text/plain": [
       "'model_config_4xdownsample_sinkhorn'"
      ]
     },
     "execution_count": 12,
     "metadata": {},
     "output_type": "execute_result"
    }
   ],
   "source": [
    "experiment_name"
   ]
  }
 ],
 "metadata": {
  "kernelspec": {
   "display_name": "seisbench",
   "language": "python",
   "name": "python3"
  },
  "language_info": {
   "codemirror_mode": {
    "name": "ipython",
    "version": 3
   },
   "file_extension": ".py",
   "mimetype": "text/x-python",
   "name": "python",
   "nbconvert_exporter": "python",
   "pygments_lexer": "ipython3",
   "version": "3.9.19"
  }
 },
 "nbformat": 4,
 "nbformat_minor": 2
}
