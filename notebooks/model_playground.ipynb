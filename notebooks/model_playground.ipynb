{
 "cells": [
  {
   "cell_type": "code",
   "execution_count": 1,
   "metadata": {},
   "outputs": [],
   "source": [
    "import time\n",
    "from ml_collections import config_dict\n",
    "from torch.utils.data import DataLoader\n",
    "import lightning as L\n",
    "from lightning.pytorch.callbacks import ModelCheckpoint, LearningRateMonitor\n",
    "from lightning.pytorch import seed_everything\n",
    "from lightning.pytorch.loggers import WandbLogger\n",
    "from transformers import Wav2Vec2Config\n",
    "from seisLM.model.foundation.pretrained_models import LitMultiDimWav2Vec2\n",
    "from seisLM.data_pipeline import collator\n",
    "import seisbench\n",
    "import seisbench.data as sbd\n",
    "import seisbench.generate as sbg\n",
    "from seisbench.util import worker_seeding\n",
    "import json"
   ]
  },
  {
   "cell_type": "code",
   "execution_count": 2,
   "metadata": {},
   "outputs": [],
   "source": [
    "model_config_path = '/scicore/home/dokman0000/liu0003/projects/seisLM/seisLM/configs/pretrain/model_config_4xdownsample_scale_logits_quantization.json'\n",
    "\n",
    "model_config = Wav2Vec2Config.from_pretrained(\n",
    "  model_config_path,\n",
    "  attn_implementation=\"sdpa\"\n",
    ")\n",
    "\n",
    "\n",
    "training_config_path = '/scicore/home/dokman0000/liu0003/projects/seisLM/seisLM/configs/pretrain/training_config.json'\n",
    "\n",
    "with open(training_config_path, \"r\", encoding=\"utf-8\") as f:\n",
    "  training_config = json.load(f)\n",
    "training_config = config_dict.ConfigDict(training_config)\n",
    "\n",
    "model = LitMultiDimWav2Vec2(model_config, training_config)\n",
    "\n"
   ]
  },
  {
   "cell_type": "code",
   "execution_count": 4,
   "metadata": {},
   "outputs": [],
   "source": [
    "import torch\n",
    "model = torch.compile(model)"
   ]
  },
  {
   "cell_type": "code",
   "execution_count": 6,
   "metadata": {},
   "outputs": [],
   "source": [
    "import numpy as np\n",
    "\n",
    "\n",
    "data = sbd.STEAD(component_order='ZNE')\n",
    "data.filter(data.metadata[\"trace_category\"] != 'noise')\n",
    "train, dev, test = data.train_dev_test()\n",
    "train_generator = sbg.GenericGenerator(train)\n",
    "val_generator = sbg.GenericGenerator(dev)\n",
    "\n",
    "# Phase dict for labelling. We only study P and S phases without differentiating between them.\n",
    "phase_dict = {\n",
    "    \"trace_p_arrival_sample\": \"P\",\n",
    "    \"trace_pP_arrival_sample\": \"P\",\n",
    "    \"trace_P_arrival_sample\": \"P\",\n",
    "    \"trace_P1_arrival_sample\": \"P\",\n",
    "    \"trace_Pg_arrival_sample\": \"P\",\n",
    "    \"trace_Pn_arrival_sample\": \"P\",\n",
    "    \"trace_PmP_arrival_sample\": \"P\",\n",
    "    \"trace_pwP_arrival_sample\": \"P\",\n",
    "    \"trace_pwPm_arrival_sample\": \"P\",\n",
    "    \"trace_s_arrival_sample\": \"S\",\n",
    "    \"trace_S_arrival_sample\": \"S\",\n",
    "    \"trace_S1_arrival_sample\": \"S\",\n",
    "    \"trace_Sg_arrival_sample\": \"S\",\n",
    "    \"trace_SmS_arrival_sample\": \"S\",\n",
    "    \"trace_Sn_arrival_sample\": \"S\",\n",
    "}\n",
    "\n",
    "\n",
    "augmentations = [\n",
    "    sbg.OneOf(\n",
    "        [\n",
    "            sbg.WindowAroundSample(\n",
    "                list(phase_dict.keys()),\n",
    "                samples_before=3000,\n",
    "                windowlen=6000,\n",
    "                selection=\"random\",\n",
    "                strategy=\"variable\",\n",
    "            ),\n",
    "            sbg.NullAugmentation(),\n",
    "        ],\n",
    "        probabilities=[2, 1],\n",
    "    ),\n",
    "    sbg.RandomWindow(\n",
    "        low=None,\n",
    "        high=None,\n",
    "        windowlen=3001,\n",
    "        strategy=\"pad\",\n",
    "    ),\n",
    "    sbg.ChangeDtype(np.float32),\n",
    "    sbg.Normalize(demean_axis=-1, amp_norm_axis=-1, amp_norm_type=\"peak\"),\n",
    "]\n",
    "\n",
    "train_generator.add_augmentations(augmentations)\n",
    "val_generator.add_augmentations(augmentations)\n"
   ]
  },
  {
   "cell_type": "code",
   "execution_count": null,
   "metadata": {},
   "outputs": [],
   "source": []
  },
  {
   "cell_type": "code",
   "execution_count": 14,
   "metadata": {},
   "outputs": [
    {
     "data": {
      "text/plain": [
       "(3, 3001)"
      ]
     },
     "execution_count": 14,
     "metadata": {},
     "output_type": "execute_result"
    }
   ],
   "source": [
    "train_generator[0]['X'].shape"
   ]
  },
  {
   "cell_type": "code",
   "execution_count": null,
   "metadata": {},
   "outputs": [],
   "source": []
  }
 ],
 "metadata": {
  "kernelspec": {
   "display_name": "seisbench",
   "language": "python",
   "name": "python3"
  },
  "language_info": {
   "codemirror_mode": {
    "name": "ipython",
    "version": 3
   },
   "file_extension": ".py",
   "mimetype": "text/x-python",
   "name": "python",
   "nbconvert_exporter": "python",
   "pygments_lexer": "ipython3",
   "version": "3.9.19"
  }
 },
 "nbformat": 4,
 "nbformat_minor": 2
}
