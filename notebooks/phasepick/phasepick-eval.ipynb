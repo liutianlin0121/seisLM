{
 "cells": [
  {
   "cell_type": "code",
   "execution_count": 1,
   "metadata": {},
   "outputs": [
    {
     "name": "stderr",
     "output_type": "stream",
     "text": [
      "/home/liu0003/miniconda3/envs/seisbench/lib/python3.9/site-packages/tqdm/auto.py:21: TqdmWarning: IProgress not found. Please update jupyter and ipywidgets. See https://ipywidgets.readthedocs.io/en/stable/user_install.html\n",
      "  from .autonotebook import tqdm as notebook_tqdm\n"
     ]
    }
   ],
   "source": [
    "import pandas as pd\n",
    "import logging\n",
    "import torch\n",
    "import pytorch_lightning as pl\n",
    "from pathlib import Path\n",
    "from torch.utils.data import DataLoader\n",
    "import seisbench\n",
    "import seisbench.models as sbm\n",
    "from seisLM.evaluation import pick_eval\n",
    "\n",
    "# from seisLM.utils.project_path import gitdir\n",
    "from sklearn.metrics import roc_curve, precision_recall_curve\n",
    "import matplotlib.pyplot as plt\n",
    "from seisLM.utils import project_path"
   ]
  },
  {
   "cell_type": "code",
   "execution_count": 2,
   "metadata": {},
   "outputs": [
    {
     "ename": "",
     "evalue": "",
     "output_type": "error",
     "traceback": [
      "\u001b[1;31mThe Kernel crashed while executing code in the current cell or a previous cell. \n",
      "\u001b[1;31mPlease review the code in the cell(s) to identify a possible cause of the failure. \n",
      "\u001b[1;31mClick <a href='https://aka.ms/vscodeJupyterKernelCrash'>here</a> for more info. \n",
      "\u001b[1;31mView Jupyter <a href='command:jupyter.viewOutput'>log</a> for further details."
     ]
    }
   ],
   "source": [
    "phasenet_ethz = {\n",
    "  '0.05': \"/home/liu0003/Desktop/projects/seisLM/results/models/phasepick_run/phasenet_ETHZ_train_frac_0.05_model_PhaseNet_seed_42_time_2024-08-11-16h-57m-27s/checkpoints/epoch=49-step=800.ckpt\",\n",
    "  '0.1': \"/home/liu0003/Desktop/projects/seisLM/results/models/phasepick_run/phasenet_ETHZ_train_frac_0.1_model_PhaseNet_seed_42_time_2024-08-11-16h-59m-42s/checkpoints/epoch=49-step=2400.ckpt\",\n",
    "  '0.2': \"/home/liu0003/Desktop/projects/seisLM/results/models/phasepick_run/phasenet_ETHZ_train_frac_0.2_model_PhaseNet_seed_42_time_2024-08-11-17h-01m-13s/checkpoints/epoch=48-step=3920.ckpt\",\n",
    "  '0.5': \"/home/liu0003/Desktop/projects/seisLM/results/models/phasepick_run/phasenet_ETHZ_train_frac_0.5_model_PhaseNet_seed_42_time_2024-08-11-17h-03m-46s/checkpoints/epoch=37-step=6498.ckpt\",\n",
    "  '1.0': \"/home/liu0003/Desktop/projects/seisLM/results/models/phasepick_run/phasenet_ETHZ_train_frac_1.0_model_PhaseNet_seed_42_time_2024-08-11-17h-04m-13s/checkpoints/epoch=37-step=13414.ckpt\",\n",
    "}\n",
    "\n",
    "\n",
    "phasenet_geofon = {\n",
    "  '0.05': \"/home/liu0003/Desktop/projects/seisLM/results/models/phasepick_run/phasenet_GEOFON_train_frac_0.05_model_PhaseNet_seed_42_time_2024-08-11-16h-47m-30s/checkpoints/epoch=41-step=5208.ckpt\",\n",
    "  '0.1': \"/home/liu0003/Desktop/projects/seisLM/results/models/phasepick_run/phasenet_GEOFON_train_frac_0.1_model_PhaseNet_seed_42_time_2024-08-11-16h-47m-30s/checkpoints/epoch=42-step=10965.ckpt\",\n",
    "  '0.2': \"/home/liu0003/Desktop/projects/seisLM/results/models/phasepick_run/phasenet_GEOFON_train_frac_0.2_model_PhaseNet_seed_42_time_2024-08-11-16h-47m-30s/checkpoints/epoch=26-step=13392.ckpt\",\n",
    "  '0.5': \"/home/liu0003/Desktop/projects/seisLM/results/models/phasepick_run/phasenet_GEOFON_train_frac_0.5_model_PhaseNet_seed_42_time_2024-08-11-16h-47m-31s/checkpoints/epoch=28-step=36801.ckpt\",\n",
    "  '1.0': \"/home/liu0003/Desktop/projects/seisLM/results/models/phasepick_run/phasenet_GEOFON_train_frac_1.0_model_PhaseNet_seed_42_time_2024-08-11-16h-47m-31s/checkpoints/epoch=20-step=52920.ckpt\",\n",
    "}\n",
    "\n",
    "\n",
    "seislm_ethz = {\n",
    "  '0.05': \"/home/liu0003/Desktop/projects/seisLM/results/models/phasepick_run/seisLM_convpos_ETHZ_train_frac_0.05_model_MultiDimWav2Vec2ForFrameClassification_seed_42_time_2024-08-12-20h-00m-41s/checkpoints/epoch=40-step=656.ckpt\", \n",
    "  '0.1': \"/home/liu0003/Desktop/projects/seisLM/results/models/phasepick_run/seisLM_convpos_ETHZ_train_frac_0.1_model_MultiDimWav2Vec2ForFrameClassification_seed_42_time_2024-08-12-20h-06m-11s/checkpoints/epoch=41-step=2016.ckpt\",\n",
    "  '0.2': \"/home/liu0003/Desktop/projects/seisLM/results/models/phasepick_run/seisLM_convpos_ETHZ_train_frac_0.2_model_MultiDimWav2Vec2ForFrameClassification_seed_42_time_2024-08-12-20h-14m-40s/checkpoints/epoch=44-step=3600.ckpt\",\n",
    "  '0.5': \"/home/liu0003/Desktop/projects/seisLM/results/models/phasepick_run/seisLM_convpos_ETHZ_train_frac_0.5_model_MultiDimWav2Vec2ForFrameClassification_seed_42_time_2024-08-12-20h-26m-11s/checkpoints/epoch=36-step=6327.ckpt\",\n",
    "  '1.0': \"/home/liu0003/Desktop/projects/seisLM/results/models/phasepick_run/seisLM_convpos_ETHZ_train_frac_1.0_model_MultiDimWav2Vec2ForFrameClassification_seed_42_time_2024-08-12-20h-46m-05s/checkpoints/epoch=46-step=16591.ckpt\"\n",
    "}\n",
    "\n",
    "seislm_geofon = {\n",
    "  '0.05': \"/home/liu0003/Desktop/projects/seisLM/results/models/phasepick_run/seisLM_convpos_GEOFON_train_frac_0.05_model_MultiDimWav2Vec2ForFrameClassification_seed_42_time_2024-08-12-18h-36m-00s/checkpoints/epoch=38-step=4836.ckpt\",\n",
    "  '0.1': \"/home/liu0003/Desktop/projects/seisLM/results/models/phasepick_run/seisLM_convpos_GEOFON_train_frac_0.1_model_MultiDimWav2Vec2ForFrameClassification_seed_42_time_2024-08-12-18h-36m-01s/checkpoints/epoch=46-step=11985.ckpt\",\n",
    "  '0.2': \"/home/liu0003/Desktop/projects/seisLM/results/models/phasepick_run/seisLM_convpos_GEOFON_train_frac_0.2_model_MultiDimWav2Vec2ForFrameClassification_seed_42_time_2024-08-12-19h-01m-20s/checkpoints/epoch=49-step=24800.ckpt\",\n",
    "  '0.5': \"/home/liu0003/Desktop/projects/seisLM/results/models/phasepick_run/seisLM_convpos_GEOFON_train_frac_0.5_model_MultiDimWav2Vec2ForFrameClassification_seed_42_time_2024-08-12-19h-13m-26s/checkpoints/epoch=48-step=62181.ckpt\",\n",
    "  '1.0': \"/home/liu0003/Desktop/projects/seisLM/results/models/phasepick_run/seisLM_convpos_GEOFON_train_frac_1.0_model_MultiDimWav2Vec2ForFrameClassification_seed_42_time_2024-08-12-19h-25m-23s/checkpoints/epoch=36-step=93240.ckpt\",\n",
    "}\n",
    "\n",
    "all_ckpt_dicts = {\n",
    "  # ('ethz', 'MultiDimWav2Vec2ForFrameClassification'): seislm_ethz,\n",
    "  # ('geofon', 'MultiDimWav2Vec2ForFrameClassification'): seislm_geofon,\n",
    "  ('ethz', 'PhaseNet'): phasenet_ethz,\n",
    "  ('geofon', 'PhaseNet'): phasenet_geofon,\n",
    "}\n"
   ]
  },
  {
   "cell_type": "code",
   "execution_count": 3,
   "metadata": {},
   "outputs": [
    {
     "name": "stdout",
     "output_type": "stream",
     "text": [
      "dataset: ethz, model: PhaseNet, frac: 0.05\n",
      "ckpt: /home/liu0003/Desktop/projects/seisLM/results/models/phasepick_run/phasenet_ETHZ_train_frac_0.05_model_PhaseNet_seed_42_time_2024-08-11-16h-57m-27s/checkpoints/epoch=49-step=800.ckpt\n",
      "model tag, phasenet_ETHZ_train_frac_0.05_model_PhaseNet_seed_42_time_2024-08-11-16h-57m-27s\n"
     ]
    },
    {
     "name": "stderr",
     "output_type": "stream",
     "text": [
      "2024-08-13 11:24:44,376 | seisbench | WARNING | Check available storage and memory before downloading and general use of ETHZ dataset. Dataset size: waveforms.hdf5 ~22Gb, metadata.csv ~13Mb\n",
      "WARNING:seisbench:Check available storage and memory before downloading and general use of ETHZ dataset. Dataset size: waveforms.hdf5 ~22Gb, metadata.csv ~13Mb\n",
      "WARNING:root:Starting set test\n",
      "Preloading waveforms: 100%|██████████| 10485/10485 [00:12<00:00, 807.22it/s]\n",
      "WARNING:root:Starting task 1\n",
      "GPU available: True (cuda), used: True\n",
      "TPU available: False, using: 0 TPU cores\n",
      "IPU available: False, using: 0 IPUs\n",
      "HPU available: False, using: 0 HPUs\n",
      "LOCAL_RANK: 0 - CUDA_VISIBLE_DEVICES: [0,1]\n"
     ]
    },
    {
     "name": "stdout",
     "output_type": "stream",
     "text": [
      "Predicting DataLoader 0: 100%|██████████| 328/328 [00:24<00:00, 13.46it/s]\n"
     ]
    },
    {
     "name": "stderr",
     "output_type": "stream",
     "text": [
      "WARNING:root:Starting task 23\n",
      "GPU available: True (cuda), used: True\n",
      "TPU available: False, using: 0 TPU cores\n",
      "IPU available: False, using: 0 IPUs\n",
      "HPU available: False, using: 0 HPUs\n",
      "LOCAL_RANK: 0 - CUDA_VISIBLE_DEVICES: [0,1]\n"
     ]
    },
    {
     "name": "stdout",
     "output_type": "stream",
     "text": [
      "Predicting DataLoader 0: 100%|██████████| 252/252 [00:18<00:00, 13.30it/s]\n",
      "dataset: ethz, model: PhaseNet, frac: 0.1\n",
      "ckpt: /home/liu0003/Desktop/projects/seisLM/results/models/phasepick_run/phasenet_ETHZ_train_frac_0.1_model_PhaseNet_seed_42_time_2024-08-11-16h-59m-42s/checkpoints/epoch=49-step=2400.ckpt\n",
      "model tag, phasenet_ETHZ_train_frac_0.1_model_PhaseNet_seed_42_time_2024-08-11-16h-59m-42s\n"
     ]
    },
    {
     "name": "stderr",
     "output_type": "stream",
     "text": [
      "2024-08-13 11:25:43,892 | seisbench | WARNING | Check available storage and memory before downloading and general use of ETHZ dataset. Dataset size: waveforms.hdf5 ~22Gb, metadata.csv ~13Mb\n",
      "WARNING:seisbench:Check available storage and memory before downloading and general use of ETHZ dataset. Dataset size: waveforms.hdf5 ~22Gb, metadata.csv ~13Mb\n",
      "WARNING:root:Starting set test\n",
      "Preloading waveforms: 100%|██████████| 10485/10485 [00:02<00:00, 3563.24it/s]\n",
      "WARNING:root:Starting task 1\n",
      "GPU available: True (cuda), used: True\n",
      "TPU available: False, using: 0 TPU cores\n",
      "IPU available: False, using: 0 IPUs\n",
      "HPU available: False, using: 0 HPUs\n",
      "LOCAL_RANK: 0 - CUDA_VISIBLE_DEVICES: [0,1]\n"
     ]
    },
    {
     "name": "stdout",
     "output_type": "stream",
     "text": [
      "Predicting DataLoader 0: 100%|██████████| 328/328 [00:24<00:00, 13.65it/s]\n"
     ]
    },
    {
     "name": "stderr",
     "output_type": "stream",
     "text": [
      "WARNING:root:Starting task 23\n",
      "GPU available: True (cuda), used: True\n",
      "TPU available: False, using: 0 TPU cores\n",
      "IPU available: False, using: 0 IPUs\n",
      "HPU available: False, using: 0 HPUs\n",
      "LOCAL_RANK: 0 - CUDA_VISIBLE_DEVICES: [0,1]\n"
     ]
    },
    {
     "name": "stdout",
     "output_type": "stream",
     "text": [
      "Predicting DataLoader 0: 100%|██████████| 252/252 [00:18<00:00, 13.33it/s]\n",
      "dataset: ethz, model: PhaseNet, frac: 0.2\n",
      "ckpt: /home/liu0003/Desktop/projects/seisLM/results/models/phasepick_run/phasenet_ETHZ_train_frac_0.2_model_PhaseNet_seed_42_time_2024-08-11-17h-01m-13s/checkpoints/epoch=48-step=3920.ckpt\n",
      "model tag, phasenet_ETHZ_train_frac_0.2_model_PhaseNet_seed_42_time_2024-08-11-17h-01m-13s\n"
     ]
    },
    {
     "name": "stderr",
     "output_type": "stream",
     "text": [
      "2024-08-13 11:26:33,663 | seisbench | WARNING | Check available storage and memory before downloading and general use of ETHZ dataset. Dataset size: waveforms.hdf5 ~22Gb, metadata.csv ~13Mb\n",
      "WARNING:seisbench:Check available storage and memory before downloading and general use of ETHZ dataset. Dataset size: waveforms.hdf5 ~22Gb, metadata.csv ~13Mb\n",
      "WARNING:root:Starting set test\n",
      "Preloading waveforms: 100%|██████████| 10485/10485 [00:02<00:00, 3647.24it/s]\n",
      "WARNING:root:Starting task 1\n",
      "GPU available: True (cuda), used: True\n",
      "TPU available: False, using: 0 TPU cores\n",
      "IPU available: False, using: 0 IPUs\n",
      "HPU available: False, using: 0 HPUs\n",
      "LOCAL_RANK: 0 - CUDA_VISIBLE_DEVICES: [0,1]\n"
     ]
    },
    {
     "name": "stdout",
     "output_type": "stream",
     "text": [
      "Predicting DataLoader 0: 100%|██████████| 328/328 [00:24<00:00, 13.66it/s]\n"
     ]
    },
    {
     "name": "stderr",
     "output_type": "stream",
     "text": [
      "WARNING:root:Starting task 23\n",
      "GPU available: True (cuda), used: True\n",
      "TPU available: False, using: 0 TPU cores\n",
      "IPU available: False, using: 0 IPUs\n",
      "HPU available: False, using: 0 HPUs\n",
      "LOCAL_RANK: 0 - CUDA_VISIBLE_DEVICES: [0,1]\n"
     ]
    },
    {
     "name": "stdout",
     "output_type": "stream",
     "text": [
      "Predicting DataLoader 0: 100%|██████████| 252/252 [00:18<00:00, 13.37it/s]\n",
      "dataset: ethz, model: PhaseNet, frac: 0.5\n",
      "ckpt: /home/liu0003/Desktop/projects/seisLM/results/models/phasepick_run/phasenet_ETHZ_train_frac_0.5_model_PhaseNet_seed_42_time_2024-08-11-17h-03m-46s/checkpoints/epoch=37-step=6498.ckpt\n",
      "model tag, phasenet_ETHZ_train_frac_0.5_model_PhaseNet_seed_42_time_2024-08-11-17h-03m-46s\n"
     ]
    },
    {
     "name": "stderr",
     "output_type": "stream",
     "text": [
      "2024-08-13 11:27:24,105 | seisbench | WARNING | Check available storage and memory before downloading and general use of ETHZ dataset. Dataset size: waveforms.hdf5 ~22Gb, metadata.csv ~13Mb\n",
      "WARNING:seisbench:Check available storage and memory before downloading and general use of ETHZ dataset. Dataset size: waveforms.hdf5 ~22Gb, metadata.csv ~13Mb\n",
      "WARNING:root:Starting set test\n",
      "Preloading waveforms: 100%|██████████| 10485/10485 [00:02<00:00, 3637.54it/s]\n",
      "WARNING:root:Starting task 1\n",
      "GPU available: True (cuda), used: True\n",
      "TPU available: False, using: 0 TPU cores\n",
      "IPU available: False, using: 0 IPUs\n",
      "HPU available: False, using: 0 HPUs\n",
      "LOCAL_RANK: 0 - CUDA_VISIBLE_DEVICES: [0,1]\n"
     ]
    },
    {
     "name": "stdout",
     "output_type": "stream",
     "text": [
      "Predicting DataLoader 0: 100%|██████████| 328/328 [00:24<00:00, 13.47it/s]\n"
     ]
    },
    {
     "name": "stderr",
     "output_type": "stream",
     "text": [
      "WARNING:root:Starting task 23\n",
      "GPU available: True (cuda), used: True\n",
      "TPU available: False, using: 0 TPU cores\n",
      "IPU available: False, using: 0 IPUs\n",
      "HPU available: False, using: 0 HPUs\n",
      "LOCAL_RANK: 0 - CUDA_VISIBLE_DEVICES: [0,1]\n"
     ]
    },
    {
     "name": "stdout",
     "output_type": "stream",
     "text": [
      "Predicting DataLoader 0: 100%|██████████| 252/252 [00:18<00:00, 13.28it/s]\n",
      "dataset: ethz, model: PhaseNet, frac: 1.0\n",
      "ckpt: /home/liu0003/Desktop/projects/seisLM/results/models/phasepick_run/phasenet_ETHZ_train_frac_1.0_model_PhaseNet_seed_42_time_2024-08-11-17h-04m-13s/checkpoints/epoch=37-step=13414.ckpt\n",
      "model tag, phasenet_ETHZ_train_frac_1.0_model_PhaseNet_seed_42_time_2024-08-11-17h-04m-13s\n"
     ]
    },
    {
     "name": "stderr",
     "output_type": "stream",
     "text": [
      "2024-08-13 11:28:15,672 | seisbench | WARNING | Check available storage and memory before downloading and general use of ETHZ dataset. Dataset size: waveforms.hdf5 ~22Gb, metadata.csv ~13Mb\n",
      "WARNING:seisbench:Check available storage and memory before downloading and general use of ETHZ dataset. Dataset size: waveforms.hdf5 ~22Gb, metadata.csv ~13Mb\n",
      "WARNING:root:Starting set test\n",
      "Preloading waveforms: 100%|██████████| 10485/10485 [00:02<00:00, 3685.30it/s]\n",
      "WARNING:root:Starting task 1\n",
      "GPU available: True (cuda), used: True\n",
      "TPU available: False, using: 0 TPU cores\n",
      "IPU available: False, using: 0 IPUs\n",
      "HPU available: False, using: 0 HPUs\n",
      "LOCAL_RANK: 0 - CUDA_VISIBLE_DEVICES: [0,1]\n"
     ]
    },
    {
     "name": "stdout",
     "output_type": "stream",
     "text": [
      "Predicting DataLoader 0: 100%|██████████| 328/328 [00:24<00:00, 13.60it/s]\n"
     ]
    },
    {
     "name": "stderr",
     "output_type": "stream",
     "text": [
      "WARNING:root:Starting task 23\n",
      "GPU available: True (cuda), used: True\n",
      "TPU available: False, using: 0 TPU cores\n",
      "IPU available: False, using: 0 IPUs\n",
      "HPU available: False, using: 0 HPUs\n",
      "LOCAL_RANK: 0 - CUDA_VISIBLE_DEVICES: [0,1]\n"
     ]
    },
    {
     "name": "stdout",
     "output_type": "stream",
     "text": [
      "Predicting DataLoader 0: 100%|██████████| 252/252 [00:18<00:00, 13.35it/s]\n",
      "dataset: geofon, model: PhaseNet, frac: 0.05\n",
      "ckpt: /home/liu0003/Desktop/projects/seisLM/results/models/phasepick_run/phasenet_GEOFON_train_frac_0.05_model_PhaseNet_seed_42_time_2024-08-11-16h-47m-30s/checkpoints/epoch=41-step=5208.ckpt\n",
      "model tag, phasenet_GEOFON_train_frac_0.05_model_PhaseNet_seed_42_time_2024-08-11-16h-47m-30s\n"
     ]
    },
    {
     "name": "stderr",
     "output_type": "stream",
     "text": [
      "WARNING:root:Starting set test\n",
      "Preloading waveforms: 100%|██████████| 86261/86261 [00:16<00:00, 5109.23it/s]\n",
      "WARNING:root:Starting task 1\n",
      "GPU available: True (cuda), used: True\n",
      "TPU available: False, using: 0 TPU cores\n",
      "IPU available: False, using: 0 IPUs\n",
      "HPU available: False, using: 0 HPUs\n",
      "LOCAL_RANK: 0 - CUDA_VISIBLE_DEVICES: [0,1]\n"
     ]
    },
    {
     "name": "stdout",
     "output_type": "stream",
     "text": [
      "Predicting DataLoader 0: 100%|██████████| 2696/2696 [01:16<00:00, 35.11it/s]\n"
     ]
    },
    {
     "name": "stderr",
     "output_type": "stream",
     "text": [
      "WARNING:root:Starting task 23\n",
      "GPU available: True (cuda), used: True\n",
      "TPU available: False, using: 0 TPU cores\n",
      "IPU available: False, using: 0 IPUs\n",
      "HPU available: False, using: 0 HPUs\n",
      "LOCAL_RANK: 0 - CUDA_VISIBLE_DEVICES: [0,1]\n"
     ]
    },
    {
     "name": "stdout",
     "output_type": "stream",
     "text": [
      "Predicting DataLoader 0: 100%|██████████| 1416/1416 [00:40<00:00, 35.14it/s]\n",
      "dataset: geofon, model: PhaseNet, frac: 0.1\n",
      "ckpt: /home/liu0003/Desktop/projects/seisLM/results/models/phasepick_run/phasenet_GEOFON_train_frac_0.1_model_PhaseNet_seed_42_time_2024-08-11-16h-47m-30s/checkpoints/epoch=42-step=10965.ckpt\n",
      "model tag, phasenet_GEOFON_train_frac_0.1_model_PhaseNet_seed_42_time_2024-08-11-16h-47m-30s\n"
     ]
    },
    {
     "name": "stderr",
     "output_type": "stream",
     "text": [
      "WARNING:root:Starting set test\n",
      "Preloading waveforms: 100%|██████████| 86261/86261 [00:19<00:00, 4447.05it/s]\n",
      "WARNING:root:Starting task 1\n",
      "GPU available: True (cuda), used: True\n",
      "TPU available: False, using: 0 TPU cores\n",
      "IPU available: False, using: 0 IPUs\n",
      "HPU available: False, using: 0 HPUs\n",
      "LOCAL_RANK: 0 - CUDA_VISIBLE_DEVICES: [0,1]\n"
     ]
    },
    {
     "name": "stdout",
     "output_type": "stream",
     "text": [
      "Predicting DataLoader 0: 100%|██████████| 2696/2696 [01:15<00:00, 35.67it/s]\n"
     ]
    },
    {
     "name": "stderr",
     "output_type": "stream",
     "text": [
      "WARNING:root:Starting task 23\n",
      "GPU available: True (cuda), used: True\n",
      "TPU available: False, using: 0 TPU cores\n",
      "IPU available: False, using: 0 IPUs\n",
      "HPU available: False, using: 0 HPUs\n",
      "LOCAL_RANK: 0 - CUDA_VISIBLE_DEVICES: [0,1]\n"
     ]
    },
    {
     "name": "stdout",
     "output_type": "stream",
     "text": [
      "Predicting DataLoader 0: 100%|██████████| 1416/1416 [00:40<00:00, 35.20it/s]\n",
      "dataset: geofon, model: PhaseNet, frac: 0.2\n",
      "ckpt: /home/liu0003/Desktop/projects/seisLM/results/models/phasepick_run/phasenet_GEOFON_train_frac_0.2_model_PhaseNet_seed_42_time_2024-08-11-16h-47m-30s/checkpoints/epoch=26-step=13392.ckpt\n",
      "model tag, phasenet_GEOFON_train_frac_0.2_model_PhaseNet_seed_42_time_2024-08-11-16h-47m-30s\n"
     ]
    },
    {
     "name": "stderr",
     "output_type": "stream",
     "text": [
      "WARNING:root:Starting set test\n",
      "Preloading waveforms:  51%|█████▏    | 44361/86261 [00:09<00:08, 4730.40it/s]"
     ]
    }
   ],
   "source": [
    "# ckpt = \"/scicore/home/dokman0000/liu0003/projects/seisLM/results/models/ethz_seisLM/42__2024-06-07-10h-43m-45s/checkpoints/epoch=28-step=5104.ckpt\"\n",
    "\n",
    "# sets = 'dev,test'\n",
    "sets = 'test'\n",
    "\n",
    "for (dataset, model_name), ckpt_dict in all_ckpt_dicts.items():\n",
    "  for frac, ckpt in ckpt_dict.items():\n",
    "    print(f\"dataset: {dataset}, model: {model_name}, frac: {frac}\")\n",
    "    print(f\"ckpt: {ckpt}\")\n",
    "    save_tag = ckpt.split('/')[-3]\n",
    "    print(f'model tag, {save_tag}')\n",
    "    pick_eval.save_pick_predictions(\n",
    "        checkpoint_path_or_data_name=ckpt,\n",
    "        save_tag=ckpt.split('/')[-3],\n",
    "        model_name=model_name,\n",
    "        targets=project_path.gitdir() + f'/data/targets/{dataset}/',\n",
    "        sets=sets,\n",
    "        batchsize=64\n",
    "    )"
   ]
  },
  {
   "cell_type": "markdown",
   "metadata": {},
   "source": [
    "# Taks 1 - event detection"
   ]
  },
  {
   "cell_type": "code",
   "execution_count": null,
   "metadata": {},
   "outputs": [],
   "source": [
    "task = 1 # '23'\n",
    "eval_set = 'test' #'test'\n",
    "data_name = 'ethz'\n",
    "save_tag = 'phasenet_ETHZ_train_frac_0.05_model_PhaseNet_seed_42_time_2024-08-11-16h-57m-27s'\n",
    "\n",
    "\n",
    "fig = plt.figure(figsize=(6, 6))\n",
    "ax = fig.add_subplot(111)\n",
    "\n",
    "# for model_name in ['PhaseNet', 'MultiDimWav2Vec2ForFrameClassification']:\n",
    "\n",
    "pred_path = (\n",
    "  Path(project_path.EVAL_SAVE_DIR)\n",
    "  / f\"{save_tag}_{data_name}\"\n",
    "  / f\"{eval_set}_task{task}.csv\"\n",
    ")\n",
    "\n",
    "pred = pd.read_csv(pred_path)\n",
    "\n",
    "pred[\"trace_type_bin\"] = pred[\"trace_type\"] == \"earthquake\"\n",
    "\n",
    "fpr, tpr, _ = roc_curve(pred[\"trace_type_bin\"], pred[\"score_detection\"])\n",
    "\n",
    "ax.plot(fpr, tpr, label=model_name)\n",
    "ax.set_aspect(\"equal\")\n",
    "\n",
    "ax.set_xlabel(\"false positive rate\")\n",
    "ax.set_ylabel(\"true positive rate\")\n",
    "# ax.set_title(f\"{model_name}; train: {data_name}; eval: {eval_set}-{task}\")\n",
    "plt.legend()"
   ]
  },
  {
   "cell_type": "code",
   "execution_count": null,
   "metadata": {},
   "outputs": [],
   "source": [
    "task = 1 # '23'\n",
    "eval_set = 'test' #'test'\n",
    "model_name = 'PhaseNet'\n",
    "data_name = 'ethz'\n",
    "\n",
    "fig = plt.figure(figsize=(10, 10))\n",
    "ax = fig.add_subplot(111)\n",
    "\n",
    "for model_name in ['PhaseNet', 'MultiDimWav2Vec2ForFrameClassification']:\n",
    "\n",
    "  pred_path = (\n",
    "    Path(project_path.EVAL_SAVE_DIR)\n",
    "    / f\"{model_name}_{data_name}\"\n",
    "    / f\"{eval_set}_task{task}.csv\"\n",
    "  )\n",
    "\n",
    "  pred = pd.read_csv(pred_path)\n",
    "  pred[\"trace_type_bin\"] = pred[\"trace_type\"] == \"earthquake\"\n",
    "\n",
    "  prec, recall, thr = precision_recall_curve(pred[\"trace_type_bin\"], pred[\"score_detection\"])\n",
    "\n",
    "  f1 = 2 * prec * recall / (prec + recall)\n",
    "  f1_threshold = thr[np.nanargmax(f1)]\n",
    "  best_f1 = np.max(f1)\n",
    "\n",
    "  # fig = plt.figure(figsize=(10, 10))\n",
    "  # ax = fig.add_subplot(111)\n",
    "  ax.plot(prec, recall, label=model_name)\n",
    "  ax.set_aspect(\"equal\")\n",
    "\n",
    "  ax.set_xlabel(\"Precision\")\n",
    "  ax.set_ylabel(\"Recall\")\n",
    "  ax.set_xlim(ax.get_ylim())\n",
    "\n",
    "  print(f\"{model_name} | Optimal F1:\", best_f1)\n",
    "  print(f\"{model_name} | Optimal F1 threshold:\", f1_threshold)\n",
    "\n",
    "plt.legend()"
   ]
  },
  {
   "cell_type": "code",
   "execution_count": null,
   "metadata": {},
   "outputs": [],
   "source": []
  },
  {
   "cell_type": "markdown",
   "metadata": {},
   "source": [
    "# Task 2 - Phase identification"
   ]
  },
  {
   "cell_type": "code",
   "execution_count": null,
   "metadata": {},
   "outputs": [],
   "source": [
    "task = '23'\n",
    "eval_set = 'test' #'test'\n",
    "data_name = 'ethz'\n",
    "\n",
    "fig = plt.figure(figsize=(6, 6))\n",
    "ax = fig.add_subplot(111)\n",
    "\n",
    "for model_name in ['PhaseNet', 'MultiDimWav2Vec2ForFrameClassification']:\n",
    "\n",
    "  pred_path = (\n",
    "    Path(project_path.EVAL_SAVE_DIR)\n",
    "    / f\"{model_name}_{data_name}\"\n",
    "    / f\"{eval_set}_task{task}.csv\"\n",
    "  )\n",
    "  pred = pd.read_csv(pred_path)\n",
    "\n",
    "  pred[\"phase_label_bin\"] = pred[\"phase_label\"] == \"P\"\n",
    "\n",
    "  fpr, tpr, _ = roc_curve(pred[\"phase_label_bin\"], pred[\"score_p_or_s\"])\n",
    "\n",
    "  # fig = plt.figure(figsize=(10, 10))\n",
    "  # ax = fig.add_subplot(111)\n",
    "  ax.plot(fpr, tpr, label=model_name)\n",
    "  ax.set_aspect(\"equal\")\n",
    "\n",
    "  ax.set_xlabel(\"false positive rate\")\n",
    "  ax.set_ylabel(\"true positive rate\")\n",
    "  # ax.set_yscale('log')\n",
    "  # ax.set_xscale('log')\n",
    "plt.legend()\n"
   ]
  },
  {
   "cell_type": "code",
   "execution_count": null,
   "metadata": {},
   "outputs": [],
   "source": [
    "task = '23'\n",
    "eval_set = 'test' #'test'\n",
    "data_name = 'ethz'\n",
    "\n",
    "fig = plt.figure(figsize=(6, 6))\n",
    "ax = fig.add_subplot(111)\n",
    "\n",
    "for model_name in ['PhaseNet', 'MultiDimWav2Vec2ForFrameClassification']:\n",
    "\n",
    "  pred_path = (\n",
    "    Path(project_path.EVAL_SAVE_DIR)\n",
    "    / f\"{model_name}_{data_name}\"\n",
    "    / f\"{eval_set}_task{task}.csv\"\n",
    "  )\n",
    "  pred = pd.read_csv(pred_path)\n",
    "\n",
    "  pred[\"phase_label_bin\"] = pred[\"phase_label\"] == \"P\"\n",
    "  \n",
    "  prec, recall, thr = precision_recall_curve(pred[\"phase_label_bin\"], pred[\"score_p_or_s\"])\n",
    "\n",
    "  f1 = 2 * prec * recall / (prec + recall)\n",
    "  f1_threshold = thr[np.nanargmax(f1)]\n",
    "  best_f1 = np.max(f1)\n",
    "\n",
    "  # fig = plt.figure(figsize=(10, 10))\n",
    "  # ax = fig.add_subplot(111)\n",
    "  ax.plot(prec, recall, label=model_name)\n",
    "  ax.set_aspect(\"equal\")\n",
    "\n",
    "  ax.set_xlabel(\"Precision\")\n",
    "  ax.set_ylabel(\"Recall\")\n",
    "  ax.set_xlim(ax.get_ylim())\n",
    "\n",
    "  print(f\"{model_name} | Optimal F1:\", best_f1)\n",
    "  print(f\"{model_name} | Optimal F1 threshold:\", f1_threshold)\n"
   ]
  },
  {
   "cell_type": "code",
   "execution_count": null,
   "metadata": {},
   "outputs": [],
   "source": [
    "model"
   ]
  },
  {
   "cell_type": "code",
   "execution_count": null,
   "metadata": {},
   "outputs": [],
   "source": [
    "import numpy as np\n",
    "\n",
    "task = 23\n",
    "eval_set = 'test' #'test'\n",
    "\n",
    "\n",
    "fig = plt.figure(figsize=(8, 4))\n",
    "axs = fig.subplots(1, 2)\n",
    "\n",
    "for i, phase in enumerate([\"P\", \"S\"]):\n",
    "\n",
    "  for model_name in ['PhaseNet', 'MultiDimWav2Vec2ForFrameClassification']:\n",
    "    pred_path = (\n",
    "      Path(project_path.EVAL_SAVE_DIR)\n",
    "      / f\"{model_name}_{data_name}\"\n",
    "      / f\"{eval_set}_task{task}.csv\"\n",
    "    )\n",
    "    pred = pd.read_csv(pred_path)\n",
    "\n",
    "\n",
    "    ax = axs[i]\n",
    "    ax.set_title(f\"{phase} arrivals\")\n",
    "    pred_phase = pred[pred[\"phase_label\"] == phase]\n",
    "    pred_col = f\"{phase.lower()}_sample_pred\"\n",
    "\n",
    "    diff = (pred_phase[pred_col] - pred_phase[\"phase_onset\"]) / pred_phase[\"sampling_rate\"]\n",
    "\n",
    "    print(f'dataset: {data_name} | model: {model_name} | phase {phase} | MAE {diff.abs().mean()}')\n",
    "    bins = np.linspace(-2.5, 2.5, 50)\n",
    "    ax.hist(diff, bins=bins, label=model_name, alpha=0.5)\n",
    "    ax.set_xlabel(\"$t_{pred} - t_{true}$\")\n",
    "  plt.suptitle(f\"{model_name}; train: {data_name}; eval: {eval_set}-{task}\")\n",
    "\n",
    "plt.legend()"
   ]
  },
  {
   "cell_type": "code",
   "execution_count": null,
   "metadata": {},
   "outputs": [],
   "source": []
  }
 ],
 "metadata": {
  "kernelspec": {
   "display_name": "seisbench",
   "language": "python",
   "name": "python3"
  },
  "language_info": {
   "codemirror_mode": {
    "name": "ipython",
    "version": 3
   },
   "file_extension": ".py",
   "mimetype": "text/x-python",
   "name": "python",
   "nbconvert_exporter": "python",
   "pygments_lexer": "ipython3",
   "version": "3.9.19"
  }
 },
 "nbformat": 4,
 "nbformat_minor": 2
}
