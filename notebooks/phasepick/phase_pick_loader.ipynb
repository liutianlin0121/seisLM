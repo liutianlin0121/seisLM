{
 "cells": [
  {
   "cell_type": "code",
   "execution_count": 1,
   "metadata": {},
   "outputs": [],
   "source": [
    "# prepare_phase_pick_evaluation_loader\n",
    "from seisLM.data_pipeline.dataloaders import get_dataset_by_name\n",
    "import seisbench.generate as sbg\n",
    "from pathlib import Path\n",
    "import pandas as pd\n",
    "from seisLM.model import supervised_models\n",
    "from torch.utils.data import DataLoader\n",
    "\n",
    "\n",
    "data_aliases = {\n",
    "    \"ethz\": \"ETHZ\",\n",
    "    \"geofon\": \"GEOFON\",\n",
    "    \"stead\": \"STEAD\",\n",
    "    \"neic\": \"NEIC\",\n",
    "    \"instance\": \"InstanceCountsCombined\",\n",
    "    \"iquique\": \"Iquique\",\n",
    "    \"lendb\": \"LenDB\",\n",
    "    \"scedc\": \"SCEDC\",\n",
    "}\n",
    "\n",
    "\n",
    "\n",
    "# model_name = 'PhaseNet'\n",
    "# targets = '/scicore/home/dokman0000/liu0003/projects/seisLM/data/targets/ethz'\n",
    "# # targets = '/scicore/home/dokman0000/liu0003/projects/seisLM/data/targets/instance'\n",
    "# targets = Path(targets)\n",
    "# cache = None\n",
    "\n",
    "# sampling_rate=100\n",
    "\n",
    "# dataset = get_dataset_by_name(data_aliases[targets.name])(\n",
    "#     sampling_rate=sampling_rate, component_order=\"ZNE\", dimension_order=\"NCW\",\n",
    "#     cache=cache,\n",
    "# )\n",
    "\n",
    "# model_cls = supervised_models.__getattribute__(model_name + \"Lit\")\n",
    "# model = model_cls()\n",
    "\n",
    "# batch_size = 1024\n",
    "# num_workers = 8"
   ]
  },
  {
   "cell_type": "code",
   "execution_count": 13,
   "metadata": {},
   "outputs": [],
   "source": [
    "def prepare_phase_pick_evaluation_loader(\n",
    "  model,\n",
    "  targets,\n",
    "  batch_size, num_workers,\n",
    "  sampling_rate=100,\n",
    "  component_oder=\"ZNE\",\n",
    "  dimension_order=\"NCW\",\n",
    "  cache=None\n",
    "  ):\n",
    "  '''\n",
    "  Taken from:\n",
    "  https://github.com/seisbench/pick-benchmark/blob/main/benchmark/eval.py\n",
    "  '''\n",
    "\n",
    "  targets = Path(targets)\n",
    "  loaders = {}\n",
    "\n",
    "  dataset = get_dataset_by_name(data_aliases[targets.name])(\n",
    "      sampling_rate=sampling_rate,\n",
    "      component_order=component_oder,\n",
    "      dimension_order=dimension_order,\n",
    "      cache=cache,\n",
    "  )\n",
    "\n",
    "  for eval_set in ['dev', 'test']:\n",
    "    split = dataset.get_split(eval_set)\n",
    "\n",
    "    # There are some subtleties in the `instance` dataset\n",
    "    # TODO: understand and explain this better.\n",
    "    if targets.name == \"instance\":\n",
    "      logging.warning(\n",
    "          \"Overwriting noise trace_names to allow correct identification\"\n",
    "      )\n",
    "      # Replace trace names for noise entries\n",
    "      split._metadata[\"trace_name\"].values[\n",
    "          -len(split.datasets[-1]) :\n",
    "      ] = split._metadata[\"trace_name\"][-len(split.datasets[-1]) :].apply(\n",
    "          lambda x: \"noise_\" + x\n",
    "      )\n",
    "      split._build_trace_name_to_idx_dict()\n",
    "\n",
    "    if cache:\n",
    "      split.preload_waveforms(pbar=True)\n",
    "\n",
    "    for task in [\"1\", \"23\"]:\n",
    "\n",
    "      task_csv = targets / f\"task{task}.csv\"\n",
    "\n",
    "      if not task_csv.is_file():\n",
    "        continue\n",
    "\n",
    "      task_targets = pd.read_csv(task_csv)\n",
    "      task_targets = task_targets[task_targets[\"trace_split\"] == eval_set]\n",
    "\n",
    "      if task == \"1\" and targets.name == \"instance\":\n",
    "        border = _identify_instance_dataset_border(task_targets)\n",
    "        task_targets[\"trace_name\"].values[border:] = task_targets[\"trace_name\"][\n",
    "            border:\n",
    "        ].apply(lambda x: \"noise_\" + x)\n",
    "\n",
    "      if sampling_rate != 100:\n",
    "        for key in [\"start_sample\", \"end_sample\", \"phase_onset\"]:\n",
    "          if key not in task_targets.columns:\n",
    "              continue\n",
    "          task_targets[key] = (\n",
    "              task_targets[key]\n",
    "              * sampling_rate\n",
    "              / task_targets[\"sampling_rate\"]\n",
    "          )\n",
    "        task_targets[sampling_rate] = sampling_rate\n",
    "\n",
    "      generator = sbg.SteeredGenerator(split, task_targets)\n",
    "      generator.add_augmentations(model.get_eval_augmentations())\n",
    "\n",
    "      loader = DataLoader(\n",
    "        generator, batch_size=batch_size, shuffle=False, num_workers=num_workers\n",
    "      )\n",
    "      loaders[f\"task_{task}_{eval_set}\"] = loader\n",
    "  return loaders"
   ]
  },
  {
   "cell_type": "code",
   "execution_count": 14,
   "metadata": {},
   "outputs": [
    {
     "name": "stderr",
     "output_type": "stream",
     "text": [
      "2024-06-19 16:16:10,228 | seisbench | WARNING | Check available storage and memory before downloading and general use of ETHZ dataset. Dataset size: waveforms.hdf5 ~22Gb, metadata.csv ~13Mb\n"
     ]
    }
   ],
   "source": [
    "model = supervised_models.PhaseNetLit()\n",
    "loaders = prepare_phase_pick_evaluation_loader(\n",
    "  model,\n",
    "  targets='/scicore/home/dokman0000/liu0003/projects/seisLM/data/targets/ethz',\n",
    "  batch_size=1024,\n",
    "  num_workers=8,\n",
    ")\n"
   ]
  },
  {
   "cell_type": "code",
   "execution_count": 12,
   "metadata": {},
   "outputs": [
    {
     "data": {
      "text/plain": [
       "{'task_1_dev': <torch.utils.data.dataloader.DataLoader at 0x7f70bb12b370>,\n",
       " 'task_23_dev': <torch.utils.data.dataloader.DataLoader at 0x7f70bb12b2b0>,\n",
       " 'task_1_test': <torch.utils.data.dataloader.DataLoader at 0x7f70bad91f10>,\n",
       " 'task_23_test': <torch.utils.data.dataloader.DataLoader at 0x7f70bae9d0a0>}"
      ]
     },
     "execution_count": 12,
     "metadata": {},
     "output_type": "execute_result"
    }
   ],
   "source": [
    "loaders"
   ]
  }
 ],
 "metadata": {
  "kernelspec": {
   "display_name": "seisbench",
   "language": "python",
   "name": "python3"
  },
  "language_info": {
   "codemirror_mode": {
    "name": "ipython",
    "version": 3
   },
   "file_extension": ".py",
   "mimetype": "text/x-python",
   "name": "python",
   "nbconvert_exporter": "python",
   "pygments_lexer": "ipython3",
   "version": "3.9.19"
  }
 },
 "nbformat": 4,
 "nbformat_minor": 2
}
