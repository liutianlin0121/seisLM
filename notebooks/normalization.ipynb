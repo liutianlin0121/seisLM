{
 "cells": [
  {
   "cell_type": "code",
   "execution_count": 1,
   "metadata": {},
   "outputs": [
    {
     "name": "stderr",
     "output_type": "stream",
     "text": [
      "2024-06-09 17:07:50,290 | seisbench | WARNING | Check available storage and memory before downloading and general use of ETHZ dataset. Dataset size: waveforms.hdf5 ~22Gb, metadata.csv ~13Mb\n"
     ]
    }
   ],
   "source": [
    "\n",
    "import seisbench.data as sbd\n",
    "import seisbench.generate as sbg\n",
    "from seisLM.data_pipeline import augmentations\n",
    "\n",
    "data_name = 'ETHZ'\n",
    "\n",
    "\n",
    "def get_dataset_by_name(name):\n",
    "  \"\"\"\n",
    "  Resolve dataset name to class from seisbench.data.\n",
    "\n",
    "  :param name: Name of dataset as defined in seisbench.data.\n",
    "  :return: Dataset class from seisbench.data\n",
    "  \"\"\"\n",
    "  try:\n",
    "    return sbd.__getattribute__(name)\n",
    "  except AttributeError:\n",
    "    raise ValueError(f\"Unknown dataset '{name}'.\")\n",
    "\n",
    "\n",
    "dataset = get_dataset_by_name(data_name)(\n",
    "  sampling_rate=100, component_order=\"ZNE\", dimension_order=\"NCW\",\n",
    "  # cache=\"full\"\n",
    "  cache=None\n",
    ")"
   ]
  },
  {
   "cell_type": "code",
   "execution_count": 2,
   "metadata": {},
   "outputs": [],
   "source": [
    "train, dev, test = dataset.train_dev_test()\n",
    "train_generator = sbg.GenericGenerator(train)\n",
    "train_generator.add_augmentations(\n",
    "  [augmentations.RMSNorm(rms_axis=1)])"
   ]
  },
  {
   "cell_type": "code",
   "execution_count": 12,
   "metadata": {},
   "outputs": [
    {
     "data": {
      "text/plain": [
       "2"
      ]
     },
     "execution_count": 12,
     "metadata": {},
     "output_type": "execute_result"
    }
   ],
   "source": [
    "train.dimension_order.find('W')"
   ]
  },
  {
   "cell_type": "code",
   "execution_count": 3,
   "metadata": {},
   "outputs": [],
   "source": [
    "x = train_generator[0]['X']"
   ]
  },
  {
   "cell_type": "code",
   "execution_count": 4,
   "metadata": {},
   "outputs": [
    {
     "name": "stdout",
     "output_type": "stream",
     "text": [
      "(3, 12001)\n"
     ]
    },
    {
     "data": {
      "text/plain": [
       "109.54907576059232"
      ]
     },
     "execution_count": 4,
     "metadata": {},
     "output_type": "execute_result"
    }
   ],
   "source": [
    "from numpy.linalg import norm\n",
    "\n",
    "print(x.shape)\n",
    "norm(x[2])"
   ]
  },
  {
   "cell_type": "code",
   "execution_count": 5,
   "metadata": {},
   "outputs": [
    {
     "data": {
      "text/plain": [
       "109.54907576059234"
      ]
     },
     "execution_count": 5,
     "metadata": {},
     "output_type": "execute_result"
    }
   ],
   "source": [
    "import numpy as np\n",
    "np.sqrt(12001)"
   ]
  },
  {
   "cell_type": "code",
   "execution_count": null,
   "metadata": {},
   "outputs": [],
   "source": []
  }
 ],
 "metadata": {
  "kernelspec": {
   "display_name": "seisbench",
   "language": "python",
   "name": "python3"
  },
  "language_info": {
   "codemirror_mode": {
    "name": "ipython",
    "version": 3
   },
   "file_extension": ".py",
   "mimetype": "text/x-python",
   "name": "python",
   "nbconvert_exporter": "python",
   "pygments_lexer": "ipython3",
   "version": "3.9.19"
  }
 },
 "nbformat": 4,
 "nbformat_minor": 2
}
