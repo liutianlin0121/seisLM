{
 "cells": [
  {
   "cell_type": "code",
   "execution_count": null,
   "metadata": {},
   "outputs": [
    {
     "ename": "",
     "evalue": "",
     "output_type": "error",
     "traceback": [
      "\u001b[1;31mFailed to start the Kernel. \n",
      "\u001b[1;31m'_xsrf' argument missing from POST. \n",
      "\u001b[1;31mView Jupyter <a href='command:jupyter.viewOutput'>log</a> for further details."
     ]
    }
   ],
   "source": [
    "from seisLM.data_pipeline import dataloaders\n",
    "   \n",
    "[\"ETHZ\",\n",
    "  \"InstanceCountsCombined\",\n",
    "  \"Iquique\",\n",
    "  \"LenDB\",\n",
    "  \"SCEDC\",\n",
    "  \"STEAD\",\n",
    "  \"GEOFON\",\n",
    "  \"NEIC\"]\n"
   ]
  },
  {
   "cell_type": "code",
   "execution_count": null,
   "metadata": {},
   "outputs": [],
   "source": [
    "train_loader, dev_loader = dataloaders.prepare_seisbench_dataloaders(\n",
    "    model=model,\n",
    "    training_fraction=training_config.training_fraction,\n",
    "    data_names=training_config.data_name,\n",
    "    batch_size=training_config.local_batch_size,\n",
    "    num_workers=training_config.num_workers,\n",
    "    prefetch_factor=training_config.prefetch_factor,\n",
    "    collator=data_collator,\n",
    ")"
   ]
  }
 ],
 "metadata": {
  "kernelspec": {
   "display_name": "seisbench",
   "language": "python",
   "name": "python3"
  },
  "language_info": {
   "name": "python",
   "version": "3.9.19"
  }
 },
 "nbformat": 4,
 "nbformat_minor": 2
}
