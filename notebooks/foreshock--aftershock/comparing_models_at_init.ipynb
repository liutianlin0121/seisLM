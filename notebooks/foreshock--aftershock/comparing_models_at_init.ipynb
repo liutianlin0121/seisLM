{
 "cells": [
  {
   "cell_type": "code",
   "execution_count": 1,
   "metadata": {},
   "outputs": [],
   "source": [
    "from seisLM.data_pipeline.foreshock_aftershock_dataset import (\n",
    "  create_foreshock_aftershock_datasets\n",
    ")\n",
    "from seisLM.data_pipeline.foreshock_aftershock_dataloaders import (\n",
    "  prepare_foreshock_aftershock_dataloaders)\n",
    "import pandas as pd\n",
    "import matplotlib.pyplot as plt"
   ]
  },
  {
   "cell_type": "code",
   "execution_count": 2,
   "metadata": {},
   "outputs": [],
   "source": [
    "NUM_CLASSES = 4\n",
    "BATCH_SIZE = 8\n",
    "EVENT_SPLIT_METHOD = 'temporal'\n",
    "COMPONENT_ORDER = 'ZNE'\n",
    "DIMENSION_ORDER = 'NCW'"
   ]
  },
  {
   "cell_type": "code",
   "execution_count": 3,
   "metadata": {},
   "outputs": [
    {
     "name": "stderr",
     "output_type": "stream",
     "text": [
      "Seed set to 42\n",
      "Seed set to 42\n"
     ]
    }
   ],
   "source": [
    "loaders = prepare_foreshock_aftershock_dataloaders(\n",
    "  num_classes=NUM_CLASSES,\n",
    "  batch_size=BATCH_SIZE,\n",
    "  event_split_method=EVENT_SPLIT_METHOD,\n",
    "  component_order=COMPONENT_ORDER,\n",
    "  standardize=True,\n",
    ")\n"
   ]
  },
  {
   "cell_type": "code",
   "execution_count": 4,
   "metadata": {},
   "outputs": [],
   "source": [
    "import json\n",
    "import ml_collections\n",
    "import torch\n",
    "from seisLM.model.task_specific.foreshock_aftershock_models import ShockClassifierLit #Wav2Vec2ForSequenceClassification\n",
    "\n",
    "def get_seisLM_config():\n",
    "\n",
    "  config_path = '/scicore/home/dokman0000/liu0003/projects/seisLM/seisLM/configs/foreshock_aftershock/seisLM_shock_classifier.json'\n",
    "  with open(config_path, \"r\", encoding=\"utf-8\") as f:\n",
    "    config = json.load(f)\n",
    "  config = ml_collections.ConfigDict(config)\n",
    "\n",
    "  config.model_args.num_classes = NUM_CLASSES\n",
    "  config.model_args.use_weighted_layer_sum = True\n",
    "  return config\n",
    "\n",
    "seisLM_config = get_seisLM_config()\n",
    "\n",
    "models = {}\n",
    "\n",
    "models['seisLM'] = ShockClassifierLit(\n",
    "  model_name='Wav2Vec2ForSequenceClassification',\n",
    "  model_config=seisLM_config.model_args,\n",
    "  training_config=seisLM_config.trainer_args,\n",
    "  ).model\n",
    "\n"
   ]
  },
  {
   "cell_type": "code",
   "execution_count": 5,
   "metadata": {},
   "outputs": [],
   "source": [
    "def get_conv1d_config():\n",
    "  config_path = '/scicore/home/dokman0000/liu0003/projects/seisLM/seisLM/configs/foreshock_aftershock/conv1d_shock_classifier.json'\n",
    "  with open(config_path, \"r\", encoding=\"utf-8\") as f:\n",
    "    config = json.load(f)\n",
    "  config = ml_collections.ConfigDict(config)\n",
    "  config.model_args.num_classes = NUM_CLASSES\n",
    "  return config\n",
    "\n",
    "conv1d_config = get_conv1d_config()\n",
    "\n",
    "models['cnn'] = ShockClassifierLit(\n",
    "  model_name='Conv1DShockClassifier',\n",
    "  model_config=conv1d_config.model_args,\n",
    "  training_config=conv1d_config.trainer_args,\n",
    "  ).model"
   ]
  },
  {
   "cell_type": "code",
   "execution_count": 6,
   "metadata": {},
   "outputs": [
    {
     "data": {
      "text/plain": [
       "tensor([[ 5.0726e-02, -1.3623e-02, -3.3230e-02,  8.9958e-03],\n",
       "        [ 7.8597e-02, -2.4604e-02, -1.4668e-03,  6.0729e-03],\n",
       "        [ 4.0387e-02, -3.1227e-02, -1.6944e-02,  1.5368e-02],\n",
       "        [ 8.1868e-02, -3.7683e-02, -1.8850e-02, -1.9350e-02],\n",
       "        [ 9.9852e-02, -5.3649e-02, -2.4900e-02,  1.2286e-02],\n",
       "        [ 5.6987e-02, -3.0472e-02, -1.6659e-02,  1.2778e-02],\n",
       "        [-1.1615e-01, -1.8889e-02,  2.5478e-01,  3.8585e-01],\n",
       "        [ 1.2838e-02, -1.0144e-05, -5.2672e-03,  6.0781e-02]],\n",
       "       grad_fn=<AddmmBackward0>)"
      ]
     },
     "execution_count": 6,
     "metadata": {},
     "output_type": "execute_result"
    }
   ],
   "source": [
    "waveforms, labels = next(iter(loaders['train']))\n",
    "\n",
    "\n",
    "key = 'cnn'\n",
    "# key = 'seisLM'\n",
    "model = models[key]\n",
    "\n",
    "\n",
    "logits = models[key](waveforms)\n",
    "loss = torch.nn.functional.cross_entropy(logits, labels)\n",
    "predicted_labels = torch.argmax(logits, 1)\n",
    "\n",
    "logits"
   ]
  },
  {
   "cell_type": "code",
   "execution_count": 7,
   "metadata": {},
   "outputs": [],
   "source": [
    "\n",
    "# for key, model in models.items():\n",
    "\n",
    "# key = 'cnn'\n",
    "key = 'seisLM'\n",
    "model = models[key]\n",
    "\n",
    "\n",
    "logits = models[key](waveforms)\n",
    "loss = torch.nn.functional.cross_entropy(logits, labels)\n",
    "predicted_labels = torch.argmax(logits, 1)\n"
   ]
  },
  {
   "cell_type": "code",
   "execution_count": 11,
   "metadata": {},
   "outputs": [
    {
     "data": {
      "text/plain": [
       "tensor(1.3348, grad_fn=<NllLossBackward0>)"
      ]
     },
     "execution_count": 11,
     "metadata": {},
     "output_type": "execute_result"
    }
   ],
   "source": [
    "loss\n",
    "\n",
    "\n"
   ]
  },
  {
   "cell_type": "code",
   "execution_count": null,
   "metadata": {},
   "outputs": [],
   "source": []
  },
  {
   "cell_type": "code",
   "execution_count": null,
   "metadata": {},
   "outputs": [],
   "source": []
  },
  {
   "cell_type": "code",
   "execution_count": null,
   "metadata": {},
   "outputs": [],
   "source": []
  },
  {
   "cell_type": "code",
   "execution_count": 9,
   "metadata": {},
   "outputs": [
    {
     "name": "stderr",
     "output_type": "stream",
     "text": [
      "/tmp/ipykernel_21553/602353954.py:1: UserWarning: Implicit dimension choice for softmax has been deprecated. Change the call to include dim=X as an argument.\n",
      "  torch.nn.functional.softmax(models['seisLM'].layer_weights)\n"
     ]
    },
    {
     "data": {
      "text/plain": [
       "tensor([4.5388e-05, 4.5388e-05, 4.5388e-05, 4.5388e-05, 4.5388e-05, 4.5388e-05,\n",
       "        9.9973e-01], grad_fn=<SoftmaxBackward0>)"
      ]
     },
     "execution_count": 9,
     "metadata": {},
     "output_type": "execute_result"
    }
   ],
   "source": [
    "torch.nn.functional.softmax(models['seisLM'].layer_weights)\n",
    "\n",
    "\n"
   ]
  },
  {
   "cell_type": "code",
   "execution_count": null,
   "metadata": {},
   "outputs": [],
   "source": []
  },
  {
   "cell_type": "code",
   "execution_count": null,
   "metadata": {},
   "outputs": [],
   "source": []
  },
  {
   "cell_type": "code",
   "execution_count": null,
   "metadata": {},
   "outputs": [],
   "source": []
  },
  {
   "cell_type": "code",
   "execution_count": null,
   "metadata": {},
   "outputs": [],
   "source": []
  },
  {
   "cell_type": "code",
   "execution_count": null,
   "metadata": {},
   "outputs": [],
   "source": []
  },
  {
   "cell_type": "code",
   "execution_count": 8,
   "metadata": {},
   "outputs": [
    {
     "data": {
      "text/plain": [
       "tensor([[[ 2.4699, -0.1249, -2.7283,  ..., -2.1645,  3.3354,  3.9700],\n",
       "         [-3.2628, -0.1869,  2.3210,  ...,  3.3528, -1.5258, -3.6013],\n",
       "         [-2.6599, -1.1798, -2.8883,  ..., -0.7350,  1.5646,  2.5581],\n",
       "         ...,\n",
       "         [-3.3682,  0.1104,  0.4925,  ...,  1.8187,  0.0572,  2.3055],\n",
       "         [ 0.0000,  0.0000, -0.0000,  ..., -0.0000, -0.0000, -0.0000],\n",
       "         [-0.0841, -2.2457, -0.5701,  ..., -1.4444, -2.9667, -3.3141]]])"
      ]
     },
     "execution_count": 8,
     "metadata": {},
     "output_type": "execute_result"
    }
   ],
   "source": [
    "import torch\n",
    "\n",
    "from torch import nn\n",
    "\n",
    "\n",
    "\n",
    "m = nn.Dropout1d(p=0.5)\n",
    "input = torch.randn(1, 16, 240)\n",
    "\n",
    "output = m(input)\n",
    "output\n"
   ]
  },
  {
   "cell_type": "code",
   "execution_count": 12,
   "metadata": {},
   "outputs": [
    {
     "data": {
      "text/plain": [
       "torch.Size([240])"
      ]
     },
     "execution_count": 12,
     "metadata": {},
     "output_type": "execute_result"
    }
   ],
   "source": [
    "output[0][-2].shape\n"
   ]
  },
  {
   "cell_type": "code",
   "execution_count": null,
   "metadata": {},
   "outputs": [],
   "source": []
  },
  {
   "cell_type": "code",
   "execution_count": null,
   "metadata": {},
   "outputs": [],
   "source": []
  },
  {
   "cell_type": "code",
   "execution_count": null,
   "metadata": {},
   "outputs": [],
   "source": []
  },
  {
   "cell_type": "code",
   "execution_count": null,
   "metadata": {},
   "outputs": [],
   "source": []
  },
  {
   "cell_type": "code",
   "execution_count": null,
   "metadata": {},
   "outputs": [],
   "source": []
  },
  {
   "cell_type": "code",
   "execution_count": null,
   "metadata": {},
   "outputs": [],
   "source": []
  },
  {
   "cell_type": "code",
   "execution_count": null,
   "metadata": {},
   "outputs": [],
   "source": []
  },
  {
   "cell_type": "code",
   "execution_count": null,
   "metadata": {},
   "outputs": [],
   "source": []
  },
  {
   "cell_type": "code",
   "execution_count": null,
   "metadata": {},
   "outputs": [],
   "source": []
  },
  {
   "cell_type": "code",
   "execution_count": null,
   "metadata": {},
   "outputs": [],
   "source": [
    "output"
   ]
  },
  {
   "cell_type": "code",
   "execution_count": null,
   "metadata": {},
   "outputs": [],
   "source": []
  }
 ],
 "metadata": {
  "kernelspec": {
   "display_name": "seisbench",
   "language": "python",
   "name": "python3"
  },
  "language_info": {
   "codemirror_mode": {
    "name": "ipython",
    "version": 3
   },
   "file_extension": ".py",
   "mimetype": "text/x-python",
   "name": "python",
   "nbconvert_exporter": "python",
   "pygments_lexer": "ipython3",
   "version": "3.9.19"
  }
 },
 "nbformat": 4,
 "nbformat_minor": 2
}
