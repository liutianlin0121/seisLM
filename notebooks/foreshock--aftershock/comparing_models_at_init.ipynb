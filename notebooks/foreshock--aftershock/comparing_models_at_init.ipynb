{
 "cells": [
  {
   "cell_type": "code",
   "execution_count": 1,
   "metadata": {},
   "outputs": [
    {
     "name": "stderr",
     "output_type": "stream",
     "text": [
      "/home/liu0003/miniconda3/envs/seisbench/lib/python3.9/site-packages/tqdm/auto.py:21: TqdmWarning: IProgress not found. Please update jupyter and ipywidgets. See https://ipywidgets.readthedocs.io/en/stable/user_install.html\n",
      "  from .autonotebook import tqdm as notebook_tqdm\n"
     ]
    }
   ],
   "source": [
    "import numpy as np\n",
    "from seisLM.data_pipeline.foreshock_aftershock_dataset import (\n",
    "  create_foreshock_aftershock_datasets\n",
    ")\n",
    "from seisLM.data_pipeline.foreshock_aftershock_dataloaders import (\n",
    "  prepare_foreshock_aftershock_dataloaders)\n",
    "import pandas as pd\n",
    "import matplotlib.pyplot as plt\n",
    "from seisLM.utils.project_path import gitdir"
   ]
  },
  {
   "cell_type": "code",
   "execution_count": 2,
   "metadata": {},
   "outputs": [
    {
     "name": "stderr",
     "output_type": "stream",
     "text": [
      "/home/liu0003/miniconda3/envs/seisbench/lib/python3.9/site-packages/lightning/pytorch/utilities/migration/utils.py:56: The loaded checkpoint was produced with Lightning v2.3.3, which is newer than your current Lightning version: v2.2.5\n",
      "Seed set to 42\n",
      "Seed set to 42\n"
     ]
    }
   ],
   "source": [
    "import json\n",
    "import ml_collections\n",
    "import torch\n",
    "from seisLM.model.task_specific.foreshock_aftershock_models import (\n",
    "  Conv1DShockClassifierLit, Wav2vec2ShockClassifierLit)\n",
    "\n",
    "\n",
    "NUM_CLASSES = 4\n",
    "\n",
    "def get_seisLM_config():\n",
    "\n",
    "  config_path = gitdir() + '/seisLM/configs/foreshock_aftershock/seisLM_shock_classifier.json'\n",
    "  with open(config_path, \"r\", encoding=\"utf-8\") as f:\n",
    "    config = json.load(f)\n",
    "  config = ml_collections.ConfigDict(config)\n",
    "\n",
    "  config.model_args.num_classes = NUM_CLASSES\n",
    "  return config\n",
    "\n",
    "\n",
    "def get_conv1d_config():\n",
    "  config_path = gitdir() + '/seisLM/configs/foreshock_aftershock/conv1d_shock_classifier.json'\n",
    "  with open(config_path, \"r\", encoding=\"utf-8\") as f:\n",
    "    config = json.load(f)\n",
    "  config = ml_collections.ConfigDict(config)\n",
    "  config.model_args.num_classes = NUM_CLASSES\n",
    "  return config\n",
    "\n",
    "\n",
    "\n",
    "seisLM_config = get_seisLM_config()\n",
    "conv1d_config = get_conv1d_config()\n",
    "\n",
    "models = {}\n",
    "\n",
    "models['seisLM'] = Wav2vec2ShockClassifierLit(\n",
    "  model_config=seisLM_config.model_args,\n",
    "  training_config=seisLM_config.trainer_args,\n",
    "  ).model\n",
    "\n",
    "\n",
    "models['cnn'] = Conv1DShockClassifierLit(\n",
    "  model_config=conv1d_config.model_args,\n",
    "  training_config=conv1d_config.trainer_args,\n",
    "  ).model\n",
    "\n",
    "\n",
    "loaders = prepare_foreshock_aftershock_dataloaders(\n",
    "  num_classes=seisLM_config.model_args.num_classes,\n",
    "  **seisLM_config.data_args\n",
    ")\n"
   ]
  },
  {
   "cell_type": "code",
   "execution_count": 3,
   "metadata": {},
   "outputs": [
    {
     "name": "stdout",
     "output_type": "stream",
     "text": [
      "model seisLM acc at init 0.3100828729281768\n",
      "model seisLM loss at init 1.4060317\n",
      "model cnn acc at init 0.24654696132596685\n",
      "model cnn loss at init 1.3892041\n"
     ]
    }
   ],
   "source": [
    "from sklearn.metrics import accuracy_score\n",
    "\n",
    "\n",
    "for key, model in models.items():\n",
    "  device = torch.device('cuda' if torch.cuda.is_available() else 'cpu')\n",
    "  model = models[key].to(device)\n",
    "\n",
    "  all_gt_class = []\n",
    "  all_pred_class = []\n",
    "  all_losses = []\n",
    "\n",
    "  for X, y in loaders['test']:\n",
    "    with torch.no_grad():\n",
    "      logits = model(X.to(device)).cpu()\n",
    "      pred_class = np.argmax(logits.numpy(), axis=1)\n",
    "      loss = torch.nn.functional.cross_entropy(logits, y)\n",
    "\n",
    "    all_gt_class.append(y)\n",
    "    all_pred_class.append(pred_class)\n",
    "    all_losses.append(loss)\n",
    "\n",
    "  all_gt_class = np.concatenate(all_gt_class)\n",
    "  all_pred_class = np.concatenate(all_pred_class)\n",
    "  all_losses = np.array(all_losses)\n",
    "\n",
    "  print(f'model {key} acc at init', accuracy_score(all_gt_class, all_pred_class))\n",
    "  print(f'model {key} loss at init', np.mean(all_losses))"
   ]
  },
  {
   "cell_type": "code",
   "execution_count": null,
   "metadata": {},
   "outputs": [],
   "source": []
  },
  {
   "cell_type": "code",
   "execution_count": null,
   "metadata": {},
   "outputs": [],
   "source": []
  },
  {
   "cell_type": "code",
   "execution_count": null,
   "metadata": {},
   "outputs": [],
   "source": []
  },
  {
   "cell_type": "code",
   "execution_count": null,
   "metadata": {},
   "outputs": [],
   "source": []
  },
  {
   "cell_type": "code",
   "execution_count": null,
   "metadata": {},
   "outputs": [],
   "source": []
  }
 ],
 "metadata": {
  "kernelspec": {
   "display_name": "seisbench",
   "language": "python",
   "name": "python3"
  },
  "language_info": {
   "codemirror_mode": {
    "name": "ipython",
    "version": 3
   },
   "file_extension": ".py",
   "mimetype": "text/x-python",
   "name": "python",
   "nbconvert_exporter": "python",
   "pygments_lexer": "ipython3",
   "version": "3.9.19"
  }
 },
 "nbformat": 4,
 "nbformat_minor": 2
}
