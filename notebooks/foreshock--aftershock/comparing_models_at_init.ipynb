{
 "cells": [
  {
   "cell_type": "code",
   "execution_count": 1,
   "metadata": {},
   "outputs": [
    {
     "name": "stderr",
     "output_type": "stream",
     "text": [
      "/home/liu0003/miniconda3/envs/seisbench/lib/python3.9/site-packages/tqdm/auto.py:21: TqdmWarning: IProgress not found. Please update jupyter and ipywidgets. See https://ipywidgets.readthedocs.io/en/stable/user_install.html\n",
      "  from .autonotebook import tqdm as notebook_tqdm\n"
     ]
    }
   ],
   "source": [
    "import numpy as np\n",
    "from seisLM.data_pipeline.foreshock_aftershock_dataset import (\n",
    "  create_foreshock_aftershock_datasets\n",
    ")\n",
    "from seisLM.data_pipeline.foreshock_aftershock_dataloaders import (\n",
    "  prepare_foreshock_aftershock_dataloaders)\n",
    "import pandas as pd\n",
    "import matplotlib.pyplot as plt\n",
    "from seisLM.utils.project_path import gitdir"
   ]
  },
  {
   "cell_type": "code",
   "execution_count": 4,
   "metadata": {},
   "outputs": [
    {
     "name": "stderr",
     "output_type": "stream",
     "text": [
      "/home/liu0003/miniconda3/envs/seisbench/lib/python3.9/site-packages/lightning/pytorch/utilities/migration/utils.py:56: The loaded checkpoint was produced with Lightning v2.3.3, which is newer than your current Lightning version: v2.2.5\n"
     ]
    }
   ],
   "source": [
    "# from seisLM.model.foundation.pretrained_models import LitMultiDimWav2Vec2\n",
    "\n",
    "# model = LitMultiDimWav2Vec2.load_from_checkpoint(\n",
    "#   \"/home/liu0003/Desktop/projects/seisLM/results/models/pretrained_seisLM/pretrain_config_layernorm_std_small_batch_4_datasets_less_regularized_42__2024-08-07-16h-54m-15s/checkpoints/epoch=24-step=437425.ckpt\",\n",
    "# )#.model\n",
    "\n"
   ]
  },
  {
   "cell_type": "code",
   "execution_count": 5,
   "metadata": {},
   "outputs": [
    {
     "data": {
      "text/plain": [
       "data_config:\n",
       "  amp_norm: true\n",
       "  amp_norm_type: std\n",
       "  cache_dataset: null\n",
       "  data_name:\n",
       "  - ETHZ\n",
       "  - GEOFON\n",
       "  - STEAD\n",
       "  - InstanceCounts\n",
       "  demean: true\n",
       "  local_batch_size: 28\n",
       "  num_workers: 4\n",
       "  prefetch_factor: 2\n",
       "  training_fraction: 1.0\n",
       "model_config:\n",
       "  activation_dropout: 0.0\n",
       "  apply_spec_augment: true\n",
       "  attention_dropout: 0.0\n",
       "  codevector_dim: 256\n",
       "  contrastive_logits_temperature: 0.1\n",
       "  conv_bias: true\n",
       "  conv_dim:\n",
       "  - 256\n",
       "  - 256\n",
       "  conv_embed: true\n",
       "  conv_kernel:\n",
       "  - 3\n",
       "  - 3\n",
       "  conv_stride:\n",
       "  - 2\n",
       "  - 2\n",
       "  diversity_loss_weight: 0.01\n",
       "  do_stable_layer_norm: true\n",
       "  feat_extract_norm: layer\n",
       "  feat_proj_dropout: 0.0\n",
       "  feat_quantizer_dropout: 0.0\n",
       "  hidden_dropout: 0.0\n",
       "  hidden_size: 240\n",
       "  initializer_range: 0.02\n",
       "  input_dim: 3\n",
       "  intermediate_size: 3072\n",
       "  layer_norm_eps: 1.0e-05\n",
       "  layerdrop: 0.0\n",
       "  mask_feature_length: 10\n",
       "  mask_feature_min_masks: 0\n",
       "  mask_feature_prob: 0.0\n",
       "  mask_time_length: 10\n",
       "  mask_time_min_masks: 2\n",
       "  mask_time_prob: 0.65\n",
       "  num_attention_heads: 12\n",
       "  num_codevector_groups: 2\n",
       "  num_codevectors_per_group: 320\n",
       "  num_conv_pos_embedding_groups: 16\n",
       "  num_conv_pos_embeddings: 128\n",
       "  num_feat_extract_layers: 2\n",
       "  num_hidden_layers: 6\n",
       "  num_negatives: 100\n",
       "  output_attentions: false\n",
       "  output_hidden_size: 768\n",
       "  output_hidden_states: false\n",
       "  pad_token_id: 0\n",
       "  proj_codevector_dim: 256\n",
       "  rotary_pos_embed: false\n",
       "  scale_logits_in_quantization: true\n",
       "  use_rms_norm: false\n",
       "seed: 42\n",
       "training_config:\n",
       "  accelerator: ddp\n",
       "  adam_beta1: 0.9\n",
       "  adam_beta2: 0.999\n",
       "  adam_epsilon: 1.0e-08\n",
       "  detect_anomaly: false\n",
       "  devices: 4\n",
       "  learning_rate: 0.001\n",
       "  log_every_n_steps: 100\n",
       "  mask_time_length: 10\n",
       "  mask_time_prob: 0.65\n",
       "  max_epochs: 40\n",
       "  max_gumbel_temperature: 2.0\n",
       "  max_train_steps: 2799600\n",
       "  min_gumbel_temperature: 0.5\n",
       "  precision: 16-mixed\n",
       "  warmup_frac_step: 0.2\n",
       "  weight_decay: 0.0"
      ]
     },
     "execution_count": 5,
     "metadata": {},
     "output_type": "execute_result"
    },
    {
     "ename": "",
     "evalue": "",
     "output_type": "error",
     "traceback": [
      "\u001b[1;31mThe Kernel crashed while executing code in the current cell or a previous cell. \n",
      "\u001b[1;31mPlease review the code in the cell(s) to identify a possible cause of the failure. \n",
      "\u001b[1;31mClick <a href='https://aka.ms/vscodeJupyterKernelCrash'>here</a> for more info. \n",
      "\u001b[1;31mView Jupyter <a href='command:jupyter.viewOutput'>log</a> for further details."
     ]
    }
   ],
   "source": [
    "# model.config"
   ]
  },
  {
   "cell_type": "code",
   "execution_count": 2,
   "metadata": {},
   "outputs": [
    {
     "name": "stderr",
     "output_type": "stream",
     "text": [
      "/home/liu0003/miniconda3/envs/seisbench/lib/python3.9/site-packages/lightning/pytorch/utilities/migration/utils.py:56: The loaded checkpoint was produced with Lightning v2.3.3, which is newer than your current Lightning version: v2.2.5\n",
      "Seed set to 42\n",
      "Seed set to 42\n"
     ]
    }
   ],
   "source": [
    "import json\n",
    "import ml_collections\n",
    "import torch\n",
    "from seisLM.model.task_specific.foreshock_aftershock_models import (\n",
    "  Conv1DShockClassifierLit, Wav2vec2ShockClassifierLit)\n",
    "\n",
    "\n",
    "NUM_CLASSES = 4\n",
    "\n",
    "def get_seisLM_config():\n",
    "\n",
    "  config_path = gitdir() + '/seisLM/configs/foreshock_aftershock/seisLM_shock_classifier.json'\n",
    "  with open(config_path, \"r\", encoding=\"utf-8\") as f:\n",
    "    config = json.load(f)\n",
    "  config = ml_collections.ConfigDict(config)\n",
    "\n",
    "  config.model_args.num_classes = NUM_CLASSES\n",
    "  return config\n",
    "\n",
    "\n",
    "def get_conv1d_config():\n",
    "  config_path = gitdir() + '/seisLM/configs/foreshock_aftershock/conv1d_shock_classifier.json'\n",
    "  with open(config_path, \"r\", encoding=\"utf-8\") as f:\n",
    "    config = json.load(f)\n",
    "  config = ml_collections.ConfigDict(config)\n",
    "  config.model_args.num_classes = NUM_CLASSES\n",
    "  return config\n",
    "\n",
    "\n",
    "\n",
    "seisLM_config = get_seisLM_config()\n",
    "conv1d_config = get_conv1d_config()\n",
    "\n",
    "models = {}\n",
    "\n",
    "models['seisLM'] = Wav2vec2ShockClassifierLit(\n",
    "  model_config=seisLM_config.model_args,\n",
    "  training_config=seisLM_config.trainer_args,\n",
    "  ).model\n",
    "\n",
    "\n",
    "models['cnn'] = Conv1DShockClassifierLit(\n",
    "  model_config=conv1d_config.model_args,\n",
    "  training_config=conv1d_config.trainer_args,\n",
    "  ).model\n",
    "\n",
    "\n",
    "loaders = prepare_foreshock_aftershock_dataloaders(\n",
    "  num_classes=seisLM_config.model_args.num_classes,\n",
    "  **seisLM_config.data_args\n",
    ")\n"
   ]
  },
  {
   "cell_type": "code",
   "execution_count": 3,
   "metadata": {},
   "outputs": [
    {
     "name": "stdout",
     "output_type": "stream",
     "text": [
      "model seisLM acc at init 0.27348066298342544\n",
      "model seisLM loss at init 1.4177186\n",
      "model cnn acc at init 0.25\n",
      "model cnn loss at init 1.3920208\n"
     ]
    },
    {
     "ename": "",
     "evalue": "",
     "output_type": "error",
     "traceback": [
      "\u001b[1;31mThe Kernel crashed while executing code in the current cell or a previous cell. \n",
      "\u001b[1;31mPlease review the code in the cell(s) to identify a possible cause of the failure. \n",
      "\u001b[1;31mClick <a href='https://aka.ms/vscodeJupyterKernelCrash'>here</a> for more info. \n",
      "\u001b[1;31mView Jupyter <a href='command:jupyter.viewOutput'>log</a> for further details."
     ]
    }
   ],
   "source": [
    "from sklearn.metrics import accuracy_score\n",
    "\n",
    "\n",
    "for key, model in models.items():\n",
    "  device = torch.device('cuda' if torch.cuda.is_available() else 'cpu')\n",
    "  model = models[key].to(device)\n",
    "\n",
    "  all_gt_class = []\n",
    "  all_pred_class = []\n",
    "  all_losses = []\n",
    "\n",
    "  for X, y in loaders['test']:\n",
    "    with torch.no_grad():\n",
    "      logits = model(X.to(device)).cpu()\n",
    "      pred_class = np.argmax(logits.numpy(), axis=1)\n",
    "      loss = torch.nn.functional.cross_entropy(logits, y)\n",
    "\n",
    "    all_gt_class.append(y)\n",
    "    all_pred_class.append(pred_class)\n",
    "    all_losses.append(loss)\n",
    "\n",
    "  all_gt_class = np.concatenate(all_gt_class)\n",
    "  all_pred_class = np.concatenate(all_pred_class)\n",
    "  all_losses = np.array(all_losses)\n",
    "\n",
    "  print(f'model {key} acc at init', accuracy_score(all_gt_class, all_pred_class))\n",
    "  print(f'model {key} loss at init', np.mean(all_losses))"
   ]
  },
  {
   "cell_type": "code",
   "execution_count": null,
   "metadata": {},
   "outputs": [],
   "source": []
  },
  {
   "cell_type": "code",
   "execution_count": null,
   "metadata": {},
   "outputs": [],
   "source": []
  },
  {
   "cell_type": "code",
   "execution_count": null,
   "metadata": {},
   "outputs": [],
   "source": []
  },
  {
   "cell_type": "code",
   "execution_count": null,
   "metadata": {},
   "outputs": [],
   "source": []
  },
  {
   "cell_type": "code",
   "execution_count": null,
   "metadata": {},
   "outputs": [],
   "source": []
  }
 ],
 "metadata": {
  "kernelspec": {
   "display_name": "seisbench",
   "language": "python",
   "name": "python3"
  },
  "language_info": {
   "codemirror_mode": {
    "name": "ipython",
    "version": 3
   },
   "file_extension": ".py",
   "mimetype": "text/x-python",
   "name": "python",
   "nbconvert_exporter": "python",
   "pygments_lexer": "ipython3",
   "version": "3.9.19"
  }
 },
 "nbformat": 4,
 "nbformat_minor": 2
}
