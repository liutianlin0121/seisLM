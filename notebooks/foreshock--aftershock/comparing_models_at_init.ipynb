{
 "cells": [
  {
   "cell_type": "code",
   "execution_count": 1,
   "metadata": {},
   "outputs": [],
   "source": [
    "from seisLM.data_pipeline.foreshock_aftershock_dataset import (\n",
    "  create_foreshock_aftershock_datasets\n",
    ")\n",
    "from seisLM.data_pipeline.foreshock_aftershock_dataloaders import (\n",
    "  prepare_foreshock_aftershock_dataloaders)\n",
    "import pandas as pd\n",
    "import matplotlib.pyplot as plt"
   ]
  },
  {
   "cell_type": "code",
   "execution_count": 2,
   "metadata": {},
   "outputs": [],
   "source": [
    "NUM_CLASSES = 4\n",
    "BATCH_SIZE = 8\n",
    "EVENT_SPLIT_METHOD = 'temporal'\n",
    "COMPONENT_ORDER = 'ZNE'\n",
    "DIMENSION_ORDER = 'NCW'"
   ]
  },
  {
   "cell_type": "code",
   "execution_count": 3,
   "metadata": {},
   "outputs": [
    {
     "name": "stderr",
     "output_type": "stream",
     "text": [
      "Seed set to 42\n",
      "Seed set to 42\n"
     ]
    }
   ],
   "source": [
    "loaders = prepare_foreshock_aftershock_dataloaders(\n",
    "  num_classes=NUM_CLASSES,\n",
    "  batch_size=BATCH_SIZE,\n",
    "  event_split_method=EVENT_SPLIT_METHOD,\n",
    "  component_order=COMPONENT_ORDER,\n",
    "  standardize=True,\n",
    ")\n"
   ]
  },
  {
   "cell_type": "code",
   "execution_count": 4,
   "metadata": {},
   "outputs": [],
   "source": [
    "import json\n",
    "import ml_collections\n",
    "import torch\n",
    "from seisLM.model.task_specific.foreshock_aftershock_models import ShockClassifierLit #Wav2Vec2ForSequenceClassification\n",
    "\n",
    "def get_seisLM_config():\n",
    "\n",
    "  config_path = '/scicore/home/dokman0000/liu0003/projects/seisLM/seisLM/configs/foreshock_aftershock/seisLM_shock_classifier.json'\n",
    "  with open(config_path, \"r\", encoding=\"utf-8\") as f:\n",
    "    config = json.load(f)\n",
    "  config = ml_collections.ConfigDict(config)\n",
    "\n",
    "  config.model_args.num_classes = NUM_CLASSES\n",
    "  config.model_args.use_weighted_layer_sum = True\n",
    "  return config\n",
    "\n",
    "seisLM_config = get_seisLM_config()\n",
    "\n",
    "models = {}\n",
    "\n",
    "models['seisLM'] = ShockClassifierLit(\n",
    "  model_name='Wav2Vec2ForSequenceClassification',\n",
    "  model_config=seisLM_config.model_args,\n",
    "  training_config=seisLM_config.trainer_args,\n",
    "  ).model\n",
    "\n"
   ]
  },
  {
   "cell_type": "code",
   "execution_count": 5,
   "metadata": {},
   "outputs": [],
   "source": [
    "def get_conv1d_config():\n",
    "  config_path = '/scicore/home/dokman0000/liu0003/projects/seisLM/seisLM/configs/foreshock_aftershock/conv1d_shock_classifier.json'\n",
    "  with open(config_path, \"r\", encoding=\"utf-8\") as f:\n",
    "    config = json.load(f)\n",
    "  config = ml_collections.ConfigDict(config)\n",
    "  config.model_args.num_classes = NUM_CLASSES\n",
    "  return config\n",
    "\n",
    "conv1d_config = get_conv1d_config()\n",
    "\n",
    "models['cnn'] = ShockClassifierLit(\n",
    "  model_name='Conv1DShockClassifier',\n",
    "  model_config=conv1d_config.model_args,\n",
    "  training_config=conv1d_config.trainer_args,\n",
    "  ).model"
   ]
  },
  {
   "cell_type": "code",
   "execution_count": 10,
   "metadata": {},
   "outputs": [
    {
     "data": {
      "text/plain": [
       "tensor([[ 0.1296, -0.2033,  0.0850,  0.0575],\n",
       "        [ 0.0347, -0.3280,  0.0400,  0.0650],\n",
       "        [ 0.0973, -0.2938,  0.0784,  0.0562],\n",
       "        [-0.0325, -0.4147,  0.0696,  0.0440],\n",
       "        [ 0.1388, -0.2208,  0.0763,  0.0705],\n",
       "        [ 0.0775, -0.3007,  0.0842,  0.0358],\n",
       "        [ 0.0212, -0.3065,  0.0431,  0.0697],\n",
       "        [ 0.0372, -0.2482,  0.0791,  0.0302]], grad_fn=<AddmmBackward0>)"
      ]
     },
     "execution_count": 10,
     "metadata": {},
     "output_type": "execute_result"
    }
   ],
   "source": [
    "waveforms, labels = next(iter(loaders['train']))\n",
    "\n",
    "\n",
    "key = 'cnn'\n",
    "# key = 'seisLM'\n",
    "model = models[key]\n",
    "\n",
    "\n",
    "logits = models[key](waveforms)\n",
    "loss = torch.nn.functional.cross_entropy(logits, labels)\n",
    "predicted_labels = torch.argmax(logits, 1)\n",
    "\n",
    "logits"
   ]
  },
  {
   "cell_type": "code",
   "execution_count": 8,
   "metadata": {},
   "outputs": [],
   "source": [
    "\n",
    "# for key, model in models.items():\n",
    "\n",
    "# key = 'cnn'\n",
    "key = 'seisLM'\n",
    "model = models[key]\n",
    "\n",
    "\n",
    "logits = models[key](waveforms)\n",
    "loss = torch.nn.functional.cross_entropy(logits, labels)\n",
    "predicted_labels = torch.argmax(logits, 1)\n"
   ]
  },
  {
   "cell_type": "code",
   "execution_count": 11,
   "metadata": {},
   "outputs": [
    {
     "data": {
      "text/plain": [
       "tensor(1.4852, grad_fn=<NllLossBackward0>)"
      ]
     },
     "execution_count": 11,
     "metadata": {},
     "output_type": "execute_result"
    }
   ],
   "source": [
    "loss\n",
    "\n"
   ]
  },
  {
   "cell_type": "code",
   "execution_count": null,
   "metadata": {},
   "outputs": [],
   "source": []
  },
  {
   "cell_type": "code",
   "execution_count": null,
   "metadata": {},
   "outputs": [],
   "source": []
  },
  {
   "cell_type": "code",
   "execution_count": null,
   "metadata": {},
   "outputs": [],
   "source": []
  }
 ],
 "metadata": {
  "kernelspec": {
   "display_name": "seisbench",
   "language": "python",
   "name": "python3"
  },
  "language_info": {
   "codemirror_mode": {
    "name": "ipython",
    "version": 3
   },
   "file_extension": ".py",
   "mimetype": "text/x-python",
   "name": "python",
   "nbconvert_exporter": "python",
   "pygments_lexer": "ipython3",
   "version": "3.9.19"
  }
 },
 "nbformat": 4,
 "nbformat_minor": 2
}
