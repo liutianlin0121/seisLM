{
 "cells": [
  {
   "cell_type": "code",
   "execution_count": 1,
   "metadata": {},
   "outputs": [
    {
     "name": "stderr",
     "output_type": "stream",
     "text": [
      "/home/liu0003/miniconda3/envs/seisbench/lib/python3.9/site-packages/tqdm/auto.py:21: TqdmWarning: IProgress not found. Please update jupyter and ipywidgets. See https://ipywidgets.readthedocs.io/en/stable/user_install.html\n",
      "  from .autonotebook import tqdm as notebook_tqdm\n"
     ]
    }
   ],
   "source": [
    "import numpy as np\n",
    "from seisLM.data_pipeline.foreshock_aftershock_dataset import (\n",
    "  create_foreshock_aftershock_datasets\n",
    ")\n",
    "from seisLM.data_pipeline.foreshock_aftershock_dataloaders import (\n",
    "  prepare_foreshock_aftershock_dataloaders)\n",
    "import pandas as pd\n",
    "import matplotlib.pyplot as plt\n",
    "from seisLM.utils.project_path import gitdir"
   ]
  },
  {
   "cell_type": "code",
   "execution_count": 2,
   "metadata": {},
   "outputs": [
    {
     "name": "stderr",
     "output_type": "stream",
     "text": [
      "Seed set to 42\n",
      "Seed set to 42\n"
     ]
    }
   ],
   "source": [
    "import json\n",
    "import ml_collections\n",
    "import torch\n",
    "from seisLM.model.task_specific.foreshock_aftershock_models import (\n",
    "  Conv1DShockClassifierLit, Wav2vec2ShockClassifierLit)\n",
    "\n",
    "\n",
    "NUM_CLASSES = 4\n",
    "\n",
    "def get_seisLM_config():\n",
    "\n",
    "  config_path = gitdir() + '/seisLM/configs/foreshock_aftershock/seisLM_shock_classifier.json'\n",
    "  with open(config_path, \"r\", encoding=\"utf-8\") as f:\n",
    "    config = json.load(f)\n",
    "  config = ml_collections.ConfigDict(config)\n",
    "\n",
    "  config.model_args.num_classes = NUM_CLASSES\n",
    "  return config\n",
    "\n",
    "\n",
    "def get_conv1d_config():\n",
    "  config_path = gitdir() + '/seisLM/configs/foreshock_aftershock/conv1d_shock_classifier.json'\n",
    "  with open(config_path, \"r\", encoding=\"utf-8\") as f:\n",
    "    config = json.load(f)\n",
    "  config = ml_collections.ConfigDict(config)\n",
    "  config.model_args.num_classes = NUM_CLASSES\n",
    "  return config\n",
    "\n",
    "\n",
    "\n",
    "seisLM_config = get_seisLM_config()\n",
    "conv1d_config = get_conv1d_config()\n",
    "\n",
    "models = {}\n",
    "\n",
    "models['seisLM'] = Wav2vec2ShockClassifierLit(\n",
    "  model_config=seisLM_config.model_args,\n",
    "  training_config=seisLM_config.trainer_args,\n",
    "  ).model\n",
    "\n",
    "\n",
    "models['cnn'] = Conv1DShockClassifierLit(\n",
    "  model_config=conv1d_config.model_args,\n",
    "  training_config=conv1d_config.trainer_args,\n",
    "  ).model\n",
    "\n",
    "\n",
    "loaders = prepare_foreshock_aftershock_dataloaders(\n",
    "  num_classes=seisLM_config.model_args.num_classes,\n",
    "  **seisLM_config.data_args\n",
    ")\n"
   ]
  },
  {
   "cell_type": "code",
   "execution_count": 3,
   "metadata": {},
   "outputs": [
    {
     "name": "stdout",
     "output_type": "stream",
     "text": [
      "hidden-states has nan? tensor(True)\n"
     ]
    }
   ],
   "source": [
    "model = models['seisLM']\n",
    "device = 'cpu'\n",
    "model = model.to(device)\n",
    "\n",
    "waveforms, _ = next(iter(loaders['test']))\n",
    "\n",
    "sample_idx = 0\n",
    "num_channels_to_display = 10\n",
    "\n",
    "with torch.no_grad():\n",
    "  model(waveforms.to(device))\n",
    "  # waveforms_amp_peak_norm = waveforms / (\n",
    "  #   torch.max(torch.abs(waveforms), dim=-1, keepdim=True).values + 1e-10\n",
    "  # )\n",
    "\n",
    "  # wav2vec2_outputs = model.wav2vec2(\n",
    "  #   waveforms_amp_peak_norm.to(device),\n",
    "  #   attention_mask=None,\n",
    "  #   output_attentions=False,\n",
    "  #   output_hidden_states=True,\n",
    "  # )\n",
    "\n",
    "  # wav2vec2_outputs = model.get_wav2vec2_hidden_states(\n",
    "  #   waveforms.to(device),\n",
    "  #   concat_downsampled_input=seisLM_config.model_args.concat_downsampled_input\n",
    "  # )\n",
    "  # convolved_features = model.wav2vec2(waveforms_amp_peak_norm.to(device))\n",
    "\n",
    "# fig, axes = plt.subplots(3, 1, figsize=(10, 10))\n",
    "\n",
    "# axes[0].plot(waveforms_amp_peak_norm[0].T)\n",
    "# axes[0].set_title('Waveform')\n",
    "\n",
    "# axes[1].plot(\n",
    "#   wav2vec2_outputs.extract_features[0, :num_channels_to_display, :].detach().cpu().numpy().T)\n",
    "\n",
    "# axes[2].plot(\n",
    "#   wav2vec2_outputs.last_hidden_state[0, :num_channels_to_display, :].detach().cpu().numpy().T\n",
    "# )\n",
    "\n",
    "\n",
    "# axes[2].plot(wav2vec2_outputs[0, :, :num_channels_to_display].detach().cpu().numpy())\n",
    "# axes[2].set_title('Wav2Vec2 hidden states')\n"
   ]
  },
  {
   "cell_type": "code",
   "execution_count": null,
   "metadata": {},
   "outputs": [],
   "source": [
    "\n"
   ]
  },
  {
   "cell_type": "code",
   "execution_count": 4,
   "metadata": {},
   "outputs": [
    {
     "name": "stdout",
     "output_type": "stream",
     "text": [
      "hidden-states has nan? tensor(False, device='cuda:0')\n",
      "hidden-states has nan? tensor(False, device='cuda:0')\n",
      "hidden-states has nan? tensor(False, device='cuda:0')\n",
      "hidden-states has nan? tensor(False, device='cuda:0')\n",
      "hidden-states has nan? tensor(False, device='cuda:0')\n",
      "hidden-states has nan? tensor(False, device='cuda:0')\n",
      "hidden-states has nan? tensor(False, device='cuda:0')\n",
      "hidden-states has nan? tensor(False, device='cuda:0')\n",
      "hidden-states has nan? tensor(False, device='cuda:0')\n",
      "hidden-states has nan? tensor(False, device='cuda:0')\n",
      "hidden-states has nan? tensor(False, device='cuda:0')\n",
      "hidden-states has nan? tensor(False, device='cuda:0')\n",
      "hidden-states has nan? tensor(False, device='cuda:0')\n",
      "hidden-states has nan? tensor(False, device='cuda:0')\n",
      "hidden-states has nan? tensor(False, device='cuda:0')\n",
      "hidden-states has nan? tensor(False, device='cuda:0')\n",
      "hidden-states has nan? tensor(False, device='cuda:0')\n",
      "hidden-states has nan? tensor(False, device='cuda:0')\n",
      "hidden-states has nan? tensor(False, device='cuda:0')\n",
      "hidden-states has nan? tensor(False, device='cuda:0')\n",
      "hidden-states has nan? tensor(False, device='cuda:0')\n",
      "hidden-states has nan? tensor(False, device='cuda:0')\n",
      "hidden-states has nan? tensor(False, device='cuda:0')\n",
      "model seisLM acc at init 0.2451657458563536\n",
      "model seisLM loss at init 1.4444634\n",
      "model cnn acc at init 0.2085635359116022\n",
      "model cnn loss at init 1.3922385\n"
     ]
    }
   ],
   "source": [
    "from sklearn.metrics import accuracy_score\n",
    "\n",
    "\n",
    "for key, model in models.items():\n",
    "  device = torch.device('cuda' if torch.cuda.is_available() else 'cpu')\n",
    "  model = models[key].to(device)\n",
    "\n",
    "  all_gt_class = []\n",
    "  all_pred_class = []\n",
    "  all_losses = []\n",
    "\n",
    "  for X, y in loaders['test']:\n",
    "    with torch.no_grad():\n",
    "      logits = model(X.to(device)).cpu()\n",
    "      pred_class = np.argmax(logits.numpy(), axis=1)\n",
    "      loss = torch.nn.functional.cross_entropy(logits, y)\n",
    "\n",
    "    all_gt_class.append(y)\n",
    "    all_pred_class.append(pred_class)\n",
    "    all_losses.append(loss)\n",
    "\n",
    "  all_gt_class = np.concatenate(all_gt_class)\n",
    "  all_pred_class = np.concatenate(all_pred_class)\n",
    "  all_losses = np.array(all_losses)\n",
    "\n",
    "  print(f'model {key} acc at init', accuracy_score(all_gt_class, all_pred_class))\n",
    "  print(f'model {key} loss at init', np.mean(all_losses))"
   ]
  },
  {
   "cell_type": "code",
   "execution_count": 5,
   "metadata": {},
   "outputs": [
    {
     "ename": "NameError",
     "evalue": "name 'wav2vec2_outputs' is not defined",
     "output_type": "error",
     "traceback": [
      "\u001b[0;31m---------------------------------------------------------------------------\u001b[0m",
      "\u001b[0;31mNameError\u001b[0m                                 Traceback (most recent call last)",
      "Cell \u001b[0;32mIn[5], line 1\u001b[0m\n\u001b[0;32m----> 1\u001b[0m \u001b[43mwav2vec2_outputs\u001b[49m[\u001b[38;5;241m0\u001b[39m, :, \u001b[38;5;241m-\u001b[39mnum_channels_to_display:]\u001b[38;5;241m.\u001b[39mshape\n",
      "\u001b[0;31mNameError\u001b[0m: name 'wav2vec2_outputs' is not defined"
     ]
    }
   ],
   "source": [
    "wav2vec2_outputs[0, :, -num_channels_to_display:].shape"
   ]
  },
  {
   "cell_type": "code",
   "execution_count": null,
   "metadata": {},
   "outputs": [
    {
     "data": {
      "text/plain": [
       "torch.Size([64, 3, 2500])"
      ]
     },
     "execution_count": 8,
     "metadata": {},
     "output_type": "execute_result"
    },
    {
     "ename": "",
     "evalue": "",
     "output_type": "error",
     "traceback": [
      "\u001b[1;31mThe Kernel crashed while executing code in the current cell or a previous cell. \n",
      "\u001b[1;31mPlease review the code in the cell(s) to identify a possible cause of the failure. \n",
      "\u001b[1;31mClick <a href='https://aka.ms/vscodeJupyterKernelCrash'>here</a> for more info. \n",
      "\u001b[1;31mView Jupyter <a href='command:jupyter.viewOutput'>log</a> for further details."
     ]
    }
   ],
   "source": [
    "waveforms.shape"
   ]
  },
  {
   "cell_type": "code",
   "execution_count": null,
   "metadata": {},
   "outputs": [],
   "source": []
  },
  {
   "cell_type": "code",
   "execution_count": null,
   "metadata": {},
   "outputs": [],
   "source": []
  },
  {
   "cell_type": "code",
   "execution_count": null,
   "metadata": {},
   "outputs": [],
   "source": []
  },
  {
   "cell_type": "code",
   "execution_count": null,
   "metadata": {},
   "outputs": [],
   "source": []
  },
  {
   "cell_type": "code",
   "execution_count": null,
   "metadata": {},
   "outputs": [],
   "source": []
  }
 ],
 "metadata": {
  "kernelspec": {
   "display_name": "seisbench",
   "language": "python",
   "name": "python3"
  },
  "language_info": {
   "codemirror_mode": {
    "name": "ipython",
    "version": 3
   },
   "file_extension": ".py",
   "mimetype": "text/x-python",
   "name": "python",
   "nbconvert_exporter": "python",
   "pygments_lexer": "ipython3",
   "version": "3.9.19"
  }
 },
 "nbformat": 4,
 "nbformat_minor": 2
}
