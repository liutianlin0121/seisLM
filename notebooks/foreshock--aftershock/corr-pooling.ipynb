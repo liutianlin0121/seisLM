{
 "cells": [
  {
   "cell_type": "code",
   "execution_count": 25,
   "metadata": {},
   "outputs": [
    {
     "name": "stdout",
     "output_type": "stream",
     "text": [
      "tensor([[ 0.0000,  0.0000,  0.0000,  ...,  0.4230, -0.0891,  0.6091],\n",
      "        [ 0.0000,  0.0000,  0.0000,  ...,  0.0000,  0.0000,  0.6958],\n",
      "        [ 0.4521,  0.0000,  0.1144,  ...,  0.6203,  0.0227,  0.5159],\n",
      "        ...,\n",
      "        [ 0.0000,  0.0000,  0.0000,  ...,  0.5789,  0.0000,  0.0000],\n",
      "        [ 0.0000,  0.0000,  0.0000,  ...,  0.6036, -0.0096,  0.6381],\n",
      "        [ 0.0000,  0.0000,  0.0000,  ...,  0.7249, -0.0051,  0.6996]],\n",
      "       grad_fn=<IndexBackward0>)\n"
     ]
    }
   ],
   "source": [
    "import torch\n",
    "import torch.nn as nn\n",
    "import einops\n",
    "\n",
    "\n",
    "class CorrelationPooling(nn.Module):\n",
    "  def __init__(self, input_dim, proj_dim, dropout_prob=0.25):\n",
    "    super(CorrelationPooling, self).__init__()\n",
    "    self.projection = nn.Linear(input_dim, proj_dim)\n",
    "    self.dropout = nn.Dropout2d(dropout_prob)  # Channel dropout\n",
    "    self.out_dim = proj_dim ** 2 // 2 + proj_dim // 2\n",
    "\n",
    "  def forward(self, x):\n",
    "    # x is expected to have shape (batch_size, time_steps, channels)\n",
    "    x = self.projection(x)  # Linear projection to lower dimensional space\n",
    "\n",
    "    # Apply LayerNorm over the time dimension\n",
    "    x = einops.rearrange(x, 'b t c -> b c t')\n",
    "    x = x - x.mean(dim=-1, keepdim=True)\n",
    "    # x = x / (x.std(dim=-1, keepdim=True) + 1e-6)\n",
    "\n",
    "    # Apply channel dropout\n",
    "    x = einops.rearrange(x, 'b c t -> b c t 1')  # Reshape for Dropout2d\n",
    "    x = self.dropout(x)\n",
    "    x = einops.rearrange(x, 'b c t 1 -> b t c')  # Reshape back\n",
    "\n",
    "\n",
    "    # Calculate the correlation matrix\n",
    "    # shape: (batch_size, number_of_correlations, number_of_correlations)\n",
    "    outer_product = torch.bmm(x.transpose(1, 2), x) / x.size(1)\n",
    "\n",
    "    # Vectorize the upper triangular part of the correlation matrix\n",
    "    i, j = torch.triu_indices(\n",
    "      outer_product.size(1), outer_product.size(2), offset=0\n",
    "    )\n",
    "    correlation_vector = outer_product[:, i, j]\n",
    "    return correlation_vector\n",
    "\n",
    "\n",
    "# Example usage\n",
    "batch_size = 32\n",
    "time_steps = 100\n",
    "channels = 256\n",
    "proj_dim = 16\n",
    "\n",
    "# Example input\n",
    "x = torch.randn(batch_size, time_steps, channels)\n",
    "\n",
    "# Correlation pooling layer\n",
    "correlation_pooling = CorrelationPooling(input_dim=channels, proj_dim=proj_dim)\n",
    "output = correlation_pooling(x)\n",
    "print(output)  # Expected output shape: (batch_size, number_of_correlations)\n"
   ]
  },
  {
   "cell_type": "code",
   "execution_count": 26,
   "metadata": {},
   "outputs": [
    {
     "data": {
      "text/plain": [
       "torch.Size([32, 136])"
      ]
     },
     "execution_count": 26,
     "metadata": {},
     "output_type": "execute_result"
    }
   ],
   "source": [
    "output.shape"
   ]
  }
 ],
 "metadata": {
  "kernelspec": {
   "display_name": "seisbench",
   "language": "python",
   "name": "python3"
  },
  "language_info": {
   "codemirror_mode": {
    "name": "ipython",
    "version": 3
   },
   "file_extension": ".py",
   "mimetype": "text/x-python",
   "name": "python",
   "nbconvert_exporter": "python",
   "pygments_lexer": "ipython3",
   "version": "3.9.19"
  }
 },
 "nbformat": 4,
 "nbformat_minor": 2
}
