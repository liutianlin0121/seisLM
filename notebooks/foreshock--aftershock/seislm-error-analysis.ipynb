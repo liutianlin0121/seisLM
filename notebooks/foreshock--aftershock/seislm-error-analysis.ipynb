{
 "cells": [
  {
   "cell_type": "code",
   "execution_count": 1,
   "metadata": {},
   "outputs": [
    {
     "name": "stderr",
     "output_type": "stream",
     "text": [
      "/home/liu0003/miniconda3/envs/seisbench/lib/python3.9/site-packages/tqdm/auto.py:21: TqdmWarning: IProgress not found. Please update jupyter and ipywidgets. See https://ipywidgets.readthedocs.io/en/stable/user_install.html\n",
      "  from .autonotebook import tqdm as notebook_tqdm\n"
     ]
    }
   ],
   "source": [
    "import numpy as np\n",
    "from seisLM.data_pipeline.foreshock_aftershock_dataset import (\n",
    "  create_foreshock_aftershock_datasets\n",
    ")\n",
    "from seisLM.data_pipeline.foreshock_aftershock_dataloaders import (\n",
    "  prepare_foreshock_aftershock_dataloaders)\n",
    "import pandas as pd\n",
    "import matplotlib.pyplot as plt\n",
    "from seisLM.utils.project_path import gitdir\n",
    "NUM_CLASSES = 4"
   ]
  },
  {
   "cell_type": "code",
   "execution_count": 2,
   "metadata": {},
   "outputs": [],
   "source": [
    "import json\n",
    "import ml_collections\n",
    "import torch\n",
    "from seisLM.model.task_specific.foreshock_aftershock_models import (\n",
    "  Conv1DShockClassifierLit, Wav2vec2ShockClassifierLit)\n",
    "\n",
    "\n",
    "def get_seisLM_config():\n",
    "  config_path = gitdir() + '/seisLM/configs/foreshock_aftershock/seisLM_shock_classifier.json'\n",
    "  with open(config_path, \"r\", encoding=\"utf-8\") as f:\n",
    "    config = json.load(f)\n",
    "  config = ml_collections.ConfigDict(config)\n",
    "  config.model_args.num_classes = NUM_CLASSES\n",
    "  return config\n",
    "\n",
    "config = get_seisLM_config()\n",
    "\n",
    "model = Wav2vec2ShockClassifierLit(\n",
    "  model_config=config.model_args,\n",
    "  training_config=config.trainer_args,\n",
    "  ).model\n",
    "\n",
    "device = torch.device(\"cuda\" if torch.cuda.is_available() else \"cpu\")\n",
    "\n",
    "# model = Conv1DShockClassifierLit.load_from_checkpoint(\n",
    "#   gitdir() + \"/results/models/foreshock_aftershock_run/num_classes_4_seed_42_model_Conv1DShockClassifier_time_2024-08-07-14h-54m-40s/checkpoints/epoch=37-step=6042.ckpt\"\n",
    "# ).model"
   ]
  },
  {
   "cell_type": "code",
   "execution_count": 4,
   "metadata": {},
   "outputs": [],
   "source": [
    "from seisLM.model.foundation import pretrained_models\n",
    "\n",
    "\n",
    "pretrained_model = pretrained_models.LitMultiDimWav2Vec2.load_from_checkpoint(\n",
    "    model.config.pretrained_ckpt_path\n",
    ").model\n",
    "\n"
   ]
  },
  {
   "cell_type": "code",
   "execution_count": null,
   "metadata": {},
   "outputs": [],
   "source": []
  },
  {
   "cell_type": "code",
   "execution_count": null,
   "metadata": {},
   "outputs": [],
   "source": []
  },
  {
   "cell_type": "code",
   "execution_count": 3,
   "metadata": {},
   "outputs": [
    {
     "name": "stderr",
     "output_type": "stream",
     "text": [
      "Seed set to 42\n",
      "Seed set to 42\n"
     ]
    }
   ],
   "source": [
    "loaders = prepare_foreshock_aftershock_dataloaders(\n",
    "  num_classes=model.config.num_classes,\n",
    "  **config.data_args\n",
    ")"
   ]
  },
  {
   "cell_type": "code",
   "execution_count": 4,
   "metadata": {},
   "outputs": [
    {
     "data": {
      "text/plain": [
       "<sklearn.metrics._plot.confusion_matrix.ConfusionMatrixDisplay at 0x7f40dc751ee0>"
      ]
     },
     "execution_count": 4,
     "metadata": {},
     "output_type": "execute_result"
    },
    {
     "data": {
      "text/plain": [
       "<Figure size 800x800 with 0 Axes>"
      ]
     },
     "metadata": {},
     "output_type": "display_data"
    },
    {
     "data": {
      "image/png": "[encoded data removed]",
      "text/plain": [
       "<Figure size 640x480 with 2 Axes>"
      ]
     },
     "metadata": {},
     "output_type": "display_data"
    }
   ],
   "source": [
    "from sklearn.metrics import confusion_matrix, ConfusionMatrixDisplay\n",
    "\n",
    "\n",
    "all_gt_class = []\n",
    "all_pred_class = []\n",
    "\n",
    "model = model.to(device)\n",
    "model.eval()\n",
    "\n",
    "for X, y in loaders['test']:\n",
    "  with torch.no_grad():\n",
    "    logits = model(X.to(device)).cpu().numpy()\n",
    "    pred_class = np.argmax(logits, axis=1)\n",
    "\n",
    "  all_gt_class.append(y)\n",
    "  all_pred_class.append(pred_class)\n",
    "\n",
    "all_gt_class = np.concatenate(all_gt_class)\n",
    "all_pred_class = np.concatenate(all_pred_class)\n",
    "\n",
    "\n",
    "cm = confusion_matrix(all_gt_class, all_pred_class)\n",
    "cm_percentage = 100 * cm.astype('float') / cm.sum(axis=1)[:, np.newaxis]\n",
    "\n",
    "plt.figure(figsize=(8, 8))\n",
    "disp = ConfusionMatrixDisplay(confusion_matrix=cm_percentage)\n",
    "disp.plot()"
   ]
  },
  {
   "cell_type": "code",
   "execution_count": 5,
   "metadata": {},
   "outputs": [
    {
     "data": {
      "text/plain": [
       "array([[ 3.28035069e+00, -1.42542429e+01,  1.00580482e+01,\n",
       "         1.57505274e-02],\n",
       "       [ 2.59411120e+00, -1.72822762e+01,  9.40774727e+00,\n",
       "        -3.68718958e+00],\n",
       "       [ 3.72995210e+00, -1.48690119e+01,  8.77424431e+00,\n",
       "        -4.86181855e-01],\n",
       "       [ 1.45319927e+00, -1.65253563e+01,  9.09735489e+00,\n",
       "        -3.65589571e+00],\n",
       "       [ 3.70648193e+00, -1.42472811e+01,  1.04909477e+01,\n",
       "        -1.02774632e+00],\n",
       "       [ 4.33689785e+00, -1.60680275e+01,  9.73939705e+00,\n",
       "        -1.44860494e+00],\n",
       "       [ 5.47450972e+00, -1.58253298e+01,  9.46057701e+00,\n",
       "        -1.69530499e+00],\n",
       "       [ 4.30092621e+00, -1.64415836e+01,  1.02800064e+01,\n",
       "        -2.33097744e+00],\n",
       "       [ 2.94102645e+00, -1.65654411e+01,  9.11706924e+00,\n",
       "        -3.72874832e+00],\n",
       "       [ 4.17666626e+00, -1.64596100e+01,  1.05727310e+01,\n",
       "        -3.23469400e+00],\n",
       "       [ 2.51015878e+00, -1.36565256e+01,  9.65303230e+00,\n",
       "        -5.58935404e-02],\n",
       "       [ 9.69927609e-01, -1.88815269e+01,  8.31409454e+00,\n",
       "        -6.25000000e+00],\n",
       "       [ 4.25625992e+00, -1.48961058e+01,  9.49571609e+00,\n",
       "        -1.34570110e+00],\n",
       "       [ 4.96994400e+00, -1.60837002e+01,  1.00622749e+01,\n",
       "        -2.33664036e+00],\n",
       "       [ 2.05369973e+00, -1.17711830e+01,  8.59238434e+00,\n",
       "         1.11443126e+00],\n",
       "       [ 2.91073298e+00, -1.35149069e+01,  9.45874596e+00,\n",
       "         4.65978742e-01],\n",
       "       [ 5.09947014e+00, -1.49730864e+01,  9.89885330e+00,\n",
       "        -1.51370764e-02],\n",
       "       [ 3.04846454e+00, -1.30384989e+01,  8.98643208e+00,\n",
       "         1.15469253e+00],\n",
       "       [ 7.36730397e-01, -1.84680481e+01,  9.19761086e+00,\n",
       "        -6.71569586e+00],\n",
       "       [ 2.02214146e+00, -1.38023071e+01,  8.69605446e+00,\n",
       "         1.13810027e+00],\n",
       "       [ 4.69015551e+00, -1.51384840e+01,  1.01052856e+01,\n",
       "        -1.39716303e+00],\n",
       "       [ 2.68779850e+00, -1.27977438e+01,  8.72466946e+00,\n",
       "         1.23887980e+00],\n",
       "       [ 4.34457684e+00, -1.55647573e+01,  8.15721703e+00,\n",
       "        -3.14370966e+00],\n",
       "       [ 3.72823644e+00, -1.48348684e+01,  1.01110868e+01,\n",
       "        -1.23091519e+00],\n",
       "       [ 4.85708714e+00, -1.52123718e+01,  1.01113319e+01,\n",
       "        -1.70609534e+00],\n",
       "       [ 1.84295738e+00, -1.80024261e+01,  9.04871941e+00,\n",
       "        -4.92409945e+00],\n",
       "       [ 3.76531959e+00, -1.57549696e+01,  9.80460358e+00,\n",
       "        -1.91635764e+00],\n",
       "       [-4.11836803e-01, -1.68343925e+01,  8.93015862e+00,\n",
       "        -5.25167751e+00],\n",
       "       [ 3.06513572e+00, -1.67043247e+01,  8.17805862e+00,\n",
       "        -2.90571547e+00],\n",
       "       [ 4.44733763e+00, -1.67868481e+01,  1.04765682e+01,\n",
       "        -2.88609314e+00],\n",
       "       [ 2.93187022e+00, -1.43682737e+01,  8.71401978e+00,\n",
       "         3.01815391e-01],\n",
       "       [ 3.71578598e+00, -1.44516153e+01,  9.27793407e+00,\n",
       "        -4.14018989e-01],\n",
       "       [ 2.30901742e+00, -1.62299767e+01,  8.74733162e+00,\n",
       "        -4.38680124e+00],\n",
       "       [ 3.53990436e+00, -1.48981771e+01,  9.15985775e+00,\n",
       "        -5.92357516e-01],\n",
       "       [ 2.18951726e+00, -1.35845881e+01,  9.67216682e+00,\n",
       "        -2.69050956e-01],\n",
       "       [ 4.31670523e+00, -1.55937614e+01,  9.69126320e+00,\n",
       "        -3.09915018e+00],\n",
       "       [ 4.12566996e+00, -1.61386185e+01,  1.03155575e+01,\n",
       "        -2.14806414e+00],\n",
       "       [ 4.02047157e+00, -1.50640125e+01,  9.68141174e+00,\n",
       "        -2.18175554e+00],\n",
       "       [ 3.32439828e+00, -1.61477585e+01,  9.70553017e+00,\n",
       "        -4.35049248e+00],\n",
       "       [ 3.75943923e+00, -1.63541660e+01,  8.71236610e+00,\n",
       "        -2.00564671e+00]], dtype=float32)"
      ]
     },
     "execution_count": 5,
     "metadata": {},
     "output_type": "execute_result"
    }
   ],
   "source": [
    "model."
   ]
  }
 ],
 "metadata": {
  "kernelspec": {
   "display_name": "seisbench",
   "language": "python",
   "name": "python3"
  },
  "language_info": {
   "codemirror_mode": {
    "name": "ipython",
    "version": 3
   },
   "file_extension": ".py",
   "mimetype": "text/x-python",
   "name": "python",
   "nbconvert_exporter": "python",
   "pygments_lexer": "ipython3",
   "version": "3.9.19"
  }
 },
 "nbformat": 4,
 "nbformat_minor": 2
}
