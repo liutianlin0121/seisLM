{
 "cells": [
  {
   "cell_type": "code",
   "execution_count": 3,
   "metadata": {},
   "outputs": [
    {
     "name": "stderr",
     "output_type": "stream",
     "text": [
      "Failed to detect the name of this notebook, you can set it manually with the WANDB_NOTEBOOK_NAME environment variable to enable code saving.\n",
      "\u001b[34m\u001b[1mwandb\u001b[0m: Currently logged in as: \u001b[33mtliu\u001b[0m. Use \u001b[1m`wandb login --relogin`\u001b[0m to force relogin\n"
     ]
    }
   ],
   "source": [
    "import wandb\n",
    "import matplotlib.pyplot as plt\n",
    "\n",
    "from seisLM.utils import project_path\n",
    "from seisLM.utils import plot_utils\n",
    "\n",
    "\n",
    "wandb.login()\n",
    "api = wandb.Api()"
   ]
  },
  {
   "cell_type": "code",
   "execution_count": 15,
   "metadata": {},
   "outputs": [],
   "source": [
    "MAX_SAMPLES = 100_000\n",
    "\n",
    "def get_end_point_acc(run_paths):\n",
    "  end_point_acc_dict = {}\n",
    "  for name, path in run_paths.items():\n",
    "    run = api.run(path)\n",
    "    history = run.history(\n",
    "      samples=MAX_SAMPLES,\n",
    "      keys=['val/acc']\n",
    "    )\n",
    "\n",
    "    assert len(history) <= MAX_SAMPLES\n",
    "    # end_point_acc_dict[name] = history['val/acc'].to_list()[-1]\n",
    "    end_point_acc_dict[name] = max(history['val/acc'].to_list())\n",
    "  return end_point_acc_dict"
   ]
  },
  {
   "cell_type": "code",
   "execution_count": 20,
   "metadata": {},
   "outputs": [],
   "source": [
    "seisLM_large_run_paths = {\n",
    "  # '0.05': \"tliu/foreshock_aftershock_run/seisLM_large_shock_classifier_nc_9_frac_0.05_2024-09-10-17h-35m-40s\",\n",
    "  '0.1': \"tliu/foreshock_aftershock_run/seisLM_large_shock_classifier_nc_9_frac_0.1_2024-09-10-17h-35m-40s\",\n",
    "  '0.2': \"tliu/foreshock_aftershock_run/seisLM_large_shock_classifier_nc_9_frac_0.2_2024-09-10-17h-35m-40s\",\n",
    "  '0.5': \"tliu/foreshock_aftershock_run/seisLM_large_shock_classifier_nc_9_frac_0.5_2024-09-10-17h-34m-47s\",\n",
    "  '1.0': \"tliu/foreshock_aftershock_run/seisLM_large_shock_classifier_nc_9_frac_1.0_2024-09-10-17h-34m-47s\",\n",
    "}\n",
    "\n",
    "\n",
    "seisLM_base_run_paths = {\n",
    "  # '0.05': \"tliu/foreshock_aftershock_run/seisLM_base_shock_classifier_nc_9_frac_0.05_2024-09-10-17h-34m-39s\",\n",
    "  '0.1': \"tliu/foreshock_aftershock_run/seisLM_base_shock_classifier_nc_9_frac_0.1_2024-09-10-17h-34m-42s\",\n",
    "  '0.2': \"tliu/foreshock_aftershock_run/seisLM_base_shock_classifier_nc_9_frac_0.2_2024-09-10-17h-34m-42s\",\n",
    "  '0.5': \"tliu/foreshock_aftershock_run/seisLM_base_shock_classifier_nc_9_frac_0.5_2024-09-10-17h-34m-42s\",\n",
    "  '1.0': \"tliu/foreshock_aftershock_run/seisLM_base_shock_classifier_nc_9_frac_1.0_2024-09-10-17h-35m-37s\",\n",
    "}\n",
    "\n",
    "convnet_run_paths = {\n",
    "  # '0.05': \"tliu/foreshock_aftershock_run/num_classes_9_seed_42_training_fraction_0.05_model_Conv1DShockClassifier_time_2024-09-10-13h-46m-48s\",\n",
    "  '0.1': \"tliu/foreshock_aftershock_run/num_classes_9_seed_42_training_fraction_0.1_model_Conv1DShockClassifier_time_2024-09-10-13h-46m-48s\",\n",
    "  '0.2': \"tliu/foreshock_aftershock_run/num_classes_9_seed_42_training_fraction_0.2_model_Conv1DShockClassifier_time_2024-09-10-13h-46m-47s\",\n",
    "  '0.5': \"tliu/foreshock_aftershock_run/num_classes_9_seed_42_training_fraction_0.5_model_Conv1DShockClassifier_time_2024-09-10-13h-46m-47s\",\n",
    "  '1.0': \"tliu/foreshock_aftershock_run/num_classes_9_seed_42_training_fraction_1.0_model_Conv1DShockClassifier_time_2024-09-10-13h-46m-57s\",\n",
    "}"
   ]
  },
  {
   "cell_type": "code",
   "execution_count": 21,
   "metadata": {},
   "outputs": [
    {
     "data": {
      "text/plain": [
       "{'SeisLM_base': {'0.1': 0.4799247086048126,\n",
       "  '0.2': 0.5332496762275696,\n",
       "  '0.5': 0.6141781806945801,\n",
       "  '1.0': 0.6568381190299988},\n",
       " 'SeisLM_large': {'0.1': 0.4573400318622589,\n",
       "  '0.2': 0.557716429233551,\n",
       "  '0.5': 0.6919698715209961,\n",
       "  '1.0': 0.7503136992454529},\n",
       " 'ConvNet': {'0.1': 0.39711418747901917,\n",
       "  '0.2': 0.4542032480239868,\n",
       "  '0.5': 0.5872020125389099,\n",
       "  '1.0': 0.7371392846107483}}"
      ]
     },
     "execution_count": 21,
     "metadata": {},
     "output_type": "execute_result"
    }
   ],
   "source": [
    "\n",
    "shock_classification_results = {\n",
    "  'SeisLM_base': get_end_point_acc(seisLM_base_run_paths),\n",
    "  'SeisLM_large': get_end_point_acc(seisLM_large_run_paths),\n",
    "  'ConvNet': get_end_point_acc(convnet_run_paths)\n",
    "}\n",
    "\n",
    "shock_classification_results"
   ]
  },
  {
   "cell_type": "code",
   "execution_count": 22,
   "metadata": {},
   "outputs": [],
   "source": [
    "kwargs = {\n",
    "  'SeisLM_base': {'color': '#74c476', 'marker': '^', 'ls': '--', 'markevery': 1},\n",
    "  'SeisLM_large': {'color': '#006d2c', 'marker': 's', 'markevery': 1},\n",
    "  'ConvNet': {'color': '#08519c', 'marker': 'o', 'ls': '--', 'markevery': 1}\n",
    "}"
   ]
  },
  {
   "cell_type": "code",
   "execution_count": 23,
   "metadata": {},
   "outputs": [
    {
     "data": {
      "text/plain": [
       "(1.0, 0.05)"
      ]
     },
     "execution_count": 23,
     "metadata": {},
     "output_type": "execute_result"
    },
    {
     "data": {
      "image/png": "[encoded data removed]",
      "text/plain": [
       "<Figure size 413.5x275.667 with 1 Axes>"
      ]
     },
     "metadata": {},
     "output_type": "display_data"
    }
   ],
   "source": [
    "a4_width = 8.27\n",
    "fig_width = a4_width / 2\n",
    "fig_height = fig_width / 1.5\n",
    "marker_size = 20\n",
    "\n",
    "FONT_SIZE = 12\n",
    "# Create figure with two subplots side by side\n",
    "fig, axes = plt.subplots(1, 1, figsize=(fig_width, fig_height))\n",
    "plt.rcParams.update({\n",
    "    'font.size': FONT_SIZE,  # General font size\n",
    "    'axes.titlesize': FONT_SIZE,  # Subplot titles\n",
    "    'figure.titlesize': FONT_SIZE,  # Suptitle (main title)\n",
    "    'legend.fontsize': FONT_SIZE,  # Legend font size\n",
    "    'pdf.fonttype': 42,  # Embed fonts in PDF for better compatibility\n",
    "})\n",
    "\n",
    "\n",
    "# for key, val in history_dict.items():\n",
    "for key, val in shock_classification_results.items():\n",
    "  acc_list = list(val.values())\n",
    "  frac_list = [float(a) for a in list(val.keys())]\n",
    "  axes.plot(frac_list, acc_list, label=key.replace('_', ' '), **kwargs[key])\n",
    "\n",
    "axes.set_xlim(1.0, 0.05)\n",
    "\n"
   ]
  },
  {
   "cell_type": "code",
   "execution_count": 26,
   "metadata": {},
   "outputs": [
    {
     "data": {
      "text/plain": [
       "[1.0, 0.5, 0.2, 0.1, 0.05]"
      ]
     },
     "execution_count": 26,
     "metadata": {},
     "output_type": "execute_result"
    }
   ],
   "source": [
    "frac_list[::-1]"
   ]
  },
  {
   "cell_type": "code",
   "execution_count": null,
   "metadata": {},
   "outputs": [],
   "source": []
  }
 ],
 "metadata": {
  "kernelspec": {
   "display_name": "seisbench",
   "language": "python",
   "name": "python3"
  },
  "language_info": {
   "codemirror_mode": {
    "name": "ipython",
    "version": 3
   },
   "file_extension": ".py",
   "mimetype": "text/x-python",
   "name": "python",
   "nbconvert_exporter": "python",
   "pygments_lexer": "ipython3",
   "version": "3.9.19"
  }
 },
 "nbformat": 4,
 "nbformat_minor": 2
}
