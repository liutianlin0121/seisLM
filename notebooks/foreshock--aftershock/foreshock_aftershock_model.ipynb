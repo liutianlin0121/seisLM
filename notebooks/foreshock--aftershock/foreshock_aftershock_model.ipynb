{
 "cells": [
  {
   "cell_type": "code",
   "execution_count": 1,
   "metadata": {},
   "outputs": [
    {
     "name": "stderr",
     "output_type": "stream",
     "text": [
      "Seed set to 42\n",
      "Seed set to 42\n"
     ]
    }
   ],
   "source": [
    "import torch\n",
    "import torch.nn as nn\n",
    "\n",
    "from seisLM.data_pipeline import foreshock_aftershock_dataloaders as loaders\n",
    "from seisLM.model.task_specific import foreshock_aftershock_models as models\n",
    "\n",
    "dataloaders = loaders.prepare_foreshock_aftershock_dataloaders(\n",
    "  num_classes=2,\n",
    "  batch_size=32,\n",
    "  event_split_method='temporal'\n",
    ")"
   ]
  },
  {
   "cell_type": "code",
   "execution_count": 7,
   "metadata": {},
   "outputs": [],
   "source": [
    "# Example usage\n",
    "# Input shape: (batch_size, 3, 2500) where 3 is the number of channels\n",
    "# and 2500 is the time length\n",
    "model = models.Conv1DShockClassifier(\n",
    "  in_channels=3,\n",
    "  num_classes=2,\n",
    "  num_layers=5,\n",
    "  initial_filters=32,\n",
    "  kernel_size=3,\n",
    ")\n",
    "\n"
   ]
  },
  {
   "cell_type": "code",
   "execution_count": 8,
   "metadata": {},
   "outputs": [
    {
     "data": {
      "text/plain": [
       "==========================================================================================\n",
       "Layer (type:depth-idx)                   Output Shape              Param #\n",
       "==========================================================================================\n",
       "Conv1DShockClassifier                    [32, 2]                   --\n",
       "├─Sequential: 1-1                        [32, 512, 75]             --\n",
       "│    └─DoubleConvBlock: 2-1              [32, 32, 1248]            --\n",
       "│    │    └─Sequential: 3-1              [32, 32, 1248]            3,488\n",
       "│    └─DoubleConvBlock: 2-2              [32, 64, 622]             --\n",
       "│    │    └─Sequential: 3-2              [32, 64, 622]             18,688\n",
       "│    └─DoubleConvBlock: 2-3              [32, 128, 309]            --\n",
       "│    │    └─Sequential: 3-3              [32, 128, 309]            74,240\n",
       "│    └─DoubleConvBlock: 2-4              [32, 256, 153]            --\n",
       "│    │    └─Sequential: 3-4              [32, 256, 153]            295,936\n",
       "│    └─DoubleConvBlock: 2-5              [32, 512, 75]             --\n",
       "│    │    └─Sequential: 3-5              [32, 512, 75]             1,181,696\n",
       "├─AdaptiveAvgPool1d: 1-2                 [32, 512, 1]              --\n",
       "├─Linear: 1-3                            [32, 2]                   1,026\n",
       "==========================================================================================\n",
       "Total params: 1,575,074\n",
       "Trainable params: 1,575,074\n",
       "Non-trainable params: 0\n",
       "Total mult-adds (G): 7.32\n",
       "==========================================================================================\n",
       "Input size (MB): 0.96\n",
       "Forward/backward pass size (MB): 303.01\n",
       "Params size (MB): 6.30\n",
       "Estimated Total Size (MB): 310.27\n",
       "=========================================================================================="
      ]
     },
     "execution_count": 8,
     "metadata": {},
     "output_type": "execute_result"
    }
   ],
   "source": [
    "from torchinfo import summary\n",
    "\n",
    "summary(model, input_size=(32, 3, 2500))"
   ]
  },
  {
   "cell_type": "code",
   "execution_count": 4,
   "metadata": {},
   "outputs": [],
   "source": [
    "train_loader = dataloaders['train']\n",
    "\n",
    "batch = next(iter(train_loader))"
   ]
  },
  {
   "cell_type": "code",
   "execution_count": 5,
   "metadata": {},
   "outputs": [],
   "source": [
    "out = model(batch[0].cuda())"
   ]
  },
  {
   "cell_type": "code",
   "execution_count": 6,
   "metadata": {},
   "outputs": [
    {
     "data": {
      "text/plain": [
       "torch.Size([32, 2])"
      ]
     },
     "execution_count": 6,
     "metadata": {},
     "output_type": "execute_result"
    }
   ],
   "source": [
    "out.shape\n"
   ]
  },
  {
   "cell_type": "code",
   "execution_count": null,
   "metadata": {},
   "outputs": [],
   "source": []
  },
  {
   "cell_type": "code",
   "execution_count": null,
   "metadata": {},
   "outputs": [],
   "source": []
  },
  {
   "cell_type": "code",
   "execution_count": null,
   "metadata": {},
   "outputs": [],
   "source": []
  },
  {
   "cell_type": "code",
   "execution_count": null,
   "metadata": {},
   "outputs": [],
   "source": []
  }
 ],
 "metadata": {
  "kernelspec": {
   "display_name": "seisbench",
   "language": "python",
   "name": "python3"
  },
  "language_info": {
   "codemirror_mode": {
    "name": "ipython",
    "version": 3
   },
   "file_extension": ".py",
   "mimetype": "text/x-python",
   "name": "python",
   "nbconvert_exporter": "python",
   "pygments_lexer": "ipython3",
   "version": "3.9.19"
  }
 },
 "nbformat": 4,
 "nbformat_minor": 2
}
