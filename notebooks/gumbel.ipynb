{
 "cells": [
  {
   "cell_type": "code",
   "execution_count": 8,
   "metadata": {},
   "outputs": [
    {
     "name": "stdout",
     "output_type": "stream",
     "text": [
      "tensor([0., 1., 0., 0., 0., 1., 0., 1., 0., 1., 0., 0., 1., 1., 0., 1., 4., 1.,\n",
      "        1., 0., 0., 0., 0., 0., 1., 3., 2., 0., 0., 0., 1., 0.]) tensor([1., 1., 1., 1., 1., 1., 1., 1., 1., 1., 1., 1., 1., 1., 1., 1., 1., 1.,\n",
      "        1., 1.])\n"
     ]
    }
   ],
   "source": [
    "from seisLM.model. gumbel import gumbel_softmax\n",
    "import torch\n",
    "\n",
    "logits = torch.randn(20, 32)\n",
    "# Sample soft categorical using reparametrization trick:\n",
    "# gumbel_softmax(logits, tau=1, hard=False)\n",
    "# Sample hard categorical using \"Straight-through\" trick:\n",
    "out = gumbel_softmax(logits, tau=1, hard=True)\n",
    "print(out.sum(0), out.sum(1))"
   ]
  },
  {
   "cell_type": "code",
   "execution_count": 9,
   "metadata": {},
   "outputs": [
    {
     "name": "stdout",
     "output_type": "stream",
     "text": [
      "tensor([1., 1., 2., 0., 0., 1., 0., 1., 1., 0., 1., 0., 1., 1., 0., 1., 1., 1.,\n",
      "        0., 1., 0., 1., 0., 0., 0., 1., 1., 0., 0., 1., 2., 0.]) tensor([1., 1., 1., 1., 1., 1., 1., 1., 1., 1., 1., 1., 1., 1., 1., 1., 1., 1.,\n",
      "        1., 1.])\n"
     ]
    }
   ],
   "source": [
    "out = gumbel_softmax(logits, tau=1, hard=True, num_sinkhorn_iters=2)\n",
    "print(out.sum(0), out.sum(1))"
   ]
  },
  {
   "cell_type": "code",
   "execution_count": null,
   "metadata": {},
   "outputs": [],
   "source": []
  }
 ],
 "metadata": {
  "kernelspec": {
   "display_name": "seisbench",
   "language": "python",
   "name": "python3"
  },
  "language_info": {
   "codemirror_mode": {
    "name": "ipython",
    "version": 3
   },
   "file_extension": ".py",
   "mimetype": "text/x-python",
   "name": "python",
   "nbconvert_exporter": "python",
   "pygments_lexer": "ipython3",
   "version": "3.9.19"
  }
 },
 "nbformat": 4,
 "nbformat_minor": 2
}
