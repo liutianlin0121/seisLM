{
 "cells": [
  {
   "cell_type": "code",
   "execution_count": 1,
   "metadata": {},
   "outputs": [],
   "source": [
    "from transformers import Wav2Vec2Config\n",
    "import json\n",
    "import ml_collections\n",
    "from seisLM.utils.config_utils import ConfigTracker\n",
    "\n",
    "model_config_path = '/scicore/home/dokman0000/liu0003/projects/seisLM/seisLM/configs/pretrain/model_config_4xdownsample_scale_logits_quantization.json'\n",
    "with open(model_config_path, \"r\", encoding=\"utf-8\") as f:\n",
    "  model_config = json.load(f)\n",
    "model_config = ml_collections.ConfigDict(model_config)\n",
    "config_tracker = ConfigTracker(model_config)\n"
   ]
  },
  {
   "cell_type": "code",
   "execution_count": 2,
   "metadata": {},
   "outputs": [
    {
     "data": {
      "text/plain": [
       "Wav2Vec2ForPreTrainingOutput(last_hidden_state=None, hidden_states=None, attentions=None, loss=None, projected_states=tensor([[[ 1.1124,  0.8605,  0.1119,  ..., -0.2618, -0.4234,  0.2054],\n",
       "         [-0.5563, -0.2775, -0.8291,  ..., -0.5119, -0.2724, -0.1999],\n",
       "         [ 0.5836, -1.2812, -0.1589,  ..., -0.4888, -0.5166,  0.4613],\n",
       "         ...,\n",
       "         [ 1.0778, -0.2613,  0.0658,  ...,  0.1324, -0.1429,  0.5011],\n",
       "         [ 0.2339,  0.9656, -1.1913,  ..., -1.3729, -0.0728,  0.0413],\n",
       "         [ 0.7086, -0.1961, -0.7590,  ...,  0.0653, -0.7277,  0.4736]]],\n",
       "       grad_fn=<ViewBackward0>), projected_quantized_states=tensor([[[-0.1716,  0.5524,  0.0966,  ..., -0.0027,  0.1402, -0.5151],\n",
       "         [-0.3192,  0.3512,  0.1513,  ...,  0.0510,  0.2391, -0.3397],\n",
       "         [-0.4118,  0.2562, -0.3170,  ...,  0.2167,  0.1396, -0.2509],\n",
       "         ...,\n",
       "         [-0.1469,  0.3542, -0.1199,  ..., -0.0957,  0.0573,  0.0592],\n",
       "         [-0.2110,  0.4620,  0.1180,  ...,  0.0115,  0.1193, -0.0326],\n",
       "         [-0.4133,  0.3906,  0.3983,  ...,  0.0081,  0.0383, -0.2231]]],\n",
       "       grad_fn=<ViewBackward0>), codevector_perplexity=tensor(586.0924, grad_fn=<SumBackward1>), contrastive_loss=None, diversity_loss=None)"
      ]
     },
     "execution_count": 2,
     "metadata": {},
     "output_type": "execute_result"
    }
   ],
   "source": [
    "from seisLM.model.foundation.multidim_wav2vec2 import MultiDimWav2Vec2ForPreTraining\n",
    "import torch\n",
    "\n",
    "\n",
    "model = MultiDimWav2Vec2ForPreTraining(config_tracker)\n",
    "\n",
    "model(torch.randn(1, 3, 16000))"
   ]
  },
  {
   "cell_type": "code",
   "execution_count": 8,
   "metadata": {},
   "outputs": [],
   "source": [
    "# config_tracker.get_unaccessed_keys()"
   ]
  },
  {
   "cell_type": "code",
   "execution_count": 9,
   "metadata": {},
   "outputs": [],
   "source": [
    "filtered_model_config = {\n",
    "  key: val for key, val in model_config.items(\n",
    "    ) if key not in config_tracker.get_unaccessed_keys()}\n"
   ]
  },
  {
   "cell_type": "code",
   "execution_count": 11,
   "metadata": {},
   "outputs": [],
   "source": [
    "with open(\"model_config_4xdownsample_scale_logits_quantization.json\", \"w\") as outfile: \n",
    "    json.dump(filtered_model_config, outfile, indent=2)\n"
   ]
  },
  {
   "cell_type": "code",
   "execution_count": null,
   "metadata": {},
   "outputs": [],
   "source": []
  }
 ],
 "metadata": {
  "kernelspec": {
   "display_name": "seisbench",
   "language": "python",
   "name": "python3"
  },
  "language_info": {
   "codemirror_mode": {
    "name": "ipython",
    "version": 3
   },
   "file_extension": ".py",
   "mimetype": "text/x-python",
   "name": "python",
   "nbconvert_exporter": "python",
   "pygments_lexer": "ipython3",
   "version": "3.9.19"
  }
 },
 "nbformat": 4,
 "nbformat_minor": 2
}
