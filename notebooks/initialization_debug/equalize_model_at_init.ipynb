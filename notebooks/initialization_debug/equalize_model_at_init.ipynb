{
 "cells": [
  {
   "cell_type": "code",
   "execution_count": 1,
   "metadata": {},
   "outputs": [
    {
     "name": "stderr",
     "output_type": "stream",
     "text": [
      "2024-07-11 07:26:22,597 | seisbench | WARNING | Component order not specified, defaulting to 'ZNE'.\n",
      "/scicore/home/dokman0000/liu0003/anaconda3/envs/seisbench/lib/python3.9/site-packages/huggingface_hub/file_download.py:1132: FutureWarning: `resume_download` is deprecated and will be removed in version 1.0.0. Downloads always resume when possible. If you want to force a new download, use `force_download=True`.\n",
      "  warnings.warn(\n",
      "/scicore/home/dokman0000/liu0003/anaconda3/envs/seisbench/lib/python3.9/site-packages/transformers/configuration_utils.py:364: UserWarning: Passing `gradient_checkpointing` to a config initialization is deprecated and will be removed in v5 Transformers. Using `model.gradient_checkpointing_enable()` instead, or if you are using the `Trainer` API, pass `gradient_checkpointing=True` in your `TrainingArguments`.\n",
      "  warnings.warn(\n",
      "Seed set to 42\n",
      "Seed set to 42\n"
     ]
    },
    {
     "name": "stdout",
     "output_type": "stream",
     "text": [
      "Wav2Vec2GumbelVectorQuantizer(\n",
      "  (weight_proj): Linear(in_features=512, out_features=640, bias=True)\n",
      ") is a quantizer\n"
     ]
    }
   ],
   "source": [
    "import torch\n",
    "import numpy as np\n",
    "from lightning.pytorch import seed_everything\n",
    "import seisbench.data as sbd\n",
    "\n",
    "from transformers.models.wav2vec2.modeling_wav2vec2 import _compute_mask_indices, _sample_negative_indices\n",
    "from transformers import Wav2Vec2Config\n",
    "from transformers import Wav2Vec2ForPreTraining as RefWav2Vec2ForPreTraining\n",
    "from seisLM.model.foundation.multidim_wav2vec2 import MultiDimWav2Vec2ForPreTraining\n",
    "\n",
    "data = sbd.STEAD()\n",
    "waveforms = data.get_waveforms(1265656)\n",
    "input_values = torch.Tensor(waveforms[0]).unsqueeze(0)\n",
    "\n",
    "\n",
    "# TODO: Equalize two models at initialization. Currently not the case\n",
    "# TODO: due to inheritance issues.\n",
    "# MODEL_NAMES = [\"patrickvonplaten/wav2vec2-base-v2\", \"facebook/wav2vec2-base\"]\n",
    "\n",
    "model_name = \"facebook/wav2vec2-base\"\n",
    "\n",
    "# model_output = {}\n",
    "# for model_name in MODEL_NAMES:\n",
    "config = Wav2Vec2Config.from_pretrained(model_name)\n",
    "\n",
    "seed_everything(42)\n",
    "ref_model = RefWav2Vec2ForPreTraining(config)\n",
    "\n",
    "seed_everything(42)\n",
    "model = MultiDimWav2Vec2ForPreTraining(config)"
   ]
  },
  {
   "cell_type": "code",
   "execution_count": null,
   "metadata": {},
   "outputs": [],
   "source": []
  },
  {
   "cell_type": "code",
   "execution_count": null,
   "metadata": {},
   "outputs": [],
   "source": []
  },
  {
   "cell_type": "code",
   "execution_count": 2,
   "metadata": {},
   "outputs": [],
   "source": [
    "model_param_dict = dict(model.named_parameters())\n",
    "ref_model_param_dict = dict(ref_model.named_parameters())\n",
    "  # print(name)"
   ]
  },
  {
   "cell_type": "code",
   "execution_count": 3,
   "metadata": {},
   "outputs": [],
   "source": [
    "matched_keys = []\n",
    "unmatched_keys = []\n",
    "for key in model_param_dict.keys():\n",
    "\n",
    "  match = torch.equal(model_param_dict[key], ref_model_param_dict[key])\n",
    "  if match:\n",
    "    # print(f\"matched key: {key}\")\n",
    "    matched_keys.append(key)\n",
    "  else:\n",
    "    # print(f\"unmatched key: {key}\")\n",
    "    unmatched_keys.append(key)"
   ]
  },
  {
   "cell_type": "code",
   "execution_count": 4,
   "metadata": {},
   "outputs": [
    {
     "data": {
      "text/plain": [
       "tensor(0.9997, grad_fn=<StdBackward0>)"
      ]
     },
     "execution_count": 4,
     "metadata": {},
     "output_type": "execute_result"
    }
   ],
   "source": [
    "model_param_dict['quantizer.weight_proj.weight'].std()"
   ]
  },
  {
   "cell_type": "code",
   "execution_count": null,
   "metadata": {},
   "outputs": [],
   "source": []
  },
  {
   "cell_type": "code",
   "execution_count": null,
   "metadata": {},
   "outputs": [],
   "source": []
  },
  {
   "cell_type": "code",
   "execution_count": 5,
   "metadata": {},
   "outputs": [
    {
     "data": {
      "text/plain": [
       "tensor(0.9997, grad_fn=<StdBackward0>)"
      ]
     },
     "execution_count": 5,
     "metadata": {},
     "output_type": "execute_result"
    }
   ],
   "source": [
    "ref_model_param_dict['quantizer.weight_proj.weight'].std()"
   ]
  },
  {
   "cell_type": "code",
   "execution_count": null,
   "metadata": {},
   "outputs": [],
   "source": []
  },
  {
   "cell_type": "code",
   "execution_count": null,
   "metadata": {},
   "outputs": [],
   "source": []
  },
  {
   "cell_type": "code",
   "execution_count": null,
   "metadata": {},
   "outputs": [],
   "source": []
  },
  {
   "cell_type": "code",
   "execution_count": 11,
   "metadata": {},
   "outputs": [
    {
     "data": {
      "text/plain": [
       "['wav2vec2.masked_spec_embed',\n",
       " 'wav2vec2.feature_extractor.conv_layers.0.conv.weight',\n",
       " 'wav2vec2.feature_extractor.conv_layers.0.layer_norm.weight',\n",
       " 'wav2vec2.feature_extractor.conv_layers.0.layer_norm.bias',\n",
       " 'wav2vec2.feature_extractor.conv_layers.1.conv.weight',\n",
       " 'wav2vec2.feature_extractor.conv_layers.2.conv.weight',\n",
       " 'wav2vec2.feature_extractor.conv_layers.3.conv.weight',\n",
       " 'wav2vec2.feature_extractor.conv_layers.4.conv.weight',\n",
       " 'wav2vec2.feature_extractor.conv_layers.5.conv.weight',\n",
       " 'wav2vec2.feature_extractor.conv_layers.6.conv.weight',\n",
       " 'wav2vec2.feature_projection.layer_norm.weight',\n",
       " 'wav2vec2.feature_projection.layer_norm.bias',\n",
       " 'wav2vec2.feature_projection.projection.weight',\n",
       " 'wav2vec2.feature_projection.projection.bias',\n",
       " 'wav2vec2.encoder.pos_conv_embed.conv.bias',\n",
       " 'wav2vec2.encoder.pos_conv_embed.conv.parametrizations.weight.original0',\n",
       " 'wav2vec2.encoder.pos_conv_embed.conv.parametrizations.weight.original1',\n",
       " 'wav2vec2.encoder.layer_norm.weight',\n",
       " 'wav2vec2.encoder.layer_norm.bias',\n",
       " 'wav2vec2.encoder.layers.0.attention.k_proj.weight',\n",
       " 'wav2vec2.encoder.layers.0.attention.k_proj.bias',\n",
       " 'wav2vec2.encoder.layers.0.attention.v_proj.weight',\n",
       " 'wav2vec2.encoder.layers.0.attention.v_proj.bias',\n",
       " 'wav2vec2.encoder.layers.0.attention.q_proj.weight',\n",
       " 'wav2vec2.encoder.layers.0.attention.q_proj.bias',\n",
       " 'wav2vec2.encoder.layers.0.attention.out_proj.weight',\n",
       " 'wav2vec2.encoder.layers.0.attention.out_proj.bias',\n",
       " 'wav2vec2.encoder.layers.0.layer_norm.weight',\n",
       " 'wav2vec2.encoder.layers.0.layer_norm.bias',\n",
       " 'wav2vec2.encoder.layers.0.feed_forward.intermediate_dense.weight',\n",
       " 'wav2vec2.encoder.layers.0.feed_forward.intermediate_dense.bias',\n",
       " 'wav2vec2.encoder.layers.0.feed_forward.output_dense.weight',\n",
       " 'wav2vec2.encoder.layers.0.feed_forward.output_dense.bias',\n",
       " 'wav2vec2.encoder.layers.0.final_layer_norm.weight',\n",
       " 'wav2vec2.encoder.layers.0.final_layer_norm.bias',\n",
       " 'wav2vec2.encoder.layers.1.attention.k_proj.weight',\n",
       " 'wav2vec2.encoder.layers.1.attention.k_proj.bias',\n",
       " 'wav2vec2.encoder.layers.1.attention.v_proj.weight',\n",
       " 'wav2vec2.encoder.layers.1.attention.v_proj.bias',\n",
       " 'wav2vec2.encoder.layers.1.attention.q_proj.weight',\n",
       " 'wav2vec2.encoder.layers.1.attention.q_proj.bias',\n",
       " 'wav2vec2.encoder.layers.1.attention.out_proj.weight',\n",
       " 'wav2vec2.encoder.layers.1.attention.out_proj.bias',\n",
       " 'wav2vec2.encoder.layers.1.layer_norm.weight',\n",
       " 'wav2vec2.encoder.layers.1.layer_norm.bias',\n",
       " 'wav2vec2.encoder.layers.1.feed_forward.intermediate_dense.weight',\n",
       " 'wav2vec2.encoder.layers.1.feed_forward.intermediate_dense.bias',\n",
       " 'wav2vec2.encoder.layers.1.feed_forward.output_dense.weight',\n",
       " 'wav2vec2.encoder.layers.1.feed_forward.output_dense.bias',\n",
       " 'wav2vec2.encoder.layers.1.final_layer_norm.weight',\n",
       " 'wav2vec2.encoder.layers.1.final_layer_norm.bias',\n",
       " 'wav2vec2.encoder.layers.2.attention.k_proj.weight',\n",
       " 'wav2vec2.encoder.layers.2.attention.k_proj.bias',\n",
       " 'wav2vec2.encoder.layers.2.attention.v_proj.weight',\n",
       " 'wav2vec2.encoder.layers.2.attention.v_proj.bias',\n",
       " 'wav2vec2.encoder.layers.2.attention.q_proj.weight',\n",
       " 'wav2vec2.encoder.layers.2.attention.q_proj.bias',\n",
       " 'wav2vec2.encoder.layers.2.attention.out_proj.weight',\n",
       " 'wav2vec2.encoder.layers.2.attention.out_proj.bias',\n",
       " 'wav2vec2.encoder.layers.2.layer_norm.weight',\n",
       " 'wav2vec2.encoder.layers.2.layer_norm.bias',\n",
       " 'wav2vec2.encoder.layers.2.feed_forward.intermediate_dense.weight',\n",
       " 'wav2vec2.encoder.layers.2.feed_forward.intermediate_dense.bias',\n",
       " 'wav2vec2.encoder.layers.2.feed_forward.output_dense.weight',\n",
       " 'wav2vec2.encoder.layers.2.feed_forward.output_dense.bias',\n",
       " 'wav2vec2.encoder.layers.2.final_layer_norm.weight',\n",
       " 'wav2vec2.encoder.layers.2.final_layer_norm.bias',\n",
       " 'wav2vec2.encoder.layers.3.attention.k_proj.weight',\n",
       " 'wav2vec2.encoder.layers.3.attention.k_proj.bias',\n",
       " 'wav2vec2.encoder.layers.3.attention.v_proj.weight',\n",
       " 'wav2vec2.encoder.layers.3.attention.v_proj.bias',\n",
       " 'wav2vec2.encoder.layers.3.attention.q_proj.weight',\n",
       " 'wav2vec2.encoder.layers.3.attention.q_proj.bias',\n",
       " 'wav2vec2.encoder.layers.3.attention.out_proj.weight',\n",
       " 'wav2vec2.encoder.layers.3.attention.out_proj.bias',\n",
       " 'wav2vec2.encoder.layers.3.layer_norm.weight',\n",
       " 'wav2vec2.encoder.layers.3.layer_norm.bias',\n",
       " 'wav2vec2.encoder.layers.3.feed_forward.intermediate_dense.weight',\n",
       " 'wav2vec2.encoder.layers.3.feed_forward.intermediate_dense.bias',\n",
       " 'wav2vec2.encoder.layers.3.feed_forward.output_dense.weight',\n",
       " 'wav2vec2.encoder.layers.3.feed_forward.output_dense.bias',\n",
       " 'wav2vec2.encoder.layers.3.final_layer_norm.weight',\n",
       " 'wav2vec2.encoder.layers.3.final_layer_norm.bias',\n",
       " 'wav2vec2.encoder.layers.4.attention.k_proj.weight',\n",
       " 'wav2vec2.encoder.layers.4.attention.k_proj.bias',\n",
       " 'wav2vec2.encoder.layers.4.attention.v_proj.weight',\n",
       " 'wav2vec2.encoder.layers.4.attention.v_proj.bias',\n",
       " 'wav2vec2.encoder.layers.4.attention.q_proj.weight',\n",
       " 'wav2vec2.encoder.layers.4.attention.q_proj.bias',\n",
       " 'wav2vec2.encoder.layers.4.attention.out_proj.weight',\n",
       " 'wav2vec2.encoder.layers.4.attention.out_proj.bias',\n",
       " 'wav2vec2.encoder.layers.4.layer_norm.weight',\n",
       " 'wav2vec2.encoder.layers.4.layer_norm.bias',\n",
       " 'wav2vec2.encoder.layers.4.feed_forward.intermediate_dense.weight',\n",
       " 'wav2vec2.encoder.layers.4.feed_forward.intermediate_dense.bias',\n",
       " 'wav2vec2.encoder.layers.4.feed_forward.output_dense.weight',\n",
       " 'wav2vec2.encoder.layers.4.feed_forward.output_dense.bias',\n",
       " 'wav2vec2.encoder.layers.4.final_layer_norm.weight',\n",
       " 'wav2vec2.encoder.layers.4.final_layer_norm.bias',\n",
       " 'wav2vec2.encoder.layers.5.attention.k_proj.weight',\n",
       " 'wav2vec2.encoder.layers.5.attention.k_proj.bias',\n",
       " 'wav2vec2.encoder.layers.5.attention.v_proj.weight',\n",
       " 'wav2vec2.encoder.layers.5.attention.v_proj.bias',\n",
       " 'wav2vec2.encoder.layers.5.attention.q_proj.weight',\n",
       " 'wav2vec2.encoder.layers.5.attention.q_proj.bias',\n",
       " 'wav2vec2.encoder.layers.5.attention.out_proj.weight',\n",
       " 'wav2vec2.encoder.layers.5.attention.out_proj.bias',\n",
       " 'wav2vec2.encoder.layers.5.layer_norm.weight',\n",
       " 'wav2vec2.encoder.layers.5.layer_norm.bias',\n",
       " 'wav2vec2.encoder.layers.5.feed_forward.intermediate_dense.weight',\n",
       " 'wav2vec2.encoder.layers.5.feed_forward.intermediate_dense.bias',\n",
       " 'wav2vec2.encoder.layers.5.feed_forward.output_dense.weight',\n",
       " 'wav2vec2.encoder.layers.5.feed_forward.output_dense.bias',\n",
       " 'wav2vec2.encoder.layers.5.final_layer_norm.weight',\n",
       " 'wav2vec2.encoder.layers.5.final_layer_norm.bias',\n",
       " 'wav2vec2.encoder.layers.6.attention.k_proj.weight',\n",
       " 'wav2vec2.encoder.layers.6.attention.k_proj.bias',\n",
       " 'wav2vec2.encoder.layers.6.attention.v_proj.weight',\n",
       " 'wav2vec2.encoder.layers.6.attention.v_proj.bias',\n",
       " 'wav2vec2.encoder.layers.6.attention.q_proj.weight',\n",
       " 'wav2vec2.encoder.layers.6.attention.q_proj.bias',\n",
       " 'wav2vec2.encoder.layers.6.attention.out_proj.weight',\n",
       " 'wav2vec2.encoder.layers.6.attention.out_proj.bias',\n",
       " 'wav2vec2.encoder.layers.6.layer_norm.weight',\n",
       " 'wav2vec2.encoder.layers.6.layer_norm.bias',\n",
       " 'wav2vec2.encoder.layers.6.feed_forward.intermediate_dense.weight',\n",
       " 'wav2vec2.encoder.layers.6.feed_forward.intermediate_dense.bias',\n",
       " 'wav2vec2.encoder.layers.6.feed_forward.output_dense.weight',\n",
       " 'wav2vec2.encoder.layers.6.feed_forward.output_dense.bias',\n",
       " 'wav2vec2.encoder.layers.6.final_layer_norm.weight',\n",
       " 'wav2vec2.encoder.layers.6.final_layer_norm.bias',\n",
       " 'wav2vec2.encoder.layers.7.attention.k_proj.weight',\n",
       " 'wav2vec2.encoder.layers.7.attention.k_proj.bias',\n",
       " 'wav2vec2.encoder.layers.7.attention.v_proj.weight',\n",
       " 'wav2vec2.encoder.layers.7.attention.v_proj.bias',\n",
       " 'wav2vec2.encoder.layers.7.attention.q_proj.weight',\n",
       " 'wav2vec2.encoder.layers.7.attention.q_proj.bias',\n",
       " 'wav2vec2.encoder.layers.7.attention.out_proj.weight',\n",
       " 'wav2vec2.encoder.layers.7.attention.out_proj.bias',\n",
       " 'wav2vec2.encoder.layers.7.layer_norm.weight',\n",
       " 'wav2vec2.encoder.layers.7.layer_norm.bias',\n",
       " 'wav2vec2.encoder.layers.7.feed_forward.intermediate_dense.weight',\n",
       " 'wav2vec2.encoder.layers.7.feed_forward.intermediate_dense.bias',\n",
       " 'wav2vec2.encoder.layers.7.feed_forward.output_dense.weight',\n",
       " 'wav2vec2.encoder.layers.7.feed_forward.output_dense.bias',\n",
       " 'wav2vec2.encoder.layers.7.final_layer_norm.weight',\n",
       " 'wav2vec2.encoder.layers.7.final_layer_norm.bias',\n",
       " 'wav2vec2.encoder.layers.8.attention.k_proj.weight',\n",
       " 'wav2vec2.encoder.layers.8.attention.k_proj.bias',\n",
       " 'wav2vec2.encoder.layers.8.attention.v_proj.weight',\n",
       " 'wav2vec2.encoder.layers.8.attention.v_proj.bias',\n",
       " 'wav2vec2.encoder.layers.8.attention.q_proj.weight',\n",
       " 'wav2vec2.encoder.layers.8.attention.q_proj.bias',\n",
       " 'wav2vec2.encoder.layers.8.attention.out_proj.weight',\n",
       " 'wav2vec2.encoder.layers.8.attention.out_proj.bias',\n",
       " 'wav2vec2.encoder.layers.8.layer_norm.weight',\n",
       " 'wav2vec2.encoder.layers.8.layer_norm.bias',\n",
       " 'wav2vec2.encoder.layers.8.feed_forward.intermediate_dense.weight',\n",
       " 'wav2vec2.encoder.layers.8.feed_forward.intermediate_dense.bias',\n",
       " 'wav2vec2.encoder.layers.8.feed_forward.output_dense.weight',\n",
       " 'wav2vec2.encoder.layers.8.feed_forward.output_dense.bias',\n",
       " 'wav2vec2.encoder.layers.8.final_layer_norm.weight',\n",
       " 'wav2vec2.encoder.layers.8.final_layer_norm.bias',\n",
       " 'wav2vec2.encoder.layers.9.attention.k_proj.weight',\n",
       " 'wav2vec2.encoder.layers.9.attention.k_proj.bias',\n",
       " 'wav2vec2.encoder.layers.9.attention.v_proj.weight',\n",
       " 'wav2vec2.encoder.layers.9.attention.v_proj.bias',\n",
       " 'wav2vec2.encoder.layers.9.attention.q_proj.weight',\n",
       " 'wav2vec2.encoder.layers.9.attention.q_proj.bias',\n",
       " 'wav2vec2.encoder.layers.9.attention.out_proj.weight',\n",
       " 'wav2vec2.encoder.layers.9.attention.out_proj.bias',\n",
       " 'wav2vec2.encoder.layers.9.layer_norm.weight',\n",
       " 'wav2vec2.encoder.layers.9.layer_norm.bias',\n",
       " 'wav2vec2.encoder.layers.9.feed_forward.intermediate_dense.weight',\n",
       " 'wav2vec2.encoder.layers.9.feed_forward.intermediate_dense.bias',\n",
       " 'wav2vec2.encoder.layers.9.feed_forward.output_dense.weight',\n",
       " 'wav2vec2.encoder.layers.9.feed_forward.output_dense.bias',\n",
       " 'wav2vec2.encoder.layers.9.final_layer_norm.weight',\n",
       " 'wav2vec2.encoder.layers.9.final_layer_norm.bias',\n",
       " 'wav2vec2.encoder.layers.10.attention.k_proj.weight',\n",
       " 'wav2vec2.encoder.layers.10.attention.k_proj.bias',\n",
       " 'wav2vec2.encoder.layers.10.attention.v_proj.weight',\n",
       " 'wav2vec2.encoder.layers.10.attention.v_proj.bias',\n",
       " 'wav2vec2.encoder.layers.10.attention.q_proj.weight',\n",
       " 'wav2vec2.encoder.layers.10.attention.q_proj.bias',\n",
       " 'wav2vec2.encoder.layers.10.attention.out_proj.weight',\n",
       " 'wav2vec2.encoder.layers.10.attention.out_proj.bias',\n",
       " 'wav2vec2.encoder.layers.10.layer_norm.weight',\n",
       " 'wav2vec2.encoder.layers.10.layer_norm.bias',\n",
       " 'wav2vec2.encoder.layers.10.feed_forward.intermediate_dense.weight',\n",
       " 'wav2vec2.encoder.layers.10.feed_forward.intermediate_dense.bias',\n",
       " 'wav2vec2.encoder.layers.10.feed_forward.output_dense.weight',\n",
       " 'wav2vec2.encoder.layers.10.feed_forward.output_dense.bias',\n",
       " 'wav2vec2.encoder.layers.10.final_layer_norm.weight',\n",
       " 'wav2vec2.encoder.layers.10.final_layer_norm.bias',\n",
       " 'wav2vec2.encoder.layers.11.attention.k_proj.weight',\n",
       " 'wav2vec2.encoder.layers.11.attention.k_proj.bias',\n",
       " 'wav2vec2.encoder.layers.11.attention.v_proj.weight',\n",
       " 'wav2vec2.encoder.layers.11.attention.v_proj.bias',\n",
       " 'wav2vec2.encoder.layers.11.attention.q_proj.weight',\n",
       " 'wav2vec2.encoder.layers.11.attention.q_proj.bias',\n",
       " 'wav2vec2.encoder.layers.11.attention.out_proj.weight',\n",
       " 'wav2vec2.encoder.layers.11.attention.out_proj.bias',\n",
       " 'wav2vec2.encoder.layers.11.layer_norm.weight',\n",
       " 'wav2vec2.encoder.layers.11.layer_norm.bias',\n",
       " 'wav2vec2.encoder.layers.11.feed_forward.intermediate_dense.weight',\n",
       " 'wav2vec2.encoder.layers.11.feed_forward.intermediate_dense.bias',\n",
       " 'wav2vec2.encoder.layers.11.feed_forward.output_dense.weight',\n",
       " 'wav2vec2.encoder.layers.11.feed_forward.output_dense.bias',\n",
       " 'wav2vec2.encoder.layers.11.final_layer_norm.weight',\n",
       " 'wav2vec2.encoder.layers.11.final_layer_norm.bias',\n",
       " 'quantizer.codevectors',\n",
       " 'quantizer.weight_proj.weight',\n",
       " 'quantizer.weight_proj.bias',\n",
       " 'project_hid.weight',\n",
       " 'project_hid.bias',\n",
       " 'project_q.weight',\n",
       " 'project_q.bias']"
      ]
     },
     "execution_count": 11,
     "metadata": {},
     "output_type": "execute_result"
    }
   ],
   "source": [
    "matched_keys"
   ]
  },
  {
   "cell_type": "code",
   "execution_count": null,
   "metadata": {},
   "outputs": [],
   "source": []
  },
  {
   "cell_type": "code",
   "execution_count": null,
   "metadata": {},
   "outputs": [],
   "source": []
  },
  {
   "cell_type": "code",
   "execution_count": null,
   "metadata": {},
   "outputs": [],
   "source": []
  },
  {
   "cell_type": "code",
   "execution_count": 7,
   "metadata": {},
   "outputs": [],
   "source": [
    "from seisLM.model.foundation.quantizer import Wav2Vec2GumbelVectorQuantizer\n",
    "import transformers.models.wav2vec2.modeling_wav2vec2 as hf_wav2vec2\n",
    "\n",
    "import ml_collections as mlc\n",
    "\n",
    "# mlc.hf_wav2vec2.Wav2Vec2Config.from_pretrained(\"facebook/wav2vec2-base\")).quantizer_config\n",
    "\n",
    "model_name = \"facebook/wav2vec2-base\"\n",
    "\n",
    "# model_output = {}\n",
    "# for model_name in MODEL_NAMES:\n",
    "config = Wav2Vec2Config.from_pretrained(model_name)\n",
    "\n"
   ]
  },
  {
   "cell_type": "code",
   "execution_count": 8,
   "metadata": {},
   "outputs": [
    {
     "name": "stderr",
     "output_type": "stream",
     "text": [
      "Seed set to 42\n",
      "Seed set to 42\n"
     ]
    }
   ],
   "source": [
    "seed_everything(42)\n",
    "q1 = Wav2Vec2GumbelVectorQuantizer(config)\n",
    "\n",
    "seed_everything(42)\n",
    "q2 = hf_wav2vec2.Wav2Vec2GumbelVectorQuantizer(config)"
   ]
  },
  {
   "cell_type": "code",
   "execution_count": 9,
   "metadata": {},
   "outputs": [
    {
     "data": {
      "text/plain": [
       "tensor([[0., 0., 0.,  ..., 0., 0., 0.],\n",
       "        [0., 0., 0.,  ..., 0., 0., 0.],\n",
       "        [0., 0., 0.,  ..., 0., 0., 0.],\n",
       "        ...,\n",
       "        [0., 0., 0.,  ..., 0., 0., 0.],\n",
       "        [0., 0., 0.,  ..., 0., 0., 0.],\n",
       "        [0., 0., 0.,  ..., 0., 0., 0.]], grad_fn=<SubBackward0>)"
      ]
     },
     "execution_count": 9,
     "metadata": {},
     "output_type": "execute_result"
    }
   ],
   "source": [
    "q1.weight_proj.weight - q2.weight_proj.weight"
   ]
  },
  {
   "cell_type": "code",
   "execution_count": null,
   "metadata": {},
   "outputs": [],
   "source": []
  },
  {
   "cell_type": "code",
   "execution_count": null,
   "metadata": {},
   "outputs": [],
   "source": []
  },
  {
   "cell_type": "code",
   "execution_count": null,
   "metadata": {},
   "outputs": [],
   "source": []
  },
  {
   "cell_type": "code",
   "execution_count": null,
   "metadata": {},
   "outputs": [],
   "source": []
  }
 ],
 "metadata": {
  "kernelspec": {
   "display_name": "seisbench",
   "language": "python",
   "name": "python3"
  },
  "language_info": {
   "codemirror_mode": {
    "name": "ipython",
    "version": 3
   },
   "file_extension": ".py",
   "mimetype": "text/x-python",
   "name": "python",
   "nbconvert_exporter": "python",
   "pygments_lexer": "ipython3",
   "version": "3.9.19"
  }
 },
 "nbformat": 4,
 "nbformat_minor": 2
}
