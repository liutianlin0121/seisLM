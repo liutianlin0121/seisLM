{
 "cells": [
  {
   "cell_type": "code",
   "execution_count": 1,
   "metadata": {},
   "outputs": [],
   "source": [
    "\"\"\"testing the multidim wav2vec model against the reference model\"\"\"\n",
    "import torch\n",
    "import numpy as np\n",
    "from lightning.pytorch import seed_everything\n",
    "import seisbench.data as sbd\n",
    "\n",
    "from transformers.models.wav2vec2.modeling_wav2vec2 import _compute_mask_indices, _sample_negative_indices\n",
    "from transformers import Wav2Vec2Config\n",
    "from transformers import Wav2Vec2ForPreTraining as RefWav2Vec2ForPreTraining\n",
    "\n",
    "from seisLM.model.multidim_wav2vec2 import MultiDimWav2Vec2ForPreTraining, MultiDimWav2Vec2Model\n",
    "import transformers.models.wav2vec2.modeling_wav2vec2 as hf_wav2vec2\n",
    "\n",
    "\n",
    "# data = sbd.STEAD()\n",
    "# waveforms = data.get_waveforms(1265656)\n",
    "# input_values = torch.Tensor(waveforms[0]).unsqueeze(0)\n",
    "\n",
    "\n",
    "# MODEL_NAMES = [\"patrickvonplaten/wav2vec2-base-v2\"]#, \"facebook/wav2vec2-base\"]\n",
    "\n",
    "# model_output = {}\n",
    "# model_weight_stats = {}\n",
    "# for model_name in MODEL_NAMES:\n",
    "#   config = Wav2Vec2Config.from_pretrained(model_name)\n",
    "\n",
    "#   for model_type in ['ref', 'new']:\n",
    "#     print('model_type: ', model_type)\n",
    "#     print('--------------------------')\n",
    "\n",
    "#     if model_type == 'ref':\n",
    "#       seed_everything(0)\n",
    "#       model = RefWav2Vec2ForPreTraining(config)\n",
    "#     else:\n",
    "#       seed_everything(0)\n",
    "#       model = MultiDimWav2Vec2ForPreTraining(config)\n",
    "\n",
    "#     weight_stats = {}\n",
    "#     for i, j in model.named_parameters():\n",
    "#       weight_stats[i] = (j.mean().item(), j.std().item())\n",
    "\n",
    "#     model_weight_stats[f'{model_name}_{model_type}'] = weight_stats"
   ]
  },
  {
   "cell_type": "code",
   "execution_count": 2,
   "metadata": {},
   "outputs": [
    {
     "data": {
      "text/plain": [
       "(0.005262614227831364, 0.4494442641735077)"
      ]
     },
     "execution_count": 2,
     "metadata": {},
     "output_type": "execute_result"
    }
   ],
   "source": [
    "# model_weight_stats[\"patrickvonplaten/wav2vec2-base-v2_ref\"]['wav2vec2.feature_extractor.conv_layers.0.conv.weight']\n",
    "\n",
    "#['quantizer.weight_proj.weight']"
   ]
  },
  {
   "cell_type": "code",
   "execution_count": 2,
   "metadata": {},
   "outputs": [],
   "source": [
    "# model_weight_stats[\"patrickvonplaten/wav2vec2-base-v2_new\"]['wav2vec2.feature_extractor.conv_layers.0.conv.weight']\n",
    "\n",
    "#['quantizer.weight_proj.weight']#.projected_quantized_states"
   ]
  },
  {
   "cell_type": "code",
   "execution_count": 4,
   "metadata": {},
   "outputs": [
    {
     "name": "stderr",
     "output_type": "stream",
     "text": [
      "/scicore/home/dokman0000/liu0003/anaconda3/envs/seisbench/lib/python3.9/site-packages/huggingface_hub/file_download.py:1132: FutureWarning: `resume_download` is deprecated and will be removed in version 1.0.0. Downloads always resume when possible. If you want to force a new download, use `force_download=True`.\n",
      "  warnings.warn(\n"
     ]
    }
   ],
   "source": [
    "model_name = \"patrickvonplaten/wav2vec2-base-v2\"\n",
    "config = Wav2Vec2Config.from_pretrained(model_name)"
   ]
  },
  {
   "cell_type": "code",
   "execution_count": 14,
   "metadata": {},
   "outputs": [
    {
     "name": "stderr",
     "output_type": "stream",
     "text": [
      "Seed set to 0\n"
     ]
    }
   ],
   "source": [
    "seed_everything(0)\n",
    "ref_model = hf_wav2vec2.Wav2Vec2Model(config)\n",
    "# model = RefWav2Vec2ForPreTraining(config)"
   ]
  },
  {
   "cell_type": "code",
   "execution_count": 28,
   "metadata": {},
   "outputs": [
    {
     "name": "stdout",
     "output_type": "stream",
     "text": [
      "tensor(0.1834, grad_fn=<StdBackward0>)\n",
      "tensor(0.1815, grad_fn=<StdBackward0>)\n"
     ]
    }
   ],
   "source": [
    "\n",
    "print(ref_model.feature_extractor.conv_layers[0].conv.weight.std())\n",
    "\n",
    "ref_model.feature_extractor.conv_layers[0].conv.reset_parameters()#\n",
    "\n",
    "print(ref_model.feature_extractor.conv_layers[0].conv.weight.std())#\n",
    "\n"
   ]
  },
  {
   "cell_type": "code",
   "execution_count": 29,
   "metadata": {},
   "outputs": [
    {
     "name": "stderr",
     "output_type": "stream",
     "text": [
      "Seed set to 0\n"
     ]
    }
   ],
   "source": [
    "seed_everything(0)\n",
    "my_model = MultiDimWav2Vec2Model(config)\n"
   ]
  },
  {
   "cell_type": "code",
   "execution_count": 30,
   "metadata": {},
   "outputs": [
    {
     "data": {
      "text/plain": [
       "tensor(0.1828, grad_fn=<StdBackward0>)"
      ]
     },
     "execution_count": 30,
     "metadata": {},
     "output_type": "execute_result"
    }
   ],
   "source": [
    "my_model.feature_extractor.conv_layers[0].conv.reset_parameters()#\n",
    "my_model.feature_extractor.conv_layers[0].conv.weight.std()\n",
    "\n",
    "            # module.project_hid.reset_parameters()\n",
    "            # module.project_q.reset_parameters()"
   ]
  },
  {
   "cell_type": "markdown",
   "metadata": {},
   "source": []
  }
 ],
 "metadata": {
  "kernelspec": {
   "display_name": "seisbench",
   "language": "python",
   "name": "python3"
  },
  "language_info": {
   "codemirror_mode": {
    "name": "ipython",
    "version": 3
   },
   "file_extension": ".py",
   "mimetype": "text/x-python",
   "name": "python",
   "nbconvert_exporter": "python",
   "pygments_lexer": "ipython3",
   "version": "3.9.19"
  }
 },
 "nbformat": 4,
 "nbformat_minor": 2
}
