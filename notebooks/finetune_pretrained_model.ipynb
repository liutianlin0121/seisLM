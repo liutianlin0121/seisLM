{
 "cells": [
  {
   "cell_type": "code",
   "execution_count": 1,
   "metadata": {},
   "outputs": [],
   "source": [
    "from seisLM.model import lit_model\n",
    "from seisLM.model import multidim_wav2vec2\n",
    "import seisbench.data as sbd\n",
    "import torch"
   ]
  },
  {
   "cell_type": "code",
   "execution_count": 2,
   "metadata": {},
   "outputs": [
    {
     "name": "stderr",
     "output_type": "stream",
     "text": [
      "2024-06-03 18:05:19,860 | seisbench | WARNING | Component order not specified, defaulting to 'ZNE'.\n"
     ]
    }
   ],
   "source": [
    "data = sbd.STEAD()\n",
    "waveforms = data.get_waveforms(1265656)\n",
    "input_values = torch.Tensor(waveforms).unsqueeze(0).cuda()\n",
    "\n"
   ]
  },
  {
   "cell_type": "code",
   "execution_count": 3,
   "metadata": {},
   "outputs": [],
   "source": [
    "pretrained_model = lit_model.LitMultiDimWav2Vec2.load_from_checkpoint(\n",
    "  '/home/liu0003/Desktop/projects/seisLM/saved_models/seisLM/42__2024-05-26-17h-04m-04s/checkpoints/epoch=3-step=218924.ckpt'\n",
    ").model"
   ]
  },
  {
   "cell_type": "code",
   "execution_count": 4,
   "metadata": {},
   "outputs": [],
   "source": [
    "config = pretrained_model.config\n",
    "config.num_labels = 3\n",
    "classification_model = multidim_wav2vec2.MultiDimWav2Vec2ForFrameClassification(\n",
    "  config)\n",
    "\n",
    "# Copy weights from pretrained model (if needed)\n",
    "classification_model.wav2vec2.load_state_dict(pretrained_model.wav2vec2.state_dict())\n",
    "\n",
    "classification_model.cuda();\n"
   ]
  },
  {
   "cell_type": "code",
   "execution_count": 5,
   "metadata": {},
   "outputs": [],
   "source": [
    "outputs = classification_model(\n",
    "  input_values=input_values,\n",
    "  # interp_output_length\n",
    "  # labels=one_hot_tensor.cuda() #torch.argmax(one_hot_tensor, 1).cuda()\n",
    ")"
   ]
  },
  {
   "cell_type": "code",
   "execution_count": 6,
   "metadata": {},
   "outputs": [
    {
     "data": {
      "text/plain": [
       "torch.Size([1, 3, 6000])"
      ]
     },
     "execution_count": 6,
     "metadata": {},
     "output_type": "execute_result"
    }
   ],
   "source": [
    "outputs.shape"
   ]
  },
  {
   "cell_type": "code",
   "execution_count": 7,
   "metadata": {},
   "outputs": [],
   "source": [
    "# labels = torch.argmax(outputs[0], 2)\n",
    "# torch.argmax(labels, 1)\n",
    "\n",
    "# outputs.shape\n",
    "# config.getattr('interp_output_length', None)"
   ]
  }
 ],
 "metadata": {
  "kernelspec": {
   "display_name": "seisbench",
   "language": "python",
   "name": "python3"
  },
  "language_info": {
   "codemirror_mode": {
    "name": "ipython",
    "version": 3
   },
   "file_extension": ".py",
   "mimetype": "text/x-python",
   "name": "python",
   "nbconvert_exporter": "python",
   "pygments_lexer": "ipython3",
   "version": "3.9.19"
  }
 },
 "nbformat": 4,
 "nbformat_minor": 2
}
