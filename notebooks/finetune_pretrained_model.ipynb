{
 "cells": [
  {
   "cell_type": "code",
   "execution_count": 1,
   "metadata": {},
   "outputs": [],
   "source": [
    "from seisLM.model import pretrained_models\n",
    "from seisLM.model import multidim_wav2vec2\n",
    "import seisbench.data as sbd\n",
    "import torch\n",
    "from seisLM.model.multidim_wav2vec2 import MultiDimWav2Vec2ForPreTraining\n",
    "from seisLM.utils import project_path\n",
    "\n",
    "from transformers import Wav2Vec2Config"
   ]
  },
  {
   "cell_type": "code",
   "execution_count": 2,
   "metadata": {},
   "outputs": [],
   "source": [
    "model_config_path = project_path.gitdir(\n",
    ") + '/seisLM/configs/pretrain/pretrained_model_config.json'\n",
    "model_config = Wav2Vec2Config.from_pretrained(model_config_path)\n",
    "\n",
    "model = MultiDimWav2Vec2ForPreTraining(model_config)"
   ]
  },
  {
   "cell_type": "code",
   "execution_count": 8,
   "metadata": {},
   "outputs": [
    {
     "data": {
      "text/plain": [
       "================================================================================\n",
       "Layer (type:depth-idx)                                  Param #\n",
       "================================================================================\n",
       "Wav2Vec2EncoderStableLayerNorm                          --\n",
       "├─Wav2Vec2PositionalConvEmbedding: 1-1                  --\n",
       "│    └─ParametrizedConv1d: 2-1                          240\n",
       "│    │    └─ModuleDict: 3-1                             460,928\n",
       "│    └─Wav2Vec2SamePadLayer: 2-2                        --\n",
       "│    └─GELUActivation: 2-3                              --\n",
       "├─LayerNorm: 1-2                                        480\n",
       "├─Dropout: 1-3                                          --\n",
       "├─ModuleList: 1-4                                       --\n",
       "│    └─Wav2Vec2EncoderLayerStableLayerNorm: 2-4         --\n",
       "│    │    └─Wav2Vec2SdpaAttention: 3-2                  231,360\n",
       "│    │    └─Dropout: 3-3                                --\n",
       "│    │    └─LayerNorm: 3-4                              480\n",
       "│    │    └─Wav2Vec2FeedForward: 3-5                    123,376\n",
       "│    │    └─LayerNorm: 3-6                              480\n",
       "│    └─Wav2Vec2EncoderLayerStableLayerNorm: 2-5         --\n",
       "│    │    └─Wav2Vec2SdpaAttention: 3-7                  231,360\n",
       "│    │    └─Dropout: 3-8                                --\n",
       "│    │    └─LayerNorm: 3-9                              480\n",
       "│    │    └─Wav2Vec2FeedForward: 3-10                   123,376\n",
       "│    │    └─LayerNorm: 3-11                             480\n",
       "│    └─Wav2Vec2EncoderLayerStableLayerNorm: 2-6         --\n",
       "│    │    └─Wav2Vec2SdpaAttention: 3-12                 231,360\n",
       "│    │    └─Dropout: 3-13                               --\n",
       "│    │    └─LayerNorm: 3-14                             480\n",
       "│    │    └─Wav2Vec2FeedForward: 3-15                   123,376\n",
       "│    │    └─LayerNorm: 3-16                             480\n",
       "================================================================================\n",
       "Total params: 1,528,736\n",
       "Trainable params: 1,528,736\n",
       "Non-trainable params: 0\n",
       "================================================================================"
      ]
     },
     "execution_count": 8,
     "metadata": {},
     "output_type": "execute_result"
    }
   ],
   "source": [
    "from torchinfo import summary\n",
    "\n",
    "summary(model.wav2vec2.encoder)"
   ]
  },
  {
   "cell_type": "code",
   "execution_count": 7,
   "metadata": {},
   "outputs": [
    {
     "data": {
      "text/plain": [
       "Wav2Vec2EncoderStableLayerNorm(\n",
       "  (pos_conv_embed): Wav2Vec2PositionalConvEmbedding(\n",
       "    (conv): ParametrizedConv1d(\n",
       "      240, 240, kernel_size=(128,), stride=(1,), padding=(64,), groups=16\n",
       "      (parametrizations): ModuleDict(\n",
       "        (weight): ParametrizationList(\n",
       "          (0): _WeightNorm()\n",
       "        )\n",
       "      )\n",
       "    )\n",
       "    (padding): Wav2Vec2SamePadLayer()\n",
       "    (activation): GELUActivation()\n",
       "  )\n",
       "  (layer_norm): LayerNorm((240,), eps=1e-05, elementwise_affine=True)\n",
       "  (dropout): Dropout(p=0.0, inplace=False)\n",
       "  (layers): ModuleList(\n",
       "    (0-5): 6 x Wav2Vec2EncoderLayerStableLayerNorm(\n",
       "      (attention): Wav2Vec2SdpaAttention(\n",
       "        (k_proj): Linear(in_features=240, out_features=240, bias=True)\n",
       "        (v_proj): Linear(in_features=240, out_features=240, bias=True)\n",
       "        (q_proj): Linear(in_features=240, out_features=240, bias=True)\n",
       "        (out_proj): Linear(in_features=240, out_features=240, bias=True)\n",
       "      )\n",
       "      (dropout): Dropout(p=0.0, inplace=False)\n",
       "      (layer_norm): LayerNorm((240,), eps=1e-05, elementwise_affine=True)\n",
       "      (feed_forward): Wav2Vec2FeedForward(\n",
       "        (intermediate_dropout): Dropout(p=0.0, inplace=False)\n",
       "        (intermediate_dense): Linear(in_features=240, out_features=3072, bias=True)\n",
       "        (intermediate_act_fn): GELUActivation()\n",
       "        (output_dense): Linear(in_features=3072, out_features=240, bias=True)\n",
       "        (output_dropout): Dropout(p=0.0, inplace=False)\n",
       "      )\n",
       "      (final_layer_norm): LayerNorm((240,), eps=1e-05, elementwise_affine=True)\n",
       "    )\n",
       "  )\n",
       ")"
      ]
     },
     "execution_count": 7,
     "metadata": {},
     "output_type": "execute_result"
    }
   ],
   "source": [
    "pretrained_model.wav2vec2.encoder"
   ]
  },
  {
   "cell_type": "code",
   "execution_count": null,
   "metadata": {},
   "outputs": [],
   "source": []
  },
  {
   "cell_type": "code",
   "execution_count": null,
   "metadata": {},
   "outputs": [],
   "source": []
  },
  {
   "cell_type": "code",
   "execution_count": 4,
   "metadata": {},
   "outputs": [],
   "source": [
    "config = pretrained_model.config\n",
    "config.num_labels = 3\n",
    "classification_model = multidim_wav2vec2.MultiDimWav2Vec2ForFrameClassification(\n",
    "  config)\n",
    "\n",
    "# Copy weights from pretrained model (if needed)\n",
    "classification_model.wav2vec2.load_state_dict(pretrained_model.wav2vec2.state_dict())\n",
    "\n",
    "classification_model.cuda();\n"
   ]
  },
  {
   "cell_type": "code",
   "execution_count": 5,
   "metadata": {},
   "outputs": [],
   "source": [
    "outputs = classification_model(\n",
    "  input_values=input_values,\n",
    "  # interp_output_length\n",
    "  # labels=one_hot_tensor.cuda() #torch.argmax(one_hot_tensor, 1).cuda()\n",
    ")"
   ]
  },
  {
   "cell_type": "code",
   "execution_count": 6,
   "metadata": {},
   "outputs": [
    {
     "data": {
      "text/plain": [
       "torch.Size([1, 3, 6000])"
      ]
     },
     "execution_count": 6,
     "metadata": {},
     "output_type": "execute_result"
    }
   ],
   "source": [
    "outputs.shape"
   ]
  },
  {
   "cell_type": "code",
   "execution_count": 7,
   "metadata": {},
   "outputs": [],
   "source": [
    "# labels = torch.argmax(outputs[0], 2)\n",
    "# torch.argmax(labels, 1)\n",
    "\n",
    "# outputs.shape\n",
    "# config.getattr('interp_output_length', None)"
   ]
  },
  {
   "cell_type": "code",
   "execution_count": 3,
   "metadata": {},
   "outputs": [
    {
     "name": "stderr",
     "output_type": "stream",
     "text": [
      "/home/liu0003/miniconda3/envs/seisbench/lib/python3.9/site-packages/huggingface_hub/file_download.py:1132: FutureWarning: `resume_download` is deprecated and will be removed in version 1.0.0. Downloads always resume when possible. If you want to force a new download, use `force_download=True`.\n",
      "  warnings.warn(\n",
      "/home/liu0003/miniconda3/envs/seisbench/lib/python3.9/site-packages/transformers/configuration_utils.py:364: UserWarning: Passing `gradient_checkpointing` to a config initialization is deprecated and will be removed in v5 Transformers. Using `model.gradient_checkpointing_enable()` instead, or if you are using the `Trainer` API, pass `gradient_checkpointing=True` in your `TrainingArguments`.\n",
      "  warnings.warn(\n"
     ]
    }
   ],
   "source": [
    "from transformers import Wav2Vec2Config\n",
    "\n",
    "model_config1 = Wav2Vec2Config.from_pretrained(\"facebook/wav2vec2-base\")\n",
    "model_config2 = Wav2Vec2Config.from_pretrained(\"patrickvonplaten/wav2vec2-base-v2\")"
   ]
  },
  {
   "cell_type": "code",
   "execution_count": 7,
   "metadata": {},
   "outputs": [
    {
     "data": {
      "text/plain": [
       "Wav2Vec2Config {\n",
       "  \"activation_dropout\": 0.0,\n",
       "  \"adapter_attn_dim\": null,\n",
       "  \"adapter_kernel_size\": 3,\n",
       "  \"adapter_stride\": 2,\n",
       "  \"add_adapter\": false,\n",
       "  \"apply_spec_augment\": true,\n",
       "  \"architectures\": [\n",
       "    \"Wav2Vec2ForPreTraining\"\n",
       "  ],\n",
       "  \"attention_dropout\": 0.0,\n",
       "  \"bos_token_id\": 1,\n",
       "  \"classifier_proj_size\": 256,\n",
       "  \"codevector_dim\": 256,\n",
       "  \"contrastive_logits_temperature\": 0.1,\n",
       "  \"conv_bias\": true,\n",
       "  \"conv_dim\": [\n",
       "    256,\n",
       "    256\n",
       "  ],\n",
       "  \"conv_kernel\": [\n",
       "    3,\n",
       "    3\n",
       "  ],\n",
       "  \"conv_stride\": [\n",
       "    2,\n",
       "    2\n",
       "  ],\n",
       "  \"ctc_loss_reduction\": \"sum\",\n",
       "  \"ctc_zero_infinity\": false,\n",
       "  \"diversity_loss_weight\": 0.1,\n",
       "  \"do_stable_layer_norm\": true,\n",
       "  \"eos_token_id\": 2,\n",
       "  \"feat_extract_activation\": \"gelu\",\n",
       "  \"feat_extract_dropout\": 0.0,\n",
       "  \"feat_extract_norm\": \"layer\",\n",
       "  \"feat_proj_dropout\": 0.0,\n",
       "  \"feat_quantizer_dropout\": 0.0,\n",
       "  \"final_dropout\": 0.0,\n",
       "  \"hidden_act\": \"gelu\",\n",
       "  \"hidden_dropout\": 0.0,\n",
       "  \"hidden_dropout_prob\": 0.0,\n",
       "  \"hidden_size\": 256,\n",
       "  \"initializer_range\": 0.02,\n",
       "  \"intermediate_size\": 3072,\n",
       "  \"layer_norm_eps\": 1e-05,\n",
       "  \"layerdrop\": 0.0,\n",
       "  \"mask_feature_length\": 10,\n",
       "  \"mask_feature_min_masks\": 0,\n",
       "  \"mask_feature_prob\": 0.0,\n",
       "  \"mask_time_length\": 10,\n",
       "  \"mask_time_min_masks\": 2,\n",
       "  \"mask_time_prob\": 0.65,\n",
       "  \"model_type\": \"wav2vec2\",\n",
       "  \"num_adapter_layers\": 3,\n",
       "  \"num_attention_heads\": 12,\n",
       "  \"num_codevector_groups\": 2,\n",
       "  \"num_codevectors_per_group\": 320,\n",
       "  \"num_conv_pos_embedding_groups\": 16,\n",
       "  \"num_conv_pos_embeddings\": 128,\n",
       "  \"num_feat_extract_layers\": 2,\n",
       "  \"num_hidden_layers\": 6,\n",
       "  \"num_negatives\": 100,\n",
       "  \"output_hidden_size\": 768,\n",
       "  \"pad_token_id\": 0,\n",
       "  \"proj_codevector_dim\": 256,\n",
       "  \"tdnn_dilation\": [\n",
       "    1,\n",
       "    2,\n",
       "    3,\n",
       "    1,\n",
       "    1\n",
       "  ],\n",
       "  \"tdnn_dim\": [\n",
       "    512,\n",
       "    512,\n",
       "    512,\n",
       "    512,\n",
       "    1500\n",
       "  ],\n",
       "  \"tdnn_kernel\": [\n",
       "    5,\n",
       "    3,\n",
       "    3,\n",
       "    1,\n",
       "    1\n",
       "  ],\n",
       "  \"transformers_version\": \"4.41.1\",\n",
       "  \"use_weighted_layer_sum\": false,\n",
       "  \"vocab_size\": 32,\n",
       "  \"xvector_output_dim\": 512\n",
       "}"
      ]
     },
     "execution_count": 7,
     "metadata": {},
     "output_type": "execute_result"
    }
   ],
   "source": [
    "# model_config2.save_pretrained('config.json')\n",
    "\n",
    "Wav2Vec2Config.from_pretrained('/home/liu0003/Desktop/projects/seisLM/configs/pretrain/pretrained_model_config.json')"
   ]
  },
  {
   "cell_type": "code",
   "execution_count": 9,
   "metadata": {},
   "outputs": [],
   "source": [
    "from seisLM.utils.project_path import gitdir"
   ]
  },
  {
   "cell_type": "code",
   "execution_count": 15,
   "metadata": {},
   "outputs": [],
   "source": [
    "# bs = model_config.get('batch_size', None)\n",
    "from ml_collections import config_dict\n",
    "\n",
    "training_config = config_dict.ConfigDict()\n",
    "\n",
    "# training_config.batch_size = 32\n",
    "training_config.get('batch_size', None)\n",
    "# print(bs)"
   ]
  },
  {
   "cell_type": "code",
   "execution_count": 17,
   "metadata": {},
   "outputs": [
    {
     "data": {
      "text/plain": [
       "['BenchmarkDataset',\n",
       " 'Bucketer',\n",
       " 'ChunkedDummyDataset',\n",
       " 'DummyDataset',\n",
       " 'ETHZ',\n",
       " 'GEOFON',\n",
       " 'GeometricBucketer',\n",
       " 'ISC_EHB_DepthPhases',\n",
       " 'InstanceCounts',\n",
       " 'InstanceCountsCombined',\n",
       " 'InstanceGM',\n",
       " 'InstanceNoise',\n",
       " 'Iquique',\n",
       " 'LFEStacksCascadiaBostock2015',\n",
       " 'LFEStacksMexicoFrank2014',\n",
       " 'LFEStacksSanAndreasShelly2017',\n",
       " 'LenDB',\n",
       " 'MLAAPDE',\n",
       " 'Meier2019JGR',\n",
       " 'MultiWaveformDataset',\n",
       " 'NEIC',\n",
       " 'OBS',\n",
       " 'OBST2024',\n",
       " 'PNW',\n",
       " 'PNWAccelerometers',\n",
       " 'PNWExotic',\n",
       " 'PNWNoise',\n",
       " 'Ross2018GPD',\n",
       " 'Ross2018JGRFM',\n",
       " 'Ross2018JGRPick',\n",
       " 'SCEDC',\n",
       " 'STEAD',\n",
       " 'TXED',\n",
       " 'WaveformDataWriter',\n",
       " 'WaveformDataset',\n",
       " '__builtins__',\n",
       " '__cached__',\n",
       " '__doc__',\n",
       " '__file__',\n",
       " '__loader__',\n",
       " '__name__',\n",
       " '__package__',\n",
       " '__path__',\n",
       " '__spec__',\n",
       " 'base',\n",
       " 'dummy',\n",
       " 'ethz',\n",
       " 'geofon',\n",
       " 'instance',\n",
       " 'iquique',\n",
       " 'isc_ehb',\n",
       " 'lendb',\n",
       " 'lfe_stacks',\n",
       " 'neic',\n",
       " 'obs',\n",
       " 'obst2024',\n",
       " 'pnw',\n",
       " 'scedc',\n",
       " 'stead',\n",
       " 'txed']"
      ]
     },
     "execution_count": 17,
     "metadata": {},
     "output_type": "execute_result"
    }
   ],
   "source": [
    "import seisbench.data as sbd\n",
    "\n",
    "dir(sbd)"
   ]
  }
 ],
 "metadata": {
  "kernelspec": {
   "display_name": "seisbench",
   "language": "python",
   "name": "python3"
  },
  "language_info": {
   "codemirror_mode": {
    "name": "ipython",
    "version": 3
   },
   "file_extension": ".py",
   "mimetype": "text/x-python",
   "name": "python",
   "nbconvert_exporter": "python",
   "pygments_lexer": "ipython3",
   "version": "3.9.19"
  }
 },
 "nbformat": 4,
 "nbformat_minor": 2
}
