{
 "cells": [
  {
   "cell_type": "code",
   "execution_count": 1,
   "metadata": {},
   "outputs": [
    {
     "name": "stderr",
     "output_type": "stream",
     "text": [
      "/scicore/home/dokman0000/liu0003/anaconda3/envs/seisbench/lib/python3.9/site-packages/transformers/models/wav2vec2/modeling_wav2vec2.py:2527: FutureWarning: The method `freeze_feature_extractor` is deprecated and will be removed in Transformers v5. Please use the equivalent `freeze_feature_encoder` method instead.\n",
      "  warnings.warn(\n"
     ]
    }
   ],
   "source": [
    "# from torch.utils.data import ConcatDataset\n",
    "\n",
    "import seisLM.model.supervised_models as models\n",
    "from seisLM.data_pipeline import dataloaders\n",
    "import json\n",
    "\n",
    "\n",
    "config_path = \"/scicore/home/dokman0000/liu0003/projects/seisLM/seisLM/configs/finetune/ethz_seisLM.json\"\n",
    "\n",
    "with open(config_path, \"r\", encoding=\"utf-8\") as f:\n",
    "  config = json.load(f)\n",
    "\n",
    "model = models.__getattribute__(config[\"model\"] + \"Lit\")(\n",
    "    **config.get(\"model_args\", {})\n",
    ")\n",
    "\n",
    "# train_loader, dev_loader = dataloaders.prepare_seisbench_dataloaders(\n",
    "#   model=model, data_names=['ETHZ','GEOFON'], batch_size=8, num_workers=2\n",
    "# )"
   ]
  },
  {
   "cell_type": "code",
   "execution_count": 3,
   "metadata": {},
   "outputs": [
    {
     "data": {
      "text/plain": [
       "tensor(749)"
      ]
     },
     "execution_count": 3,
     "metadata": {},
     "output_type": "execute_result"
    }
   ],
   "source": [
    "model.model._get_feat_extract_output_lengths(3000)"
   ]
  },
  {
   "cell_type": "code",
   "execution_count": 3,
   "metadata": {},
   "outputs": [
    {
     "data": {
      "text/plain": [
       "22994"
      ]
     },
     "execution_count": 3,
     "metadata": {},
     "output_type": "execute_result"
    }
   ],
   "source": [
    "import seisbench.data as sbd\n",
    "\n",
    "len(train_loader)"
   ]
  },
  {
   "cell_type": "code",
   "execution_count": 4,
   "metadata": {},
   "outputs": [
    {
     "name": "stderr",
     "output_type": "stream",
     "text": [
      "2024-06-05 17:04:28,416 | seisbench | WARNING | Check available storage and memory before downloading and general use of ETHZ dataset. Dataset size: waveforms.hdf5 ~22Gb, metadata.csv ~13Mb\n",
      "2024-06-05 17:04:28,739 | seisbench | WARNING | Skipping preload, as cache is disabled.\n",
      "2024-06-05 17:04:28,740 | seisbench | WARNING | Skipping preload, as cache is disabled.\n"
     ]
    },
    {
     "name": "stdout",
     "output_type": "stream",
     "text": [
      "2828\n"
     ]
    }
   ],
   "source": [
    "\n",
    "train_loader, dev_loader = dataloaders.prepare_seisbench_dataloaders(\n",
    "  model=model, data_names=['ETHZ'], batch_size=8, num_workers=2\n",
    ")\n",
    "\n",
    "print(len(train_loader))"
   ]
  }
 ],
 "metadata": {
  "kernelspec": {
   "display_name": "seisbench",
   "language": "python",
   "name": "python3"
  },
  "language_info": {
   "codemirror_mode": {
    "name": "ipython",
    "version": 3
   },
   "file_extension": ".py",
   "mimetype": "text/x-python",
   "name": "python",
   "nbconvert_exporter": "python",
   "pygments_lexer": "ipython3",
   "version": "3.9.19"
  }
 },
 "nbformat": 4,
 "nbformat_minor": 2
}
