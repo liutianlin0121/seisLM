{
 "cells": [
  {
   "cell_type": "code",
   "execution_count": 1,
   "metadata": {},
   "outputs": [
    {
     "name": "stderr",
     "output_type": "stream",
     "text": [
      "2024-05-24 18:31:38,689 | seisbench | WARNING | Component order not specified, defaulting to 'ZNE'.\n",
      "/home/liu0003/miniconda3/envs/seisbench/lib/python3.9/site-packages/huggingface_hub/file_download.py:1132: FutureWarning: `resume_download` is deprecated and will be removed in version 1.0.0. Downloads always resume when possible. If you want to force a new download, use `force_download=True`.\n",
      "  warnings.warn(\n",
      "/home/liu0003/miniconda3/envs/seisbench/lib/python3.9/site-packages/transformers/configuration_utils.py:364: UserWarning: Passing `gradient_checkpointing` to a config initialization is deprecated and will be removed in v5 Transformers. Using `model.gradient_checkpointing_enable()` instead, or if you are using the `Trainer` API, pass `gradient_checkpointing=True` in your `TrainingArguments`.\n",
      "  warnings.warn(\n",
      "Seed set to 0\n",
      "Seed set to 0\n"
     ]
    }
   ],
   "source": [
    "import torch\n",
    "import numpy as np\n",
    "\n",
    "from transformers.models.wav2vec2.modeling_wav2vec2 import _compute_mask_indices, _sample_negative_indices\n",
    "from datasets import load_dataset\n",
    "from lightning.pytorch import seed_everything\n",
    "from transformers import Wav2Vec2Config\n",
    "import seisbench.data as sbd\n",
    "\n",
    "# from transformers import AutoFeatureExtractor, Wav2Vec2ForPreTraining\n",
    "from transformers import Wav2Vec2ForPreTraining as RefWav2Vec2ForPreTraining\n",
    "from seisLM.model.wav2vec2 import Wav2Vec2ForPreTraining\n",
    "\n",
    "data = sbd.STEAD()\n",
    "\n",
    "config = Wav2Vec2Config.from_pretrained(\"facebook/wav2vec2-base\")\n",
    "seed_everything(0)\n",
    "ref_model = RefWav2Vec2ForPreTraining(config)\n",
    "model = Wav2Vec2ForPreTraining(config)\n",
    "model.load_state_dict(ref_model.state_dict())\n",
    "\n",
    "\n",
    "waveforms = data.get_waveforms(1265656)\n",
    "input_values = torch.Tensor(waveforms[0]).unsqueeze(0)\n",
    "\n",
    "# compute masked indices\n",
    "batch_size, raw_sequence_length = input_values.shape\n",
    "sequence_length = model._get_feat_extract_output_lengths(raw_sequence_length).item()\n",
    "\n",
    "seed_everything(0)\n",
    "mask_time_indices = _compute_mask_indices(\n",
    "    shape=(batch_size, sequence_length), mask_prob=0.2, mask_length=2\n",
    ")\n",
    "sampled_negative_indices = _sample_negative_indices(\n",
    "    features_shape=(batch_size, sequence_length),\n",
    "    num_negatives=model.config.num_negatives,\n",
    "    mask_time_indices=mask_time_indices,\n",
    ")\n",
    "mask_time_indices = torch.tensor(data=mask_time_indices, device=input_values.device, dtype=torch.long)\n",
    "sampled_negative_indices = torch.tensor(\n",
    "    data=sampled_negative_indices, device=input_values.device, dtype=torch.long\n",
    ")\n",
    "\n",
    "with torch.no_grad():\n",
    "    outputs = model(input_values, mask_time_indices=mask_time_indices,\n",
    "                    sampled_negative_indices=sampled_negative_indices)\n",
    "\n",
    "\n",
    "# print(f'projected_states mean {outputs.projected_states.mean()}')\n",
    "# print(f'projected_quantized_states mean {outputs.projected_quantized_states.mean()}')\n",
    "# print(f'codevector_perplexity mean {outputs.codevector_perplexity.mean()}')\n",
    "\n",
    "np.testing.assert_almost_equal(\n",
    "  outputs.projected_states.mean(), -0.02380690723657608\n",
    ")\n",
    "np.testing.assert_almost_equal(\n",
    "  outputs.projected_quantized_states.mean(), 0.017036495730280876\n",
    ")\n",
    "np.testing.assert_almost_equal(\n",
    "  outputs.codevector_perplexity.mean(), 11.194181442260742\n",
    ")\n",
    "\n"
   ]
  },
  {
   "cell_type": "code",
   "execution_count": 2,
   "metadata": {},
   "outputs": [
    {
     "data": {
      "text/plain": [
       "100"
      ]
     },
     "execution_count": 2,
     "metadata": {},
     "output_type": "execute_result"
    }
   ],
   "source": [
    "config.num_negatives"
   ]
  },
  {
   "cell_type": "code",
   "execution_count": 3,
   "metadata": {},
   "outputs": [],
   "source": [
    "# sum_mean = 0\n",
    "# for name, param in list(model.named_parameters()):\n",
    "#   print(f'{name}, param mean: {param.mean()}')\n",
    "#   sum_mean += param.mean()\n"
   ]
  },
  {
   "cell_type": "code",
   "execution_count": 4,
   "metadata": {},
   "outputs": [],
   "source": [
    "# sum_mean = 0\n",
    "# for name, param in list(model.named_parameters()):\n",
    "#   print(f'{name}, param mean: {param.mean()}')\n",
    "#   sum_mean += param.mean()\n",
    "\n",
    "# print(sum_mean)\n"
   ]
  },
  {
   "cell_type": "code",
   "execution_count": 5,
   "metadata": {},
   "outputs": [],
   "source": [
    "# sum_mean"
   ]
  }
 ],
 "metadata": {
  "kernelspec": {
   "display_name": "seisbench",
   "language": "python",
   "name": "python3"
  },
  "language_info": {
   "codemirror_mode": {
    "name": "ipython",
    "version": 3
   },
   "file_extension": ".py",
   "mimetype": "text/x-python",
   "name": "python",
   "nbconvert_exporter": "python",
   "pygments_lexer": "ipython3",
   "version": "3.9.19"
  }
 },
 "nbformat": 4,
 "nbformat_minor": 2
}
